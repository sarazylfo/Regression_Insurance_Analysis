{
 "cells": [
  {
   "cell_type": "markdown",
   "metadata": {},
   "source": [
    "# Regression - Prediciting Life Expectancy for US"
   ]
  },
  {
   "cell_type": "markdown",
   "metadata": {},
   "source": [
    "### Now it is time to use other models to reduce the complexity of our baseline model by using several feature selection techniques. The aim here is to reduce the amount of features for our 'client', there will no doubt be some tradeoff between model accuracy and complexity.\n",
    "\n",
    "As we can see above, we get a R2 scores of 83% for a single train-test split model and 88% if we conduct a cross-validation with 5 splits. This however might result in a model that is too complex noting the number of features we have. Let's conduct two different ways of selecting only the best features:\n",
    "- filter methods\n",
    "    - low variance\n",
    "    - Pearson's Correlation (Given majority of our features are continuous)\n",
    "- wrapper methods\n",
    "    - Recurvsive Feature Elimination\n",
    "    - Stepwise Selection\n",
    "- embedded methods \n",
    "    - Lasso"
   ]
  },
  {
   "cell_type": "code",
   "execution_count": 1,
   "metadata": {},
   "outputs": [],
   "source": [
    "import pandas as pd\n",
    "import numpy as np\n",
    "from functions import *\n",
    "from sklearn.linear_model import LinearRegression\n",
    "from sklearn.model_selection import train_test_split, cross_validate, cross_val_score, KFold\n",
    "from sklearn.metrics import r2_score\n",
    "from statsmodels.regression.linear_model import OLS\n",
    "from statsmodels.tools import add_constant\n",
    "\n",
    "import warnings\n",
    "warnings.filterwarnings('ignore')\n",
    "pd.set_option('display.max_columns', None)\n",
    "%load_ext autoreload\n",
    "%autoreload 2"
   ]
  },
  {
   "cell_type": "code",
   "execution_count": 2,
   "metadata": {},
   "outputs": [],
   "source": [
    "df_clean = pd.read_csv('clean_data.csv', index_col=[0])"
   ]
  },
  {
   "cell_type": "code",
   "execution_count": 3,
   "metadata": {},
   "outputs": [],
   "source": [
    "to_drop = ['State_Abbreviation', 'Name', 'Life_expectancy_raw_value']\n",
    "X = df_clean.drop(to_drop, axis = 1)\n",
    "y = df_clean['Life_expectancy_raw_value']"
   ]
  },
  {
   "cell_type": "code",
   "execution_count": 4,
   "metadata": {},
   "outputs": [],
   "source": [
    "X_train, X_test, y_train, y_test = train_test_split(X, y, test_size = 0.25, random_state = 1)"
   ]
  },
  {
   "cell_type": "code",
   "execution_count": 80,
   "metadata": {},
   "outputs": [],
   "source": [
    "all_model_summary_df = pd.DataFrame([], columns = ['model', 'R2_test', 'AIC', 'n_features', '>0.05_pvalues'])\n",
    "all_model_summary_df['model'] = ['Baseline', 'Basic - Top Correlation',\n",
    "                                 'Filter', \n",
    "                                 'Wrappper - RFE', 'Wrappper - Stepwise',\n",
    "                                 'Embedded - Lasso',\n",
    "                                ]"
   ]
  },
  {
   "cell_type": "markdown",
   "metadata": {},
   "source": [
    "### 1. Baseline model - All available features"
   ]
  },
  {
   "cell_type": "code",
   "execution_count": 81,
   "metadata": {},
   "outputs": [],
   "source": [
    "baseline_test_r2 = statsmodel_regression(X_train, add_constant(X_test), y_train, y_test)[0]\n",
    "baseline_estimator = statsmodel_regression(X_train, add_constant(X_test), y_train, y_test)[1]"
   ]
  },
  {
   "cell_type": "code",
   "execution_count": 84,
   "metadata": {},
   "outputs": [],
   "source": [
    "all_model_summary_df.loc[all_model_summary_df.model == 'Baseline', 'n_features'] = len(baseline_estimator.pvalues)\n",
    "all_model_summary_df.loc[all_model_summary_df.model == 'Baseline', 'AIC'] = baseline_estimator.aic\n",
    "all_model_summary_df.loc[all_model_summary_df.model == 'Baseline', 'R2_test'] = baseline_test_r2\n",
    "all_model_summary_df.loc[all_model_summary_df.model == 'Baseline', '>0.05_pvalues'] = sum(baseline_estimator.pvalues > 0.05)"
   ]
  },
  {
   "cell_type": "code",
   "execution_count": 85,
   "metadata": {},
   "outputs": [
    {
     "data": {
      "text/html": [
       "<div>\n",
       "<style scoped>\n",
       "    .dataframe tbody tr th:only-of-type {\n",
       "        vertical-align: middle;\n",
       "    }\n",
       "\n",
       "    .dataframe tbody tr th {\n",
       "        vertical-align: top;\n",
       "    }\n",
       "\n",
       "    .dataframe thead th {\n",
       "        text-align: right;\n",
       "    }\n",
       "</style>\n",
       "<table border=\"1\" class=\"dataframe\">\n",
       "  <thead>\n",
       "    <tr style=\"text-align: right;\">\n",
       "      <th></th>\n",
       "      <th>model</th>\n",
       "      <th>R2_test</th>\n",
       "      <th>AIC</th>\n",
       "      <th>n_features</th>\n",
       "      <th>&gt;0.05_pvalues</th>\n",
       "    </tr>\n",
       "  </thead>\n",
       "  <tbody>\n",
       "    <tr>\n",
       "      <th>0</th>\n",
       "      <td>Baseline</td>\n",
       "      <td>0.83</td>\n",
       "      <td>6143.64</td>\n",
       "      <td>77</td>\n",
       "      <td>48</td>\n",
       "    </tr>\n",
       "    <tr>\n",
       "      <th>1</th>\n",
       "      <td>Basic - Top Correlation</td>\n",
       "      <td>NaN</td>\n",
       "      <td>NaN</td>\n",
       "      <td>NaN</td>\n",
       "      <td>NaN</td>\n",
       "    </tr>\n",
       "    <tr>\n",
       "      <th>2</th>\n",
       "      <td>Filter</td>\n",
       "      <td>NaN</td>\n",
       "      <td>NaN</td>\n",
       "      <td>NaN</td>\n",
       "      <td>NaN</td>\n",
       "    </tr>\n",
       "    <tr>\n",
       "      <th>3</th>\n",
       "      <td>Wrappper - RFE</td>\n",
       "      <td>NaN</td>\n",
       "      <td>NaN</td>\n",
       "      <td>NaN</td>\n",
       "      <td>NaN</td>\n",
       "    </tr>\n",
       "    <tr>\n",
       "      <th>4</th>\n",
       "      <td>Wrappper - Stepwise</td>\n",
       "      <td>NaN</td>\n",
       "      <td>NaN</td>\n",
       "      <td>NaN</td>\n",
       "      <td>NaN</td>\n",
       "    </tr>\n",
       "    <tr>\n",
       "      <th>5</th>\n",
       "      <td>Embedded - Lasso</td>\n",
       "      <td>NaN</td>\n",
       "      <td>NaN</td>\n",
       "      <td>NaN</td>\n",
       "      <td>NaN</td>\n",
       "    </tr>\n",
       "  </tbody>\n",
       "</table>\n",
       "</div>"
      ],
      "text/plain": [
       "                     model R2_test      AIC n_features >0.05_pvalues\n",
       "0                 Baseline    0.83  6143.64         77            48\n",
       "1  Basic - Top Correlation     NaN      NaN        NaN           NaN\n",
       "2                   Filter     NaN      NaN        NaN           NaN\n",
       "3           Wrappper - RFE     NaN      NaN        NaN           NaN\n",
       "4      Wrappper - Stepwise     NaN      NaN        NaN           NaN\n",
       "5         Embedded - Lasso     NaN      NaN        NaN           NaN"
      ]
     },
     "execution_count": 85,
     "metadata": {},
     "output_type": "execute_result"
    }
   ],
   "source": [
    "all_model_summary_df"
   ]
  },
  {
   "cell_type": "markdown",
   "metadata": {},
   "source": [
    "### 2. Basic - Features with Highest Correlation with Target"
   ]
  },
  {
   "cell_type": "code",
   "execution_count": 127,
   "metadata": {},
   "outputs": [
    {
     "data": {
      "text/plain": [
       "['Premature_death_raw_value',\n",
       " 'Poor_or_fair_health_raw_value',\n",
       " 'Poor_physical_health_days_raw_value',\n",
       " 'Poor_mental_health_days_raw_value',\n",
       " 'Adult_smoking_raw_value',\n",
       " 'Adult_obesity_raw_value',\n",
       " 'Physical_inactivity_raw_value',\n",
       " 'Excessive_drinking_raw_value',\n",
       " 'Teen_births_raw_value',\n",
       " 'Some_college_raw_value',\n",
       " 'Children_in_poverty_raw_value',\n",
       " 'Injury_deaths_raw_value',\n",
       " 'Premature_age-adjusted_mortality_raw_value',\n",
       " 'Frequent_physical_distress_raw_value',\n",
       " 'Frequent_mental_distress_raw_value',\n",
       " 'Diabetes_prevalence_raw_value',\n",
       " 'Food_insecurity_raw_value',\n",
       " 'Motor_vehicle_crash_deaths_raw_value',\n",
       " 'Insufficient_sleep_raw_value',\n",
       " 'Median_household_income_raw_value',\n",
       " 'Children_eligible_for_free_or_reduced_price_lunch_raw_value']"
      ]
     },
     "execution_count": 127,
     "metadata": {},
     "output_type": "execute_result"
    }
   ],
   "source": [
    "initial_matrix = abs(df_clean.corr().Life_expectancy_raw_value)\n",
    "\n",
    "target_correlation_threshold = 0.5\n",
    "\n",
    "final = list(initial_matrix[(initial_matrix.sort_values(ascending=False) > target_correlation_threshold)].index)\n",
    "final.remove('Life_expectancy_raw_value')\n",
    "final"
   ]
  },
  {
   "cell_type": "code",
   "execution_count": 128,
   "metadata": {},
   "outputs": [],
   "source": [
    "basic_test_r2 = statsmodel_regression(X_train[final], add_constant(X_test[final]), y_train, y_test)[0]\n",
    "basic_estimator = statsmodel_regression(X_train[final], add_constant(X_test[final]), y_train, y_test)[1]"
   ]
  },
  {
   "cell_type": "code",
   "execution_count": 129,
   "metadata": {},
   "outputs": [],
   "source": [
    "all_model_summary_df.loc[all_model_summary_df.model == 'Basic - Top Correlation', 'n_features'] = len(basic_estimator.pvalues)\n",
    "all_model_summary_df.loc[all_model_summary_df.model == 'Basic - Top Correlation', 'AIC'] = basic_estimator.aic\n",
    "all_model_summary_df.loc[all_model_summary_df.model == 'Basic - Top Correlation', 'R2_test'] = basic_test_r2\n",
    "all_model_summary_df.loc[all_model_summary_df.model == 'Basic - Top Correlation', '>0.05_pvalues'] = sum(basic_estimator.pvalues > 0.05)"
   ]
  },
  {
   "cell_type": "code",
   "execution_count": 130,
   "metadata": {},
   "outputs": [
    {
     "data": {
      "text/html": [
       "<div>\n",
       "<style scoped>\n",
       "    .dataframe tbody tr th:only-of-type {\n",
       "        vertical-align: middle;\n",
       "    }\n",
       "\n",
       "    .dataframe tbody tr th {\n",
       "        vertical-align: top;\n",
       "    }\n",
       "\n",
       "    .dataframe thead th {\n",
       "        text-align: right;\n",
       "    }\n",
       "</style>\n",
       "<table border=\"1\" class=\"dataframe\">\n",
       "  <thead>\n",
       "    <tr style=\"text-align: right;\">\n",
       "      <th></th>\n",
       "      <th>model</th>\n",
       "      <th>R2_test</th>\n",
       "      <th>AIC</th>\n",
       "      <th>n_features</th>\n",
       "      <th>&gt;0.05_pvalues</th>\n",
       "    </tr>\n",
       "  </thead>\n",
       "  <tbody>\n",
       "    <tr>\n",
       "      <th>0</th>\n",
       "      <td>Baseline</td>\n",
       "      <td>0.83</td>\n",
       "      <td>6143.64</td>\n",
       "      <td>77</td>\n",
       "      <td>48</td>\n",
       "    </tr>\n",
       "    <tr>\n",
       "      <th>1</th>\n",
       "      <td>Basic - Top Correlation</td>\n",
       "      <td>0.82</td>\n",
       "      <td>6644.27</td>\n",
       "      <td>22</td>\n",
       "      <td>6</td>\n",
       "    </tr>\n",
       "    <tr>\n",
       "      <th>2</th>\n",
       "      <td>Filter</td>\n",
       "      <td>0.77</td>\n",
       "      <td>7211.08</td>\n",
       "      <td>30</td>\n",
       "      <td>13</td>\n",
       "    </tr>\n",
       "    <tr>\n",
       "      <th>3</th>\n",
       "      <td>Wrappper - RFE</td>\n",
       "      <td>0.84</td>\n",
       "      <td>6169.38</td>\n",
       "      <td>67</td>\n",
       "      <td>39</td>\n",
       "    </tr>\n",
       "    <tr>\n",
       "      <th>4</th>\n",
       "      <td>Wrappper - Stepwise</td>\n",
       "      <td>0.83</td>\n",
       "      <td>6193.23</td>\n",
       "      <td>25</td>\n",
       "      <td>0</td>\n",
       "    </tr>\n",
       "    <tr>\n",
       "      <th>5</th>\n",
       "      <td>Embedded - Lasso</td>\n",
       "      <td>0.69</td>\n",
       "      <td>7959.28</td>\n",
       "      <td>8</td>\n",
       "      <td>3</td>\n",
       "    </tr>\n",
       "  </tbody>\n",
       "</table>\n",
       "</div>"
      ],
      "text/plain": [
       "                     model R2_test      AIC n_features >0.05_pvalues\n",
       "0                 Baseline    0.83  6143.64         77            48\n",
       "1  Basic - Top Correlation    0.82  6644.27         22             6\n",
       "2                   Filter    0.77  7211.08         30            13\n",
       "3           Wrappper - RFE    0.84  6169.38         67            39\n",
       "4      Wrappper - Stepwise    0.83  6193.23         25             0\n",
       "5         Embedded - Lasso    0.69  7959.28          8             3"
      ]
     },
     "execution_count": 130,
     "metadata": {},
     "output_type": "execute_result"
    }
   ],
   "source": [
    "all_model_summary_df"
   ]
  },
  {
   "cell_type": "markdown",
   "metadata": {},
   "source": [
    "### 3. Filter Method - drop features with no or low variance & high correlation with other features"
   ]
  },
  {
   "cell_type": "code",
   "execution_count": 86,
   "metadata": {},
   "outputs": [
    {
     "data": {
      "text/plain": [
       "VarianceThreshold(threshold=0.025)"
      ]
     },
     "execution_count": 86,
     "metadata": {},
     "output_type": "execute_result"
    }
   ],
   "source": [
    "from sklearn.feature_selection import VarianceThreshold\n",
    "\n",
    "variance_threshold = 0.025\n",
    "\n",
    "constant_filter = VarianceThreshold(threshold = variance_threshold)\n",
    "constant_filter.fit(X_train)"
   ]
  },
  {
   "cell_type": "code",
   "execution_count": 87,
   "metadata": {},
   "outputs": [],
   "source": [
    "included_cols = X_train.columns[constant_filter.get_support()]\n",
    "High_Var_Features = X_train[included_cols]"
   ]
  },
  {
   "cell_type": "code",
   "execution_count": 88,
   "metadata": {},
   "outputs": [],
   "source": [
    "corr_matrix = High_Var_Features.corr()\n",
    "correlated_features = set()\n",
    "\n",
    "corr_threshold = 0.7\n",
    "\n",
    "for i in range(len(corr_matrix.columns)):\n",
    "    for j in range(i):\n",
    "        if abs(corr_matrix.iloc[i, j]) > corr_threshold:\n",
    "            colname = corr_matrix.columns[i]\n",
    "            correlated_features.add(colname)\n",
    "    \n",
    "High_Var_Features_low_corr = High_Var_Features.drop(list(correlated_features), axis = 1)"
   ]
  },
  {
   "cell_type": "code",
   "execution_count": 89,
   "metadata": {},
   "outputs": [],
   "source": [
    "X_test_1 = add_constant(X_test[High_Var_Features_low_corr.columns])"
   ]
  },
  {
   "cell_type": "code",
   "execution_count": 90,
   "metadata": {},
   "outputs": [],
   "source": [
    "filter_test_r2 = statsmodel_regression(High_Var_Features_low_corr, X_test_1, y_train, y_test)[0]\n",
    "filter_estimator = statsmodel_regression(High_Var_Features_low_corr, X_test_1, y_train, y_test)[1]"
   ]
  },
  {
   "cell_type": "code",
   "execution_count": 91,
   "metadata": {},
   "outputs": [],
   "source": [
    "all_model_summary_df.loc[all_model_summary_df.model == 'Filter', 'n_features'] = len(filter_estimator.pvalues)\n",
    "all_model_summary_df.loc[all_model_summary_df.model == 'Filter', 'AIC'] = filter_estimator.aic\n",
    "all_model_summary_df.loc[all_model_summary_df.model == 'Filter', 'R2_test'] = filter_test_r2\n",
    "all_model_summary_df.loc[all_model_summary_df.model == 'Filter', '>0.05_pvalues'] = sum(filter_estimator.pvalues > 0.05)"
   ]
  },
  {
   "cell_type": "code",
   "execution_count": 92,
   "metadata": {},
   "outputs": [
    {
     "data": {
      "text/html": [
       "<div>\n",
       "<style scoped>\n",
       "    .dataframe tbody tr th:only-of-type {\n",
       "        vertical-align: middle;\n",
       "    }\n",
       "\n",
       "    .dataframe tbody tr th {\n",
       "        vertical-align: top;\n",
       "    }\n",
       "\n",
       "    .dataframe thead th {\n",
       "        text-align: right;\n",
       "    }\n",
       "</style>\n",
       "<table border=\"1\" class=\"dataframe\">\n",
       "  <thead>\n",
       "    <tr style=\"text-align: right;\">\n",
       "      <th></th>\n",
       "      <th>model</th>\n",
       "      <th>R2_test</th>\n",
       "      <th>AIC</th>\n",
       "      <th>n_features</th>\n",
       "      <th>&gt;0.05_pvalues</th>\n",
       "    </tr>\n",
       "  </thead>\n",
       "  <tbody>\n",
       "    <tr>\n",
       "      <th>0</th>\n",
       "      <td>Baseline</td>\n",
       "      <td>0.83</td>\n",
       "      <td>6143.64</td>\n",
       "      <td>77</td>\n",
       "      <td>48</td>\n",
       "    </tr>\n",
       "    <tr>\n",
       "      <th>1</th>\n",
       "      <td>Basic - Top Correlation</td>\n",
       "      <td>NaN</td>\n",
       "      <td>NaN</td>\n",
       "      <td>NaN</td>\n",
       "      <td>NaN</td>\n",
       "    </tr>\n",
       "    <tr>\n",
       "      <th>2</th>\n",
       "      <td>Filter</td>\n",
       "      <td>0.77</td>\n",
       "      <td>7211.08</td>\n",
       "      <td>30</td>\n",
       "      <td>13</td>\n",
       "    </tr>\n",
       "    <tr>\n",
       "      <th>3</th>\n",
       "      <td>Wrappper - RFE</td>\n",
       "      <td>NaN</td>\n",
       "      <td>NaN</td>\n",
       "      <td>NaN</td>\n",
       "      <td>NaN</td>\n",
       "    </tr>\n",
       "    <tr>\n",
       "      <th>4</th>\n",
       "      <td>Wrappper - Stepwise</td>\n",
       "      <td>NaN</td>\n",
       "      <td>NaN</td>\n",
       "      <td>NaN</td>\n",
       "      <td>NaN</td>\n",
       "    </tr>\n",
       "    <tr>\n",
       "      <th>5</th>\n",
       "      <td>Embedded - Lasso</td>\n",
       "      <td>NaN</td>\n",
       "      <td>NaN</td>\n",
       "      <td>NaN</td>\n",
       "      <td>NaN</td>\n",
       "    </tr>\n",
       "  </tbody>\n",
       "</table>\n",
       "</div>"
      ],
      "text/plain": [
       "                     model R2_test      AIC n_features >0.05_pvalues\n",
       "0                 Baseline    0.83  6143.64         77            48\n",
       "1  Basic - Top Correlation     NaN      NaN        NaN           NaN\n",
       "2                   Filter    0.77  7211.08         30            13\n",
       "3           Wrappper - RFE     NaN      NaN        NaN           NaN\n",
       "4      Wrappper - Stepwise     NaN      NaN        NaN           NaN\n",
       "5         Embedded - Lasso     NaN      NaN        NaN           NaN"
      ]
     },
     "execution_count": 92,
     "metadata": {},
     "output_type": "execute_result"
    }
   ],
   "source": [
    "all_model_summary_df"
   ]
  },
  {
   "cell_type": "markdown",
   "metadata": {},
   "source": [
    "### 4. Wrapper - Recursive Feature Elimination"
   ]
  },
  {
   "cell_type": "code",
   "execution_count": 93,
   "metadata": {},
   "outputs": [],
   "source": [
    "from sklearn.feature_selection import RFECV, RFE"
   ]
  },
  {
   "cell_type": "code",
   "execution_count": 94,
   "metadata": {},
   "outputs": [
    {
     "data": {
      "text/plain": [
       "RFECV(cv=10,\n",
       "      estimator=LinearRegression(copy_X=True, fit_intercept=True, n_jobs=None,\n",
       "                                 normalize=False),\n",
       "      min_features_to_select=1, n_jobs=None, scoring='r2', step=1, verbose=0)"
      ]
     },
     "execution_count": 94,
     "metadata": {},
     "output_type": "execute_result"
    }
   ],
   "source": [
    "linreg = LinearRegression()\n",
    "rfecv = RFECV(linreg, step = 1, scoring='r2', cv=10)\n",
    "rfecv.fit(X_train, y_train)"
   ]
  },
  {
   "cell_type": "code",
   "execution_count": 95,
   "metadata": {},
   "outputs": [
    {
     "data": {
      "image/png": "[encoded data removed]",
      "text/plain": [
       "<Figure size 432x288 with 1 Axes>"
      ]
     },
     "metadata": {
      "needs_background": "light"
     },
     "output_type": "display_data"
    }
   ],
   "source": [
    "plt.plot(range(1, len(rfecv.grid_scores_) + 1), rfecv.grid_scores_)\n",
    "plt.xlabel('Number of Features')\n",
    "plt.ylabel('R2 CV score')\n",
    "plt.show()"
   ]
  },
  {
   "cell_type": "code",
   "execution_count": 96,
   "metadata": {},
   "outputs": [],
   "source": [
    "to_include = X_train.columns[rfecv.get_support()]"
   ]
  },
  {
   "cell_type": "code",
   "execution_count": 97,
   "metadata": {},
   "outputs": [],
   "source": [
    "RFE_test_r2 = statsmodel_regression(X_train[to_include], add_constant(X_test[to_include]), y_train, y_test)[0]\n",
    "RFE_estimator = statsmodel_regression(X_train[to_include], add_constant(X_test[to_include]), y_train, y_test)[1]"
   ]
  },
  {
   "cell_type": "code",
   "execution_count": 98,
   "metadata": {},
   "outputs": [],
   "source": [
    "all_model_summary_df.loc[all_model_summary_df.model == 'Wrappper - RFE', 'n_features'] = len(RFE_estimator.pvalues)\n",
    "all_model_summary_df.loc[all_model_summary_df.model == 'Wrappper - RFE', 'AIC'] = RFE_estimator.aic\n",
    "all_model_summary_df.loc[all_model_summary_df.model == 'Wrappper - RFE', 'R2_test'] = RFE_test_r2\n",
    "all_model_summary_df.loc[all_model_summary_df.model == 'Wrappper - RFE', '>0.05_pvalues'] = sum(RFE_estimator.pvalues > 0.05)"
   ]
  },
  {
   "cell_type": "code",
   "execution_count": 99,
   "metadata": {},
   "outputs": [
    {
     "data": {
      "text/html": [
       "<div>\n",
       "<style scoped>\n",
       "    .dataframe tbody tr th:only-of-type {\n",
       "        vertical-align: middle;\n",
       "    }\n",
       "\n",
       "    .dataframe tbody tr th {\n",
       "        vertical-align: top;\n",
       "    }\n",
       "\n",
       "    .dataframe thead th {\n",
       "        text-align: right;\n",
       "    }\n",
       "</style>\n",
       "<table border=\"1\" class=\"dataframe\">\n",
       "  <thead>\n",
       "    <tr style=\"text-align: right;\">\n",
       "      <th></th>\n",
       "      <th>model</th>\n",
       "      <th>R2_test</th>\n",
       "      <th>AIC</th>\n",
       "      <th>n_features</th>\n",
       "      <th>&gt;0.05_pvalues</th>\n",
       "    </tr>\n",
       "  </thead>\n",
       "  <tbody>\n",
       "    <tr>\n",
       "      <th>0</th>\n",
       "      <td>Baseline</td>\n",
       "      <td>0.83</td>\n",
       "      <td>6143.64</td>\n",
       "      <td>77</td>\n",
       "      <td>48</td>\n",
       "    </tr>\n",
       "    <tr>\n",
       "      <th>1</th>\n",
       "      <td>Basic - Top Correlation</td>\n",
       "      <td>NaN</td>\n",
       "      <td>NaN</td>\n",
       "      <td>NaN</td>\n",
       "      <td>NaN</td>\n",
       "    </tr>\n",
       "    <tr>\n",
       "      <th>2</th>\n",
       "      <td>Filter</td>\n",
       "      <td>0.77</td>\n",
       "      <td>7211.08</td>\n",
       "      <td>30</td>\n",
       "      <td>13</td>\n",
       "    </tr>\n",
       "    <tr>\n",
       "      <th>3</th>\n",
       "      <td>Wrappper - RFE</td>\n",
       "      <td>0.84</td>\n",
       "      <td>6169.38</td>\n",
       "      <td>67</td>\n",
       "      <td>39</td>\n",
       "    </tr>\n",
       "    <tr>\n",
       "      <th>4</th>\n",
       "      <td>Wrappper - Stepwise</td>\n",
       "      <td>NaN</td>\n",
       "      <td>NaN</td>\n",
       "      <td>NaN</td>\n",
       "      <td>NaN</td>\n",
       "    </tr>\n",
       "    <tr>\n",
       "      <th>5</th>\n",
       "      <td>Embedded - Lasso</td>\n",
       "      <td>NaN</td>\n",
       "      <td>NaN</td>\n",
       "      <td>NaN</td>\n",
       "      <td>NaN</td>\n",
       "    </tr>\n",
       "  </tbody>\n",
       "</table>\n",
       "</div>"
      ],
      "text/plain": [
       "                     model R2_test      AIC n_features >0.05_pvalues\n",
       "0                 Baseline    0.83  6143.64         77            48\n",
       "1  Basic - Top Correlation     NaN      NaN        NaN           NaN\n",
       "2                   Filter    0.77  7211.08         30            13\n",
       "3           Wrappper - RFE    0.84  6169.38         67            39\n",
       "4      Wrappper - Stepwise     NaN      NaN        NaN           NaN\n",
       "5         Embedded - Lasso     NaN      NaN        NaN           NaN"
      ]
     },
     "execution_count": 99,
     "metadata": {},
     "output_type": "execute_result"
    }
   ],
   "source": [
    "all_model_summary_df"
   ]
  },
  {
   "cell_type": "markdown",
   "metadata": {},
   "source": [
    "### 5. Stepwise Selection - Combination of Forward and Backward feature selection"
   ]
  },
  {
   "cell_type": "code",
   "execution_count": 100,
   "metadata": {},
   "outputs": [
    {
     "name": "stdout",
     "output_type": "stream",
     "text": [
      "Add  Frequent_mental_distress_raw_value with p-value 0.0\n",
      "Add  Premature_age-adjusted_mortality_raw_value with p-value 0.0\n",
      "Add  Release_Year                   with p-value 0.0\n",
      "Add  Driving_alone_to_work_raw_value with p-value 6.65083e-41\n",
      "Add  Poor_or_fair_health_raw_value  with p-value 3.13978e-19\n",
      "Add  %_below_18_years_of_age_raw_value with p-value 2.8992e-16\n",
      "Add  Air_pollution_-_particulate_matter_raw_value with p-value 1.51839e-12\n",
      "Add  %_Asian_raw_value              with p-value 1.57187e-17\n",
      "Add  Child_mortality_raw_value      with p-value 2.31754e-09\n",
      "Add  Limited_access_to_healthy_foods_raw_value with p-value 6.40207e-09\n",
      "Add  Severe_housing_problems_raw_value with p-value 1.38944e-05\n",
      "Add  %_Non-Hispanic_white_raw_value with p-value 2.51868e-06\n",
      "Add  Low_birthweight_raw_value      with p-value 0.000236109\n",
      "Add  Income_inequality_raw_value    with p-value 0.00033586\n",
      "Add  %_Native_Hawaiian/Other_Pacific_Islander_raw_value with p-value 0.000505954\n",
      "Add  Primary_care_physicians_raw_value with p-value 0.000301108\n",
      "Add  %_not_proficient_in_English_raw_value with p-value 0.00234913\n",
      "Drop Poor_or_fair_health_raw_value  with p-value 0.0619619\n",
      "Add  Poor_mental_health_days_raw_value with p-value 0.000441291\n",
      "Add  Median_household_income_raw_value with p-value 0.00025432\n",
      "Add  Other_primary_care_providers_raw_value with p-value 0.00155675\n",
      "Add  Ratio_of_population_to_primary_care_providers_other_than_physicians. with p-value 0.0014387\n",
      "Add  Mental_health_providers_raw_value with p-value 0.00453977\n",
      "Add  Long_commute_-_driving_alone_raw_value with p-value 0.00194475\n",
      "Add  Access_to_exercise_opportunities_raw_value with p-value 0.0049739\n",
      "Add  %_Females_raw_value            with p-value 0.00377059\n",
      "Add  Premature_death_raw_value      with p-value 0.00548028\n"
     ]
    }
   ],
   "source": [
    "stepwise_columns = stepwise_selection(X_train, y_train, threshold_in = 0.01, verbose=True)"
   ]
  },
  {
   "cell_type": "code",
   "execution_count": 101,
   "metadata": {},
   "outputs": [],
   "source": [
    "stepwise_test_r2 = statsmodel_regression(X_train[stepwise_columns], X_test[stepwise_columns], y_train, y_test)[0]\n",
    "stepwise_estimator = statsmodel_regression(X_train[stepwise_columns], X_test[stepwise_columns], y_train, y_test)[1]"
   ]
  },
  {
   "cell_type": "code",
   "execution_count": 102,
   "metadata": {},
   "outputs": [],
   "source": [
    "all_model_summary_df.loc[all_model_summary_df.model == 'Wrappper - Stepwise', 'n_features'] = len(stepwise_estimator.pvalues)\n",
    "all_model_summary_df.loc[all_model_summary_df.model == 'Wrappper - Stepwise', 'AIC'] = stepwise_estimator.aic\n",
    "all_model_summary_df.loc[all_model_summary_df.model == 'Wrappper - Stepwise', 'R2_test'] = stepwise_test_r2\n",
    "all_model_summary_df.loc[all_model_summary_df.model == 'Wrappper - Stepwise', '>0.05_pvalues'] = sum(stepwise_estimator.pvalues > 0.05)"
   ]
  },
  {
   "cell_type": "code",
   "execution_count": 103,
   "metadata": {},
   "outputs": [
    {
     "data": {
      "text/html": [
       "<div>\n",
       "<style scoped>\n",
       "    .dataframe tbody tr th:only-of-type {\n",
       "        vertical-align: middle;\n",
       "    }\n",
       "\n",
       "    .dataframe tbody tr th {\n",
       "        vertical-align: top;\n",
       "    }\n",
       "\n",
       "    .dataframe thead th {\n",
       "        text-align: right;\n",
       "    }\n",
       "</style>\n",
       "<table border=\"1\" class=\"dataframe\">\n",
       "  <thead>\n",
       "    <tr style=\"text-align: right;\">\n",
       "      <th></th>\n",
       "      <th>model</th>\n",
       "      <th>R2_test</th>\n",
       "      <th>AIC</th>\n",
       "      <th>n_features</th>\n",
       "      <th>&gt;0.05_pvalues</th>\n",
       "    </tr>\n",
       "  </thead>\n",
       "  <tbody>\n",
       "    <tr>\n",
       "      <th>0</th>\n",
       "      <td>Baseline</td>\n",
       "      <td>0.83</td>\n",
       "      <td>6143.64</td>\n",
       "      <td>77</td>\n",
       "      <td>48</td>\n",
       "    </tr>\n",
       "    <tr>\n",
       "      <th>1</th>\n",
       "      <td>Basic - Top Correlation</td>\n",
       "      <td>NaN</td>\n",
       "      <td>NaN</td>\n",
       "      <td>NaN</td>\n",
       "      <td>NaN</td>\n",
       "    </tr>\n",
       "    <tr>\n",
       "      <th>2</th>\n",
       "      <td>Filter</td>\n",
       "      <td>0.77</td>\n",
       "      <td>7211.08</td>\n",
       "      <td>30</td>\n",
       "      <td>13</td>\n",
       "    </tr>\n",
       "    <tr>\n",
       "      <th>3</th>\n",
       "      <td>Wrappper - RFE</td>\n",
       "      <td>0.84</td>\n",
       "      <td>6169.38</td>\n",
       "      <td>67</td>\n",
       "      <td>39</td>\n",
       "    </tr>\n",
       "    <tr>\n",
       "      <th>4</th>\n",
       "      <td>Wrappper - Stepwise</td>\n",
       "      <td>0.83</td>\n",
       "      <td>6193.23</td>\n",
       "      <td>25</td>\n",
       "      <td>0</td>\n",
       "    </tr>\n",
       "    <tr>\n",
       "      <th>5</th>\n",
       "      <td>Embedded - Lasso</td>\n",
       "      <td>NaN</td>\n",
       "      <td>NaN</td>\n",
       "      <td>NaN</td>\n",
       "      <td>NaN</td>\n",
       "    </tr>\n",
       "  </tbody>\n",
       "</table>\n",
       "</div>"
      ],
      "text/plain": [
       "                     model R2_test      AIC n_features >0.05_pvalues\n",
       "0                 Baseline    0.83  6143.64         77            48\n",
       "1  Basic - Top Correlation     NaN      NaN        NaN           NaN\n",
       "2                   Filter    0.77  7211.08         30            13\n",
       "3           Wrappper - RFE    0.84  6169.38         67            39\n",
       "4      Wrappper - Stepwise    0.83  6193.23         25             0\n",
       "5         Embedded - Lasso     NaN      NaN        NaN           NaN"
      ]
     },
     "execution_count": 103,
     "metadata": {},
     "output_type": "execute_result"
    }
   ],
   "source": [
    "all_model_summary_df"
   ]
  },
  {
   "cell_type": "markdown",
   "metadata": {},
   "source": [
    "### 6. Embedded - Lasso L2 Regression"
   ]
  },
  {
   "cell_type": "code",
   "execution_count": 104,
   "metadata": {},
   "outputs": [],
   "source": [
    "from sklearn.linear_model import Lasso\n",
    "\n",
    "lasso = Lasso(0.25).fit(X_train, y_train)\n",
    "lasso_column = X_train.columns[lasso.coef_ > 0]"
   ]
  },
  {
   "cell_type": "code",
   "execution_count": 105,
   "metadata": {},
   "outputs": [],
   "source": [
    "lasso_test_r2 = statsmodel_regression(X_train[lasso_column], add_constant(X_test[lasso_column]), y_train, y_test)[0]\n",
    "lasso_estimator = statsmodel_regression(X_train[lasso_column], add_constant(X_test[lasso_column]), y_train, y_test)[1]"
   ]
  },
  {
   "cell_type": "code",
   "execution_count": 106,
   "metadata": {},
   "outputs": [],
   "source": [
    "all_model_summary_df.loc[all_model_summary_df.model == 'Embedded - Lasso', 'n_features'] = len(lasso_estimator.pvalues)\n",
    "all_model_summary_df.loc[all_model_summary_df.model == 'Embedded - Lasso', 'AIC'] = lasso_estimator.aic\n",
    "all_model_summary_df.loc[all_model_summary_df.model == 'Embedded - Lasso', 'R2_test'] = lasso_test_r2\n",
    "all_model_summary_df.loc[all_model_summary_df.model == 'Embedded - Lasso', '>0.05_pvalues'] = sum(lasso_estimator.pvalues > 0.05)"
   ]
  },
  {
   "cell_type": "code",
   "execution_count": 107,
   "metadata": {},
   "outputs": [
    {
     "data": {
      "text/html": [
       "<div>\n",
       "<style scoped>\n",
       "    .dataframe tbody tr th:only-of-type {\n",
       "        vertical-align: middle;\n",
       "    }\n",
       "\n",
       "    .dataframe tbody tr th {\n",
       "        vertical-align: top;\n",
       "    }\n",
       "\n",
       "    .dataframe thead th {\n",
       "        text-align: right;\n",
       "    }\n",
       "</style>\n",
       "<table border=\"1\" class=\"dataframe\">\n",
       "  <thead>\n",
       "    <tr style=\"text-align: right;\">\n",
       "      <th></th>\n",
       "      <th>model</th>\n",
       "      <th>R2_test</th>\n",
       "      <th>AIC</th>\n",
       "      <th>n_features</th>\n",
       "      <th>&gt;0.05_pvalues</th>\n",
       "    </tr>\n",
       "  </thead>\n",
       "  <tbody>\n",
       "    <tr>\n",
       "      <th>0</th>\n",
       "      <td>Baseline</td>\n",
       "      <td>0.83</td>\n",
       "      <td>6143.64</td>\n",
       "      <td>77</td>\n",
       "      <td>48</td>\n",
       "    </tr>\n",
       "    <tr>\n",
       "      <th>1</th>\n",
       "      <td>Basic - Top Correlation</td>\n",
       "      <td>NaN</td>\n",
       "      <td>NaN</td>\n",
       "      <td>NaN</td>\n",
       "      <td>NaN</td>\n",
       "    </tr>\n",
       "    <tr>\n",
       "      <th>2</th>\n",
       "      <td>Filter</td>\n",
       "      <td>0.77</td>\n",
       "      <td>7211.08</td>\n",
       "      <td>30</td>\n",
       "      <td>13</td>\n",
       "    </tr>\n",
       "    <tr>\n",
       "      <th>3</th>\n",
       "      <td>Wrappper - RFE</td>\n",
       "      <td>0.84</td>\n",
       "      <td>6169.38</td>\n",
       "      <td>67</td>\n",
       "      <td>39</td>\n",
       "    </tr>\n",
       "    <tr>\n",
       "      <th>4</th>\n",
       "      <td>Wrappper - Stepwise</td>\n",
       "      <td>0.83</td>\n",
       "      <td>6193.23</td>\n",
       "      <td>25</td>\n",
       "      <td>0</td>\n",
       "    </tr>\n",
       "    <tr>\n",
       "      <th>5</th>\n",
       "      <td>Embedded - Lasso</td>\n",
       "      <td>0.69</td>\n",
       "      <td>7959.28</td>\n",
       "      <td>8</td>\n",
       "      <td>3</td>\n",
       "    </tr>\n",
       "  </tbody>\n",
       "</table>\n",
       "</div>"
      ],
      "text/plain": [
       "                     model R2_test      AIC n_features >0.05_pvalues\n",
       "0                 Baseline    0.83  6143.64         77            48\n",
       "1  Basic - Top Correlation     NaN      NaN        NaN           NaN\n",
       "2                   Filter    0.77  7211.08         30            13\n",
       "3           Wrappper - RFE    0.84  6169.38         67            39\n",
       "4      Wrappper - Stepwise    0.83  6193.23         25             0\n",
       "5         Embedded - Lasso    0.69  7959.28          8             3"
      ]
     },
     "execution_count": 107,
     "metadata": {},
     "output_type": "execute_result"
    }
   ],
   "source": [
    "all_model_summary_df"
   ]
  },
  {
   "cell_type": "code",
   "execution_count": null,
   "metadata": {},
   "outputs": [],
   "source": []
  }
 ],
 "metadata": {
  "kernelspec": {
   "display_name": "Python 3",
   "language": "python",
   "name": "python3"
  },
  "language_info": {
   "codemirror_mode": {
    "name": "ipython",
    "version": 3
   },
   "file_extension": ".py",
   "mimetype": "text/x-python",
   "name": "python",
   "nbconvert_exporter": "python",
   "pygments_lexer": "ipython3",
   "version": "3.6.6"
  }
 },
 "nbformat": 4,
 "nbformat_minor": 2
}
