{
 "cells": [
  {
   "cell_type": "markdown",
   "metadata": {},
   "source": [
    "# Regression - Prediciting Life Expectancy for US"
   ]
  },
  {
   "cell_type": "markdown",
   "metadata": {},
   "source": [
    "### [TBD] Now it is time to use other models to reduce the complexity of our baseline model by using several feature selection techniques. The aim here is to reduce the amount of features for our 'client', there will no doubt be some tradeoff between model accuracy and complexity.\n",
    "\n",
    "As we can see above, we get a R2 scores of 83% for a single train-test split model and 88% if we conduct a cross-validation with 5 splits. This however might result in a model that is too complex noting the number of features we have. Let's conduct two different ways of selecting only the best features:\n",
    "- filter methods\n",
    "    - low variance\n",
    "    - Pearson's Correlation (Given majority of our features are continuous)\n",
    "- wrapper methods\n",
    "    - Recurvsive Feature Elimination\n",
    "    - Stepwise Selection\n",
    "- embedded methods \n",
    "    - Lasso"
   ]
  },
  {
   "cell_type": "code",
   "execution_count": 1,
   "metadata": {},
   "outputs": [],
   "source": [
    "import pandas as pd\n",
    "import numpy as np\n",
    "import matplotlib.pyplot as plt\n",
    "import seaborn as sns\n",
    "import warnings\n",
    "\n",
    "from functions import *\n",
    "\n",
    "from sklearn.linear_model import LinearRegression\n",
    "from sklearn.model_selection import train_test_split, cross_validate, cross_val_score, KFold\n",
    "from sklearn.metrics import r2_score\n",
    "from sklearn.feature_selection import VarianceThreshold\n",
    "from sklearn.preprocessing import StandardScaler\n",
    "from sklearn.feature_selection import RFECV, RFE\n",
    "from sklearn.linear_model import Lasso\n",
    "from sklearn.model_selection import GridSearchCV\n",
    "\n",
    "from statsmodels.regression.linear_model import OLS\n",
    "from statsmodels.tools import add_constant\n",
    "from statsmodels.stats.outliers_influence import variance_inflation_factor\n",
    "\n",
    "from scipy import stats\n",
    "\n",
    "sns.set_style('darkgrid')\n",
    "warnings.filterwarnings('ignore')\n",
    "pd.set_option('display.max_columns', None)\n",
    "\n",
    "%load_ext autoreload\n",
    "%autoreload 2"
   ]
  },
  {
   "cell_type": "code",
   "execution_count": 2,
   "metadata": {},
   "outputs": [],
   "source": [
    "df_clean = pd.read_csv('clean_data.csv', index_col=[0])"
   ]
  },
  {
   "cell_type": "code",
   "execution_count": 3,
   "metadata": {},
   "outputs": [],
   "source": [
    "to_drop = ['State_Abbreviation', 'Name', 'Life_expectancy']\n",
    "X = df_clean.drop(to_drop, axis = 1)\n",
    "y = df_clean['Life_expectancy']"
   ]
  },
  {
   "cell_type": "code",
   "execution_count": 4,
   "metadata": {},
   "outputs": [],
   "source": [
    "sc = StandardScaler()\n",
    "to_scale = df_clean.drop(['State_Abbreviation', 'Name'], axis = 1)\n",
    "Scaled_data = sc.fit_transform(to_scale)\n",
    "Scaled_data_df = pd.DataFrame(Scaled_data, columns = [to_scale.columns])\n",
    "\n",
    "X_scaled = Scaled_data_df.drop('Life_expectancy', axis = 1)\n",
    "y_scaled = Scaled_data_df['Life_expectancy'].values"
   ]
  },
  {
   "cell_type": "markdown",
   "metadata": {},
   "source": [
    "Split into training and testing dataset, followed by a subsequent split within the training bucket into training and validation"
   ]
  },
  {
   "cell_type": "code",
   "execution_count": 65,
   "metadata": {},
   "outputs": [],
   "source": [
    "X_train, X_test, y_train, y_test = train_test_split(X_scaled, y_scaled, test_size = 0.25, random_state = 1)\n",
    "X_train_subset, X_val, y_train_subset, y_val = train_test_split(X_train, y_train, test_size = 0.25, random_state = 1)"
   ]
  },
  {
   "cell_type": "code",
   "execution_count": 66,
   "metadata": {},
   "outputs": [
    {
     "name": "stdout",
     "output_type": "stream",
     "text": [
      "Total training data: 1767\n",
      "Total validation data: 589\n",
      "Total test date: 786\n",
      "Total data: 3142\n",
      "Cross check: True\n"
     ]
    }
   ],
   "source": [
    "print ('Total training data:', len(X_train_subset))\n",
    "print ('Total validation data:', len(X_val))\n",
    "print ('Total test date:', len(X_test))\n",
    "print ('Total data:', len(X))\n",
    "print ('Cross check:',  len(X) == len(X_train_subset) + len(X_val) + len(X_test))"
   ]
  },
  {
   "cell_type": "markdown",
   "metadata": {},
   "source": [
    "Create a dataframe to store all model outcomes which will be useful to derive a conclusion at a later stage"
   ]
  },
  {
   "cell_type": "code",
   "execution_count": 67,
   "metadata": {},
   "outputs": [],
   "source": [
    "all_model_summary_df = pd.DataFrame([], columns = ['model', 'R2_test', 'AIC', 'n_features', '>0.05_pvalues'])\n",
    "all_model_summary_df['model'] = ['Baseline', 'Basic - Top Correlation',\n",
    "                                 'Filter', \n",
    "                                 'Wrappper - RFE', 'Wrappper - Stepwise',\n",
    "                                 'Embedded - Lasso',\n",
    "                                ]"
   ]
  },
  {
   "cell_type": "markdown",
   "metadata": {},
   "source": [
    "### 1. Baseline model - All available features\n",
    "\n",
    "This is a very basic model which accounts for all 76 features purely using the X_train dataset (no validation)"
   ]
  },
  {
   "cell_type": "code",
   "execution_count": 68,
   "metadata": {},
   "outputs": [],
   "source": [
    "baseline_OLS = OLS(y_train, add_constant(X_train)).fit()\n",
    "\n",
    "baseline_predictions = baseline_OLS.predict(add_constant(X_test))\n",
    "baseline_train_r2 = baseline_OLS.rsquared\n",
    "\n",
    "baseline_test_r2 = r2_score(y_test, baseline_predictions)"
   ]
  },
  {
   "cell_type": "code",
   "execution_count": 69,
   "metadata": {},
   "outputs": [
    {
     "data": {
      "text/html": [
       "<table class=\"simpletable\">\n",
       "<caption>OLS Regression Results</caption>\n",
       "<tr>\n",
       "  <th>Dep. Variable:</th>            <td>y</td>        <th>  R-squared:         </th> <td>   0.911</td>\n",
       "</tr>\n",
       "<tr>\n",
       "  <th>Model:</th>                   <td>OLS</td>       <th>  Adj. R-squared:    </th> <td>   0.908</td>\n",
       "</tr>\n",
       "<tr>\n",
       "  <th>Method:</th>             <td>Least Squares</td>  <th>  F-statistic:       </th> <td>   377.5</td>\n",
       "</tr>\n",
       "<tr>\n",
       "  <th>Date:</th>             <td>Mon, 13 Jan 2020</td> <th>  Prob (F-statistic):</th>  <td>  0.00</td> \n",
       "</tr>\n",
       "<tr>\n",
       "  <th>Time:</th>                 <td>10:41:25</td>     <th>  Log-Likelihood:    </th> <td> -479.33</td>\n",
       "</tr>\n",
       "<tr>\n",
       "  <th>No. Observations:</th>      <td>  2356</td>      <th>  AIC:               </th> <td>   1085.</td>\n",
       "</tr>\n",
       "<tr>\n",
       "  <th>Df Residuals:</th>          <td>  2293</td>      <th>  BIC:               </th> <td>   1448.</td>\n",
       "</tr>\n",
       "<tr>\n",
       "  <th>Df Model:</th>              <td>    62</td>      <th>                     </th>     <td> </td>   \n",
       "</tr>\n",
       "<tr>\n",
       "  <th>Covariance Type:</th>      <td>nonrobust</td>    <th>                     </th>     <td> </td>   \n",
       "</tr>\n",
       "</table>\n",
       "<table class=\"simpletable\">\n",
       "<tr>\n",
       "                                      <td></td>                                         <th>coef</th>     <th>std err</th>      <th>t</th>      <th>P>|t|</th>  <th>[0.025</th>    <th>0.975]</th>  \n",
       "</tr>\n",
       "<tr>\n",
       "  <th>const</th>                                                                     <td>   -0.0075</td> <td>    0.006</td> <td>   -1.201</td> <td> 0.230</td> <td>   -0.020</td> <td>    0.005</td>\n",
       "</tr>\n",
       "<tr>\n",
       "  <th>('Release_Year',)</th>                                                         <td>-1.441e-14</td> <td> 2.34e-15</td> <td>   -6.160</td> <td> 0.000</td> <td> -1.9e-14</td> <td>-9.82e-15</td>\n",
       "</tr>\n",
       "<tr>\n",
       "  <th>('County_Ranked_(Yes=1/No=0)',)</th>                                           <td>    0.0067</td> <td>    0.008</td> <td>    0.874</td> <td> 0.382</td> <td>   -0.008</td> <td>    0.022</td>\n",
       "</tr>\n",
       "<tr>\n",
       "  <th>('Premature_death',)</th>                                                      <td>   -0.0332</td> <td>    0.026</td> <td>   -1.292</td> <td> 0.196</td> <td>   -0.084</td> <td>    0.017</td>\n",
       "</tr>\n",
       "<tr>\n",
       "  <th>('Poor_or_fair_health',)</th>                                                  <td>    0.0574</td> <td>    0.028</td> <td>    2.016</td> <td> 0.044</td> <td>    0.002</td> <td>    0.113</td>\n",
       "</tr>\n",
       "<tr>\n",
       "  <th>('Poor_physical_health_days',)</th>                                            <td>   -0.1236</td> <td>    0.063</td> <td>   -1.951</td> <td> 0.051</td> <td>   -0.248</td> <td>    0.001</td>\n",
       "</tr>\n",
       "<tr>\n",
       "  <th>('Poor_mental_health_days',)</th>                                              <td>   -0.0629</td> <td>    0.041</td> <td>   -1.530</td> <td> 0.126</td> <td>   -0.143</td> <td>    0.018</td>\n",
       "</tr>\n",
       "<tr>\n",
       "  <th>('Low_birthweight',)</th>                                                      <td>   -0.0162</td> <td>    0.011</td> <td>   -1.518</td> <td> 0.129</td> <td>   -0.037</td> <td>    0.005</td>\n",
       "</tr>\n",
       "<tr>\n",
       "  <th>('Adult_smoking',)</th>                                                        <td>   -0.0408</td> <td>    0.017</td> <td>   -2.453</td> <td> 0.014</td> <td>   -0.073</td> <td>   -0.008</td>\n",
       "</tr>\n",
       "<tr>\n",
       "  <th>('Adult_obesity',)</th>                                                        <td>   -0.0154</td> <td>    0.011</td> <td>   -1.423</td> <td> 0.155</td> <td>   -0.037</td> <td>    0.006</td>\n",
       "</tr>\n",
       "<tr>\n",
       "  <th>('Food_environment_index',)</th>                                               <td>   -0.0836</td> <td>    0.123</td> <td>   -0.681</td> <td> 0.496</td> <td>   -0.324</td> <td>    0.157</td>\n",
       "</tr>\n",
       "<tr>\n",
       "  <th>('Physical_inactivity',)</th>                                                  <td>   -0.0066</td> <td>    0.012</td> <td>   -0.532</td> <td> 0.595</td> <td>   -0.031</td> <td>    0.018</td>\n",
       "</tr>\n",
       "<tr>\n",
       "  <th>('Access_to_exercise_opportunities',)</th>                                     <td>   -0.0275</td> <td>    0.009</td> <td>   -3.016</td> <td> 0.003</td> <td>   -0.045</td> <td>   -0.010</td>\n",
       "</tr>\n",
       "<tr>\n",
       "  <th>('Excessive_drinking',)</th>                                                   <td>    0.0159</td> <td>    0.012</td> <td>    1.372</td> <td> 0.170</td> <td>   -0.007</td> <td>    0.039</td>\n",
       "</tr>\n",
       "<tr>\n",
       "  <th>('Alcohol-impaired_driving_deaths',)</th>                                      <td>   -0.0036</td> <td>    0.006</td> <td>   -0.565</td> <td> 0.572</td> <td>   -0.016</td> <td>    0.009</td>\n",
       "</tr>\n",
       "<tr>\n",
       "  <th>('Sexually_transmitted_infections',)</th>                                      <td>   -0.0008</td> <td>    0.010</td> <td>   -0.082</td> <td> 0.935</td> <td>   -0.020</td> <td>    0.018</td>\n",
       "</tr>\n",
       "<tr>\n",
       "  <th>('Teen_births',)</th>                                                          <td>    0.0084</td> <td>    0.013</td> <td>    0.636</td> <td> 0.525</td> <td>   -0.018</td> <td>    0.034</td>\n",
       "</tr>\n",
       "<tr>\n",
       "  <th>('Uninsured',)</th>                                                            <td>    1.7326</td> <td>    0.147</td> <td>   11.804</td> <td> 0.000</td> <td>    1.445</td> <td>    2.020</td>\n",
       "</tr>\n",
       "<tr>\n",
       "  <th>('Primary_care_physicians',)</th>                                              <td>   -0.0378</td> <td>    0.010</td> <td>   -3.887</td> <td> 0.000</td> <td>   -0.057</td> <td>   -0.019</td>\n",
       "</tr>\n",
       "<tr>\n",
       "  <th>('Dentists',)</th>                                                             <td>    0.0044</td> <td>    0.008</td> <td>    0.531</td> <td> 0.596</td> <td>   -0.012</td> <td>    0.021</td>\n",
       "</tr>\n",
       "<tr>\n",
       "  <th>('Mental_health_providers',)</th>                                              <td>   -0.0166</td> <td>    0.009</td> <td>   -1.929</td> <td> 0.054</td> <td>   -0.033</td> <td>    0.000</td>\n",
       "</tr>\n",
       "<tr>\n",
       "  <th>('Preventable_hospital_stays',)</th>                                           <td>   -0.0113</td> <td>    0.008</td> <td>   -1.483</td> <td> 0.138</td> <td>   -0.026</td> <td>    0.004</td>\n",
       "</tr>\n",
       "<tr>\n",
       "  <th>('Mammography_screening',)</th>                                                <td>   -0.0197</td> <td>    0.009</td> <td>   -2.092</td> <td> 0.037</td> <td>   -0.038</td> <td>   -0.001</td>\n",
       "</tr>\n",
       "<tr>\n",
       "  <th>('Flu_vaccinations',)</th>                                                     <td>   -0.0034</td> <td>    0.009</td> <td>   -0.377</td> <td> 0.706</td> <td>   -0.021</td> <td>    0.014</td>\n",
       "</tr>\n",
       "<tr>\n",
       "  <th>('High_school_graduation',)</th>                                               <td>    0.0025</td> <td>    0.008</td> <td>    0.327</td> <td> 0.744</td> <td>   -0.013</td> <td>    0.018</td>\n",
       "</tr>\n",
       "<tr>\n",
       "  <th>('Some_college',)</th>                                                         <td>    0.0240</td> <td>    0.012</td> <td>    1.982</td> <td> 0.048</td> <td>    0.000</td> <td>    0.048</td>\n",
       "</tr>\n",
       "<tr>\n",
       "  <th>('Unemployment',)</th>                                                         <td>    0.0042</td> <td>    0.010</td> <td>    0.437</td> <td> 0.662</td> <td>   -0.015</td> <td>    0.023</td>\n",
       "</tr>\n",
       "<tr>\n",
       "  <th>('Children_in_poverty',)</th>                                                  <td>    0.0265</td> <td>    0.018</td> <td>    1.468</td> <td> 0.142</td> <td>   -0.009</td> <td>    0.062</td>\n",
       "</tr>\n",
       "<tr>\n",
       "  <th>('Income_inequality',)</th>                                                    <td>    0.0294</td> <td>    0.009</td> <td>    3.268</td> <td> 0.001</td> <td>    0.012</td> <td>    0.047</td>\n",
       "</tr>\n",
       "<tr>\n",
       "  <th>('Children_in_single-parent_households',)</th>                                 <td>    0.0026</td> <td>    0.011</td> <td>    0.234</td> <td> 0.815</td> <td>   -0.019</td> <td>    0.025</td>\n",
       "</tr>\n",
       "<tr>\n",
       "  <th>('Social_associations',)</th>                                                  <td>    0.0024</td> <td>    0.009</td> <td>    0.280</td> <td> 0.779</td> <td>   -0.014</td> <td>    0.019</td>\n",
       "</tr>\n",
       "<tr>\n",
       "  <th>('Violent_crime',)</th>                                                        <td>   -0.0123</td> <td>    0.008</td> <td>   -1.495</td> <td> 0.135</td> <td>   -0.028</td> <td>    0.004</td>\n",
       "</tr>\n",
       "<tr>\n",
       "  <th>('Injury_deaths',)</th>                                                        <td>   -0.0137</td> <td>    0.012</td> <td>   -1.145</td> <td> 0.252</td> <td>   -0.037</td> <td>    0.010</td>\n",
       "</tr>\n",
       "<tr>\n",
       "  <th>('Air_pollution_-_particulate_matter',)</th>                                   <td>   -0.0557</td> <td>    0.010</td> <td>   -5.749</td> <td> 0.000</td> <td>   -0.075</td> <td>   -0.037</td>\n",
       "</tr>\n",
       "<tr>\n",
       "  <th>('Drinking_water_violations',)</th>                                            <td>   -0.0080</td> <td>    0.007</td> <td>   -1.196</td> <td> 0.232</td> <td>   -0.021</td> <td>    0.005</td>\n",
       "</tr>\n",
       "<tr>\n",
       "  <th>('Severe_housing_problems',)</th>                                              <td>   -0.0371</td> <td>    0.058</td> <td>   -0.640</td> <td> 0.522</td> <td>   -0.151</td> <td>    0.077</td>\n",
       "</tr>\n",
       "<tr>\n",
       "  <th>('Percentage_of_households_with_high_housing_costs',)</th>                     <td>   -0.0502</td> <td>    0.046</td> <td>   -1.086</td> <td> 0.278</td> <td>   -0.141</td> <td>    0.040</td>\n",
       "</tr>\n",
       "<tr>\n",
       "  <th>('Percentage_of_households_with_overcrowding',)</th>                           <td>   -0.0027</td> <td>    0.027</td> <td>   -0.098</td> <td> 0.922</td> <td>   -0.056</td> <td>    0.050</td>\n",
       "</tr>\n",
       "<tr>\n",
       "  <th>('Percentage_of_households_with_lack_of_kitchen_or_plumbing_facilities',)</th> <td>    0.0060</td> <td>    0.018</td> <td>    0.338</td> <td> 0.736</td> <td>   -0.029</td> <td>    0.041</td>\n",
       "</tr>\n",
       "<tr>\n",
       "  <th>('Driving_alone_to_work',)</th>                                                <td>   -0.0498</td> <td>    0.010</td> <td>   -4.882</td> <td> 0.000</td> <td>   -0.070</td> <td>   -0.030</td>\n",
       "</tr>\n",
       "<tr>\n",
       "  <th>('Long_commute_-_driving_alone',)</th>                                         <td>   -0.0290</td> <td>    0.010</td> <td>   -2.962</td> <td> 0.003</td> <td>   -0.048</td> <td>   -0.010</td>\n",
       "</tr>\n",
       "<tr>\n",
       "  <th>('Premature_age-adjusted_mortality',)</th>                                     <td>   -0.8168</td> <td>    0.028</td> <td>  -29.247</td> <td> 0.000</td> <td>   -0.872</td> <td>   -0.762</td>\n",
       "</tr>\n",
       "<tr>\n",
       "  <th>('Child_mortality',)</th>                                                      <td>   -0.0301</td> <td>    0.008</td> <td>   -3.725</td> <td> 0.000</td> <td>   -0.046</td> <td>   -0.014</td>\n",
       "</tr>\n",
       "<tr>\n",
       "  <th>('Frequent_physical_distress',)</th>                                           <td>    0.1827</td> <td>    0.085</td> <td>    2.139</td> <td> 0.033</td> <td>    0.015</td> <td>    0.350</td>\n",
       "</tr>\n",
       "<tr>\n",
       "  <th>('Frequent_mental_distress',)</th>                                             <td>    0.0333</td> <td>    0.059</td> <td>    0.565</td> <td> 0.572</td> <td>   -0.082</td> <td>    0.149</td>\n",
       "</tr>\n",
       "<tr>\n",
       "  <th>('Diabetes_prevalence',)</th>                                                  <td>    0.0389</td> <td>    0.014</td> <td>    2.694</td> <td> 0.007</td> <td>    0.011</td> <td>    0.067</td>\n",
       "</tr>\n",
       "<tr>\n",
       "  <th>('HIV_prevalence',)</th>                                                       <td>    0.0055</td> <td>    0.010</td> <td>    0.567</td> <td> 0.571</td> <td>   -0.014</td> <td>    0.025</td>\n",
       "</tr>\n",
       "<tr>\n",
       "  <th>('Food_insecurity',)</th>                                                      <td>   -0.0594</td> <td>    0.081</td> <td>   -0.730</td> <td> 0.466</td> <td>   -0.219</td> <td>    0.100</td>\n",
       "</tr>\n",
       "<tr>\n",
       "  <th>('Limited_access_to_healthy_foods',)</th>                                      <td>   -0.0254</td> <td>    0.081</td> <td>   -0.315</td> <td> 0.753</td> <td>   -0.184</td> <td>    0.133</td>\n",
       "</tr>\n",
       "<tr>\n",
       "  <th>('Drug_overdose_deaths',)</th>                                                 <td>   -0.0029</td> <td>    0.008</td> <td>   -0.361</td> <td> 0.718</td> <td>   -0.019</td> <td>    0.013</td>\n",
       "</tr>\n",
       "<tr>\n",
       "  <th>('Motor_vehicle_crash_deaths',)</th>                                           <td>   -0.0200</td> <td>    0.010</td> <td>   -2.041</td> <td> 0.041</td> <td>   -0.039</td> <td>   -0.001</td>\n",
       "</tr>\n",
       "<tr>\n",
       "  <th>('Insufficient_sleep',)</th>                                                   <td>   -0.0205</td> <td>    0.013</td> <td>   -1.547</td> <td> 0.122</td> <td>   -0.046</td> <td>    0.005</td>\n",
       "</tr>\n",
       "<tr>\n",
       "  <th>('Uninsured_adults',)</th>                                                     <td>   -1.5051</td> <td>    0.129</td> <td>  -11.666</td> <td> 0.000</td> <td>   -1.758</td> <td>   -1.252</td>\n",
       "</tr>\n",
       "<tr>\n",
       "  <th>('Uninsured_children',)</th>                                                   <td>   -0.3321</td> <td>    0.031</td> <td>  -10.580</td> <td> 0.000</td> <td>   -0.394</td> <td>   -0.271</td>\n",
       "</tr>\n",
       "<tr>\n",
       "  <th>('Other_primary_care_providers',)</th>                                         <td>    0.0288</td> <td>    0.009</td> <td>    3.305</td> <td> 0.001</td> <td>    0.012</td> <td>    0.046</td>\n",
       "</tr>\n",
       "<tr>\n",
       "  <th>('Median_household_income',)</th>                                              <td>    0.1154</td> <td>    0.015</td> <td>    7.741</td> <td> 0.000</td> <td>    0.086</td> <td>    0.145</td>\n",
       "</tr>\n",
       "<tr>\n",
       "  <th>('Children_eligible_for_free_or_reduced_price_lunch',)</th>                    <td>   -0.0065</td> <td>    0.010</td> <td>   -0.621</td> <td> 0.535</td> <td>   -0.027</td> <td>    0.014</td>\n",
       "</tr>\n",
       "<tr>\n",
       "  <th>('Firearm_fatalities',)</th>                                                   <td>   -0.0046</td> <td>    0.009</td> <td>   -0.540</td> <td> 0.589</td> <td>   -0.021</td> <td>    0.012</td>\n",
       "</tr>\n",
       "<tr>\n",
       "  <th>('Homeownership',)</th>                                                        <td>   -0.0148</td> <td>    0.012</td> <td>   -1.284</td> <td> 0.199</td> <td>   -0.037</td> <td>    0.008</td>\n",
       "</tr>\n",
       "<tr>\n",
       "  <th>('Severe_housing_cost_burden',)</th>                                           <td>    0.0449</td> <td>    0.017</td> <td>    2.672</td> <td> 0.008</td> <td>    0.012</td> <td>    0.078</td>\n",
       "</tr>\n",
       "<tr>\n",
       "  <th>('Population',)</th>                                                           <td>    0.0073</td> <td>    0.008</td> <td>    0.968</td> <td> 0.333</td> <td>   -0.007</td> <td>    0.022</td>\n",
       "</tr>\n",
       "<tr>\n",
       "  <th>('%_not_proficient_in_English',)</th>                                          <td>    0.0578</td> <td>    0.012</td> <td>    4.799</td> <td> 0.000</td> <td>    0.034</td> <td>    0.081</td>\n",
       "</tr>\n",
       "<tr>\n",
       "  <th>('%_Females',)</th>                                                            <td>   -0.0050</td> <td>    0.009</td> <td>   -0.580</td> <td> 0.562</td> <td>   -0.022</td> <td>    0.012</td>\n",
       "</tr>\n",
       "<tr>\n",
       "  <th>('%_Rural',)</th>                                                              <td>    0.0147</td> <td>    0.013</td> <td>    1.141</td> <td> 0.254</td> <td>   -0.011</td> <td>    0.040</td>\n",
       "</tr>\n",
       "</table>\n",
       "<table class=\"simpletable\">\n",
       "<tr>\n",
       "  <th>Omnibus:</th>       <td>1745.444</td> <th>  Durbin-Watson:     </th> <td>   2.011</td> \n",
       "</tr>\n",
       "<tr>\n",
       "  <th>Prob(Omnibus):</th>  <td> 0.000</td>  <th>  Jarque-Bera (JB):  </th> <td>56309.120</td>\n",
       "</tr>\n",
       "<tr>\n",
       "  <th>Skew:</th>           <td> 3.143</td>  <th>  Prob(JB):          </th> <td>    0.00</td> \n",
       "</tr>\n",
       "<tr>\n",
       "  <th>Kurtosis:</th>       <td>26.111</td>  <th>  Cond. No.          </th> <td>1.05e+16</td> \n",
       "</tr>\n",
       "</table><br/><br/>Warnings:<br/>[1] Standard Errors assume that the covariance matrix of the errors is correctly specified.<br/>[2] The smallest eigenvalue is 3.75e-28. This might indicate that there are<br/>strong multicollinearity problems or that the design matrix is singular."
      ],
      "text/plain": [
       "<class 'statsmodels.iolib.summary.Summary'>\n",
       "\"\"\"\n",
       "                            OLS Regression Results                            \n",
       "==============================================================================\n",
       "Dep. Variable:                      y   R-squared:                       0.911\n",
       "Model:                            OLS   Adj. R-squared:                  0.908\n",
       "Method:                 Least Squares   F-statistic:                     377.5\n",
       "Date:                Mon, 13 Jan 2020   Prob (F-statistic):               0.00\n",
       "Time:                        10:41:25   Log-Likelihood:                -479.33\n",
       "No. Observations:                2356   AIC:                             1085.\n",
       "Df Residuals:                    2293   BIC:                             1448.\n",
       "Df Model:                          62                                         \n",
       "Covariance Type:            nonrobust                                         \n",
       "=============================================================================================================================================\n",
       "                                                                                coef    std err          t      P>|t|      [0.025      0.975]\n",
       "---------------------------------------------------------------------------------------------------------------------------------------------\n",
       "const                                                                        -0.0075      0.006     -1.201      0.230      -0.020       0.005\n",
       "('Release_Year',)                                                         -1.441e-14   2.34e-15     -6.160      0.000    -1.9e-14   -9.82e-15\n",
       "('County_Ranked_(Yes=1/No=0)',)                                               0.0067      0.008      0.874      0.382      -0.008       0.022\n",
       "('Premature_death',)                                                         -0.0332      0.026     -1.292      0.196      -0.084       0.017\n",
       "('Poor_or_fair_health',)                                                      0.0574      0.028      2.016      0.044       0.002       0.113\n",
       "('Poor_physical_health_days',)                                               -0.1236      0.063     -1.951      0.051      -0.248       0.001\n",
       "('Poor_mental_health_days',)                                                 -0.0629      0.041     -1.530      0.126      -0.143       0.018\n",
       "('Low_birthweight',)                                                         -0.0162      0.011     -1.518      0.129      -0.037       0.005\n",
       "('Adult_smoking',)                                                           -0.0408      0.017     -2.453      0.014      -0.073      -0.008\n",
       "('Adult_obesity',)                                                           -0.0154      0.011     -1.423      0.155      -0.037       0.006\n",
       "('Food_environment_index',)                                                  -0.0836      0.123     -0.681      0.496      -0.324       0.157\n",
       "('Physical_inactivity',)                                                     -0.0066      0.012     -0.532      0.595      -0.031       0.018\n",
       "('Access_to_exercise_opportunities',)                                        -0.0275      0.009     -3.016      0.003      -0.045      -0.010\n",
       "('Excessive_drinking',)                                                       0.0159      0.012      1.372      0.170      -0.007       0.039\n",
       "('Alcohol-impaired_driving_deaths',)                                         -0.0036      0.006     -0.565      0.572      -0.016       0.009\n",
       "('Sexually_transmitted_infections',)                                         -0.0008      0.010     -0.082      0.935      -0.020       0.018\n",
       "('Teen_births',)                                                              0.0084      0.013      0.636      0.525      -0.018       0.034\n",
       "('Uninsured',)                                                                1.7326      0.147     11.804      0.000       1.445       2.020\n",
       "('Primary_care_physicians',)                                                 -0.0378      0.010     -3.887      0.000      -0.057      -0.019\n",
       "('Dentists',)                                                                 0.0044      0.008      0.531      0.596      -0.012       0.021\n",
       "('Mental_health_providers',)                                                 -0.0166      0.009     -1.929      0.054      -0.033       0.000\n",
       "('Preventable_hospital_stays',)                                              -0.0113      0.008     -1.483      0.138      -0.026       0.004\n",
       "('Mammography_screening',)                                                   -0.0197      0.009     -2.092      0.037      -0.038      -0.001\n",
       "('Flu_vaccinations',)                                                        -0.0034      0.009     -0.377      0.706      -0.021       0.014\n",
       "('High_school_graduation',)                                                   0.0025      0.008      0.327      0.744      -0.013       0.018\n",
       "('Some_college',)                                                             0.0240      0.012      1.982      0.048       0.000       0.048\n",
       "('Unemployment',)                                                             0.0042      0.010      0.437      0.662      -0.015       0.023\n",
       "('Children_in_poverty',)                                                      0.0265      0.018      1.468      0.142      -0.009       0.062\n",
       "('Income_inequality',)                                                        0.0294      0.009      3.268      0.001       0.012       0.047\n",
       "('Children_in_single-parent_households',)                                     0.0026      0.011      0.234      0.815      -0.019       0.025\n",
       "('Social_associations',)                                                      0.0024      0.009      0.280      0.779      -0.014       0.019\n",
       "('Violent_crime',)                                                           -0.0123      0.008     -1.495      0.135      -0.028       0.004\n",
       "('Injury_deaths',)                                                           -0.0137      0.012     -1.145      0.252      -0.037       0.010\n",
       "('Air_pollution_-_particulate_matter',)                                      -0.0557      0.010     -5.749      0.000      -0.075      -0.037\n",
       "('Drinking_water_violations',)                                               -0.0080      0.007     -1.196      0.232      -0.021       0.005\n",
       "('Severe_housing_problems',)                                                 -0.0371      0.058     -0.640      0.522      -0.151       0.077\n",
       "('Percentage_of_households_with_high_housing_costs',)                        -0.0502      0.046     -1.086      0.278      -0.141       0.040\n",
       "('Percentage_of_households_with_overcrowding',)                              -0.0027      0.027     -0.098      0.922      -0.056       0.050\n",
       "('Percentage_of_households_with_lack_of_kitchen_or_plumbing_facilities',)     0.0060      0.018      0.338      0.736      -0.029       0.041\n",
       "('Driving_alone_to_work',)                                                   -0.0498      0.010     -4.882      0.000      -0.070      -0.030\n",
       "('Long_commute_-_driving_alone',)                                            -0.0290      0.010     -2.962      0.003      -0.048      -0.010\n",
       "('Premature_age-adjusted_mortality',)                                        -0.8168      0.028    -29.247      0.000      -0.872      -0.762\n",
       "('Child_mortality',)                                                         -0.0301      0.008     -3.725      0.000      -0.046      -0.014\n",
       "('Frequent_physical_distress',)                                               0.1827      0.085      2.139      0.033       0.015       0.350\n",
       "('Frequent_mental_distress',)                                                 0.0333      0.059      0.565      0.572      -0.082       0.149\n",
       "('Diabetes_prevalence',)                                                      0.0389      0.014      2.694      0.007       0.011       0.067\n",
       "('HIV_prevalence',)                                                           0.0055      0.010      0.567      0.571      -0.014       0.025\n",
       "('Food_insecurity',)                                                         -0.0594      0.081     -0.730      0.466      -0.219       0.100\n",
       "('Limited_access_to_healthy_foods',)                                         -0.0254      0.081     -0.315      0.753      -0.184       0.133\n",
       "('Drug_overdose_deaths',)                                                    -0.0029      0.008     -0.361      0.718      -0.019       0.013\n",
       "('Motor_vehicle_crash_deaths',)                                              -0.0200      0.010     -2.041      0.041      -0.039      -0.001\n",
       "('Insufficient_sleep',)                                                      -0.0205      0.013     -1.547      0.122      -0.046       0.005\n",
       "('Uninsured_adults',)                                                        -1.5051      0.129    -11.666      0.000      -1.758      -1.252\n",
       "('Uninsured_children',)                                                      -0.3321      0.031    -10.580      0.000      -0.394      -0.271\n",
       "('Other_primary_care_providers',)                                             0.0288      0.009      3.305      0.001       0.012       0.046\n",
       "('Median_household_income',)                                                  0.1154      0.015      7.741      0.000       0.086       0.145\n",
       "('Children_eligible_for_free_or_reduced_price_lunch',)                       -0.0065      0.010     -0.621      0.535      -0.027       0.014\n",
       "('Firearm_fatalities',)                                                      -0.0046      0.009     -0.540      0.589      -0.021       0.012\n",
       "('Homeownership',)                                                           -0.0148      0.012     -1.284      0.199      -0.037       0.008\n",
       "('Severe_housing_cost_burden',)                                               0.0449      0.017      2.672      0.008       0.012       0.078\n",
       "('Population',)                                                               0.0073      0.008      0.968      0.333      -0.007       0.022\n",
       "('%_not_proficient_in_English',)                                              0.0578      0.012      4.799      0.000       0.034       0.081\n",
       "('%_Females',)                                                               -0.0050      0.009     -0.580      0.562      -0.022       0.012\n",
       "('%_Rural',)                                                                  0.0147      0.013      1.141      0.254      -0.011       0.040\n",
       "==============================================================================\n",
       "Omnibus:                     1745.444   Durbin-Watson:                   2.011\n",
       "Prob(Omnibus):                  0.000   Jarque-Bera (JB):            56309.120\n",
       "Skew:                           3.143   Prob(JB):                         0.00\n",
       "Kurtosis:                      26.111   Cond. No.                     1.05e+16\n",
       "==============================================================================\n",
       "\n",
       "Warnings:\n",
       "[1] Standard Errors assume that the covariance matrix of the errors is correctly specified.\n",
       "[2] The smallest eigenvalue is 3.75e-28. This might indicate that there are\n",
       "strong multicollinearity problems or that the design matrix is singular.\n",
       "\"\"\""
      ]
     },
     "execution_count": 69,
     "metadata": {},
     "output_type": "execute_result"
    }
   ],
   "source": [
    "baseline_OLS.summary()"
   ]
  },
  {
   "cell_type": "markdown",
   "metadata": {},
   "source": [
    "Now, let's check the R2 of the train and test sets as well as plot the residuals"
   ]
  },
  {
   "cell_type": "code",
   "execution_count": 72,
   "metadata": {},
   "outputs": [
    {
     "ename": "Exception",
     "evalue": "Data must be 1-dimensional",
     "output_type": "error",
     "traceback": [
      "\u001b[0;31m---------------------------------------------------------------------------\u001b[0m",
      "\u001b[0;31mException\u001b[0m                                 Traceback (most recent call last)",
      "\u001b[0;32m<ipython-input-72-40e708991237>\u001b[0m in \u001b[0;36m<module>\u001b[0;34m()\u001b[0m\n\u001b[0;32m----> 1\u001b[0;31m \u001b[0mbaseline_errors\u001b[0m \u001b[0;34m=\u001b[0m \u001b[0my_test\u001b[0m \u001b[0;34m-\u001b[0m \u001b[0mbaseline_predictions\u001b[0m\u001b[0;34m\u001b[0m\u001b[0m\n\u001b[0m\u001b[1;32m      2\u001b[0m \u001b[0;34m\u001b[0m\u001b[0m\n\u001b[1;32m      3\u001b[0m \u001b[0mprint\u001b[0m \u001b[0;34m(\u001b[0m\u001b[0;34m'Baseline Train R-Squared:'\u001b[0m\u001b[0;34m,\u001b[0m \u001b[0mround\u001b[0m\u001b[0;34m(\u001b[0m\u001b[0mbaseline_train_r2\u001b[0m\u001b[0;34m,\u001b[0m \u001b[0;36m2\u001b[0m\u001b[0;34m)\u001b[0m\u001b[0;34m)\u001b[0m\u001b[0;34m\u001b[0m\u001b[0m\n\u001b[1;32m      4\u001b[0m \u001b[0mprint\u001b[0m \u001b[0;34m(\u001b[0m\u001b[0;34m'Baseline Test R-Squared:'\u001b[0m\u001b[0;34m,\u001b[0m \u001b[0mround\u001b[0m\u001b[0;34m(\u001b[0m\u001b[0mbaseline_test_r2\u001b[0m\u001b[0;34m,\u001b[0m \u001b[0;36m2\u001b[0m\u001b[0;34m)\u001b[0m\u001b[0;34m)\u001b[0m\u001b[0;34m\u001b[0m\u001b[0m\n\u001b[1;32m      5\u001b[0m \u001b[0;34m\u001b[0m\u001b[0m\n",
      "\u001b[0;32m~/anaconda3/envs/learn-env/lib/python3.6/site-packages/pandas/core/ops.py\u001b[0m in \u001b[0;36mwrapper\u001b[0;34m(left, right)\u001b[0m\n\u001b[1;32m   1069\u001b[0m         \u001b[0mresult\u001b[0m \u001b[0;34m=\u001b[0m \u001b[0msafe_na_op\u001b[0m\u001b[0;34m(\u001b[0m\u001b[0mlvalues\u001b[0m\u001b[0;34m,\u001b[0m \u001b[0mrvalues\u001b[0m\u001b[0;34m)\u001b[0m\u001b[0;34m\u001b[0m\u001b[0m\n\u001b[1;32m   1070\u001b[0m         return construct_result(left, result,\n\u001b[0;32m-> 1071\u001b[0;31m                                 index=left.index, name=res_name, dtype=None)\n\u001b[0m\u001b[1;32m   1072\u001b[0m \u001b[0;34m\u001b[0m\u001b[0m\n\u001b[1;32m   1073\u001b[0m     \u001b[0;32mreturn\u001b[0m \u001b[0mwrapper\u001b[0m\u001b[0;34m\u001b[0m\u001b[0m\n",
      "\u001b[0;32m~/anaconda3/envs/learn-env/lib/python3.6/site-packages/pandas/core/ops.py\u001b[0m in \u001b[0;36m_construct_result\u001b[0;34m(left, result, index, name, dtype)\u001b[0m\n\u001b[1;32m    978\u001b[0m     \u001b[0;32mnot\u001b[0m \u001b[0mbe\u001b[0m \u001b[0menough\u001b[0m\u001b[0;34m;\u001b[0m \u001b[0mwe\u001b[0m \u001b[0mstill\u001b[0m \u001b[0mneed\u001b[0m \u001b[0mto\u001b[0m \u001b[0moverride\u001b[0m \u001b[0mthe\u001b[0m \u001b[0mname\u001b[0m \u001b[0mattribute\u001b[0m\u001b[0;34m.\u001b[0m\u001b[0;34m\u001b[0m\u001b[0m\n\u001b[1;32m    979\u001b[0m     \"\"\"\n\u001b[0;32m--> 980\u001b[0;31m     \u001b[0mout\u001b[0m \u001b[0;34m=\u001b[0m \u001b[0mleft\u001b[0m\u001b[0;34m.\u001b[0m\u001b[0m_constructor\u001b[0m\u001b[0;34m(\u001b[0m\u001b[0mresult\u001b[0m\u001b[0;34m,\u001b[0m \u001b[0mindex\u001b[0m\u001b[0;34m=\u001b[0m\u001b[0mindex\u001b[0m\u001b[0;34m,\u001b[0m \u001b[0mdtype\u001b[0m\u001b[0;34m=\u001b[0m\u001b[0mdtype\u001b[0m\u001b[0;34m)\u001b[0m\u001b[0;34m\u001b[0m\u001b[0m\n\u001b[0m\u001b[1;32m    981\u001b[0m \u001b[0;34m\u001b[0m\u001b[0m\n\u001b[1;32m    982\u001b[0m     \u001b[0mout\u001b[0m\u001b[0;34m.\u001b[0m\u001b[0mname\u001b[0m \u001b[0;34m=\u001b[0m \u001b[0mname\u001b[0m\u001b[0;34m\u001b[0m\u001b[0m\n",
      "\u001b[0;32m~/anaconda3/envs/learn-env/lib/python3.6/site-packages/pandas/core/series.py\u001b[0m in \u001b[0;36m__init__\u001b[0;34m(self, data, index, dtype, name, copy, fastpath)\u001b[0m\n\u001b[1;32m    273\u001b[0m             \u001b[0;32melse\u001b[0m\u001b[0;34m:\u001b[0m\u001b[0;34m\u001b[0m\u001b[0m\n\u001b[1;32m    274\u001b[0m                 data = _sanitize_array(data, index, dtype, copy,\n\u001b[0;32m--> 275\u001b[0;31m                                        raise_cast_failure=True)\n\u001b[0m\u001b[1;32m    276\u001b[0m \u001b[0;34m\u001b[0m\u001b[0m\n\u001b[1;32m    277\u001b[0m                 \u001b[0mdata\u001b[0m \u001b[0;34m=\u001b[0m \u001b[0mSingleBlockManager\u001b[0m\u001b[0;34m(\u001b[0m\u001b[0mdata\u001b[0m\u001b[0;34m,\u001b[0m \u001b[0mindex\u001b[0m\u001b[0;34m,\u001b[0m \u001b[0mfastpath\u001b[0m\u001b[0;34m=\u001b[0m\u001b[0;32mTrue\u001b[0m\u001b[0;34m)\u001b[0m\u001b[0;34m\u001b[0m\u001b[0m\n",
      "\u001b[0;32m~/anaconda3/envs/learn-env/lib/python3.6/site-packages/pandas/core/series.py\u001b[0m in \u001b[0;36m_sanitize_array\u001b[0;34m(data, index, dtype, copy, raise_cast_failure)\u001b[0m\n\u001b[1;32m   4163\u001b[0m     \u001b[0;32melif\u001b[0m \u001b[0msubarr\u001b[0m\u001b[0;34m.\u001b[0m\u001b[0mndim\u001b[0m \u001b[0;34m>\u001b[0m \u001b[0;36m1\u001b[0m\u001b[0;34m:\u001b[0m\u001b[0;34m\u001b[0m\u001b[0m\n\u001b[1;32m   4164\u001b[0m         \u001b[0;32mif\u001b[0m \u001b[0misinstance\u001b[0m\u001b[0;34m(\u001b[0m\u001b[0mdata\u001b[0m\u001b[0;34m,\u001b[0m \u001b[0mnp\u001b[0m\u001b[0;34m.\u001b[0m\u001b[0mndarray\u001b[0m\u001b[0;34m)\u001b[0m\u001b[0;34m:\u001b[0m\u001b[0;34m\u001b[0m\u001b[0m\n\u001b[0;32m-> 4165\u001b[0;31m             \u001b[0;32mraise\u001b[0m \u001b[0mException\u001b[0m\u001b[0;34m(\u001b[0m\u001b[0;34m'Data must be 1-dimensional'\u001b[0m\u001b[0;34m)\u001b[0m\u001b[0;34m\u001b[0m\u001b[0m\n\u001b[0m\u001b[1;32m   4166\u001b[0m         \u001b[0;32melse\u001b[0m\u001b[0;34m:\u001b[0m\u001b[0;34m\u001b[0m\u001b[0m\n\u001b[1;32m   4167\u001b[0m             \u001b[0msubarr\u001b[0m \u001b[0;34m=\u001b[0m \u001b[0mcom\u001b[0m\u001b[0;34m.\u001b[0m\u001b[0m_asarray_tuplesafe\u001b[0m\u001b[0;34m(\u001b[0m\u001b[0mdata\u001b[0m\u001b[0;34m,\u001b[0m \u001b[0mdtype\u001b[0m\u001b[0;34m=\u001b[0m\u001b[0mdtype\u001b[0m\u001b[0;34m)\u001b[0m\u001b[0;34m\u001b[0m\u001b[0m\n",
      "\u001b[0;31mException\u001b[0m: Data must be 1-dimensional"
     ]
    }
   ],
   "source": [
    "baseline_errors = y_test - baseline_predictions\n",
    "\n",
    "print ('Baseline Train R-Squared:', round(baseline_train_r2, 2))\n",
    "print ('Baseline Test R-Squared:', round(baseline_test_r2, 2))\n",
    "\n",
    "print ('\\n')\n",
    "\n",
    "print ('Check for Homoscedasticity Assumption')\n",
    "plt.figure(figsize = (6,4))\n",
    "plt.scatter(x = y_test, y = baseline_errors)\n",
    "plt.show()\n",
    "\n",
    "print ('Check for Residuals Normality')\n",
    "fig = sm.graphics.qqplot(baseline_OLS.resid, dist=stats.norm, line='45', fit=True)"
   ]
  },
  {
   "cell_type": "markdown",
   "metadata": {},
   "source": [
    "Rule of thumb threshold is VIF at the level of 2.5, meaning if the VIF is above 2.5 you should consider there is effect of multicollinearity on your fitted model"
   ]
  },
  {
   "cell_type": "code",
   "execution_count": 11,
   "metadata": {},
   "outputs": [
    {
     "data": {
      "text/plain": [
       "22"
      ]
     },
     "execution_count": 11,
     "metadata": {},
     "output_type": "execute_result"
    }
   ],
   "source": [
    "X_baseline = X_train\n",
    "X_baseline['Intercept'] = 1\n",
    "\n",
    "Baseline_VIF = pd.DataFrame()\n",
    "Baseline_VIF[\"variables\"] = X_baseline.columns\n",
    "Baseline_VIF[\"VIF\"] = [variance_inflation_factor(X_baseline.values, i) for i in range(X_baseline.shape[1])]\n",
    "\n",
    "baseline_correlated_features = sum(Baseline_VIF['VIF'] > 5)\n",
    "baseline_correlated_features"
   ]
  },
  {
   "cell_type": "code",
   "execution_count": 12,
   "metadata": {},
   "outputs": [],
   "source": [
    "all_model_summary_df.loc[all_model_summary_df.model == 'Baseline', 'n_features'] = len(baseline_OLS.pvalues)\n",
    "all_model_summary_df.loc[all_model_summary_df.model == 'Baseline', 'AIC'] = baseline_OLS.aic\n",
    "all_model_summary_df.loc[all_model_summary_df.model == 'Baseline', 'R2_test'] = baseline_test_r2\n",
    "all_model_summary_df.loc[all_model_summary_df.model == 'Baseline', '>0.05_pvalues'] = sum(baseline_OLS.pvalues > 0.05)"
   ]
  },
  {
   "cell_type": "code",
   "execution_count": 13,
   "metadata": {},
   "outputs": [
    {
     "data": {
      "text/html": [
       "<div>\n",
       "<style scoped>\n",
       "    .dataframe tbody tr th:only-of-type {\n",
       "        vertical-align: middle;\n",
       "    }\n",
       "\n",
       "    .dataframe tbody tr th {\n",
       "        vertical-align: top;\n",
       "    }\n",
       "\n",
       "    .dataframe thead th {\n",
       "        text-align: right;\n",
       "    }\n",
       "</style>\n",
       "<table border=\"1\" class=\"dataframe\">\n",
       "  <thead>\n",
       "    <tr style=\"text-align: right;\">\n",
       "      <th></th>\n",
       "      <th>model</th>\n",
       "      <th>R2_test</th>\n",
       "      <th>AIC</th>\n",
       "      <th>n_features</th>\n",
       "      <th>&gt;0.05_pvalues</th>\n",
       "    </tr>\n",
       "  </thead>\n",
       "  <tbody>\n",
       "    <tr>\n",
       "      <th>0</th>\n",
       "      <td>Baseline</td>\n",
       "      <td>0.839762</td>\n",
       "      <td>6211.72</td>\n",
       "      <td>63</td>\n",
       "      <td>40</td>\n",
       "    </tr>\n",
       "    <tr>\n",
       "      <th>1</th>\n",
       "      <td>Basic - Top Correlation</td>\n",
       "      <td>NaN</td>\n",
       "      <td>NaN</td>\n",
       "      <td>NaN</td>\n",
       "      <td>NaN</td>\n",
       "    </tr>\n",
       "    <tr>\n",
       "      <th>2</th>\n",
       "      <td>Filter</td>\n",
       "      <td>NaN</td>\n",
       "      <td>NaN</td>\n",
       "      <td>NaN</td>\n",
       "      <td>NaN</td>\n",
       "    </tr>\n",
       "    <tr>\n",
       "      <th>3</th>\n",
       "      <td>Wrappper - RFE</td>\n",
       "      <td>NaN</td>\n",
       "      <td>NaN</td>\n",
       "      <td>NaN</td>\n",
       "      <td>NaN</td>\n",
       "    </tr>\n",
       "    <tr>\n",
       "      <th>4</th>\n",
       "      <td>Wrappper - Stepwise</td>\n",
       "      <td>NaN</td>\n",
       "      <td>NaN</td>\n",
       "      <td>NaN</td>\n",
       "      <td>NaN</td>\n",
       "    </tr>\n",
       "    <tr>\n",
       "      <th>5</th>\n",
       "      <td>Embedded - Lasso</td>\n",
       "      <td>NaN</td>\n",
       "      <td>NaN</td>\n",
       "      <td>NaN</td>\n",
       "      <td>NaN</td>\n",
       "    </tr>\n",
       "  </tbody>\n",
       "</table>\n",
       "</div>"
      ],
      "text/plain": [
       "                     model   R2_test      AIC n_features >0.05_pvalues\n",
       "0                 Baseline  0.839762  6211.72         63            40\n",
       "1  Basic - Top Correlation       NaN      NaN        NaN           NaN\n",
       "2                   Filter       NaN      NaN        NaN           NaN\n",
       "3           Wrappper - RFE       NaN      NaN        NaN           NaN\n",
       "4      Wrappper - Stepwise       NaN      NaN        NaN           NaN\n",
       "5         Embedded - Lasso       NaN      NaN        NaN           NaN"
      ]
     },
     "execution_count": 13,
     "metadata": {},
     "output_type": "execute_result"
    }
   ],
   "source": [
    "all_model_summary_df"
   ]
  },
  {
   "cell_type": "markdown",
   "metadata": {},
   "source": [
    "### 2. Basic - Features with Highest Correlation with Target\n",
    "\n",
    "Given we've blindly included all features in the baseline model, let's try and narrow these down to only include features which are highly correlated with 'Life Expectancy'. First, we initiated a correlation matrix and set our target correlation threshold to 0.65."
   ]
  },
  {
   "cell_type": "code",
   "execution_count": 14,
   "metadata": {},
   "outputs": [
    {
     "data": {
      "text/plain": [
       "['Premature_death',\n",
       " 'Poor_physical_health_days',\n",
       " 'Adult_smoking',\n",
       " 'Premature_age-adjusted_mortality',\n",
       " 'Frequent_physical_distress',\n",
       " 'Frequent_mental_distress']"
      ]
     },
     "execution_count": 14,
     "metadata": {},
     "output_type": "execute_result"
    }
   ],
   "source": [
    "initial_matrix = abs(df_clean.corr().Life_expectancy)\n",
    "\n",
    "target_correlation_threshold = 0.65\n",
    "\n",
    "final = list(initial_matrix[(initial_matrix.sort_values(ascending=False) > target_correlation_threshold)].index)\n",
    "final.remove('Life_expectancy')\n",
    "final"
   ]
  },
  {
   "cell_type": "markdown",
   "metadata": {},
   "source": [
    "Using a 0.65 threshold, we've narrowed down our features from 76 to 6 features. Using these 6 features, let's create another OLS model and evaluate its performance."
   ]
  },
  {
   "cell_type": "code",
   "execution_count": 15,
   "metadata": {},
   "outputs": [],
   "source": [
    "basic_correlation_OLS = OLS(y_train, add_constant(X_train[final])).fit()\n",
    "\n",
    "basic_predictions = basic_correlation_OLS.predict(add_constant(X_test[final]))\n",
    "basic_train_r2 = basic_correlation_OLS.rsquared\n",
    "\n",
    "basic_test_r2 = r2_score(y_test, basic_predictions)"
   ]
  },
  {
   "cell_type": "code",
   "execution_count": 16,
   "metadata": {},
   "outputs": [
    {
     "data": {
      "text/html": [
       "<table class=\"simpletable\">\n",
       "<caption>OLS Regression Results</caption>\n",
       "<tr>\n",
       "  <th>Dep. Variable:</th>     <td>Life_expectancy</td> <th>  R-squared:         </th> <td>   0.885</td>\n",
       "</tr>\n",
       "<tr>\n",
       "  <th>Model:</th>                   <td>OLS</td>       <th>  Adj. R-squared:    </th> <td>   0.885</td>\n",
       "</tr>\n",
       "<tr>\n",
       "  <th>Method:</th>             <td>Least Squares</td>  <th>  F-statistic:       </th> <td>   3007.</td>\n",
       "</tr>\n",
       "<tr>\n",
       "  <th>Date:</th>             <td>Mon, 13 Jan 2020</td> <th>  Prob (F-statistic):</th>  <td>  0.00</td> \n",
       "</tr>\n",
       "<tr>\n",
       "  <th>Time:</th>                 <td>10:37:21</td>     <th>  Log-Likelihood:    </th> <td> -3343.8</td>\n",
       "</tr>\n",
       "<tr>\n",
       "  <th>No. Observations:</th>      <td>  2356</td>      <th>  AIC:               </th> <td>   6702.</td>\n",
       "</tr>\n",
       "<tr>\n",
       "  <th>Df Residuals:</th>          <td>  2349</td>      <th>  BIC:               </th> <td>   6742.</td>\n",
       "</tr>\n",
       "<tr>\n",
       "  <th>Df Model:</th>              <td>     6</td>      <th>                     </th>     <td> </td>   \n",
       "</tr>\n",
       "<tr>\n",
       "  <th>Covariance Type:</th>      <td>nonrobust</td>    <th>                     </th>     <td> </td>   \n",
       "</tr>\n",
       "</table>\n",
       "<table class=\"simpletable\">\n",
       "<tr>\n",
       "                  <td></td>                    <th>coef</th>     <th>std err</th>      <th>t</th>      <th>P>|t|</th>  <th>[0.025</th>    <th>0.975]</th>  \n",
       "</tr>\n",
       "<tr>\n",
       "  <th>const</th>                            <td>   88.5765</td> <td>    0.157</td> <td>  565.278</td> <td> 0.000</td> <td>   88.269</td> <td>   88.884</td>\n",
       "</tr>\n",
       "<tr>\n",
       "  <th>Premature_death</th>                  <td> 2.108e-05</td> <td> 2.55e-05</td> <td>    0.826</td> <td> 0.409</td> <td>-2.89e-05</td> <td> 7.11e-05</td>\n",
       "</tr>\n",
       "<tr>\n",
       "  <th>Poor_physical_health_days</th>        <td>   -1.1767</td> <td>    0.163</td> <td>   -7.224</td> <td> 0.000</td> <td>   -1.496</td> <td>   -0.857</td>\n",
       "</tr>\n",
       "<tr>\n",
       "  <th>Adult_smoking</th>                    <td>   -6.4842</td> <td>    1.060</td> <td>   -6.117</td> <td> 0.000</td> <td>   -8.563</td> <td>   -4.405</td>\n",
       "</tr>\n",
       "<tr>\n",
       "  <th>Premature_age-adjusted_mortality</th> <td>   -0.0242</td> <td>    0.001</td> <td>  -37.377</td> <td> 0.000</td> <td>   -0.026</td> <td>   -0.023</td>\n",
       "</tr>\n",
       "<tr>\n",
       "  <th>Frequent_physical_distress</th>       <td>   58.1358</td> <td>    5.056</td> <td>   11.498</td> <td> 0.000</td> <td>   48.221</td> <td>   68.050</td>\n",
       "</tr>\n",
       "<tr>\n",
       "  <th>Frequent_mental_distress</th>         <td>  -21.7542</td> <td>    4.001</td> <td>   -5.438</td> <td> 0.000</td> <td>  -29.599</td> <td>  -13.909</td>\n",
       "</tr>\n",
       "</table>\n",
       "<table class=\"simpletable\">\n",
       "<tr>\n",
       "  <th>Omnibus:</th>       <td>2330.297</td> <th>  Durbin-Watson:     </th>  <td>   2.006</td> \n",
       "</tr>\n",
       "<tr>\n",
       "  <th>Prob(Omnibus):</th>  <td> 0.000</td>  <th>  Jarque-Bera (JB):  </th> <td>171800.511</td>\n",
       "</tr>\n",
       "<tr>\n",
       "  <th>Skew:</th>           <td> 4.630</td>  <th>  Prob(JB):          </th>  <td>    0.00</td> \n",
       "</tr>\n",
       "<tr>\n",
       "  <th>Kurtosis:</th>       <td>43.796</td>  <th>  Cond. No.          </th>  <td>2.27e+06</td> \n",
       "</tr>\n",
       "</table><br/><br/>Warnings:<br/>[1] Standard Errors assume that the covariance matrix of the errors is correctly specified.<br/>[2] The condition number is large, 2.27e+06. This might indicate that there are<br/>strong multicollinearity or other numerical problems."
      ],
      "text/plain": [
       "<class 'statsmodels.iolib.summary.Summary'>\n",
       "\"\"\"\n",
       "                            OLS Regression Results                            \n",
       "==============================================================================\n",
       "Dep. Variable:        Life_expectancy   R-squared:                       0.885\n",
       "Model:                            OLS   Adj. R-squared:                  0.885\n",
       "Method:                 Least Squares   F-statistic:                     3007.\n",
       "Date:                Mon, 13 Jan 2020   Prob (F-statistic):               0.00\n",
       "Time:                        10:37:21   Log-Likelihood:                -3343.8\n",
       "No. Observations:                2356   AIC:                             6702.\n",
       "Df Residuals:                    2349   BIC:                             6742.\n",
       "Df Model:                           6                                         \n",
       "Covariance Type:            nonrobust                                         \n",
       "====================================================================================================\n",
       "                                       coef    std err          t      P>|t|      [0.025      0.975]\n",
       "----------------------------------------------------------------------------------------------------\n",
       "const                               88.5765      0.157    565.278      0.000      88.269      88.884\n",
       "Premature_death                   2.108e-05   2.55e-05      0.826      0.409   -2.89e-05    7.11e-05\n",
       "Poor_physical_health_days           -1.1767      0.163     -7.224      0.000      -1.496      -0.857\n",
       "Adult_smoking                       -6.4842      1.060     -6.117      0.000      -8.563      -4.405\n",
       "Premature_age-adjusted_mortality    -0.0242      0.001    -37.377      0.000      -0.026      -0.023\n",
       "Frequent_physical_distress          58.1358      5.056     11.498      0.000      48.221      68.050\n",
       "Frequent_mental_distress           -21.7542      4.001     -5.438      0.000     -29.599     -13.909\n",
       "==============================================================================\n",
       "Omnibus:                     2330.297   Durbin-Watson:                   2.006\n",
       "Prob(Omnibus):                  0.000   Jarque-Bera (JB):           171800.511\n",
       "Skew:                           4.630   Prob(JB):                         0.00\n",
       "Kurtosis:                      43.796   Cond. No.                     2.27e+06\n",
       "==============================================================================\n",
       "\n",
       "Warnings:\n",
       "[1] Standard Errors assume that the covariance matrix of the errors is correctly specified.\n",
       "[2] The condition number is large, 2.27e+06. This might indicate that there are\n",
       "strong multicollinearity or other numerical problems.\n",
       "\"\"\""
      ]
     },
     "execution_count": 16,
     "metadata": {},
     "output_type": "execute_result"
    }
   ],
   "source": [
    "basic_correlation_OLS.summary()"
   ]
  },
  {
   "cell_type": "markdown",
   "metadata": {},
   "source": [
    "Looks like the 'Premature_death' feature is not significant according its p-value. Let's re-run the model again excluding this feature."
   ]
  },
  {
   "cell_type": "code",
   "execution_count": 17,
   "metadata": {},
   "outputs": [
    {
     "data": {
      "text/plain": [
       "['Poor_physical_health_days',\n",
       " 'Adult_smoking',\n",
       " 'Premature_age-adjusted_mortality',\n",
       " 'Frequent_physical_distress',\n",
       " 'Frequent_mental_distress']"
      ]
     },
     "execution_count": 17,
     "metadata": {},
     "output_type": "execute_result"
    }
   ],
   "source": [
    "final.remove('Premature_death')\n",
    "final"
   ]
  },
  {
   "cell_type": "code",
   "execution_count": 18,
   "metadata": {},
   "outputs": [],
   "source": [
    "basic_correlation_OLS = OLS(y_train, add_constant(X_train[final])).fit()\n",
    "\n",
    "basic_predictions = basic_correlation_OLS.predict(add_constant(X_test[final]))\n",
    "basic_train_r2 = basic_correlation_OLS.rsquared\n",
    "\n",
    "basic_test_r2 = r2_score(y_test, basic_predictions)"
   ]
  },
  {
   "cell_type": "code",
   "execution_count": 19,
   "metadata": {},
   "outputs": [
    {
     "data": {
      "text/html": [
       "<table class=\"simpletable\">\n",
       "<caption>OLS Regression Results</caption>\n",
       "<tr>\n",
       "  <th>Dep. Variable:</th>     <td>Life_expectancy</td> <th>  R-squared:         </th> <td>   0.885</td>\n",
       "</tr>\n",
       "<tr>\n",
       "  <th>Model:</th>                   <td>OLS</td>       <th>  Adj. R-squared:    </th> <td>   0.885</td>\n",
       "</tr>\n",
       "<tr>\n",
       "  <th>Method:</th>             <td>Least Squares</td>  <th>  F-statistic:       </th> <td>   3609.</td>\n",
       "</tr>\n",
       "<tr>\n",
       "  <th>Date:</th>             <td>Mon, 13 Jan 2020</td> <th>  Prob (F-statistic):</th>  <td>  0.00</td> \n",
       "</tr>\n",
       "<tr>\n",
       "  <th>Time:</th>                 <td>10:37:21</td>     <th>  Log-Likelihood:    </th> <td> -3344.2</td>\n",
       "</tr>\n",
       "<tr>\n",
       "  <th>No. Observations:</th>      <td>  2356</td>      <th>  AIC:               </th> <td>   6700.</td>\n",
       "</tr>\n",
       "<tr>\n",
       "  <th>Df Residuals:</th>          <td>  2350</td>      <th>  BIC:               </th> <td>   6735.</td>\n",
       "</tr>\n",
       "<tr>\n",
       "  <th>Df Model:</th>              <td>     5</td>      <th>                     </th>     <td> </td>   \n",
       "</tr>\n",
       "<tr>\n",
       "  <th>Covariance Type:</th>      <td>nonrobust</td>    <th>                     </th>     <td> </td>   \n",
       "</tr>\n",
       "</table>\n",
       "<table class=\"simpletable\">\n",
       "<tr>\n",
       "                  <td></td>                    <th>coef</th>     <th>std err</th>      <th>t</th>      <th>P>|t|</th>  <th>[0.025</th>    <th>0.975]</th>  \n",
       "</tr>\n",
       "<tr>\n",
       "  <th>const</th>                            <td>   88.5568</td> <td>    0.155</td> <td>  571.848</td> <td> 0.000</td> <td>   88.253</td> <td>   88.861</td>\n",
       "</tr>\n",
       "<tr>\n",
       "  <th>Poor_physical_health_days</th>        <td>   -1.1993</td> <td>    0.161</td> <td>   -7.469</td> <td> 0.000</td> <td>   -1.514</td> <td>   -0.884</td>\n",
       "</tr>\n",
       "<tr>\n",
       "  <th>Adult_smoking</th>                    <td>   -6.5190</td> <td>    1.059</td> <td>   -6.155</td> <td> 0.000</td> <td>   -8.596</td> <td>   -4.442</td>\n",
       "</tr>\n",
       "<tr>\n",
       "  <th>Premature_age-adjusted_mortality</th> <td>   -0.0238</td> <td>    0.000</td> <td>  -84.558</td> <td> 0.000</td> <td>   -0.024</td> <td>   -0.023</td>\n",
       "</tr>\n",
       "<tr>\n",
       "  <th>Frequent_physical_distress</th>       <td>   58.4547</td> <td>    5.041</td> <td>   11.596</td> <td> 0.000</td> <td>   48.570</td> <td>   68.340</td>\n",
       "</tr>\n",
       "<tr>\n",
       "  <th>Frequent_mental_distress</th>         <td>  -21.2764</td> <td>    3.958</td> <td>   -5.375</td> <td> 0.000</td> <td>  -29.038</td> <td>  -13.514</td>\n",
       "</tr>\n",
       "</table>\n",
       "<table class=\"simpletable\">\n",
       "<tr>\n",
       "  <th>Omnibus:</th>       <td>2347.908</td> <th>  Durbin-Watson:     </th>  <td>   2.005</td> \n",
       "</tr>\n",
       "<tr>\n",
       "  <th>Prob(Omnibus):</th>  <td> 0.000</td>  <th>  Jarque-Bera (JB):  </th> <td>176856.921</td>\n",
       "</tr>\n",
       "<tr>\n",
       "  <th>Skew:</th>           <td> 4.682</td>  <th>  Prob(JB):          </th>  <td>    0.00</td> \n",
       "</tr>\n",
       "<tr>\n",
       "  <th>Kurtosis:</th>       <td>44.399</td>  <th>  Cond. No.          </th>  <td>1.08e+05</td> \n",
       "</tr>\n",
       "</table><br/><br/>Warnings:<br/>[1] Standard Errors assume that the covariance matrix of the errors is correctly specified.<br/>[2] The condition number is large, 1.08e+05. This might indicate that there are<br/>strong multicollinearity or other numerical problems."
      ],
      "text/plain": [
       "<class 'statsmodels.iolib.summary.Summary'>\n",
       "\"\"\"\n",
       "                            OLS Regression Results                            \n",
       "==============================================================================\n",
       "Dep. Variable:        Life_expectancy   R-squared:                       0.885\n",
       "Model:                            OLS   Adj. R-squared:                  0.885\n",
       "Method:                 Least Squares   F-statistic:                     3609.\n",
       "Date:                Mon, 13 Jan 2020   Prob (F-statistic):               0.00\n",
       "Time:                        10:37:21   Log-Likelihood:                -3344.2\n",
       "No. Observations:                2356   AIC:                             6700.\n",
       "Df Residuals:                    2350   BIC:                             6735.\n",
       "Df Model:                           5                                         \n",
       "Covariance Type:            nonrobust                                         \n",
       "====================================================================================================\n",
       "                                       coef    std err          t      P>|t|      [0.025      0.975]\n",
       "----------------------------------------------------------------------------------------------------\n",
       "const                               88.5568      0.155    571.848      0.000      88.253      88.861\n",
       "Poor_physical_health_days           -1.1993      0.161     -7.469      0.000      -1.514      -0.884\n",
       "Adult_smoking                       -6.5190      1.059     -6.155      0.000      -8.596      -4.442\n",
       "Premature_age-adjusted_mortality    -0.0238      0.000    -84.558      0.000      -0.024      -0.023\n",
       "Frequent_physical_distress          58.4547      5.041     11.596      0.000      48.570      68.340\n",
       "Frequent_mental_distress           -21.2764      3.958     -5.375      0.000     -29.038     -13.514\n",
       "==============================================================================\n",
       "Omnibus:                     2347.908   Durbin-Watson:                   2.005\n",
       "Prob(Omnibus):                  0.000   Jarque-Bera (JB):           176856.921\n",
       "Skew:                           4.682   Prob(JB):                         0.00\n",
       "Kurtosis:                      44.399   Cond. No.                     1.08e+05\n",
       "==============================================================================\n",
       "\n",
       "Warnings:\n",
       "[1] Standard Errors assume that the covariance matrix of the errors is correctly specified.\n",
       "[2] The condition number is large, 1.08e+05. This might indicate that there are\n",
       "strong multicollinearity or other numerical problems.\n",
       "\"\"\""
      ]
     },
     "execution_count": 19,
     "metadata": {},
     "output_type": "execute_result"
    }
   ],
   "source": [
    "basic_correlation_OLS.summary()"
   ]
  },
  {
   "cell_type": "markdown",
   "metadata": {},
   "source": [
    "Good, dropping the feature does not impact our R2. Let's now conduct further analysis on the R-Squares, Residuals' Homoscedasticity and Normality"
   ]
  },
  {
   "cell_type": "code",
   "execution_count": 20,
   "metadata": {},
   "outputs": [
    {
     "name": "stdout",
     "output_type": "stream",
     "text": [
      "Basic Train R-Squared: 0.88\n",
      "Basic Test R-Squared: 0.82\n",
      "\n",
      "\n",
      "Check for Homoscedasticity Assumption\n"
     ]
    },
    {
     "data": {
      "image/png": "[encoded data removed]",
      "text/plain": [
       "<Figure size 432x288 with 1 Axes>"
      ]
     },
     "metadata": {
      "needs_background": "light"
     },
     "output_type": "display_data"
    },
    {
     "name": "stdout",
     "output_type": "stream",
     "text": [
      "Check for Residuals Normality\n"
     ]
    },
    {
     "data": {
      "image/png": "[encoded data removed]",
      "text/plain": [
       "<Figure size 432x288 with 1 Axes>"
      ]
     },
     "metadata": {
      "needs_background": "light"
     },
     "output_type": "display_data"
    }
   ],
   "source": [
    "basic_errors = y_test - basic_predictions\n",
    "\n",
    "print ('Basic Train R-Squared:', round(basic_train_r2, 2))\n",
    "print ('Basic Test R-Squared:', round(basic_test_r2, 2))\n",
    "\n",
    "print ('\\n')\n",
    "\n",
    "print ('Check for Homoscedasticity Assumption')\n",
    "plt.figure(figsize = (6,4))\n",
    "plt.scatter(x = y_test, y = basic_errors)\n",
    "plt.show()\n",
    "\n",
    "print ('Check for Residuals Normality')\n",
    "fig = sm.graphics.qqplot(basic_correlation_OLS.resid, dist=stats.norm, line='45', fit=True)"
   ]
  },
  {
   "cell_type": "code",
   "execution_count": 21,
   "metadata": {},
   "outputs": [
    {
     "data": {
      "image/png": "[encoded data removed]",
      "text/plain": [
       "<Figure size 432x288 with 1 Axes>"
      ]
     },
     "metadata": {
      "needs_background": "light"
     },
     "output_type": "display_data"
    }
   ],
   "source": [
    "coef_basic = basic_correlation_OLS.params.sort_values()\n",
    "coef_basic[:5].plot(kind = 'bar', figsize = (6,4))\n",
    "plt.show()"
   ]
  },
  {
   "cell_type": "code",
   "execution_count": 22,
   "metadata": {},
   "outputs": [],
   "source": [
    "all_model_summary_df.loc[all_model_summary_df.model == 'Basic - Top Correlation', 'n_features'] = len(basic_correlation_OLS.pvalues)\n",
    "all_model_summary_df.loc[all_model_summary_df.model == 'Basic - Top Correlation', 'AIC'] = basic_correlation_OLS.aic\n",
    "all_model_summary_df.loc[all_model_summary_df.model == 'Basic - Top Correlation', 'R2_test'] = basic_test_r2\n",
    "all_model_summary_df.loc[all_model_summary_df.model == 'Basic - Top Correlation', '>0.05_pvalues'] = sum(basic_correlation_OLS.pvalues > 0.05)"
   ]
  },
  {
   "cell_type": "code",
   "execution_count": 23,
   "metadata": {},
   "outputs": [
    {
     "data": {
      "text/html": [
       "<div>\n",
       "<style scoped>\n",
       "    .dataframe tbody tr th:only-of-type {\n",
       "        vertical-align: middle;\n",
       "    }\n",
       "\n",
       "    .dataframe tbody tr th {\n",
       "        vertical-align: top;\n",
       "    }\n",
       "\n",
       "    .dataframe thead th {\n",
       "        text-align: right;\n",
       "    }\n",
       "</style>\n",
       "<table border=\"1\" class=\"dataframe\">\n",
       "  <thead>\n",
       "    <tr style=\"text-align: right;\">\n",
       "      <th></th>\n",
       "      <th>model</th>\n",
       "      <th>R2_test</th>\n",
       "      <th>AIC</th>\n",
       "      <th>n_features</th>\n",
       "      <th>&gt;0.05_pvalues</th>\n",
       "    </tr>\n",
       "  </thead>\n",
       "  <tbody>\n",
       "    <tr>\n",
       "      <th>0</th>\n",
       "      <td>Baseline</td>\n",
       "      <td>0.839762</td>\n",
       "      <td>6211.72</td>\n",
       "      <td>63</td>\n",
       "      <td>40</td>\n",
       "    </tr>\n",
       "    <tr>\n",
       "      <th>1</th>\n",
       "      <td>Basic - Top Correlation</td>\n",
       "      <td>0.817139</td>\n",
       "      <td>6700.37</td>\n",
       "      <td>6</td>\n",
       "      <td>0</td>\n",
       "    </tr>\n",
       "    <tr>\n",
       "      <th>2</th>\n",
       "      <td>Filter</td>\n",
       "      <td>NaN</td>\n",
       "      <td>NaN</td>\n",
       "      <td>NaN</td>\n",
       "      <td>NaN</td>\n",
       "    </tr>\n",
       "    <tr>\n",
       "      <th>3</th>\n",
       "      <td>Wrappper - RFE</td>\n",
       "      <td>NaN</td>\n",
       "      <td>NaN</td>\n",
       "      <td>NaN</td>\n",
       "      <td>NaN</td>\n",
       "    </tr>\n",
       "    <tr>\n",
       "      <th>4</th>\n",
       "      <td>Wrappper - Stepwise</td>\n",
       "      <td>NaN</td>\n",
       "      <td>NaN</td>\n",
       "      <td>NaN</td>\n",
       "      <td>NaN</td>\n",
       "    </tr>\n",
       "    <tr>\n",
       "      <th>5</th>\n",
       "      <td>Embedded - Lasso</td>\n",
       "      <td>NaN</td>\n",
       "      <td>NaN</td>\n",
       "      <td>NaN</td>\n",
       "      <td>NaN</td>\n",
       "    </tr>\n",
       "  </tbody>\n",
       "</table>\n",
       "</div>"
      ],
      "text/plain": [
       "                     model   R2_test      AIC n_features >0.05_pvalues\n",
       "0                 Baseline  0.839762  6211.72         63            40\n",
       "1  Basic - Top Correlation  0.817139  6700.37          6             0\n",
       "2                   Filter       NaN      NaN        NaN           NaN\n",
       "3           Wrappper - RFE       NaN      NaN        NaN           NaN\n",
       "4      Wrappper - Stepwise       NaN      NaN        NaN           NaN\n",
       "5         Embedded - Lasso       NaN      NaN        NaN           NaN"
      ]
     },
     "execution_count": 23,
     "metadata": {},
     "output_type": "execute_result"
    }
   ],
   "source": [
    "all_model_summary_df"
   ]
  },
  {
   "cell_type": "markdown",
   "metadata": {},
   "source": [
    "Just by using the 6 top correlated features, we get almost similar results to our Baseline model and is much more user friendly for our client!"
   ]
  },
  {
   "cell_type": "markdown",
   "metadata": {},
   "source": [
    "### 3. Filter Method - drop features with no or low variance & high correlation with other features\n",
    "\n",
    "One of the pitfalls of the above method is that we might have potentially ignored other useful features that might be of use to our client. Also, the baseline model might include various highly correlated features which violates the assumptions of a regression model. As such, let's try out best to find a middle ground by using the filter methods, first by:\n",
    "\n",
    "- dropping features with no or low variance. These features typically do not add much predictive value\n",
    "- dropping features which are highly correlated\n",
    "\n",
    "Let's start of by dropping features with no or low variance. We can use Sklearn's variance threshold tool to remove features with low threshold (we set it at 0.025)."
   ]
  },
  {
   "cell_type": "code",
   "execution_count": 24,
   "metadata": {},
   "outputs": [
    {
     "data": {
      "text/plain": [
       "VarianceThreshold(threshold=0.0)"
      ]
     },
     "execution_count": 24,
     "metadata": {},
     "output_type": "execute_result"
    }
   ],
   "source": [
    "variance_threshold = 0.00\n",
    "\n",
    "low_var_filter = VarianceThreshold(threshold = variance_threshold)\n",
    "low_var_filter.fit(X_train)"
   ]
  },
  {
   "cell_type": "code",
   "execution_count": 25,
   "metadata": {},
   "outputs": [
    {
     "name": "stdout",
     "output_type": "stream",
     "text": [
      "Number of low variance features: 2\n"
     ]
    }
   ],
   "source": [
    "dropped_cols = X_train.columns[low_var_filter.get_support() == False]\n",
    "print ('Number of low variance features:', len(dropped_cols))"
   ]
  },
  {
   "cell_type": "code",
   "execution_count": 26,
   "metadata": {},
   "outputs": [],
   "source": [
    "High_Var_Features = X_train.drop(dropped_cols, axis = 1)"
   ]
  },
  {
   "cell_type": "markdown",
   "metadata": {},
   "source": [
    "Now we have removed them, let's further narrow down features by excluding highly correlated features. We have defined highly correlated features as those with pearson's r of 0.7 or more"
   ]
  },
  {
   "cell_type": "code",
   "execution_count": 27,
   "metadata": {},
   "outputs": [
    {
     "data": {
      "text/plain": [
       "{'Adult_smoking',\n",
       " 'Children_eligible_for_free_or_reduced_price_lunch',\n",
       " 'Children_in_poverty',\n",
       " 'Diabetes_prevalence',\n",
       " 'Food_insecurity',\n",
       " 'Frequent_mental_distress',\n",
       " 'Frequent_physical_distress',\n",
       " 'Limited_access_to_healthy_foods',\n",
       " 'Median_household_income',\n",
       " 'Percentage_of_households_with_high_housing_costs',\n",
       " 'Poor_mental_health_days',\n",
       " 'Poor_physical_health_days',\n",
       " 'Premature_age-adjusted_mortality',\n",
       " 'Severe_housing_cost_burden',\n",
       " 'Teen_births',\n",
       " 'Uninsured_adults',\n",
       " 'Uninsured_children'}"
      ]
     },
     "execution_count": 27,
     "metadata": {},
     "output_type": "execute_result"
    }
   ],
   "source": [
    "corr_matrix = High_Var_Features.corr()\n",
    "correlated_features = set()\n",
    "\n",
    "corr_threshold = 0.7\n",
    "\n",
    "for i in range(len(corr_matrix.columns)):\n",
    "    for j in range(i):\n",
    "        if abs(corr_matrix.iloc[i, j]) > corr_threshold:\n",
    "            colname = corr_matrix.columns[i]\n",
    "            correlated_features.add(colname)\n",
    "\n",
    "correlated_features"
   ]
  },
  {
   "cell_type": "code",
   "execution_count": 28,
   "metadata": {},
   "outputs": [],
   "source": [
    "High_Var_Features_Low_Corr = High_Var_Features.drop(list(correlated_features), axis = 1)"
   ]
  },
  {
   "cell_type": "code",
   "execution_count": 29,
   "metadata": {},
   "outputs": [],
   "source": [
    "filter_OLS = OLS(y_train, add_constant(X_train[High_Var_Features_Low_Corr.columns])).fit()\n",
    "\n",
    "filter_predictions = filter_OLS.predict(add_constant(X_test[High_Var_Features_Low_Corr.columns]))\n",
    "filter_train_r2 = filter_OLS.rsquared\n",
    "\n",
    "filter_test_r2 = r2_score(y_test, filter_predictions)"
   ]
  },
  {
   "cell_type": "code",
   "execution_count": 30,
   "metadata": {},
   "outputs": [
    {
     "data": {
      "text/html": [
       "<table class=\"simpletable\">\n",
       "<caption>OLS Regression Results</caption>\n",
       "<tr>\n",
       "  <th>Dep. Variable:</th>     <td>Life_expectancy</td> <th>  R-squared:         </th> <td>   0.858</td>\n",
       "</tr>\n",
       "<tr>\n",
       "  <th>Model:</th>                   <td>OLS</td>       <th>  Adj. R-squared:    </th> <td>   0.856</td>\n",
       "</tr>\n",
       "<tr>\n",
       "  <th>Method:</th>             <td>Least Squares</td>  <th>  F-statistic:       </th> <td>   311.4</td>\n",
       "</tr>\n",
       "<tr>\n",
       "  <th>Date:</th>             <td>Mon, 13 Jan 2020</td> <th>  Prob (F-statistic):</th>  <td>  0.00</td> \n",
       "</tr>\n",
       "<tr>\n",
       "  <th>Time:</th>                 <td>10:37:21</td>     <th>  Log-Likelihood:    </th> <td> -3586.3</td>\n",
       "</tr>\n",
       "<tr>\n",
       "  <th>No. Observations:</th>      <td>  2356</td>      <th>  AIC:               </th> <td>   7265.</td>\n",
       "</tr>\n",
       "<tr>\n",
       "  <th>Df Residuals:</th>          <td>  2310</td>      <th>  BIC:               </th> <td>   7530.</td>\n",
       "</tr>\n",
       "<tr>\n",
       "  <th>Df Model:</th>              <td>    45</td>      <th>                     </th>     <td> </td>   \n",
       "</tr>\n",
       "<tr>\n",
       "  <th>Covariance Type:</th>      <td>nonrobust</td>    <th>                     </th>     <td> </td>   \n",
       "</tr>\n",
       "</table>\n",
       "<table class=\"simpletable\">\n",
       "<tr>\n",
       "                                    <td></td>                                      <th>coef</th>     <th>std err</th>      <th>t</th>      <th>P>|t|</th>  <th>[0.025</th>    <th>0.975]</th>  \n",
       "</tr>\n",
       "<tr>\n",
       "  <th>const</th>                                                                <td>   88.1655</td> <td>    0.972</td> <td>   90.696</td> <td> 0.000</td> <td>   86.259</td> <td>   90.072</td>\n",
       "</tr>\n",
       "<tr>\n",
       "  <th>County_Ranked_(Yes=1/No=0)</th>                                           <td>    0.4745</td> <td>    0.201</td> <td>    2.355</td> <td> 0.019</td> <td>    0.079</td> <td>    0.870</td>\n",
       "</tr>\n",
       "<tr>\n",
       "  <th>Premature_death</th>                                                      <td>   -0.0008</td> <td> 1.82e-05</td> <td>  -41.756</td> <td> 0.000</td> <td>   -0.001</td> <td>   -0.001</td>\n",
       "</tr>\n",
       "<tr>\n",
       "  <th>Poor_or_fair_health</th>                                                  <td>   -1.9213</td> <td>    1.299</td> <td>   -1.479</td> <td> 0.139</td> <td>   -4.469</td> <td>    0.626</td>\n",
       "</tr>\n",
       "<tr>\n",
       "  <th>Low_birthweight</th>                                                      <td>   -2.2735</td> <td>    1.492</td> <td>   -1.524</td> <td> 0.128</td> <td>   -5.198</td> <td>    0.651</td>\n",
       "</tr>\n",
       "<tr>\n",
       "  <th>Adult_obesity</th>                                                        <td>   -1.9606</td> <td>    0.809</td> <td>   -2.422</td> <td> 0.015</td> <td>   -3.548</td> <td>   -0.373</td>\n",
       "</tr>\n",
       "<tr>\n",
       "  <th>Food_environment_index</th>                                               <td>   -0.0779</td> <td>    0.032</td> <td>   -2.406</td> <td> 0.016</td> <td>   -0.141</td> <td>   -0.014</td>\n",
       "</tr>\n",
       "<tr>\n",
       "  <th>Physical_inactivity</th>                                                  <td>   -4.5575</td> <td>    0.832</td> <td>   -5.478</td> <td> 0.000</td> <td>   -6.189</td> <td>   -2.926</td>\n",
       "</tr>\n",
       "<tr>\n",
       "  <th>Access_to_exercise_opportunities</th>                                     <td>    0.0500</td> <td>    0.145</td> <td>    0.345</td> <td> 0.730</td> <td>   -0.235</td> <td>    0.335</td>\n",
       "</tr>\n",
       "<tr>\n",
       "  <th>Excessive_drinking</th>                                                   <td>   -1.0516</td> <td>    1.174</td> <td>   -0.896</td> <td> 0.370</td> <td>   -3.354</td> <td>    1.251</td>\n",
       "</tr>\n",
       "<tr>\n",
       "  <th>Alcohol-impaired_driving_deaths</th>                                      <td>    0.1491</td> <td>    0.153</td> <td>    0.977</td> <td> 0.329</td> <td>   -0.150</td> <td>    0.448</td>\n",
       "</tr>\n",
       "<tr>\n",
       "  <th>Sexually_transmitted_infections</th>                                      <td>  4.65e-05</td> <td>    0.000</td> <td>    0.329</td> <td> 0.742</td> <td>   -0.000</td> <td>    0.000</td>\n",
       "</tr>\n",
       "<tr>\n",
       "  <th>Uninsured</th>                                                            <td>    0.6666</td> <td>    0.706</td> <td>    0.945</td> <td> 0.345</td> <td>   -0.717</td> <td>    2.050</td>\n",
       "</tr>\n",
       "<tr>\n",
       "  <th>Primary_care_physicians</th>                                              <td> -151.7479</td> <td>   98.164</td> <td>   -1.546</td> <td> 0.122</td> <td> -344.247</td> <td>   40.752</td>\n",
       "</tr>\n",
       "<tr>\n",
       "  <th>Dentists</th>                                                             <td>    3.7434</td> <td>   95.819</td> <td>    0.039</td> <td> 0.969</td> <td> -184.158</td> <td>  191.645</td>\n",
       "</tr>\n",
       "<tr>\n",
       "  <th>Mental_health_providers</th>                                              <td>  -39.6564</td> <td>   19.272</td> <td>   -2.058</td> <td> 0.040</td> <td>  -77.448</td> <td>   -1.865</td>\n",
       "</tr>\n",
       "<tr>\n",
       "  <th>Preventable_hospital_stays</th>                                           <td>-6.248e-05</td> <td>  1.5e-05</td> <td>   -4.172</td> <td> 0.000</td> <td>-9.19e-05</td> <td>-3.31e-05</td>\n",
       "</tr>\n",
       "<tr>\n",
       "  <th>Mammography_screening</th>                                                <td>    0.4619</td> <td>    0.408</td> <td>    1.133</td> <td> 0.257</td> <td>   -0.338</td> <td>    1.262</td>\n",
       "</tr>\n",
       "<tr>\n",
       "  <th>Flu_vaccinations</th>                                                     <td>   -0.0900</td> <td>    0.318</td> <td>   -0.283</td> <td> 0.777</td> <td>   -0.713</td> <td>    0.533</td>\n",
       "</tr>\n",
       "<tr>\n",
       "  <th>High_school_graduation</th>                                               <td>    0.2559</td> <td>    0.371</td> <td>    0.690</td> <td> 0.490</td> <td>   -0.471</td> <td>    0.983</td>\n",
       "</tr>\n",
       "<tr>\n",
       "  <th>Some_college</th>                                                         <td>    2.2523</td> <td>    0.354</td> <td>    6.370</td> <td> 0.000</td> <td>    1.559</td> <td>    2.946</td>\n",
       "</tr>\n",
       "<tr>\n",
       "  <th>Unemployment</th>                                                         <td>   -0.1524</td> <td>    2.014</td> <td>   -0.076</td> <td> 0.940</td> <td>   -4.102</td> <td>    3.797</td>\n",
       "</tr>\n",
       "<tr>\n",
       "  <th>Income_inequality</th>                                                    <td>    0.1093</td> <td>    0.043</td> <td>    2.527</td> <td> 0.012</td> <td>    0.024</td> <td>    0.194</td>\n",
       "</tr>\n",
       "<tr>\n",
       "  <th>Children_in_single-parent_households</th>                                 <td>    0.9760</td> <td>    0.381</td> <td>    2.563</td> <td> 0.010</td> <td>    0.229</td> <td>    1.723</td>\n",
       "</tr>\n",
       "<tr>\n",
       "  <th>Social_associations</th>                                                  <td>   -0.0088</td> <td>    0.004</td> <td>   -2.046</td> <td> 0.041</td> <td>   -0.017</td> <td>   -0.000</td>\n",
       "</tr>\n",
       "<tr>\n",
       "  <th>Violent_crime</th>                                                        <td>   -0.0004</td> <td>    0.000</td> <td>   -2.456</td> <td> 0.014</td> <td>   -0.001</td> <td>-7.94e-05</td>\n",
       "</tr>\n",
       "<tr>\n",
       "  <th>Injury_deaths</th>                                                        <td>   -0.0035</td> <td>    0.002</td> <td>   -2.042</td> <td> 0.041</td> <td>   -0.007</td> <td>   -0.000</td>\n",
       "</tr>\n",
       "<tr>\n",
       "  <th>Air_pollution_-_particulate_matter</th>                                   <td>   -0.1262</td> <td>    0.017</td> <td>   -7.300</td> <td> 0.000</td> <td>   -0.160</td> <td>   -0.092</td>\n",
       "</tr>\n",
       "<tr>\n",
       "  <th>Drinking_water_violations</th>                                            <td>   -0.0537</td> <td>    0.050</td> <td>   -1.070</td> <td> 0.285</td> <td>   -0.152</td> <td>    0.045</td>\n",
       "</tr>\n",
       "<tr>\n",
       "  <th>Severe_housing_problems</th>                                              <td>   -1.0872</td> <td>    0.997</td> <td>   -1.090</td> <td> 0.276</td> <td>   -3.042</td> <td>    0.868</td>\n",
       "</tr>\n",
       "<tr>\n",
       "  <th>Percentage_of_households_with_overcrowding</th>                           <td>   -5.1438</td> <td>    1.815</td> <td>   -2.834</td> <td> 0.005</td> <td>   -8.704</td> <td>   -1.584</td>\n",
       "</tr>\n",
       "<tr>\n",
       "  <th>Percentage_of_households_with_lack_of_kitchen_or_plumbing_facilities</th> <td>    2.4622</td> <td>    2.006</td> <td>    1.228</td> <td> 0.220</td> <td>   -1.471</td> <td>    6.395</td>\n",
       "</tr>\n",
       "<tr>\n",
       "  <th>Driving_alone_to_work</th>                                                <td>   -4.1883</td> <td>    0.475</td> <td>   -8.818</td> <td> 0.000</td> <td>   -5.120</td> <td>   -3.257</td>\n",
       "</tr>\n",
       "<tr>\n",
       "  <th>Long_commute_-_driving_alone</th>                                         <td>    0.1930</td> <td>    0.278</td> <td>    0.693</td> <td> 0.488</td> <td>   -0.353</td> <td>    0.739</td>\n",
       "</tr>\n",
       "<tr>\n",
       "  <th>Child_mortality</th>                                                      <td>    0.0004</td> <td>    0.002</td> <td>    0.264</td> <td> 0.792</td> <td>   -0.003</td> <td>    0.003</td>\n",
       "</tr>\n",
       "<tr>\n",
       "  <th>HIV_prevalence</th>                                                       <td> 4.845e-05</td> <td>    0.000</td> <td>    0.254</td> <td> 0.799</td> <td>   -0.000</td> <td>    0.000</td>\n",
       "</tr>\n",
       "<tr>\n",
       "  <th>Drug_overdose_deaths</th>                                                 <td>   -0.0005</td> <td>    0.003</td> <td>   -0.159</td> <td> 0.873</td> <td>   -0.007</td> <td>    0.006</td>\n",
       "</tr>\n",
       "<tr>\n",
       "  <th>Motor_vehicle_crash_deaths</th>                                           <td>   -0.0123</td> <td>    0.004</td> <td>   -3.044</td> <td> 0.002</td> <td>   -0.020</td> <td>   -0.004</td>\n",
       "</tr>\n",
       "<tr>\n",
       "  <th>Insufficient_sleep</th>                                                   <td>   -0.8719</td> <td>    1.077</td> <td>   -0.810</td> <td> 0.418</td> <td>   -2.984</td> <td>    1.240</td>\n",
       "</tr>\n",
       "<tr>\n",
       "  <th>Other_primary_care_providers</th>                                         <td>   30.9996</td> <td>   55.641</td> <td>    0.557</td> <td> 0.577</td> <td>  -78.111</td> <td>  140.110</td>\n",
       "</tr>\n",
       "<tr>\n",
       "  <th>Firearm_fatalities</th>                                                   <td>   -0.0079</td> <td>    0.005</td> <td>   -1.464</td> <td> 0.143</td> <td>   -0.018</td> <td>    0.003</td>\n",
       "</tr>\n",
       "<tr>\n",
       "  <th>Homeownership</th>                                                        <td>    1.6668</td> <td>    0.485</td> <td>    3.438</td> <td> 0.001</td> <td>    0.716</td> <td>    2.617</td>\n",
       "</tr>\n",
       "<tr>\n",
       "  <th>Population</th>                                                           <td> 2.169e-07</td> <td> 8.29e-08</td> <td>    2.616</td> <td> 0.009</td> <td> 5.43e-08</td> <td> 3.79e-07</td>\n",
       "</tr>\n",
       "<tr>\n",
       "  <th>%_not_proficient_in_English</th>                                          <td>   11.4431</td> <td>    1.300</td> <td>    8.804</td> <td> 0.000</td> <td>    8.894</td> <td>   13.992</td>\n",
       "</tr>\n",
       "<tr>\n",
       "  <th>%_Females</th>                                                            <td>    0.4154</td> <td>    1.306</td> <td>    0.318</td> <td> 0.750</td> <td>   -2.146</td> <td>    2.977</td>\n",
       "</tr>\n",
       "<tr>\n",
       "  <th>%_Rural</th>                                                              <td>    0.5046</td> <td>    0.137</td> <td>    3.673</td> <td> 0.000</td> <td>    0.235</td> <td>    0.774</td>\n",
       "</tr>\n",
       "</table>\n",
       "<table class=\"simpletable\">\n",
       "<tr>\n",
       "  <th>Omnibus:</th>       <td>1925.148</td> <th>  Durbin-Watson:     </th>  <td>   1.991</td> \n",
       "</tr>\n",
       "<tr>\n",
       "  <th>Prob(Omnibus):</th>  <td> 0.000</td>  <th>  Jarque-Bera (JB):  </th> <td>107583.617</td>\n",
       "</tr>\n",
       "<tr>\n",
       "  <th>Skew:</th>           <td> 3.445</td>  <th>  Prob(JB):          </th>  <td>    0.00</td> \n",
       "</tr>\n",
       "<tr>\n",
       "  <th>Kurtosis:</th>       <td>35.380</td>  <th>  Cond. No.          </th>  <td>1.65e+09</td> \n",
       "</tr>\n",
       "</table><br/><br/>Warnings:<br/>[1] Standard Errors assume that the covariance matrix of the errors is correctly specified.<br/>[2] The condition number is large, 1.65e+09. This might indicate that there are<br/>strong multicollinearity or other numerical problems."
      ],
      "text/plain": [
       "<class 'statsmodels.iolib.summary.Summary'>\n",
       "\"\"\"\n",
       "                            OLS Regression Results                            \n",
       "==============================================================================\n",
       "Dep. Variable:        Life_expectancy   R-squared:                       0.858\n",
       "Model:                            OLS   Adj. R-squared:                  0.856\n",
       "Method:                 Least Squares   F-statistic:                     311.4\n",
       "Date:                Mon, 13 Jan 2020   Prob (F-statistic):               0.00\n",
       "Time:                        10:37:21   Log-Likelihood:                -3586.3\n",
       "No. Observations:                2356   AIC:                             7265.\n",
       "Df Residuals:                    2310   BIC:                             7530.\n",
       "Df Model:                          45                                         \n",
       "Covariance Type:            nonrobust                                         \n",
       "========================================================================================================================================\n",
       "                                                                           coef    std err          t      P>|t|      [0.025      0.975]\n",
       "----------------------------------------------------------------------------------------------------------------------------------------\n",
       "const                                                                   88.1655      0.972     90.696      0.000      86.259      90.072\n",
       "County_Ranked_(Yes=1/No=0)                                               0.4745      0.201      2.355      0.019       0.079       0.870\n",
       "Premature_death                                                         -0.0008   1.82e-05    -41.756      0.000      -0.001      -0.001\n",
       "Poor_or_fair_health                                                     -1.9213      1.299     -1.479      0.139      -4.469       0.626\n",
       "Low_birthweight                                                         -2.2735      1.492     -1.524      0.128      -5.198       0.651\n",
       "Adult_obesity                                                           -1.9606      0.809     -2.422      0.015      -3.548      -0.373\n",
       "Food_environment_index                                                  -0.0779      0.032     -2.406      0.016      -0.141      -0.014\n",
       "Physical_inactivity                                                     -4.5575      0.832     -5.478      0.000      -6.189      -2.926\n",
       "Access_to_exercise_opportunities                                         0.0500      0.145      0.345      0.730      -0.235       0.335\n",
       "Excessive_drinking                                                      -1.0516      1.174     -0.896      0.370      -3.354       1.251\n",
       "Alcohol-impaired_driving_deaths                                          0.1491      0.153      0.977      0.329      -0.150       0.448\n",
       "Sexually_transmitted_infections                                        4.65e-05      0.000      0.329      0.742      -0.000       0.000\n",
       "Uninsured                                                                0.6666      0.706      0.945      0.345      -0.717       2.050\n",
       "Primary_care_physicians                                               -151.7479     98.164     -1.546      0.122    -344.247      40.752\n",
       "Dentists                                                                 3.7434     95.819      0.039      0.969    -184.158     191.645\n",
       "Mental_health_providers                                                -39.6564     19.272     -2.058      0.040     -77.448      -1.865\n",
       "Preventable_hospital_stays                                           -6.248e-05    1.5e-05     -4.172      0.000   -9.19e-05   -3.31e-05\n",
       "Mammography_screening                                                    0.4619      0.408      1.133      0.257      -0.338       1.262\n",
       "Flu_vaccinations                                                        -0.0900      0.318     -0.283      0.777      -0.713       0.533\n",
       "High_school_graduation                                                   0.2559      0.371      0.690      0.490      -0.471       0.983\n",
       "Some_college                                                             2.2523      0.354      6.370      0.000       1.559       2.946\n",
       "Unemployment                                                            -0.1524      2.014     -0.076      0.940      -4.102       3.797\n",
       "Income_inequality                                                        0.1093      0.043      2.527      0.012       0.024       0.194\n",
       "Children_in_single-parent_households                                     0.9760      0.381      2.563      0.010       0.229       1.723\n",
       "Social_associations                                                     -0.0088      0.004     -2.046      0.041      -0.017      -0.000\n",
       "Violent_crime                                                           -0.0004      0.000     -2.456      0.014      -0.001   -7.94e-05\n",
       "Injury_deaths                                                           -0.0035      0.002     -2.042      0.041      -0.007      -0.000\n",
       "Air_pollution_-_particulate_matter                                      -0.1262      0.017     -7.300      0.000      -0.160      -0.092\n",
       "Drinking_water_violations                                               -0.0537      0.050     -1.070      0.285      -0.152       0.045\n",
       "Severe_housing_problems                                                 -1.0872      0.997     -1.090      0.276      -3.042       0.868\n",
       "Percentage_of_households_with_overcrowding                              -5.1438      1.815     -2.834      0.005      -8.704      -1.584\n",
       "Percentage_of_households_with_lack_of_kitchen_or_plumbing_facilities     2.4622      2.006      1.228      0.220      -1.471       6.395\n",
       "Driving_alone_to_work                                                   -4.1883      0.475     -8.818      0.000      -5.120      -3.257\n",
       "Long_commute_-_driving_alone                                             0.1930      0.278      0.693      0.488      -0.353       0.739\n",
       "Child_mortality                                                          0.0004      0.002      0.264      0.792      -0.003       0.003\n",
       "HIV_prevalence                                                        4.845e-05      0.000      0.254      0.799      -0.000       0.000\n",
       "Drug_overdose_deaths                                                    -0.0005      0.003     -0.159      0.873      -0.007       0.006\n",
       "Motor_vehicle_crash_deaths                                              -0.0123      0.004     -3.044      0.002      -0.020      -0.004\n",
       "Insufficient_sleep                                                      -0.8719      1.077     -0.810      0.418      -2.984       1.240\n",
       "Other_primary_care_providers                                            30.9996     55.641      0.557      0.577     -78.111     140.110\n",
       "Firearm_fatalities                                                      -0.0079      0.005     -1.464      0.143      -0.018       0.003\n",
       "Homeownership                                                            1.6668      0.485      3.438      0.001       0.716       2.617\n",
       "Population                                                            2.169e-07   8.29e-08      2.616      0.009    5.43e-08    3.79e-07\n",
       "%_not_proficient_in_English                                             11.4431      1.300      8.804      0.000       8.894      13.992\n",
       "%_Females                                                                0.4154      1.306      0.318      0.750      -2.146       2.977\n",
       "%_Rural                                                                  0.5046      0.137      3.673      0.000       0.235       0.774\n",
       "==============================================================================\n",
       "Omnibus:                     1925.148   Durbin-Watson:                   1.991\n",
       "Prob(Omnibus):                  0.000   Jarque-Bera (JB):           107583.617\n",
       "Skew:                           3.445   Prob(JB):                         0.00\n",
       "Kurtosis:                      35.380   Cond. No.                     1.65e+09\n",
       "==============================================================================\n",
       "\n",
       "Warnings:\n",
       "[1] Standard Errors assume that the covariance matrix of the errors is correctly specified.\n",
       "[2] The condition number is large, 1.65e+09. This might indicate that there are\n",
       "strong multicollinearity or other numerical problems.\n",
       "\"\"\""
      ]
     },
     "execution_count": 30,
     "metadata": {},
     "output_type": "execute_result"
    }
   ],
   "source": [
    "filter_OLS.summary()"
   ]
  },
  {
   "cell_type": "markdown",
   "metadata": {},
   "source": [
    "Looks like there are more features with high p-values. Once again, let's remove them and refit the model"
   ]
  },
  {
   "cell_type": "code",
   "execution_count": 31,
   "metadata": {},
   "outputs": [
    {
     "data": {
      "text/plain": [
       "Index(['County_Ranked_(Yes=1/No=0)', 'Premature_death', 'Adult_obesity',\n",
       "       'Food_environment_index', 'Physical_inactivity',\n",
       "       'Mental_health_providers', 'Preventable_hospital_stays', 'Some_college',\n",
       "       'Income_inequality', 'Children_in_single-parent_households',\n",
       "       'Social_associations', 'Violent_crime', 'Injury_deaths',\n",
       "       'Air_pollution_-_particulate_matter',\n",
       "       'Percentage_of_households_with_overcrowding', 'Driving_alone_to_work',\n",
       "       'Motor_vehicle_crash_deaths', 'Homeownership', 'Population',\n",
       "       '%_not_proficient_in_English', '%_Rural'],\n",
       "      dtype='object')"
      ]
     },
     "execution_count": 31,
     "metadata": {},
     "output_type": "execute_result"
    }
   ],
   "source": [
    "updated_filter_features = filter_OLS.pvalues\n",
    "updated_filter_features = updated_filter_features[updated_filter_features < 0.05]\n",
    "updated_filter_features.drop('const', axis = 0, inplace = True)\n",
    "updated_filter_features.index"
   ]
  },
  {
   "cell_type": "code",
   "execution_count": 32,
   "metadata": {},
   "outputs": [],
   "source": [
    "filter_OLS = OLS(y_train, add_constant(X_train[updated_filter_features.index])).fit()\n",
    "\n",
    "filter_predictions = filter_OLS.predict(add_constant(X_test[updated_filter_features.index]))\n",
    "filter_train_r2 = filter_OLS.rsquared\n",
    "\n",
    "filter_test_r2 = r2_score(y_test, filter_predictions)"
   ]
  },
  {
   "cell_type": "code",
   "execution_count": 33,
   "metadata": {},
   "outputs": [
    {
     "data": {
      "text/html": [
       "<table class=\"simpletable\">\n",
       "<caption>OLS Regression Results</caption>\n",
       "<tr>\n",
       "  <th>Dep. Variable:</th>     <td>Life_expectancy</td> <th>  R-squared:         </th> <td>   0.857</td>\n",
       "</tr>\n",
       "<tr>\n",
       "  <th>Model:</th>                   <td>OLS</td>       <th>  Adj. R-squared:    </th> <td>   0.856</td>\n",
       "</tr>\n",
       "<tr>\n",
       "  <th>Method:</th>             <td>Least Squares</td>  <th>  F-statistic:       </th> <td>   666.6</td>\n",
       "</tr>\n",
       "<tr>\n",
       "  <th>Date:</th>             <td>Mon, 13 Jan 2020</td> <th>  Prob (F-statistic):</th>  <td>  0.00</td> \n",
       "</tr>\n",
       "<tr>\n",
       "  <th>Time:</th>                 <td>10:37:22</td>     <th>  Log-Likelihood:    </th> <td> -3597.8</td>\n",
       "</tr>\n",
       "<tr>\n",
       "  <th>No. Observations:</th>      <td>  2356</td>      <th>  AIC:               </th> <td>   7240.</td>\n",
       "</tr>\n",
       "<tr>\n",
       "  <th>Df Residuals:</th>          <td>  2334</td>      <th>  BIC:               </th> <td>   7366.</td>\n",
       "</tr>\n",
       "<tr>\n",
       "  <th>Df Model:</th>              <td>    21</td>      <th>                     </th>     <td> </td>   \n",
       "</tr>\n",
       "<tr>\n",
       "  <th>Covariance Type:</th>      <td>nonrobust</td>    <th>                     </th>     <td> </td>   \n",
       "</tr>\n",
       "</table>\n",
       "<table class=\"simpletable\">\n",
       "<tr>\n",
       "                       <td></td>                         <th>coef</th>     <th>std err</th>      <th>t</th>      <th>P>|t|</th>  <th>[0.025</th>    <th>0.975]</th>  \n",
       "</tr>\n",
       "<tr>\n",
       "  <th>const</th>                                      <td>   87.9726</td> <td>    0.589</td> <td>  149.302</td> <td> 0.000</td> <td>   86.817</td> <td>   89.128</td>\n",
       "</tr>\n",
       "<tr>\n",
       "  <th>County_Ranked_(Yes=1/No=0)</th>                 <td>    0.3163</td> <td>    0.185</td> <td>    1.709</td> <td> 0.088</td> <td>   -0.047</td> <td>    0.679</td>\n",
       "</tr>\n",
       "<tr>\n",
       "  <th>Premature_death</th>                            <td>   -0.0008</td> <td> 1.69e-05</td> <td>  -45.229</td> <td> 0.000</td> <td>   -0.001</td> <td>   -0.001</td>\n",
       "</tr>\n",
       "<tr>\n",
       "  <th>Adult_obesity</th>                              <td>   -1.8573</td> <td>    0.754</td> <td>   -2.464</td> <td> 0.014</td> <td>   -3.336</td> <td>   -0.379</td>\n",
       "</tr>\n",
       "<tr>\n",
       "  <th>Food_environment_index</th>                     <td>   -0.0745</td> <td>    0.028</td> <td>   -2.623</td> <td> 0.009</td> <td>   -0.130</td> <td>   -0.019</td>\n",
       "</tr>\n",
       "<tr>\n",
       "  <th>Physical_inactivity</th>                        <td>   -4.8783</td> <td>    0.758</td> <td>   -6.436</td> <td> 0.000</td> <td>   -6.365</td> <td>   -3.392</td>\n",
       "</tr>\n",
       "<tr>\n",
       "  <th>Mental_health_providers</th>                    <td>  -52.2558</td> <td>   17.570</td> <td>   -2.974</td> <td> 0.003</td> <td>  -86.709</td> <td>  -17.802</td>\n",
       "</tr>\n",
       "<tr>\n",
       "  <th>Preventable_hospital_stays</th>                 <td>-6.878e-05</td> <td> 1.44e-05</td> <td>   -4.768</td> <td> 0.000</td> <td>-9.71e-05</td> <td>-4.05e-05</td>\n",
       "</tr>\n",
       "<tr>\n",
       "  <th>Some_college</th>                               <td>    2.5480</td> <td>    0.300</td> <td>    8.497</td> <td> 0.000</td> <td>    1.960</td> <td>    3.136</td>\n",
       "</tr>\n",
       "<tr>\n",
       "  <th>Income_inequality</th>                          <td>    0.0647</td> <td>    0.040</td> <td>    1.636</td> <td> 0.102</td> <td>   -0.013</td> <td>    0.142</td>\n",
       "</tr>\n",
       "<tr>\n",
       "  <th>Children_in_single-parent_households</th>       <td>    0.6258</td> <td>    0.326</td> <td>    1.917</td> <td> 0.055</td> <td>   -0.014</td> <td>    1.266</td>\n",
       "</tr>\n",
       "<tr>\n",
       "  <th>Social_associations</th>                        <td>   -0.0045</td> <td>    0.004</td> <td>   -1.216</td> <td> 0.224</td> <td>   -0.012</td> <td>    0.003</td>\n",
       "</tr>\n",
       "<tr>\n",
       "  <th>Violent_crime</th>                              <td>   -0.0005</td> <td>    0.000</td> <td>   -3.055</td> <td> 0.002</td> <td>   -0.001</td> <td>   -0.000</td>\n",
       "</tr>\n",
       "<tr>\n",
       "  <th>Injury_deaths</th>                              <td>   -0.0040</td> <td>    0.001</td> <td>   -2.743</td> <td> 0.006</td> <td>   -0.007</td> <td>   -0.001</td>\n",
       "</tr>\n",
       "<tr>\n",
       "  <th>Air_pollution_-_particulate_matter</th>         <td>   -0.1316</td> <td>    0.016</td> <td>   -8.407</td> <td> 0.000</td> <td>   -0.162</td> <td>   -0.101</td>\n",
       "</tr>\n",
       "<tr>\n",
       "  <th>Percentage_of_households_with_overcrowding</th> <td>   -5.2203</td> <td>    1.354</td> <td>   -3.855</td> <td> 0.000</td> <td>   -7.876</td> <td>   -2.565</td>\n",
       "</tr>\n",
       "<tr>\n",
       "  <th>Driving_alone_to_work</th>                      <td>   -4.3104</td> <td>    0.434</td> <td>   -9.935</td> <td> 0.000</td> <td>   -5.161</td> <td>   -3.460</td>\n",
       "</tr>\n",
       "<tr>\n",
       "  <th>Motor_vehicle_crash_deaths</th>                 <td>   -0.0128</td> <td>    0.004</td> <td>   -3.406</td> <td> 0.001</td> <td>   -0.020</td> <td>   -0.005</td>\n",
       "</tr>\n",
       "<tr>\n",
       "  <th>Homeownership</th>                              <td>    1.9589</td> <td>    0.414</td> <td>    4.730</td> <td> 0.000</td> <td>    1.147</td> <td>    2.771</td>\n",
       "</tr>\n",
       "<tr>\n",
       "  <th>Population</th>                                 <td> 2.348e-07</td> <td> 7.89e-08</td> <td>    2.974</td> <td> 0.003</td> <td>    8e-08</td> <td>  3.9e-07</td>\n",
       "</tr>\n",
       "<tr>\n",
       "  <th>%_not_proficient_in_English</th>                <td>   11.1640</td> <td>    1.095</td> <td>   10.195</td> <td> 0.000</td> <td>    9.017</td> <td>   13.311</td>\n",
       "</tr>\n",
       "<tr>\n",
       "  <th>%_Rural</th>                                    <td>    0.5823</td> <td>    0.122</td> <td>    4.783</td> <td> 0.000</td> <td>    0.344</td> <td>    0.821</td>\n",
       "</tr>\n",
       "</table>\n",
       "<table class=\"simpletable\">\n",
       "<tr>\n",
       "  <th>Omnibus:</th>       <td>1960.406</td> <th>  Durbin-Watson:     </th>  <td>   1.987</td> \n",
       "</tr>\n",
       "<tr>\n",
       "  <th>Prob(Omnibus):</th>  <td> 0.000</td>  <th>  Jarque-Bera (JB):  </th> <td>117230.230</td>\n",
       "</tr>\n",
       "<tr>\n",
       "  <th>Skew:</th>           <td> 3.524</td>  <th>  Prob(JB):          </th>  <td>    0.00</td> \n",
       "</tr>\n",
       "<tr>\n",
       "  <th>Kurtosis:</th>       <td>36.831</td>  <th>  Cond. No.          </th>  <td>2.70e+08</td> \n",
       "</tr>\n",
       "</table><br/><br/>Warnings:<br/>[1] Standard Errors assume that the covariance matrix of the errors is correctly specified.<br/>[2] The condition number is large, 2.7e+08. This might indicate that there are<br/>strong multicollinearity or other numerical problems."
      ],
      "text/plain": [
       "<class 'statsmodels.iolib.summary.Summary'>\n",
       "\"\"\"\n",
       "                            OLS Regression Results                            \n",
       "==============================================================================\n",
       "Dep. Variable:        Life_expectancy   R-squared:                       0.857\n",
       "Model:                            OLS   Adj. R-squared:                  0.856\n",
       "Method:                 Least Squares   F-statistic:                     666.6\n",
       "Date:                Mon, 13 Jan 2020   Prob (F-statistic):               0.00\n",
       "Time:                        10:37:22   Log-Likelihood:                -3597.8\n",
       "No. Observations:                2356   AIC:                             7240.\n",
       "Df Residuals:                    2334   BIC:                             7366.\n",
       "Df Model:                          21                                         \n",
       "Covariance Type:            nonrobust                                         \n",
       "==============================================================================================================\n",
       "                                                 coef    std err          t      P>|t|      [0.025      0.975]\n",
       "--------------------------------------------------------------------------------------------------------------\n",
       "const                                         87.9726      0.589    149.302      0.000      86.817      89.128\n",
       "County_Ranked_(Yes=1/No=0)                     0.3163      0.185      1.709      0.088      -0.047       0.679\n",
       "Premature_death                               -0.0008   1.69e-05    -45.229      0.000      -0.001      -0.001\n",
       "Adult_obesity                                 -1.8573      0.754     -2.464      0.014      -3.336      -0.379\n",
       "Food_environment_index                        -0.0745      0.028     -2.623      0.009      -0.130      -0.019\n",
       "Physical_inactivity                           -4.8783      0.758     -6.436      0.000      -6.365      -3.392\n",
       "Mental_health_providers                      -52.2558     17.570     -2.974      0.003     -86.709     -17.802\n",
       "Preventable_hospital_stays                 -6.878e-05   1.44e-05     -4.768      0.000   -9.71e-05   -4.05e-05\n",
       "Some_college                                   2.5480      0.300      8.497      0.000       1.960       3.136\n",
       "Income_inequality                              0.0647      0.040      1.636      0.102      -0.013       0.142\n",
       "Children_in_single-parent_households           0.6258      0.326      1.917      0.055      -0.014       1.266\n",
       "Social_associations                           -0.0045      0.004     -1.216      0.224      -0.012       0.003\n",
       "Violent_crime                                 -0.0005      0.000     -3.055      0.002      -0.001      -0.000\n",
       "Injury_deaths                                 -0.0040      0.001     -2.743      0.006      -0.007      -0.001\n",
       "Air_pollution_-_particulate_matter            -0.1316      0.016     -8.407      0.000      -0.162      -0.101\n",
       "Percentage_of_households_with_overcrowding    -5.2203      1.354     -3.855      0.000      -7.876      -2.565\n",
       "Driving_alone_to_work                         -4.3104      0.434     -9.935      0.000      -5.161      -3.460\n",
       "Motor_vehicle_crash_deaths                    -0.0128      0.004     -3.406      0.001      -0.020      -0.005\n",
       "Homeownership                                  1.9589      0.414      4.730      0.000       1.147       2.771\n",
       "Population                                  2.348e-07   7.89e-08      2.974      0.003       8e-08     3.9e-07\n",
       "%_not_proficient_in_English                   11.1640      1.095     10.195      0.000       9.017      13.311\n",
       "%_Rural                                        0.5823      0.122      4.783      0.000       0.344       0.821\n",
       "==============================================================================\n",
       "Omnibus:                     1960.406   Durbin-Watson:                   1.987\n",
       "Prob(Omnibus):                  0.000   Jarque-Bera (JB):           117230.230\n",
       "Skew:                           3.524   Prob(JB):                         0.00\n",
       "Kurtosis:                      36.831   Cond. No.                     2.70e+08\n",
       "==============================================================================\n",
       "\n",
       "Warnings:\n",
       "[1] Standard Errors assume that the covariance matrix of the errors is correctly specified.\n",
       "[2] The condition number is large, 2.7e+08. This might indicate that there are\n",
       "strong multicollinearity or other numerical problems.\n",
       "\"\"\""
      ]
     },
     "execution_count": 33,
     "metadata": {},
     "output_type": "execute_result"
    }
   ],
   "source": [
    "filter_OLS.summary()"
   ]
  },
  {
   "cell_type": "code",
   "execution_count": 34,
   "metadata": {},
   "outputs": [
    {
     "name": "stdout",
     "output_type": "stream",
     "text": [
      "Filter Train R-Squared: 0.86\n",
      "Filter Test R-Squared: 0.78\n",
      "\n",
      "\n",
      "Check for Homoscedasticity Assumption\n"
     ]
    },
    {
     "data": {
      "image/png": "[encoded data removed]",
      "text/plain": [
       "<Figure size 432x288 with 1 Axes>"
      ]
     },
     "metadata": {
      "needs_background": "light"
     },
     "output_type": "display_data"
    },
    {
     "name": "stdout",
     "output_type": "stream",
     "text": [
      "Check for Residuals Normality\n"
     ]
    },
    {
     "data": {
      "image/png": "[encoded data removed]",
      "text/plain": [
       "<Figure size 432x288 with 1 Axes>"
      ]
     },
     "metadata": {
      "needs_background": "light"
     },
     "output_type": "display_data"
    }
   ],
   "source": [
    "filter_errors = y_test - filter_predictions\n",
    "\n",
    "print ('Filter Train R-Squared:', round(filter_train_r2, 2))\n",
    "print ('Filter Test R-Squared:', round(filter_test_r2, 2))\n",
    "\n",
    "print ('\\n')\n",
    "\n",
    "print ('Check for Homoscedasticity Assumption')\n",
    "plt.figure(figsize = (6,4))\n",
    "plt.scatter(x = y_test, y = filter_errors)\n",
    "plt.show()\n",
    "\n",
    "print ('Check for Residuals Normality')\n",
    "fig = sm.graphics.qqplot(filter_OLS.resid, dist=stats.norm, line='45', fit=True)"
   ]
  },
  {
   "cell_type": "code",
   "execution_count": 35,
   "metadata": {},
   "outputs": [
    {
     "data": {
      "image/png": "[encoded data removed]",
      "text/plain": [
       "<Figure size 1080x720 with 1 Axes>"
      ]
     },
     "metadata": {
      "needs_background": "light"
     },
     "output_type": "display_data"
    }
   ],
   "source": [
    "coef_filter = filter_OLS.params.sort_values()\n",
    "coef_filter[:-1].plot(kind = 'bar', figsize = (15,10))\n",
    "plt.show()"
   ]
  },
  {
   "cell_type": "code",
   "execution_count": 36,
   "metadata": {},
   "outputs": [],
   "source": [
    "all_model_summary_df.loc[all_model_summary_df.model == 'Filter', 'n_features'] = len(filter_OLS.pvalues)\n",
    "all_model_summary_df.loc[all_model_summary_df.model == 'Filter', 'AIC'] = filter_OLS.aic\n",
    "all_model_summary_df.loc[all_model_summary_df.model == 'Filter', 'R2_test'] = filter_test_r2\n",
    "all_model_summary_df.loc[all_model_summary_df.model == 'Filter', '>0.05_pvalues'] = sum(filter_OLS.pvalues > 0.05)"
   ]
  },
  {
   "cell_type": "code",
   "execution_count": 37,
   "metadata": {},
   "outputs": [
    {
     "data": {
      "text/html": [
       "<div>\n",
       "<style scoped>\n",
       "    .dataframe tbody tr th:only-of-type {\n",
       "        vertical-align: middle;\n",
       "    }\n",
       "\n",
       "    .dataframe tbody tr th {\n",
       "        vertical-align: top;\n",
       "    }\n",
       "\n",
       "    .dataframe thead th {\n",
       "        text-align: right;\n",
       "    }\n",
       "</style>\n",
       "<table border=\"1\" class=\"dataframe\">\n",
       "  <thead>\n",
       "    <tr style=\"text-align: right;\">\n",
       "      <th></th>\n",
       "      <th>model</th>\n",
       "      <th>R2_test</th>\n",
       "      <th>AIC</th>\n",
       "      <th>n_features</th>\n",
       "      <th>&gt;0.05_pvalues</th>\n",
       "    </tr>\n",
       "  </thead>\n",
       "  <tbody>\n",
       "    <tr>\n",
       "      <th>0</th>\n",
       "      <td>Baseline</td>\n",
       "      <td>0.839762</td>\n",
       "      <td>6211.72</td>\n",
       "      <td>63</td>\n",
       "      <td>40</td>\n",
       "    </tr>\n",
       "    <tr>\n",
       "      <th>1</th>\n",
       "      <td>Basic - Top Correlation</td>\n",
       "      <td>0.817139</td>\n",
       "      <td>6700.37</td>\n",
       "      <td>6</td>\n",
       "      <td>0</td>\n",
       "    </tr>\n",
       "    <tr>\n",
       "      <th>2</th>\n",
       "      <td>Filter</td>\n",
       "      <td>0.782496</td>\n",
       "      <td>7239.67</td>\n",
       "      <td>22</td>\n",
       "      <td>4</td>\n",
       "    </tr>\n",
       "    <tr>\n",
       "      <th>3</th>\n",
       "      <td>Wrappper - RFE</td>\n",
       "      <td>NaN</td>\n",
       "      <td>NaN</td>\n",
       "      <td>NaN</td>\n",
       "      <td>NaN</td>\n",
       "    </tr>\n",
       "    <tr>\n",
       "      <th>4</th>\n",
       "      <td>Wrappper - Stepwise</td>\n",
       "      <td>NaN</td>\n",
       "      <td>NaN</td>\n",
       "      <td>NaN</td>\n",
       "      <td>NaN</td>\n",
       "    </tr>\n",
       "    <tr>\n",
       "      <th>5</th>\n",
       "      <td>Embedded - Lasso</td>\n",
       "      <td>NaN</td>\n",
       "      <td>NaN</td>\n",
       "      <td>NaN</td>\n",
       "      <td>NaN</td>\n",
       "    </tr>\n",
       "  </tbody>\n",
       "</table>\n",
       "</div>"
      ],
      "text/plain": [
       "                     model   R2_test      AIC n_features >0.05_pvalues\n",
       "0                 Baseline  0.839762  6211.72         63            40\n",
       "1  Basic - Top Correlation  0.817139  6700.37          6             0\n",
       "2                   Filter  0.782496  7239.67         22             4\n",
       "3           Wrappper - RFE       NaN      NaN        NaN           NaN\n",
       "4      Wrappper - Stepwise       NaN      NaN        NaN           NaN\n",
       "5         Embedded - Lasso       NaN      NaN        NaN           NaN"
      ]
     },
     "execution_count": 37,
     "metadata": {},
     "output_type": "execute_result"
    }
   ],
   "source": [
    "all_model_summary_df"
   ]
  },
  {
   "cell_type": "markdown",
   "metadata": {},
   "source": [
    "### 4. Wrapper - Recursive Feature Elimination"
   ]
  },
  {
   "cell_type": "code",
   "execution_count": 38,
   "metadata": {},
   "outputs": [
    {
     "data": {
      "text/plain": [
       "RFECV(cv=10,\n",
       "      estimator=LinearRegression(copy_X=True, fit_intercept=True, n_jobs=None,\n",
       "                                 normalize=False),\n",
       "      min_features_to_select=1, n_jobs=None, scoring='r2', step=1, verbose=0)"
      ]
     },
     "execution_count": 38,
     "metadata": {},
     "output_type": "execute_result"
    }
   ],
   "source": [
    "linreg = LinearRegression()\n",
    "rfecv = RFECV(linreg, step = 1, scoring='r2', cv=10)\n",
    "rfecv.fit(X_train, y_train)"
   ]
  },
  {
   "cell_type": "code",
   "execution_count": 39,
   "metadata": {},
   "outputs": [
    {
     "data": {
      "image/png": "[encoded data removed]",
      "text/plain": [
       "<Figure size 432x288 with 1 Axes>"
      ]
     },
     "metadata": {
      "needs_background": "light"
     },
     "output_type": "display_data"
    }
   ],
   "source": [
    "plt.plot(range(1, len(rfecv.grid_scores_) + 1), rfecv.grid_scores_)\n",
    "plt.xlabel('Number of Features')\n",
    "plt.ylabel('R2 CV score')\n",
    "plt.show()"
   ]
  },
  {
   "cell_type": "code",
   "execution_count": 40,
   "metadata": {},
   "outputs": [],
   "source": [
    "to_include = X_train.columns[rfecv.get_support()]"
   ]
  },
  {
   "cell_type": "code",
   "execution_count": 41,
   "metadata": {},
   "outputs": [],
   "source": [
    "RFE_test_r2 = statsmodel_regression(X_train[to_include], add_constant(X_test[to_include]), y_train, y_test)[0]\n",
    "RFE_estimator = statsmodel_regression(X_train[to_include], add_constant(X_test[to_include]), y_train, y_test)[1]"
   ]
  },
  {
   "cell_type": "code",
   "execution_count": 42,
   "metadata": {},
   "outputs": [],
   "source": [
    "all_model_summary_df.loc[all_model_summary_df.model == 'Wrappper - RFE', 'n_features'] = len(RFE_estimator.pvalues)\n",
    "all_model_summary_df.loc[all_model_summary_df.model == 'Wrappper - RFE', 'AIC'] = RFE_estimator.aic\n",
    "all_model_summary_df.loc[all_model_summary_df.model == 'Wrappper - RFE', 'R2_test'] = RFE_test_r2\n",
    "all_model_summary_df.loc[all_model_summary_df.model == 'Wrappper - RFE', '>0.05_pvalues'] = sum(RFE_estimator.pvalues > 0.05)"
   ]
  },
  {
   "cell_type": "code",
   "execution_count": 43,
   "metadata": {},
   "outputs": [
    {
     "data": {
      "text/html": [
       "<div>\n",
       "<style scoped>\n",
       "    .dataframe tbody tr th:only-of-type {\n",
       "        vertical-align: middle;\n",
       "    }\n",
       "\n",
       "    .dataframe tbody tr th {\n",
       "        vertical-align: top;\n",
       "    }\n",
       "\n",
       "    .dataframe thead th {\n",
       "        text-align: right;\n",
       "    }\n",
       "</style>\n",
       "<table border=\"1\" class=\"dataframe\">\n",
       "  <thead>\n",
       "    <tr style=\"text-align: right;\">\n",
       "      <th></th>\n",
       "      <th>model</th>\n",
       "      <th>R2_test</th>\n",
       "      <th>AIC</th>\n",
       "      <th>n_features</th>\n",
       "      <th>&gt;0.05_pvalues</th>\n",
       "    </tr>\n",
       "  </thead>\n",
       "  <tbody>\n",
       "    <tr>\n",
       "      <th>0</th>\n",
       "      <td>Baseline</td>\n",
       "      <td>0.839762</td>\n",
       "      <td>6211.72</td>\n",
       "      <td>63</td>\n",
       "      <td>40</td>\n",
       "    </tr>\n",
       "    <tr>\n",
       "      <th>1</th>\n",
       "      <td>Basic - Top Correlation</td>\n",
       "      <td>0.817139</td>\n",
       "      <td>6700.37</td>\n",
       "      <td>6</td>\n",
       "      <td>0</td>\n",
       "    </tr>\n",
       "    <tr>\n",
       "      <th>2</th>\n",
       "      <td>Filter</td>\n",
       "      <td>0.782496</td>\n",
       "      <td>7239.67</td>\n",
       "      <td>22</td>\n",
       "      <td>4</td>\n",
       "    </tr>\n",
       "    <tr>\n",
       "      <th>3</th>\n",
       "      <td>Wrappper - RFE</td>\n",
       "      <td>0.84</td>\n",
       "      <td>6210.68</td>\n",
       "      <td>62</td>\n",
       "      <td>39</td>\n",
       "    </tr>\n",
       "    <tr>\n",
       "      <th>4</th>\n",
       "      <td>Wrappper - Stepwise</td>\n",
       "      <td>NaN</td>\n",
       "      <td>NaN</td>\n",
       "      <td>NaN</td>\n",
       "      <td>NaN</td>\n",
       "    </tr>\n",
       "    <tr>\n",
       "      <th>5</th>\n",
       "      <td>Embedded - Lasso</td>\n",
       "      <td>NaN</td>\n",
       "      <td>NaN</td>\n",
       "      <td>NaN</td>\n",
       "      <td>NaN</td>\n",
       "    </tr>\n",
       "  </tbody>\n",
       "</table>\n",
       "</div>"
      ],
      "text/plain": [
       "                     model   R2_test      AIC n_features >0.05_pvalues\n",
       "0                 Baseline  0.839762  6211.72         63            40\n",
       "1  Basic - Top Correlation  0.817139  6700.37          6             0\n",
       "2                   Filter  0.782496  7239.67         22             4\n",
       "3           Wrappper - RFE      0.84  6210.68         62            39\n",
       "4      Wrappper - Stepwise       NaN      NaN        NaN           NaN\n",
       "5         Embedded - Lasso       NaN      NaN        NaN           NaN"
      ]
     },
     "execution_count": 43,
     "metadata": {},
     "output_type": "execute_result"
    }
   ],
   "source": [
    "all_model_summary_df"
   ]
  },
  {
   "cell_type": "markdown",
   "metadata": {},
   "source": [
    "### 5. Stepwise Selection - Combination of Forward and Backward feature selection"
   ]
  },
  {
   "cell_type": "code",
   "execution_count": 44,
   "metadata": {},
   "outputs": [
    {
     "name": "stdout",
     "output_type": "stream",
     "text": [
      "Add  Release_Year                   with p-value 0.0\n",
      "Add  Adult_smoking                  with p-value 0.0\n",
      "Add  Premature_age-adjusted_mortality with p-value 0.0\n",
      "Add  Intercept                      with p-value 0.0\n",
      "Add  Driving_alone_to_work          with p-value 1.29505e-41\n",
      "Add  Poor_or_fair_health            with p-value 1.36605e-14\n",
      "Add  Air_pollution_-_particulate_matter with p-value 1.1696e-11\n",
      "Add  Child_mortality                with p-value 3.03405e-11\n",
      "Add  Poor_mental_health_days        with p-value 1.82889e-07\n",
      "Add  Percentage_of_households_with_overcrowding with p-value 3.85548e-07\n",
      "Add  Median_household_income        with p-value 2.48332e-06\n",
      "Add  Limited_access_to_healthy_foods with p-value 2.21094e-06\n",
      "Add  Income_inequality              with p-value 8.33865e-05\n",
      "Add  %_not_proficient_in_English    with p-value 3.60029e-05\n",
      "Add  %_Rural                        with p-value 2.69338e-05\n",
      "Add  Motor_vehicle_crash_deaths     with p-value 0.00115029\n"
     ]
    }
   ],
   "source": [
    "stepwise_columns = stepwise_selection(X_train, y_train, threshold_in = 0.01, verbose=True)"
   ]
  },
  {
   "cell_type": "code",
   "execution_count": 45,
   "metadata": {},
   "outputs": [],
   "source": [
    "stepwise_columns.remove('Intercept')"
   ]
  },
  {
   "cell_type": "code",
   "execution_count": 46,
   "metadata": {},
   "outputs": [],
   "source": [
    "stepwise_OLS = OLS(y_train, add_constant(X_train[stepwise_columns])).fit()\n",
    "\n",
    "stepwise_predictions = stepwise_OLS.predict(add_constant(X_test[stepwise_columns]))\n",
    "stepwise_train_r2 = stepwise_OLS.rsquared\n",
    "\n",
    "stepwise_test_r2 = r2_score(y_test, stepwise_predictions)"
   ]
  },
  {
   "cell_type": "code",
   "execution_count": 47,
   "metadata": {},
   "outputs": [
    {
     "data": {
      "text/html": [
       "<table class=\"simpletable\">\n",
       "<caption>OLS Regression Results</caption>\n",
       "<tr>\n",
       "  <th>Dep. Variable:</th>     <td>Life_expectancy</td> <th>  R-squared:         </th> <td>   0.901</td>\n",
       "</tr>\n",
       "<tr>\n",
       "  <th>Model:</th>                   <td>OLS</td>       <th>  Adj. R-squared:    </th> <td>   0.900</td>\n",
       "</tr>\n",
       "<tr>\n",
       "  <th>Method:</th>             <td>Least Squares</td>  <th>  F-statistic:       </th> <td>   1518.</td>\n",
       "</tr>\n",
       "<tr>\n",
       "  <th>Date:</th>             <td>Mon, 13 Jan 2020</td> <th>  Prob (F-statistic):</th>  <td>  0.00</td> \n",
       "</tr>\n",
       "<tr>\n",
       "  <th>Time:</th>                 <td>10:37:28</td>     <th>  Log-Likelihood:    </th> <td> -3168.0</td>\n",
       "</tr>\n",
       "<tr>\n",
       "  <th>No. Observations:</th>      <td>  2356</td>      <th>  AIC:               </th> <td>   6366.</td>\n",
       "</tr>\n",
       "<tr>\n",
       "  <th>Df Residuals:</th>          <td>  2341</td>      <th>  BIC:               </th> <td>   6453.</td>\n",
       "</tr>\n",
       "<tr>\n",
       "  <th>Df Model:</th>              <td>    14</td>      <th>                     </th>     <td> </td>   \n",
       "</tr>\n",
       "<tr>\n",
       "  <th>Covariance Type:</th>      <td>nonrobust</td>    <th>                     </th>     <td> </td>   \n",
       "</tr>\n",
       "</table>\n",
       "<table class=\"simpletable\">\n",
       "<tr>\n",
       "                       <td></td>                         <th>coef</th>     <th>std err</th>      <th>t</th>      <th>P>|t|</th>  <th>[0.025</th>    <th>0.975]</th>  \n",
       "</tr>\n",
       "<tr>\n",
       "  <th>Release_Year</th>                               <td>    0.0440</td> <td>    0.000</td> <td>  223.274</td> <td> 0.000</td> <td>    0.044</td> <td>    0.044</td>\n",
       "</tr>\n",
       "<tr>\n",
       "  <th>Adult_smoking</th>                              <td>   -2.5498</td> <td>    1.030</td> <td>   -2.475</td> <td> 0.013</td> <td>   -4.570</td> <td>   -0.530</td>\n",
       "</tr>\n",
       "<tr>\n",
       "  <th>Premature_age-adjusted_mortality</th>           <td>   -0.0224</td> <td>    0.000</td> <td>  -71.297</td> <td> 0.000</td> <td>   -0.023</td> <td>   -0.022</td>\n",
       "</tr>\n",
       "<tr>\n",
       "  <th>Driving_alone_to_work</th>                      <td>   -3.0549</td> <td>    0.330</td> <td>   -9.266</td> <td> 0.000</td> <td>   -3.701</td> <td>   -2.408</td>\n",
       "</tr>\n",
       "<tr>\n",
       "  <th>Poor_or_fair_health</th>                        <td>    6.2914</td> <td>    1.046</td> <td>    6.015</td> <td> 0.000</td> <td>    4.240</td> <td>    8.342</td>\n",
       "</tr>\n",
       "<tr>\n",
       "  <th>Air_pollution_-_particulate_matter</th>         <td>   -0.0754</td> <td>    0.013</td> <td>   -5.937</td> <td> 0.000</td> <td>   -0.100</td> <td>   -0.050</td>\n",
       "</tr>\n",
       "<tr>\n",
       "  <th>Child_mortality</th>                            <td>   -0.0057</td> <td>    0.001</td> <td>   -4.825</td> <td> 0.000</td> <td>   -0.008</td> <td>   -0.003</td>\n",
       "</tr>\n",
       "<tr>\n",
       "  <th>Poor_mental_health_days</th>                    <td>   -0.2400</td> <td>    0.056</td> <td>   -4.290</td> <td> 0.000</td> <td>   -0.350</td> <td>   -0.130</td>\n",
       "</tr>\n",
       "<tr>\n",
       "  <th>Percentage_of_households_with_overcrowding</th> <td>   -8.0438</td> <td>    1.124</td> <td>   -7.158</td> <td> 0.000</td> <td>  -10.248</td> <td>   -5.840</td>\n",
       "</tr>\n",
       "<tr>\n",
       "  <th>Median_household_income</th>                    <td> 1.462e-05</td> <td> 2.45e-06</td> <td>    5.963</td> <td> 0.000</td> <td> 9.81e-06</td> <td> 1.94e-05</td>\n",
       "</tr>\n",
       "<tr>\n",
       "  <th>Limited_access_to_healthy_foods</th>            <td>    1.3084</td> <td>    0.260</td> <td>    5.037</td> <td> 0.000</td> <td>    0.799</td> <td>    1.818</td>\n",
       "</tr>\n",
       "<tr>\n",
       "  <th>Income_inequality</th>                          <td>    0.1591</td> <td>    0.032</td> <td>    4.919</td> <td> 0.000</td> <td>    0.096</td> <td>    0.222</td>\n",
       "</tr>\n",
       "<tr>\n",
       "  <th>%_not_proficient_in_English</th>                <td>    4.9832</td> <td>    1.016</td> <td>    4.905</td> <td> 0.000</td> <td>    2.991</td> <td>    6.975</td>\n",
       "</tr>\n",
       "<tr>\n",
       "  <th>%_Rural</th>                                    <td>    0.4232</td> <td>    0.082</td> <td>    5.176</td> <td> 0.000</td> <td>    0.263</td> <td>    0.584</td>\n",
       "</tr>\n",
       "<tr>\n",
       "  <th>Motor_vehicle_crash_deaths</th>                 <td>   -0.0099</td> <td>    0.003</td> <td>   -3.255</td> <td> 0.001</td> <td>   -0.016</td> <td>   -0.004</td>\n",
       "</tr>\n",
       "</table>\n",
       "<table class=\"simpletable\">\n",
       "<tr>\n",
       "  <th>Omnibus:</th>       <td>1965.282</td> <th>  Durbin-Watson:     </th> <td>   2.012</td> \n",
       "</tr>\n",
       "<tr>\n",
       "  <th>Prob(Omnibus):</th>  <td> 0.000</td>  <th>  Jarque-Bera (JB):  </th> <td>90522.473</td>\n",
       "</tr>\n",
       "<tr>\n",
       "  <th>Skew:</th>           <td> 3.641</td>  <th>  Prob(JB):          </th> <td>    0.00</td> \n",
       "</tr>\n",
       "<tr>\n",
       "  <th>Kurtosis:</th>       <td>32.480</td>  <th>  Cond. No.          </th> <td>3.97e+06</td> \n",
       "</tr>\n",
       "</table><br/><br/>Warnings:<br/>[1] Standard Errors assume that the covariance matrix of the errors is correctly specified.<br/>[2] The condition number is large, 3.97e+06. This might indicate that there are<br/>strong multicollinearity or other numerical problems."
      ],
      "text/plain": [
       "<class 'statsmodels.iolib.summary.Summary'>\n",
       "\"\"\"\n",
       "                            OLS Regression Results                            \n",
       "==============================================================================\n",
       "Dep. Variable:        Life_expectancy   R-squared:                       0.901\n",
       "Model:                            OLS   Adj. R-squared:                  0.900\n",
       "Method:                 Least Squares   F-statistic:                     1518.\n",
       "Date:                Mon, 13 Jan 2020   Prob (F-statistic):               0.00\n",
       "Time:                        10:37:28   Log-Likelihood:                -3168.0\n",
       "No. Observations:                2356   AIC:                             6366.\n",
       "Df Residuals:                    2341   BIC:                             6453.\n",
       "Df Model:                          14                                         \n",
       "Covariance Type:            nonrobust                                         \n",
       "==============================================================================================================\n",
       "                                                 coef    std err          t      P>|t|      [0.025      0.975]\n",
       "--------------------------------------------------------------------------------------------------------------\n",
       "Release_Year                                   0.0440      0.000    223.274      0.000       0.044       0.044\n",
       "Adult_smoking                                 -2.5498      1.030     -2.475      0.013      -4.570      -0.530\n",
       "Premature_age-adjusted_mortality              -0.0224      0.000    -71.297      0.000      -0.023      -0.022\n",
       "Driving_alone_to_work                         -3.0549      0.330     -9.266      0.000      -3.701      -2.408\n",
       "Poor_or_fair_health                            6.2914      1.046      6.015      0.000       4.240       8.342\n",
       "Air_pollution_-_particulate_matter            -0.0754      0.013     -5.937      0.000      -0.100      -0.050\n",
       "Child_mortality                               -0.0057      0.001     -4.825      0.000      -0.008      -0.003\n",
       "Poor_mental_health_days                       -0.2400      0.056     -4.290      0.000      -0.350      -0.130\n",
       "Percentage_of_households_with_overcrowding    -8.0438      1.124     -7.158      0.000     -10.248      -5.840\n",
       "Median_household_income                     1.462e-05   2.45e-06      5.963      0.000    9.81e-06    1.94e-05\n",
       "Limited_access_to_healthy_foods                1.3084      0.260      5.037      0.000       0.799       1.818\n",
       "Income_inequality                              0.1591      0.032      4.919      0.000       0.096       0.222\n",
       "%_not_proficient_in_English                    4.9832      1.016      4.905      0.000       2.991       6.975\n",
       "%_Rural                                        0.4232      0.082      5.176      0.000       0.263       0.584\n",
       "Motor_vehicle_crash_deaths                    -0.0099      0.003     -3.255      0.001      -0.016      -0.004\n",
       "==============================================================================\n",
       "Omnibus:                     1965.282   Durbin-Watson:                   2.012\n",
       "Prob(Omnibus):                  0.000   Jarque-Bera (JB):            90522.473\n",
       "Skew:                           3.641   Prob(JB):                         0.00\n",
       "Kurtosis:                      32.480   Cond. No.                     3.97e+06\n",
       "==============================================================================\n",
       "\n",
       "Warnings:\n",
       "[1] Standard Errors assume that the covariance matrix of the errors is correctly specified.\n",
       "[2] The condition number is large, 3.97e+06. This might indicate that there are\n",
       "strong multicollinearity or other numerical problems.\n",
       "\"\"\""
      ]
     },
     "execution_count": 47,
     "metadata": {},
     "output_type": "execute_result"
    }
   ],
   "source": [
    "stepwise_OLS.summary()"
   ]
  },
  {
   "cell_type": "code",
   "execution_count": 48,
   "metadata": {},
   "outputs": [
    {
     "name": "stdout",
     "output_type": "stream",
     "text": [
      "Basic Train R-Squared: 0.9\n",
      "Basic Test R-Squared: 0.84\n",
      "\n",
      "\n",
      "Check for Homoscedasticity Assumption\n"
     ]
    },
    {
     "data": {
      "image/png": "[encoded data removed]",
      "text/plain": [
       "<Figure size 432x288 with 1 Axes>"
      ]
     },
     "metadata": {
      "needs_background": "light"
     },
     "output_type": "display_data"
    },
    {
     "name": "stdout",
     "output_type": "stream",
     "text": [
      "Check for Residuals Normality\n"
     ]
    },
    {
     "data": {
      "image/png": "[encoded data removed]",
      "text/plain": [
       "<Figure size 432x288 with 1 Axes>"
      ]
     },
     "metadata": {
      "needs_background": "light"
     },
     "output_type": "display_data"
    }
   ],
   "source": [
    "stepwise_errors = y_test - stepwise_predictions\n",
    "\n",
    "print ('Basic Train R-Squared:', round(stepwise_train_r2, 2))\n",
    "print ('Basic Test R-Squared:', round(stepwise_test_r2, 2))\n",
    "\n",
    "print ('\\n')\n",
    "\n",
    "print ('Check for Homoscedasticity Assumption')\n",
    "plt.figure(figsize = (6,4))\n",
    "plt.scatter(x = y_test, y = stepwise_errors)\n",
    "plt.show()\n",
    "\n",
    "print ('Check for Residuals Normality')\n",
    "fig = sm.graphics.qqplot(stepwise_OLS.resid, dist=stats.norm, line='45', fit=True)"
   ]
  },
  {
   "cell_type": "code",
   "execution_count": 49,
   "metadata": {},
   "outputs": [
    {
     "data": {
      "image/png": "[encoded data removed]",
      "text/plain": [
       "<Figure size 1296x720 with 1 Axes>"
      ]
     },
     "metadata": {
      "needs_background": "light"
     },
     "output_type": "display_data"
    }
   ],
   "source": [
    "stepwise_OLS.params.sort_values().plot(kind = 'bar', figsize = (18,10))\n",
    "plt.show()"
   ]
  },
  {
   "cell_type": "code",
   "execution_count": 50,
   "metadata": {},
   "outputs": [],
   "source": [
    "all_model_summary_df.loc[all_model_summary_df.model == 'Wrappper - Stepwise', 'n_features'] = len(stepwise_OLS.pvalues)\n",
    "all_model_summary_df.loc[all_model_summary_df.model == 'Wrappper - Stepwise', 'AIC'] = stepwise_OLS.aic\n",
    "all_model_summary_df.loc[all_model_summary_df.model == 'Wrappper - Stepwise', 'R2_test'] = stepwise_test_r2\n",
    "all_model_summary_df.loc[all_model_summary_df.model == 'Wrappper - Stepwise', '>0.05_pvalues'] = sum(stepwise_OLS.pvalues > 0.05)"
   ]
  },
  {
   "cell_type": "code",
   "execution_count": 51,
   "metadata": {},
   "outputs": [
    {
     "data": {
      "text/html": [
       "<div>\n",
       "<style scoped>\n",
       "    .dataframe tbody tr th:only-of-type {\n",
       "        vertical-align: middle;\n",
       "    }\n",
       "\n",
       "    .dataframe tbody tr th {\n",
       "        vertical-align: top;\n",
       "    }\n",
       "\n",
       "    .dataframe thead th {\n",
       "        text-align: right;\n",
       "    }\n",
       "</style>\n",
       "<table border=\"1\" class=\"dataframe\">\n",
       "  <thead>\n",
       "    <tr style=\"text-align: right;\">\n",
       "      <th></th>\n",
       "      <th>model</th>\n",
       "      <th>R2_test</th>\n",
       "      <th>AIC</th>\n",
       "      <th>n_features</th>\n",
       "      <th>&gt;0.05_pvalues</th>\n",
       "    </tr>\n",
       "  </thead>\n",
       "  <tbody>\n",
       "    <tr>\n",
       "      <th>0</th>\n",
       "      <td>Baseline</td>\n",
       "      <td>0.839762</td>\n",
       "      <td>6211.72</td>\n",
       "      <td>63</td>\n",
       "      <td>40</td>\n",
       "    </tr>\n",
       "    <tr>\n",
       "      <th>1</th>\n",
       "      <td>Basic - Top Correlation</td>\n",
       "      <td>0.817139</td>\n",
       "      <td>6700.37</td>\n",
       "      <td>6</td>\n",
       "      <td>0</td>\n",
       "    </tr>\n",
       "    <tr>\n",
       "      <th>2</th>\n",
       "      <td>Filter</td>\n",
       "      <td>0.782496</td>\n",
       "      <td>7239.67</td>\n",
       "      <td>22</td>\n",
       "      <td>4</td>\n",
       "    </tr>\n",
       "    <tr>\n",
       "      <th>3</th>\n",
       "      <td>Wrappper - RFE</td>\n",
       "      <td>0.84</td>\n",
       "      <td>6210.68</td>\n",
       "      <td>62</td>\n",
       "      <td>39</td>\n",
       "    </tr>\n",
       "    <tr>\n",
       "      <th>4</th>\n",
       "      <td>Wrappper - Stepwise</td>\n",
       "      <td>0.838352</td>\n",
       "      <td>6366.06</td>\n",
       "      <td>15</td>\n",
       "      <td>0</td>\n",
       "    </tr>\n",
       "    <tr>\n",
       "      <th>5</th>\n",
       "      <td>Embedded - Lasso</td>\n",
       "      <td>NaN</td>\n",
       "      <td>NaN</td>\n",
       "      <td>NaN</td>\n",
       "      <td>NaN</td>\n",
       "    </tr>\n",
       "  </tbody>\n",
       "</table>\n",
       "</div>"
      ],
      "text/plain": [
       "                     model   R2_test      AIC n_features >0.05_pvalues\n",
       "0                 Baseline  0.839762  6211.72         63            40\n",
       "1  Basic - Top Correlation  0.817139  6700.37          6             0\n",
       "2                   Filter  0.782496  7239.67         22             4\n",
       "3           Wrappper - RFE      0.84  6210.68         62            39\n",
       "4      Wrappper - Stepwise  0.838352  6366.06         15             0\n",
       "5         Embedded - Lasso       NaN      NaN        NaN           NaN"
      ]
     },
     "execution_count": 51,
     "metadata": {},
     "output_type": "execute_result"
    }
   ],
   "source": [
    "all_model_summary_df"
   ]
  },
  {
   "cell_type": "markdown",
   "metadata": {},
   "source": [
    "### 6. Embedded - Lasso L2 Regression"
   ]
  },
  {
   "cell_type": "markdown",
   "metadata": {},
   "source": [
    "First we set the all the hyperparameters we are interested in tuning, primarily the 'penalizing' parameters (alpha). The GridSearch function will be able to obtain the best parameters for us by evaluating them using R2 score."
   ]
  },
  {
   "cell_type": "code",
   "execution_count": 52,
   "metadata": {},
   "outputs": [
    {
     "data": {
      "text/plain": [
       "{'alpha': 0.05, 'fit_intercept': True, 'normalize': False}"
      ]
     },
     "execution_count": 52,
     "metadata": {},
     "output_type": "execute_result"
    }
   ],
   "source": [
    "model = Lasso()\n",
    "lasso_params = {'alpha' : [0.05, 0.1, 0.3, 1, 3, 5, 10, 15, 30, 50, 75],\n",
    "                'fit_intercept': [True, False],\n",
    "                'normalize' : [True, False]}\n",
    "\n",
    "grid_obj = GridSearchCV(estimator = model, \n",
    "                        param_grid = lasso_params, \n",
    "                        scoring = 'r2',\n",
    "                        cv = 5,\n",
    "                        n_jobs = -1)\n",
    "\n",
    "grid_obj = grid_obj.fit(X_train_subset, y_train_subset)\n",
    "grid_obj.best_params_"
   ]
  },
  {
   "cell_type": "markdown",
   "metadata": {},
   "source": [
    "Looks like the best alpha level is 0.05. Let's use the above best selected parameters and train it on our subset of X_train data and subsequently test them on the validation dataset."
   ]
  },
  {
   "cell_type": "code",
   "execution_count": 53,
   "metadata": {},
   "outputs": [
    {
     "name": "stdout",
     "output_type": "stream",
     "text": [
      "Train R2 score of: 0.89\n",
      "Validation R2 score of: 0.9\n",
      "Test R2 score of: 0.83\n"
     ]
    }
   ],
   "source": [
    "final_lasso = grid_obj.best_estimator_.fit(X_train_subset, y_train_subset)\n",
    "\n",
    "train_predictions = final_lasso.predict(X_train_subset)\n",
    "val_predictions = final_lasso.predict(X_val)\n",
    "test_predictions = final_lasso.predict(X_test)\n",
    "\n",
    "print ('Train R2 score of:', round(r2_score(y_train_subset, train_predictions),2))\n",
    "print ('Validation R2 score of:', round(r2_score(y_val, val_predictions),2))\n",
    "print ('Test R2 score of:', round(r2_score(y_test, test_predictions),2))"
   ]
  },
  {
   "cell_type": "markdown",
   "metadata": {},
   "source": [
    "Not bad at all. Now let's explore the coefficients that the Lasso model chose and plot them."
   ]
  },
  {
   "cell_type": "code",
   "execution_count": 54,
   "metadata": {},
   "outputs": [
    {
     "name": "stdout",
     "output_type": "stream",
     "text": [
      "Lasso picked 18 variables and eliminated the other 45 variables\n"
     ]
    },
    {
     "data": {
      "image/png": "[encoded data removed]",
      "text/plain": [
       "<Figure size 1080x360 with 1 Axes>"
      ]
     },
     "metadata": {
      "needs_background": "light"
     },
     "output_type": "display_data"
    }
   ],
   "source": [
    "coef = pd.Series(final_lasso.coef_, index = X_train_subset.columns)\n",
    "final_coef = coef[coef != 0]\n",
    "final_coef.sort_values(ascending = False, inplace=True)\n",
    "\n",
    "print(\"Lasso picked \" + str(sum(coef != 0)) + \" variables and eliminated the other \" +  str(sum(coef == 0)) + \" variables\")\n",
    "\n",
    "final_coef.plot(kind = \"bar\", figsize=(15,5))\n",
    "plt.title(\"Coefficients in the Lasso Model\")\n",
    "plt.show()"
   ]
  },
  {
   "cell_type": "markdown",
   "metadata": {},
   "source": [
    "How about the residuals?"
   ]
  },
  {
   "cell_type": "code",
   "execution_count": 55,
   "metadata": {},
   "outputs": [
    {
     "data": {
      "image/png": "[encoded data removed]",
      "text/plain": [
       "<Figure size 1080x720 with 1 Axes>"
      ]
     },
     "metadata": {
      "needs_background": "light"
     },
     "output_type": "display_data"
    }
   ],
   "source": [
    "preds = pd.DataFrame({\"preds\":final_lasso.predict(X_test), \"true\":y_test})\n",
    "preds[\"residuals\"] = preds[\"true\"] - preds[\"preds\"]\n",
    "\n",
    "preds.plot(x = \"preds\", y = \"residuals\", kind = \"scatter\", figsize=(15,10))\n",
    "plt.title('Lasso Residual Plots')\n",
    "plt.show()"
   ]
  },
  {
   "cell_type": "code",
   "execution_count": 56,
   "metadata": {},
   "outputs": [],
   "source": [
    "Lasso_OLS = OLS(y_train, add_constant(X_train[final_coef.index])).fit()\n",
    "\n",
    "Lasso_predictions = Lasso_OLS.predict(add_constant(X_test[final_coef.index]))\n",
    "Lasso_train_r2 = Lasso_OLS.rsquared\n",
    "\n",
    "Lasso_test_r2 = r2_score(y_test, Lasso_predictions)"
   ]
  },
  {
   "cell_type": "code",
   "execution_count": 57,
   "metadata": {},
   "outputs": [
    {
     "data": {
      "text/html": [
       "<table class=\"simpletable\">\n",
       "<caption>OLS Regression Results</caption>\n",
       "<tr>\n",
       "  <th>Dep. Variable:</th>     <td>Life_expectancy</td> <th>  R-squared:         </th> <td>   0.892</td>\n",
       "</tr>\n",
       "<tr>\n",
       "  <th>Model:</th>                   <td>OLS</td>       <th>  Adj. R-squared:    </th> <td>   0.891</td>\n",
       "</tr>\n",
       "<tr>\n",
       "  <th>Method:</th>             <td>Least Squares</td>  <th>  F-statistic:       </th> <td>   1074.</td>\n",
       "</tr>\n",
       "<tr>\n",
       "  <th>Date:</th>             <td>Mon, 13 Jan 2020</td> <th>  Prob (F-statistic):</th>  <td>  0.00</td> \n",
       "</tr>\n",
       "<tr>\n",
       "  <th>Time:</th>                 <td>10:37:32</td>     <th>  Log-Likelihood:    </th> <td> -3265.8</td>\n",
       "</tr>\n",
       "<tr>\n",
       "  <th>No. Observations:</th>      <td>  2356</td>      <th>  AIC:               </th> <td>   6570.</td>\n",
       "</tr>\n",
       "<tr>\n",
       "  <th>Df Residuals:</th>          <td>  2337</td>      <th>  BIC:               </th> <td>   6679.</td>\n",
       "</tr>\n",
       "<tr>\n",
       "  <th>Df Model:</th>              <td>    18</td>      <th>                     </th>     <td> </td>   \n",
       "</tr>\n",
       "<tr>\n",
       "  <th>Covariance Type:</th>      <td>nonrobust</td>    <th>                     </th>     <td> </td>   \n",
       "</tr>\n",
       "</table>\n",
       "<table class=\"simpletable\">\n",
       "<tr>\n",
       "                   <td></td>                     <th>coef</th>     <th>std err</th>      <th>t</th>      <th>P>|t|</th>  <th>[0.025</th>    <th>0.975]</th>  \n",
       "</tr>\n",
       "<tr>\n",
       "  <th>const</th>                              <td>   88.6282</td> <td>    0.332</td> <td>  266.855</td> <td> 0.000</td> <td>   87.977</td> <td>   89.279</td>\n",
       "</tr>\n",
       "<tr>\n",
       "  <th>Income_inequality</th>                  <td>    0.1858</td> <td>    0.034</td> <td>    5.520</td> <td> 0.000</td> <td>    0.120</td> <td>    0.252</td>\n",
       "</tr>\n",
       "<tr>\n",
       "  <th>Teen_births</th>                        <td>    0.0065</td> <td>    0.002</td> <td>    3.011</td> <td> 0.003</td> <td>    0.002</td> <td>    0.011</td>\n",
       "</tr>\n",
       "<tr>\n",
       "  <th>Social_associations</th>                <td>    0.0078</td> <td>    0.003</td> <td>    2.538</td> <td> 0.011</td> <td>    0.002</td> <td>    0.014</td>\n",
       "</tr>\n",
       "<tr>\n",
       "  <th>HIV_prevalence</th>                     <td>    0.0006</td> <td>    0.000</td> <td>    4.099</td> <td> 0.000</td> <td>    0.000</td> <td>    0.001</td>\n",
       "</tr>\n",
       "<tr>\n",
       "  <th>Premature_death</th>                    <td>-1.006e-05</td> <td> 2.86e-05</td> <td>   -0.352</td> <td> 0.725</td> <td>-6.62e-05</td> <td> 4.61e-05</td>\n",
       "</tr>\n",
       "<tr>\n",
       "  <th>Median_household_income</th>            <td> 1.134e-05</td> <td> 2.39e-06</td> <td>    4.751</td> <td> 0.000</td> <td> 6.66e-06</td> <td>  1.6e-05</td>\n",
       "</tr>\n",
       "<tr>\n",
       "  <th>Population</th>                         <td> 1.454e-07</td> <td> 6.73e-08</td> <td>    2.161</td> <td> 0.031</td> <td> 1.35e-08</td> <td> 2.77e-07</td>\n",
       "</tr>\n",
       "<tr>\n",
       "  <th>Preventable_hospital_stays</th>         <td>-1.443e-05</td> <td> 1.24e-05</td> <td>   -1.166</td> <td> 0.244</td> <td>-3.87e-05</td> <td> 9.84e-06</td>\n",
       "</tr>\n",
       "<tr>\n",
       "  <th>Firearm_fatalities</th>                 <td>   -0.0013</td> <td>    0.004</td> <td>   -0.291</td> <td> 0.771</td> <td>   -0.010</td> <td>    0.007</td>\n",
       "</tr>\n",
       "<tr>\n",
       "  <th>Sexually_transmitted_infections</th>    <td>   -0.0004</td> <td>    0.000</td> <td>   -3.370</td> <td> 0.001</td> <td>   -0.001</td> <td>   -0.000</td>\n",
       "</tr>\n",
       "<tr>\n",
       "  <th>Violent_crime</th>                      <td>   -0.0004</td> <td>    0.000</td> <td>   -2.805</td> <td> 0.005</td> <td>   -0.001</td> <td>   -0.000</td>\n",
       "</tr>\n",
       "<tr>\n",
       "  <th>Motor_vehicle_crash_deaths</th>         <td>   -0.0049</td> <td>    0.003</td> <td>   -1.528</td> <td> 0.127</td> <td>   -0.011</td> <td>    0.001</td>\n",
       "</tr>\n",
       "<tr>\n",
       "  <th>Drug_overdose_deaths</th>               <td>   -0.0041</td> <td>    0.003</td> <td>   -1.485</td> <td> 0.138</td> <td>   -0.010</td> <td>    0.001</td>\n",
       "</tr>\n",
       "<tr>\n",
       "  <th>Injury_deaths</th>                      <td>   -0.0009</td> <td>    0.001</td> <td>   -0.664</td> <td> 0.507</td> <td>   -0.004</td> <td>    0.002</td>\n",
       "</tr>\n",
       "<tr>\n",
       "  <th>Child_mortality</th>                    <td>   -0.0074</td> <td>    0.001</td> <td>   -5.785</td> <td> 0.000</td> <td>   -0.010</td> <td>   -0.005</td>\n",
       "</tr>\n",
       "<tr>\n",
       "  <th>Premature_age-adjusted_mortality</th>   <td>   -0.0233</td> <td>    0.001</td> <td>  -32.081</td> <td> 0.000</td> <td>   -0.025</td> <td>   -0.022</td>\n",
       "</tr>\n",
       "<tr>\n",
       "  <th>Food_environment_index</th>             <td>   -0.1686</td> <td>    0.024</td> <td>   -6.904</td> <td> 0.000</td> <td>   -0.217</td> <td>   -0.121</td>\n",
       "</tr>\n",
       "<tr>\n",
       "  <th>Air_pollution_-_particulate_matter</th> <td>   -0.1356</td> <td>    0.013</td> <td>  -10.719</td> <td> 0.000</td> <td>   -0.160</td> <td>   -0.111</td>\n",
       "</tr>\n",
       "</table>\n",
       "<table class=\"simpletable\">\n",
       "<tr>\n",
       "  <th>Omnibus:</th>       <td>2320.634</td> <th>  Durbin-Watson:     </th>  <td>   2.013</td> \n",
       "</tr>\n",
       "<tr>\n",
       "  <th>Prob(Omnibus):</th>  <td> 0.000</td>  <th>  Jarque-Bera (JB):  </th> <td>179633.943</td>\n",
       "</tr>\n",
       "<tr>\n",
       "  <th>Skew:</th>           <td> 4.575</td>  <th>  Prob(JB):          </th>  <td>    0.00</td> \n",
       "</tr>\n",
       "<tr>\n",
       "  <th>Kurtosis:</th>       <td>44.787</td>  <th>  Cond. No.          </th>  <td>5.90e+06</td> \n",
       "</tr>\n",
       "</table><br/><br/>Warnings:<br/>[1] Standard Errors assume that the covariance matrix of the errors is correctly specified.<br/>[2] The condition number is large, 5.9e+06. This might indicate that there are<br/>strong multicollinearity or other numerical problems."
      ],
      "text/plain": [
       "<class 'statsmodels.iolib.summary.Summary'>\n",
       "\"\"\"\n",
       "                            OLS Regression Results                            \n",
       "==============================================================================\n",
       "Dep. Variable:        Life_expectancy   R-squared:                       0.892\n",
       "Model:                            OLS   Adj. R-squared:                  0.891\n",
       "Method:                 Least Squares   F-statistic:                     1074.\n",
       "Date:                Mon, 13 Jan 2020   Prob (F-statistic):               0.00\n",
       "Time:                        10:37:32   Log-Likelihood:                -3265.8\n",
       "No. Observations:                2356   AIC:                             6570.\n",
       "Df Residuals:                    2337   BIC:                             6679.\n",
       "Df Model:                          18                                         \n",
       "Covariance Type:            nonrobust                                         \n",
       "======================================================================================================\n",
       "                                         coef    std err          t      P>|t|      [0.025      0.975]\n",
       "------------------------------------------------------------------------------------------------------\n",
       "const                                 88.6282      0.332    266.855      0.000      87.977      89.279\n",
       "Income_inequality                      0.1858      0.034      5.520      0.000       0.120       0.252\n",
       "Teen_births                            0.0065      0.002      3.011      0.003       0.002       0.011\n",
       "Social_associations                    0.0078      0.003      2.538      0.011       0.002       0.014\n",
       "HIV_prevalence                         0.0006      0.000      4.099      0.000       0.000       0.001\n",
       "Premature_death                    -1.006e-05   2.86e-05     -0.352      0.725   -6.62e-05    4.61e-05\n",
       "Median_household_income             1.134e-05   2.39e-06      4.751      0.000    6.66e-06     1.6e-05\n",
       "Population                          1.454e-07   6.73e-08      2.161      0.031    1.35e-08    2.77e-07\n",
       "Preventable_hospital_stays         -1.443e-05   1.24e-05     -1.166      0.244   -3.87e-05    9.84e-06\n",
       "Firearm_fatalities                    -0.0013      0.004     -0.291      0.771      -0.010       0.007\n",
       "Sexually_transmitted_infections       -0.0004      0.000     -3.370      0.001      -0.001      -0.000\n",
       "Violent_crime                         -0.0004      0.000     -2.805      0.005      -0.001      -0.000\n",
       "Motor_vehicle_crash_deaths            -0.0049      0.003     -1.528      0.127      -0.011       0.001\n",
       "Drug_overdose_deaths                  -0.0041      0.003     -1.485      0.138      -0.010       0.001\n",
       "Injury_deaths                         -0.0009      0.001     -0.664      0.507      -0.004       0.002\n",
       "Child_mortality                       -0.0074      0.001     -5.785      0.000      -0.010      -0.005\n",
       "Premature_age-adjusted_mortality      -0.0233      0.001    -32.081      0.000      -0.025      -0.022\n",
       "Food_environment_index                -0.1686      0.024     -6.904      0.000      -0.217      -0.121\n",
       "Air_pollution_-_particulate_matter    -0.1356      0.013    -10.719      0.000      -0.160      -0.111\n",
       "==============================================================================\n",
       "Omnibus:                     2320.634   Durbin-Watson:                   2.013\n",
       "Prob(Omnibus):                  0.000   Jarque-Bera (JB):           179633.943\n",
       "Skew:                           4.575   Prob(JB):                         0.00\n",
       "Kurtosis:                      44.787   Cond. No.                     5.90e+06\n",
       "==============================================================================\n",
       "\n",
       "Warnings:\n",
       "[1] Standard Errors assume that the covariance matrix of the errors is correctly specified.\n",
       "[2] The condition number is large, 5.9e+06. This might indicate that there are\n",
       "strong multicollinearity or other numerical problems.\n",
       "\"\"\""
      ]
     },
     "execution_count": 57,
     "metadata": {},
     "output_type": "execute_result"
    }
   ],
   "source": [
    "Lasso_OLS.summary()"
   ]
  },
  {
   "cell_type": "code",
   "execution_count": 58,
   "metadata": {},
   "outputs": [],
   "source": [
    "all_model_summary_df.loc[all_model_summary_df.model == 'Embedded - Lasso', 'n_features'] = len(Lasso_OLS.pvalues)\n",
    "all_model_summary_df.loc[all_model_summary_df.model == 'Embedded - Lasso', 'AIC'] = Lasso_OLS.aic\n",
    "all_model_summary_df.loc[all_model_summary_df.model == 'Embedded - Lasso', 'R2_test'] = Lasso_test_r2\n",
    "all_model_summary_df.loc[all_model_summary_df.model == 'Embedded - Lasso', '>0.05_pvalues'] = sum(Lasso_OLS.pvalues > 0.05)"
   ]
  },
  {
   "cell_type": "code",
   "execution_count": 59,
   "metadata": {},
   "outputs": [
    {
     "data": {
      "text/html": [
       "<div>\n",
       "<style scoped>\n",
       "    .dataframe tbody tr th:only-of-type {\n",
       "        vertical-align: middle;\n",
       "    }\n",
       "\n",
       "    .dataframe tbody tr th {\n",
       "        vertical-align: top;\n",
       "    }\n",
       "\n",
       "    .dataframe thead th {\n",
       "        text-align: right;\n",
       "    }\n",
       "</style>\n",
       "<table border=\"1\" class=\"dataframe\">\n",
       "  <thead>\n",
       "    <tr style=\"text-align: right;\">\n",
       "      <th></th>\n",
       "      <th>model</th>\n",
       "      <th>R2_test</th>\n",
       "      <th>AIC</th>\n",
       "      <th>n_features</th>\n",
       "      <th>&gt;0.05_pvalues</th>\n",
       "    </tr>\n",
       "  </thead>\n",
       "  <tbody>\n",
       "    <tr>\n",
       "      <th>0</th>\n",
       "      <td>Baseline</td>\n",
       "      <td>0.839762</td>\n",
       "      <td>6211.72</td>\n",
       "      <td>63</td>\n",
       "      <td>40</td>\n",
       "    </tr>\n",
       "    <tr>\n",
       "      <th>1</th>\n",
       "      <td>Basic - Top Correlation</td>\n",
       "      <td>0.817139</td>\n",
       "      <td>6700.37</td>\n",
       "      <td>6</td>\n",
       "      <td>0</td>\n",
       "    </tr>\n",
       "    <tr>\n",
       "      <th>2</th>\n",
       "      <td>Filter</td>\n",
       "      <td>0.782496</td>\n",
       "      <td>7239.67</td>\n",
       "      <td>22</td>\n",
       "      <td>4</td>\n",
       "    </tr>\n",
       "    <tr>\n",
       "      <th>3</th>\n",
       "      <td>Wrappper - RFE</td>\n",
       "      <td>0.84</td>\n",
       "      <td>6210.68</td>\n",
       "      <td>62</td>\n",
       "      <td>39</td>\n",
       "    </tr>\n",
       "    <tr>\n",
       "      <th>4</th>\n",
       "      <td>Wrappper - Stepwise</td>\n",
       "      <td>0.838352</td>\n",
       "      <td>6366.06</td>\n",
       "      <td>15</td>\n",
       "      <td>0</td>\n",
       "    </tr>\n",
       "    <tr>\n",
       "      <th>5</th>\n",
       "      <td>Embedded - Lasso</td>\n",
       "      <td>0.831321</td>\n",
       "      <td>6569.66</td>\n",
       "      <td>19</td>\n",
       "      <td>6</td>\n",
       "    </tr>\n",
       "  </tbody>\n",
       "</table>\n",
       "</div>"
      ],
      "text/plain": [
       "                     model   R2_test      AIC n_features >0.05_pvalues\n",
       "0                 Baseline  0.839762  6211.72         63            40\n",
       "1  Basic - Top Correlation  0.817139  6700.37          6             0\n",
       "2                   Filter  0.782496  7239.67         22             4\n",
       "3           Wrappper - RFE      0.84  6210.68         62            39\n",
       "4      Wrappper - Stepwise  0.838352  6366.06         15             0\n",
       "5         Embedded - Lasso  0.831321  6569.66         19             6"
      ]
     },
     "execution_count": 59,
     "metadata": {},
     "output_type": "execute_result"
    }
   ],
   "source": [
    "all_model_summary_df"
   ]
  },
  {
   "cell_type": "code",
   "execution_count": null,
   "metadata": {},
   "outputs": [],
   "source": []
  },
  {
   "cell_type": "code",
   "execution_count": null,
   "metadata": {},
   "outputs": [],
   "source": []
  },
  {
   "cell_type": "code",
   "execution_count": 60,
   "metadata": {},
   "outputs": [
    {
     "data": {
      "text/html": [
       "<div>\n",
       "<style scoped>\n",
       "    .dataframe tbody tr th:only-of-type {\n",
       "        vertical-align: middle;\n",
       "    }\n",
       "\n",
       "    .dataframe tbody tr th {\n",
       "        vertical-align: top;\n",
       "    }\n",
       "\n",
       "    .dataframe thead th {\n",
       "        text-align: right;\n",
       "    }\n",
       "</style>\n",
       "<table border=\"1\" class=\"dataframe\">\n",
       "  <thead>\n",
       "    <tr style=\"text-align: right;\">\n",
       "      <th></th>\n",
       "      <th>variables</th>\n",
       "      <th>VIF</th>\n",
       "    </tr>\n",
       "  </thead>\n",
       "  <tbody>\n",
       "    <tr>\n",
       "      <th>0</th>\n",
       "      <td>Income_inequality</td>\n",
       "      <td>1.548465</td>\n",
       "    </tr>\n",
       "    <tr>\n",
       "      <th>1</th>\n",
       "      <td>Teen_births</td>\n",
       "      <td>2.624242</td>\n",
       "    </tr>\n",
       "    <tr>\n",
       "      <th>2</th>\n",
       "      <td>Social_associations</td>\n",
       "      <td>1.214306</td>\n",
       "    </tr>\n",
       "    <tr>\n",
       "      <th>3</th>\n",
       "      <td>HIV_prevalence</td>\n",
       "      <td>1.576979</td>\n",
       "    </tr>\n",
       "    <tr>\n",
       "      <th>4</th>\n",
       "      <td>Premature_death</td>\n",
       "      <td>14.887450</td>\n",
       "    </tr>\n",
       "    <tr>\n",
       "      <th>5</th>\n",
       "      <td>Median_household_income</td>\n",
       "      <td>2.544532</td>\n",
       "    </tr>\n",
       "    <tr>\n",
       "      <th>6</th>\n",
       "      <td>Population</td>\n",
       "      <td>1.303605</td>\n",
       "    </tr>\n",
       "    <tr>\n",
       "      <th>7</th>\n",
       "      <td>Preventable_hospital_stays</td>\n",
       "      <td>1.384703</td>\n",
       "    </tr>\n",
       "    <tr>\n",
       "      <th>8</th>\n",
       "      <td>Firearm_fatalities</td>\n",
       "      <td>1.590554</td>\n",
       "    </tr>\n",
       "    <tr>\n",
       "      <th>9</th>\n",
       "      <td>Sexually_transmitted_infections</td>\n",
       "      <td>1.905059</td>\n",
       "    </tr>\n",
       "    <tr>\n",
       "      <th>10</th>\n",
       "      <td>Violent_crime</td>\n",
       "      <td>1.519105</td>\n",
       "    </tr>\n",
       "    <tr>\n",
       "      <th>11</th>\n",
       "      <td>Motor_vehicle_crash_deaths</td>\n",
       "      <td>2.003290</td>\n",
       "    </tr>\n",
       "    <tr>\n",
       "      <th>12</th>\n",
       "      <td>Drug_overdose_deaths</td>\n",
       "      <td>1.433379</td>\n",
       "    </tr>\n",
       "    <tr>\n",
       "      <th>13</th>\n",
       "      <td>Injury_deaths</td>\n",
       "      <td>3.063654</td>\n",
       "    </tr>\n",
       "    <tr>\n",
       "      <th>14</th>\n",
       "      <td>Child_mortality</td>\n",
       "      <td>1.635319</td>\n",
       "    </tr>\n",
       "    <tr>\n",
       "      <th>15</th>\n",
       "      <td>Premature_age-adjusted_mortality</td>\n",
       "      <td>16.693972</td>\n",
       "    </tr>\n",
       "    <tr>\n",
       "      <th>16</th>\n",
       "      <td>Food_environment_index</td>\n",
       "      <td>2.006736</td>\n",
       "    </tr>\n",
       "    <tr>\n",
       "      <th>17</th>\n",
       "      <td>Air_pollution_-_particulate_matter</td>\n",
       "      <td>1.496233</td>\n",
       "    </tr>\n",
       "    <tr>\n",
       "      <th>18</th>\n",
       "      <td>Intercept</td>\n",
       "      <td>275.238075</td>\n",
       "    </tr>\n",
       "  </tbody>\n",
       "</table>\n",
       "</div>"
      ],
      "text/plain": [
       "                             variables         VIF\n",
       "0                    Income_inequality    1.548465\n",
       "1                          Teen_births    2.624242\n",
       "2                  Social_associations    1.214306\n",
       "3                       HIV_prevalence    1.576979\n",
       "4                      Premature_death   14.887450\n",
       "5              Median_household_income    2.544532\n",
       "6                           Population    1.303605\n",
       "7           Preventable_hospital_stays    1.384703\n",
       "8                   Firearm_fatalities    1.590554\n",
       "9      Sexually_transmitted_infections    1.905059\n",
       "10                       Violent_crime    1.519105\n",
       "11          Motor_vehicle_crash_deaths    2.003290\n",
       "12                Drug_overdose_deaths    1.433379\n",
       "13                       Injury_deaths    3.063654\n",
       "14                     Child_mortality    1.635319\n",
       "15    Premature_age-adjusted_mortality   16.693972\n",
       "16              Food_environment_index    2.006736\n",
       "17  Air_pollution_-_particulate_matter    1.496233\n",
       "18                           Intercept  275.238075"
      ]
     },
     "execution_count": 60,
     "metadata": {},
     "output_type": "execute_result"
    }
   ],
   "source": [
    "X2 = X_train[final_coef.index]\n",
    "X2['Intercept'] = 1\n",
    "\n",
    "vif = pd.DataFrame()\n",
    "vif[\"variables\"] = X2.columns\n",
    "vif[\"VIF\"] = [variance_inflation_factor(X2.values, i) for i in range(X2.shape[1])]\n",
    "\n",
    "vif"
   ]
  },
  {
   "cell_type": "markdown",
   "metadata": {},
   "source": [
    "Apply the 20 selected features from the lasso model into our usual OLS model to obtain further information"
   ]
  },
  {
   "cell_type": "code",
   "execution_count": 61,
   "metadata": {},
   "outputs": [],
   "source": [
    "final_lasso_test_r2 = statsmodel_regression(X_train[final_coef.index], add_constant(X_test[final_coef.index]), y_train, y_test)[0]\n",
    "final_lasso_estimator = statsmodel_regression(X_train[final_coef.index], add_constant(X_test[final_coef.index]), y_train, y_test)[1]"
   ]
  },
  {
   "cell_type": "code",
   "execution_count": 62,
   "metadata": {},
   "outputs": [
    {
     "data": {
      "text/plain": [
       "const                                 False\n",
       "Income_inequality                     False\n",
       "Teen_births                           False\n",
       "Social_associations                   False\n",
       "HIV_prevalence                        False\n",
       "Premature_death                        True\n",
       "Median_household_income               False\n",
       "Population                            False\n",
       "Preventable_hospital_stays             True\n",
       "Firearm_fatalities                     True\n",
       "Sexually_transmitted_infections       False\n",
       "Violent_crime                         False\n",
       "Motor_vehicle_crash_deaths             True\n",
       "Drug_overdose_deaths                   True\n",
       "Injury_deaths                          True\n",
       "Child_mortality                       False\n",
       "Premature_age-adjusted_mortality      False\n",
       "Food_environment_index                False\n",
       "Air_pollution_-_particulate_matter    False\n",
       "dtype: bool"
      ]
     },
     "execution_count": 62,
     "metadata": {},
     "output_type": "execute_result"
    }
   ],
   "source": [
    "final_lasso_estimator.pvalues > 0.05"
   ]
  },
  {
   "cell_type": "code",
   "execution_count": 63,
   "metadata": {},
   "outputs": [],
   "source": [
    "all_model_summary_df.loc[all_model_summary_df.model == 'Embedded - Lasso', 'n_features'] = len(final_lasso_estimator.pvalues)\n",
    "all_model_summary_df.loc[all_model_summary_df.model == 'Embedded - Lasso', 'AIC'] = final_lasso_estimator.aic\n",
    "all_model_summary_df.loc[all_model_summary_df.model == 'Embedded - Lasso', 'R2_test'] = final_lasso_test_r2\n",
    "all_model_summary_df.loc[all_model_summary_df.model == 'Embedded - Lasso', '>0.05_pvalues'] = sum(final_lasso_estimator.pvalues > 0.05)"
   ]
  },
  {
   "cell_type": "code",
   "execution_count": 64,
   "metadata": {},
   "outputs": [
    {
     "data": {
      "text/html": [
       "<div>\n",
       "<style scoped>\n",
       "    .dataframe tbody tr th:only-of-type {\n",
       "        vertical-align: middle;\n",
       "    }\n",
       "\n",
       "    .dataframe tbody tr th {\n",
       "        vertical-align: top;\n",
       "    }\n",
       "\n",
       "    .dataframe thead th {\n",
       "        text-align: right;\n",
       "    }\n",
       "</style>\n",
       "<table border=\"1\" class=\"dataframe\">\n",
       "  <thead>\n",
       "    <tr style=\"text-align: right;\">\n",
       "      <th></th>\n",
       "      <th>model</th>\n",
       "      <th>R2_test</th>\n",
       "      <th>AIC</th>\n",
       "      <th>n_features</th>\n",
       "      <th>&gt;0.05_pvalues</th>\n",
       "    </tr>\n",
       "  </thead>\n",
       "  <tbody>\n",
       "    <tr>\n",
       "      <th>0</th>\n",
       "      <td>Baseline</td>\n",
       "      <td>0.839762</td>\n",
       "      <td>6211.72</td>\n",
       "      <td>63</td>\n",
       "      <td>40</td>\n",
       "    </tr>\n",
       "    <tr>\n",
       "      <th>1</th>\n",
       "      <td>Basic - Top Correlation</td>\n",
       "      <td>0.817139</td>\n",
       "      <td>6700.37</td>\n",
       "      <td>6</td>\n",
       "      <td>0</td>\n",
       "    </tr>\n",
       "    <tr>\n",
       "      <th>2</th>\n",
       "      <td>Filter</td>\n",
       "      <td>0.782496</td>\n",
       "      <td>7239.67</td>\n",
       "      <td>22</td>\n",
       "      <td>4</td>\n",
       "    </tr>\n",
       "    <tr>\n",
       "      <th>3</th>\n",
       "      <td>Wrappper - RFE</td>\n",
       "      <td>0.84</td>\n",
       "      <td>6210.68</td>\n",
       "      <td>62</td>\n",
       "      <td>39</td>\n",
       "    </tr>\n",
       "    <tr>\n",
       "      <th>4</th>\n",
       "      <td>Wrappper - Stepwise</td>\n",
       "      <td>0.838352</td>\n",
       "      <td>6366.06</td>\n",
       "      <td>15</td>\n",
       "      <td>0</td>\n",
       "    </tr>\n",
       "    <tr>\n",
       "      <th>5</th>\n",
       "      <td>Embedded - Lasso</td>\n",
       "      <td>0.83</td>\n",
       "      <td>6569.66</td>\n",
       "      <td>19</td>\n",
       "      <td>6</td>\n",
       "    </tr>\n",
       "  </tbody>\n",
       "</table>\n",
       "</div>"
      ],
      "text/plain": [
       "                     model   R2_test      AIC n_features >0.05_pvalues\n",
       "0                 Baseline  0.839762  6211.72         63            40\n",
       "1  Basic - Top Correlation  0.817139  6700.37          6             0\n",
       "2                   Filter  0.782496  7239.67         22             4\n",
       "3           Wrappper - RFE      0.84  6210.68         62            39\n",
       "4      Wrappper - Stepwise  0.838352  6366.06         15             0\n",
       "5         Embedded - Lasso      0.83  6569.66         19             6"
      ]
     },
     "execution_count": 64,
     "metadata": {},
     "output_type": "execute_result"
    }
   ],
   "source": [
    "all_model_summary_df"
   ]
  }
 ],
 "metadata": {
  "kernelspec": {
   "display_name": "Python 3",
   "language": "python",
   "name": "python3"
  },
  "language_info": {
   "codemirror_mode": {
    "name": "ipython",
    "version": 3
   },
   "file_extension": ".py",
   "mimetype": "text/x-python",
   "name": "python",
   "nbconvert_exporter": "python",
   "pygments_lexer": "ipython3",
   "version": "3.6.6"
  }
 },
 "nbformat": 4,
 "nbformat_minor": 2
}
