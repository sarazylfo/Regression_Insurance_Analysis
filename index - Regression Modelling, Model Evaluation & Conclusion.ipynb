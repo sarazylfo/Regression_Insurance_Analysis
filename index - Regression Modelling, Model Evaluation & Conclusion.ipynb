{
 "cells": [
  {
   "cell_type": "markdown",
   "metadata": {},
   "source": [
    "# Regression - Prediciting Life Expectancy for US"
   ]
  },
  {
   "cell_type": "markdown",
   "metadata": {},
   "source": [
    "### Now it is time to use other models to reduce the complexity of our baseline model by using several feature selection techniques. The aim here is to reduce the amount of features for our 'client', there will no doubt be some tradeoff between model accuracy and complexity.\n",
    "\n",
    "As we can see above, we get a R2 scores of 83% for a single train-test split model and 88% if we conduct a cross-validation with 5 splits. This however might result in a model that is too complex noting the number of features we have. Let's conduct two different ways of selecting only the best features:\n",
    "- filter methods\n",
    "    - low variance\n",
    "    - Pearson's Correlation (Given majority of our features are continuous)\n",
    "- wrapper methods\n",
    "    - Recurvsive Feature Elimination\n",
    "    - Stepwise Selection\n",
    "- embedded methods \n",
    "    - Lasso"
   ]
  },
  {
   "cell_type": "code",
   "execution_count": 1,
   "metadata": {},
   "outputs": [],
   "source": [
    "import pandas as pd\n",
    "import numpy as np\n",
    "import matplotlib.pyplot as plt\n",
    "import seaborn as sns\n",
    "import warnings\n",
    "\n",
    "from functions import *\n",
    "\n",
    "from sklearn.linear_model import LinearRegression\n",
    "from sklearn.model_selection import train_test_split, cross_validate, cross_val_score, KFold\n",
    "from sklearn.metrics import r2_score\n",
    "from sklearn.feature_selection import VarianceThreshold\n",
    "\n",
    "from statsmodels.regression.linear_model import OLS\n",
    "from statsmodels.tools import add_constant\n",
    "from statsmodels.stats.outliers_influence import variance_inflation_factor\n",
    "\n",
    "from scipy import stats\n",
    "\n",
    "sns.set_style('darkgrid')\n",
    "warnings.filterwarnings('ignore')\n",
    "pd.set_option('display.max_columns', None)\n",
    "\n",
    "%load_ext autoreload\n",
    "%autoreload 2"
   ]
  },
  {
   "cell_type": "code",
   "execution_count": 2,
   "metadata": {},
   "outputs": [],
   "source": [
    "df_clean = pd.read_csv('clean_data.csv', index_col=[0])"
   ]
  },
  {
   "cell_type": "code",
   "execution_count": 3,
   "metadata": {},
   "outputs": [],
   "source": [
    "to_drop = ['State_Abbreviation', 'Name', 'Life_expectancy']\n",
    "X = df_clean.drop(to_drop, axis = 1)\n",
    "y = df_clean['Life_expectancy']"
   ]
  },
  {
   "cell_type": "markdown",
   "metadata": {},
   "source": [
    "Split into training and testing dataset, followed by a subsequent split within the training bucket into training and validation"
   ]
  },
  {
   "cell_type": "code",
   "execution_count": 4,
   "metadata": {},
   "outputs": [],
   "source": [
    "X_train, X_test, y_train, y_test = train_test_split(X, y, test_size = 0.25, random_state = 1)\n",
    "X_train_subset, X_val, y_train_subset, y_val = train_test_split(X_train, y_train, test_size = 0.25, random_state = 1)"
   ]
  },
  {
   "cell_type": "code",
   "execution_count": 5,
   "metadata": {},
   "outputs": [
    {
     "name": "stdout",
     "output_type": "stream",
     "text": [
      "Total training data: 1767\n",
      "Total validation data: 589\n",
      "Total test date: 786\n",
      "Total data: 3142\n",
      "Cross check: True\n"
     ]
    }
   ],
   "source": [
    "print ('Total training data:', len(X_train_subset))\n",
    "print ('Total validation data:', len(X_val))\n",
    "print ('Total test date:', len(X_test))\n",
    "print ('Total data:', len(X))\n",
    "print ('Cross check:',  len(X) == len(X_train_subset) + len(X_val) + len(X_test))"
   ]
  },
  {
   "cell_type": "markdown",
   "metadata": {},
   "source": [
    "Create a dataframe to store all model outcomes which will be useful to derive a conclusion at a later stage"
   ]
  },
  {
   "cell_type": "code",
   "execution_count": 6,
   "metadata": {},
   "outputs": [],
   "source": [
    "all_model_summary_df = pd.DataFrame([], columns = ['model', 'R2_test', 'AIC', 'n_features', '>0.05_pvalues'])\n",
    "all_model_summary_df['model'] = ['Baseline', 'Basic - Top Correlation',\n",
    "                                 'Filter', \n",
    "                                 'Wrappper - RFE', 'Wrappper - Stepwise',\n",
    "                                 'Embedded - Lasso',\n",
    "                                ]"
   ]
  },
  {
   "cell_type": "markdown",
   "metadata": {},
   "source": [
    "### 1. Baseline model - All available features\n",
    "\n",
    "This is a very basic model which accounts for all 76 features purely using the X_train dataset (no validation)"
   ]
  },
  {
   "cell_type": "code",
   "execution_count": 7,
   "metadata": {},
   "outputs": [],
   "source": [
    "baseline_OLS = OLS(y_train, add_constant(X_train)).fit()\n",
    "\n",
    "baseline_predictions = baseline_OLS.predict(add_constant(X_test))\n",
    "baseline_train_r2 = baseline_OLS.rsquared\n",
    "\n",
    "baseline_test_r2 = r2_score(y_test, baseline_predictions)"
   ]
  },
  {
   "cell_type": "code",
   "execution_count": 8,
   "metadata": {},
   "outputs": [
    {
     "data": {
      "text/html": [
       "<table class=\"simpletable\">\n",
       "<caption>OLS Regression Results</caption>\n",
       "<tr>\n",
       "  <th>Dep. Variable:</th>     <td>Life_expectancy</td> <th>  R-squared:         </th> <td>   0.914</td>\n",
       "</tr>\n",
       "<tr>\n",
       "  <th>Model:</th>                   <td>OLS</td>       <th>  Adj. R-squared:    </th> <td>   0.911</td>\n",
       "</tr>\n",
       "<tr>\n",
       "  <th>Method:</th>             <td>Least Squares</td>  <th>  F-statistic:       </th> <td>   336.0</td>\n",
       "</tr>\n",
       "<tr>\n",
       "  <th>Date:</th>             <td>Sun, 12 Jan 2020</td> <th>  Prob (F-statistic):</th>  <td>  0.00</td> \n",
       "</tr>\n",
       "<tr>\n",
       "  <th>Time:</th>                 <td>20:56:49</td>     <th>  Log-Likelihood:    </th> <td> -3002.6</td>\n",
       "</tr>\n",
       "<tr>\n",
       "  <th>No. Observations:</th>      <td>  2356</td>      <th>  AIC:               </th> <td>   6151.</td>\n",
       "</tr>\n",
       "<tr>\n",
       "  <th>Df Residuals:</th>          <td>  2283</td>      <th>  BIC:               </th> <td>   6572.</td>\n",
       "</tr>\n",
       "<tr>\n",
       "  <th>Df Model:</th>              <td>    72</td>      <th>                     </th>     <td> </td>   \n",
       "</tr>\n",
       "<tr>\n",
       "  <th>Covariance Type:</th>      <td>nonrobust</td>    <th>                     </th>     <td> </td>   \n",
       "</tr>\n",
       "</table>\n",
       "<table class=\"simpletable\">\n",
       "<tr>\n",
       "                                    <td></td>                                      <th>coef</th>     <th>std err</th>      <th>t</th>      <th>P>|t|</th>  <th>[0.025</th>    <th>0.975]</th>  \n",
       "</tr>\n",
       "<tr>\n",
       "  <th>Release_Year</th>                                                         <td>    0.0465</td> <td>    0.002</td> <td>   23.221</td> <td> 0.000</td> <td>    0.043</td> <td>    0.050</td>\n",
       "</tr>\n",
       "<tr>\n",
       "  <th>County_Ranked_(Yes=1/No=0)</th>                                           <td>    0.1642</td> <td>    0.167</td> <td>    0.983</td> <td> 0.326</td> <td>   -0.163</td> <td>    0.492</td>\n",
       "</tr>\n",
       "<tr>\n",
       "  <th>Premature_death</th>                                                      <td>-6.975e-05</td> <td> 2.91e-05</td> <td>   -2.395</td> <td> 0.017</td> <td>   -0.000</td> <td>-1.26e-05</td>\n",
       "</tr>\n",
       "<tr>\n",
       "  <th>Poor_or_fair_health</th>                                                  <td>    1.4903</td> <td>    2.134</td> <td>    0.698</td> <td> 0.485</td> <td>   -2.695</td> <td>    5.676</td>\n",
       "</tr>\n",
       "<tr>\n",
       "  <th>Poor_physical_health_days</th>                                            <td>   -0.4139</td> <td>    0.274</td> <td>   -1.509</td> <td> 0.131</td> <td>   -0.952</td> <td>    0.124</td>\n",
       "</tr>\n",
       "<tr>\n",
       "  <th>Poor_mental_health_days</th>                                              <td>   -0.1955</td> <td>    0.212</td> <td>   -0.921</td> <td> 0.357</td> <td>   -0.612</td> <td>    0.221</td>\n",
       "</tr>\n",
       "<tr>\n",
       "  <th>Low_birthweight</th>                                                      <td>   -2.5356</td> <td>    1.309</td> <td>   -1.937</td> <td> 0.053</td> <td>   -5.103</td> <td>    0.032</td>\n",
       "</tr>\n",
       "<tr>\n",
       "  <th>Adult_smoking</th>                                                        <td>   -1.1421</td> <td>    1.516</td> <td>   -0.753</td> <td> 0.451</td> <td>   -4.115</td> <td>    1.830</td>\n",
       "</tr>\n",
       "<tr>\n",
       "  <th>Adult_obesity</th>                                                        <td>   -1.3662</td> <td>    0.725</td> <td>   -1.885</td> <td> 0.059</td> <td>   -2.787</td> <td>    0.055</td>\n",
       "</tr>\n",
       "<tr>\n",
       "  <th>Food_environment_index</th>                                               <td>   -0.1856</td> <td>    0.309</td> <td>   -0.600</td> <td> 0.548</td> <td>   -0.792</td> <td>    0.421</td>\n",
       "</tr>\n",
       "<tr>\n",
       "  <th>Physical_inactivity</th>                                                  <td>    0.0319</td> <td>    0.721</td> <td>    0.044</td> <td> 0.965</td> <td>   -1.382</td> <td>    1.445</td>\n",
       "</tr>\n",
       "<tr>\n",
       "  <th>Access_to_exercise_opportunities</th>                                     <td>   -0.3188</td> <td>    0.117</td> <td>   -2.730</td> <td> 0.006</td> <td>   -0.548</td> <td>   -0.090</td>\n",
       "</tr>\n",
       "<tr>\n",
       "  <th>Excessive_drinking</th>                                                   <td>    2.7308</td> <td>    1.100</td> <td>    2.483</td> <td> 0.013</td> <td>    0.574</td> <td>    4.887</td>\n",
       "</tr>\n",
       "<tr>\n",
       "  <th>Alcohol-impaired_driving_deaths</th>                                      <td>   -0.1606</td> <td>    0.121</td> <td>   -1.325</td> <td> 0.185</td> <td>   -0.398</td> <td>    0.077</td>\n",
       "</tr>\n",
       "<tr>\n",
       "  <th>Sexually_transmitted_infections</th>                                      <td>   -0.0002</td> <td>    0.000</td> <td>   -1.901</td> <td> 0.057</td> <td>   -0.000</td> <td>  7.5e-06</td>\n",
       "</tr>\n",
       "<tr>\n",
       "  <th>Teen_births</th>                                                          <td>    0.0037</td> <td>    0.003</td> <td>    1.354</td> <td> 0.176</td> <td>   -0.002</td> <td>    0.009</td>\n",
       "</tr>\n",
       "<tr>\n",
       "  <th>Uninsured</th>                                                            <td>   85.8872</td> <td>   11.877</td> <td>    7.231</td> <td> 0.000</td> <td>   62.595</td> <td>  109.179</td>\n",
       "</tr>\n",
       "<tr>\n",
       "  <th>Primary_care_physicians</th>                                              <td> -347.5367</td> <td>   78.684</td> <td>   -4.417</td> <td> 0.000</td> <td> -501.837</td> <td> -193.236</td>\n",
       "</tr>\n",
       "<tr>\n",
       "  <th>Dentists</th>                                                             <td>   -6.9809</td> <td>   76.603</td> <td>   -0.091</td> <td> 0.927</td> <td> -157.200</td> <td>  143.238</td>\n",
       "</tr>\n",
       "<tr>\n",
       "  <th>Mental_health_providers</th>                                              <td>  -38.8863</td> <td>   15.892</td> <td>   -2.447</td> <td> 0.014</td> <td>  -70.050</td> <td>   -7.723</td>\n",
       "</tr>\n",
       "<tr>\n",
       "  <th>Preventable_hospital_stays</th>                                           <td>-1.822e-05</td> <td> 1.21e-05</td> <td>   -1.502</td> <td> 0.133</td> <td> -4.2e-05</td> <td> 5.56e-06</td>\n",
       "</tr>\n",
       "<tr>\n",
       "  <th>Mammography_screening</th>                                                <td>   -0.8001</td> <td>    0.348</td> <td>   -2.302</td> <td> 0.021</td> <td>   -1.482</td> <td>   -0.118</td>\n",
       "</tr>\n",
       "<tr>\n",
       "  <th>Flu_vaccinations</th>                                                     <td>    0.0225</td> <td>    0.262</td> <td>    0.086</td> <td> 0.931</td> <td>   -0.491</td> <td>    0.536</td>\n",
       "</tr>\n",
       "<tr>\n",
       "  <th>High_school_graduation</th>                                               <td>    0.2516</td> <td>    0.302</td> <td>    0.832</td> <td> 0.406</td> <td>   -0.342</td> <td>    0.845</td>\n",
       "</tr>\n",
       "<tr>\n",
       "  <th>Some_college</th>                                                         <td>    0.4474</td> <td>    0.310</td> <td>    1.442</td> <td> 0.149</td> <td>   -0.161</td> <td>    1.056</td>\n",
       "</tr>\n",
       "<tr>\n",
       "  <th>Unemployment</th>                                                         <td>   -0.7441</td> <td>    1.780</td> <td>   -0.418</td> <td> 0.676</td> <td>   -4.234</td> <td>    2.746</td>\n",
       "</tr>\n",
       "<tr>\n",
       "  <th>Children_in_poverty</th>                                                  <td>   -0.0466</td> <td>    0.602</td> <td>   -0.077</td> <td> 0.938</td> <td>   -1.228</td> <td>    1.135</td>\n",
       "</tr>\n",
       "<tr>\n",
       "  <th>Income_inequality</th>                                                    <td>    0.1259</td> <td>    0.037</td> <td>    3.447</td> <td> 0.001</td> <td>    0.054</td> <td>    0.197</td>\n",
       "</tr>\n",
       "<tr>\n",
       "  <th>Children_in_single-parent_households</th>                                 <td>   -0.6362</td> <td>    0.330</td> <td>   -1.925</td> <td> 0.054</td> <td>   -1.284</td> <td>    0.012</td>\n",
       "</tr>\n",
       "<tr>\n",
       "  <th>Social_associations</th>                                                  <td>   -0.0019</td> <td>    0.004</td> <td>   -0.523</td> <td> 0.601</td> <td>   -0.009</td> <td>    0.005</td>\n",
       "</tr>\n",
       "<tr>\n",
       "  <th>Violent_crime</th>                                                        <td>   -0.0003</td> <td>    0.000</td> <td>   -2.139</td> <td> 0.033</td> <td>   -0.001</td> <td>-2.35e-05</td>\n",
       "</tr>\n",
       "<tr>\n",
       "  <th>Injury_deaths</th>                                                        <td>   -0.0025</td> <td>    0.001</td> <td>   -1.766</td> <td> 0.078</td> <td>   -0.005</td> <td>    0.000</td>\n",
       "</tr>\n",
       "<tr>\n",
       "  <th>Air_pollution_-_particulate_matter</th>                                   <td>   -0.0799</td> <td>    0.015</td> <td>   -5.410</td> <td> 0.000</td> <td>   -0.109</td> <td>   -0.051</td>\n",
       "</tr>\n",
       "<tr>\n",
       "  <th>Drinking_water_violations</th>                                            <td>   -0.0275</td> <td>    0.041</td> <td>   -0.672</td> <td> 0.501</td> <td>   -0.108</td> <td>    0.053</td>\n",
       "</tr>\n",
       "<tr>\n",
       "  <th>Severe_housing_problems</th>                                              <td>   -1.1633</td> <td>    3.665</td> <td>   -0.317</td> <td> 0.751</td> <td>   -8.351</td> <td>    6.024</td>\n",
       "</tr>\n",
       "<tr>\n",
       "  <th>Percentage_of_households_with_high_housing_costs</th>                     <td>   -4.7630</td> <td>    3.573</td> <td>   -1.333</td> <td> 0.183</td> <td>  -11.770</td> <td>    2.244</td>\n",
       "</tr>\n",
       "<tr>\n",
       "  <th>Percentage_of_households_with_overcrowding</th>                           <td>   -2.2285</td> <td>    3.347</td> <td>   -0.666</td> <td> 0.506</td> <td>   -8.793</td> <td>    4.336</td>\n",
       "</tr>\n",
       "<tr>\n",
       "  <th>Percentage_of_households_with_lack_of_kitchen_or_plumbing_facilities</th> <td>    0.2034</td> <td>    3.148</td> <td>    0.065</td> <td> 0.948</td> <td>   -5.970</td> <td>    6.377</td>\n",
       "</tr>\n",
       "<tr>\n",
       "  <th>Driving_alone_to_work</th>                                                <td>   -1.6628</td> <td>    0.405</td> <td>   -4.108</td> <td> 0.000</td> <td>   -2.457</td> <td>   -0.869</td>\n",
       "</tr>\n",
       "<tr>\n",
       "  <th>Long_commute_-_driving_alone</th>                                         <td>   -0.6159</td> <td>    0.235</td> <td>   -2.616</td> <td> 0.009</td> <td>   -1.078</td> <td>   -0.154</td>\n",
       "</tr>\n",
       "<tr>\n",
       "  <th>Premature_age-adjusted_mortality</th>                                     <td>   -0.0207</td> <td>    0.001</td> <td>  -27.120</td> <td> 0.000</td> <td>   -0.022</td> <td>   -0.019</td>\n",
       "</tr>\n",
       "<tr>\n",
       "  <th>Child_mortality</th>                                                      <td>   -0.0048</td> <td>    0.001</td> <td>   -3.873</td> <td> 0.000</td> <td>   -0.007</td> <td>   -0.002</td>\n",
       "</tr>\n",
       "<tr>\n",
       "  <th>Frequent_physical_distress</th>                                           <td>   24.3861</td> <td>   11.236</td> <td>    2.170</td> <td> 0.030</td> <td>    2.352</td> <td>   46.421</td>\n",
       "</tr>\n",
       "<tr>\n",
       "  <th>Frequent_mental_distress</th>                                             <td>    1.7428</td> <td>   10.150</td> <td>    0.172</td> <td> 0.864</td> <td>  -18.161</td> <td>   21.647</td>\n",
       "</tr>\n",
       "<tr>\n",
       "  <th>Diabetes_prevalence</th>                                                  <td>    1.5749</td> <td>    1.736</td> <td>    0.907</td> <td> 0.365</td> <td>   -1.830</td> <td>    4.980</td>\n",
       "</tr>\n",
       "<tr>\n",
       "  <th>HIV_prevalence</th>                                                       <td>-9.368e-05</td> <td>    0.000</td> <td>   -0.568</td> <td> 0.570</td> <td>   -0.000</td> <td>    0.000</td>\n",
       "</tr>\n",
       "<tr>\n",
       "  <th>Food_insecurity</th>                                                      <td>   -4.8101</td> <td>    5.738</td> <td>   -0.838</td> <td> 0.402</td> <td>  -16.063</td> <td>    6.443</td>\n",
       "</tr>\n",
       "<tr>\n",
       "  <th>Limited_access_to_healthy_foods</th>                                      <td>   -0.9680</td> <td>    2.823</td> <td>   -0.343</td> <td> 0.732</td> <td>   -6.504</td> <td>    4.568</td>\n",
       "</tr>\n",
       "<tr>\n",
       "  <th>Drug_overdose_deaths</th>                                                 <td>    0.0024</td> <td>    0.003</td> <td>    0.870</td> <td> 0.384</td> <td>   -0.003</td> <td>    0.008</td>\n",
       "</tr>\n",
       "<tr>\n",
       "  <th>Motor_vehicle_crash_deaths</th>                                           <td>   -0.0075</td> <td>    0.003</td> <td>   -2.258</td> <td> 0.024</td> <td>   -0.014</td> <td>   -0.001</td>\n",
       "</tr>\n",
       "<tr>\n",
       "  <th>Insufficient_sleep</th>                                                   <td>   -2.1265</td> <td>    1.030</td> <td>   -2.065</td> <td> 0.039</td> <td>   -4.146</td> <td>   -0.107</td>\n",
       "</tr>\n",
       "<tr>\n",
       "  <th>Uninsured_adults</th>                                                     <td>  -61.2388</td> <td>    8.440</td> <td>   -7.255</td> <td> 0.000</td> <td>  -77.790</td> <td>  -44.687</td>\n",
       "</tr>\n",
       "<tr>\n",
       "  <th>Uninsured_children</th>                                                   <td>  -25.6979</td> <td>    3.807</td> <td>   -6.751</td> <td> 0.000</td> <td>  -33.163</td> <td>  -18.233</td>\n",
       "</tr>\n",
       "<tr>\n",
       "  <th>Other_primary_care_providers</th>                                         <td>  175.3899</td> <td>   45.048</td> <td>    3.893</td> <td> 0.000</td> <td>   87.050</td> <td>  263.730</td>\n",
       "</tr>\n",
       "<tr>\n",
       "  <th>Median_household_income</th>                                              <td> 1.552e-05</td> <td> 3.67e-06</td> <td>    4.226</td> <td> 0.000</td> <td> 8.32e-06</td> <td> 2.27e-05</td>\n",
       "</tr>\n",
       "<tr>\n",
       "  <th>Children_eligible_for_free_or_reduced_price_lunch</th>                    <td>   -0.1462</td> <td>    0.156</td> <td>   -0.936</td> <td> 0.349</td> <td>   -0.452</td> <td>    0.160</td>\n",
       "</tr>\n",
       "<tr>\n",
       "  <th>Residential_segregation_-_Black/White</th>                                <td>    0.0031</td> <td>    0.002</td> <td>    1.662</td> <td> 0.097</td> <td>   -0.001</td> <td>    0.007</td>\n",
       "</tr>\n",
       "<tr>\n",
       "  <th>Residential_segregation_-_non-white/white</th>                            <td>   -0.0040</td> <td>    0.002</td> <td>   -2.075</td> <td> 0.038</td> <td>   -0.008</td> <td>   -0.000</td>\n",
       "</tr>\n",
       "<tr>\n",
       "  <th>Firearm_fatalities</th>                                                   <td>   -0.0011</td> <td>    0.004</td> <td>   -0.260</td> <td> 0.795</td> <td>   -0.010</td> <td>    0.007</td>\n",
       "</tr>\n",
       "<tr>\n",
       "  <th>Homeownership</th>                                                        <td>   -0.7262</td> <td>    0.435</td> <td>   -1.671</td> <td> 0.095</td> <td>   -1.578</td> <td>    0.126</td>\n",
       "</tr>\n",
       "<tr>\n",
       "  <th>Severe_housing_cost_burden</th>                                           <td>    2.6375</td> <td>    1.340</td> <td>    1.969</td> <td> 0.049</td> <td>    0.010</td> <td>    5.265</td>\n",
       "</tr>\n",
       "<tr>\n",
       "  <th>Population</th>                                                           <td> 8.654e-09</td> <td>  6.8e-08</td> <td>    0.127</td> <td> 0.899</td> <td>-1.25e-07</td> <td> 1.42e-07</td>\n",
       "</tr>\n",
       "<tr>\n",
       "  <th>%_below_18_years_of_age</th>                                              <td>   -0.0291</td> <td>    1.441</td> <td>   -0.020</td> <td> 0.984</td> <td>   -2.854</td> <td>    2.796</td>\n",
       "</tr>\n",
       "<tr>\n",
       "  <th>%_65_and_older</th>                                                       <td>    3.1324</td> <td>    1.041</td> <td>    3.009</td> <td> 0.003</td> <td>    1.091</td> <td>    5.174</td>\n",
       "</tr>\n",
       "<tr>\n",
       "  <th>%_Non-Hispanic_African_American</th>                                      <td>   -1.7452</td> <td>    2.170</td> <td>   -0.804</td> <td> 0.421</td> <td>   -6.001</td> <td>    2.511</td>\n",
       "</tr>\n",
       "<tr>\n",
       "  <th>%_American_Indian_and_Alaskan_Native</th>                                 <td>   -2.0231</td> <td>    2.259</td> <td>   -0.896</td> <td> 0.371</td> <td>   -6.453</td> <td>    2.407</td>\n",
       "</tr>\n",
       "<tr>\n",
       "  <th>%_Asian</th>                                                              <td>    1.2625</td> <td>    2.469</td> <td>    0.511</td> <td> 0.609</td> <td>   -3.579</td> <td>    6.104</td>\n",
       "</tr>\n",
       "<tr>\n",
       "  <th>%_Native_Hawaiian/Other_Pacific_Islander</th>                             <td>  -10.6079</td> <td>    3.608</td> <td>   -2.940</td> <td> 0.003</td> <td>  -17.682</td> <td>   -3.534</td>\n",
       "</tr>\n",
       "<tr>\n",
       "  <th>%_Hispanic</th>                                                           <td>   -3.1741</td> <td>    2.081</td> <td>   -1.525</td> <td> 0.127</td> <td>   -7.255</td> <td>    0.907</td>\n",
       "</tr>\n",
       "<tr>\n",
       "  <th>%_Non-Hispanic_white</th>                                                 <td>   -3.9733</td> <td>    2.140</td> <td>   -1.857</td> <td> 0.063</td> <td>   -8.169</td> <td>    0.223</td>\n",
       "</tr>\n",
       "<tr>\n",
       "  <th>%_not_proficient_in_English</th>                                          <td>    5.7312</td> <td>    1.310</td> <td>    4.375</td> <td> 0.000</td> <td>    3.162</td> <td>    8.300</td>\n",
       "</tr>\n",
       "<tr>\n",
       "  <th>%_Females</th>                                                            <td>    0.6025</td> <td>    1.388</td> <td>    0.434</td> <td> 0.664</td> <td>   -2.120</td> <td>    3.325</td>\n",
       "</tr>\n",
       "<tr>\n",
       "  <th>%_Rural</th>                                                              <td>    0.1417</td> <td>    0.124</td> <td>    1.145</td> <td> 0.253</td> <td>   -0.101</td> <td>    0.385</td>\n",
       "</tr>\n",
       "</table>\n",
       "<table class=\"simpletable\">\n",
       "<tr>\n",
       "  <th>Omnibus:</th>       <td>1742.103</td> <th>  Durbin-Watson:     </th> <td>   2.028</td> \n",
       "</tr>\n",
       "<tr>\n",
       "  <th>Prob(Omnibus):</th>  <td> 0.000</td>  <th>  Jarque-Bera (JB):  </th> <td>57112.092</td>\n",
       "</tr>\n",
       "<tr>\n",
       "  <th>Skew:</th>           <td> 3.127</td>  <th>  Prob(JB):          </th> <td>    0.00</td> \n",
       "</tr>\n",
       "<tr>\n",
       "  <th>Kurtosis:</th>       <td>26.295</td>  <th>  Cond. No.          </th> <td>1.68e+09</td> \n",
       "</tr>\n",
       "</table><br/><br/>Warnings:<br/>[1] Standard Errors assume that the covariance matrix of the errors is correctly specified.<br/>[2] The condition number is large, 1.68e+09. This might indicate that there are<br/>strong multicollinearity or other numerical problems."
      ],
      "text/plain": [
       "<class 'statsmodels.iolib.summary.Summary'>\n",
       "\"\"\"\n",
       "                            OLS Regression Results                            \n",
       "==============================================================================\n",
       "Dep. Variable:        Life_expectancy   R-squared:                       0.914\n",
       "Model:                            OLS   Adj. R-squared:                  0.911\n",
       "Method:                 Least Squares   F-statistic:                     336.0\n",
       "Date:                Sun, 12 Jan 2020   Prob (F-statistic):               0.00\n",
       "Time:                        20:56:49   Log-Likelihood:                -3002.6\n",
       "No. Observations:                2356   AIC:                             6151.\n",
       "Df Residuals:                    2283   BIC:                             6572.\n",
       "Df Model:                          72                                         \n",
       "Covariance Type:            nonrobust                                         \n",
       "========================================================================================================================================\n",
       "                                                                           coef    std err          t      P>|t|      [0.025      0.975]\n",
       "----------------------------------------------------------------------------------------------------------------------------------------\n",
       "Release_Year                                                             0.0465      0.002     23.221      0.000       0.043       0.050\n",
       "County_Ranked_(Yes=1/No=0)                                               0.1642      0.167      0.983      0.326      -0.163       0.492\n",
       "Premature_death                                                      -6.975e-05   2.91e-05     -2.395      0.017      -0.000   -1.26e-05\n",
       "Poor_or_fair_health                                                      1.4903      2.134      0.698      0.485      -2.695       5.676\n",
       "Poor_physical_health_days                                               -0.4139      0.274     -1.509      0.131      -0.952       0.124\n",
       "Poor_mental_health_days                                                 -0.1955      0.212     -0.921      0.357      -0.612       0.221\n",
       "Low_birthweight                                                         -2.5356      1.309     -1.937      0.053      -5.103       0.032\n",
       "Adult_smoking                                                           -1.1421      1.516     -0.753      0.451      -4.115       1.830\n",
       "Adult_obesity                                                           -1.3662      0.725     -1.885      0.059      -2.787       0.055\n",
       "Food_environment_index                                                  -0.1856      0.309     -0.600      0.548      -0.792       0.421\n",
       "Physical_inactivity                                                      0.0319      0.721      0.044      0.965      -1.382       1.445\n",
       "Access_to_exercise_opportunities                                        -0.3188      0.117     -2.730      0.006      -0.548      -0.090\n",
       "Excessive_drinking                                                       2.7308      1.100      2.483      0.013       0.574       4.887\n",
       "Alcohol-impaired_driving_deaths                                         -0.1606      0.121     -1.325      0.185      -0.398       0.077\n",
       "Sexually_transmitted_infections                                         -0.0002      0.000     -1.901      0.057      -0.000     7.5e-06\n",
       "Teen_births                                                              0.0037      0.003      1.354      0.176      -0.002       0.009\n",
       "Uninsured                                                               85.8872     11.877      7.231      0.000      62.595     109.179\n",
       "Primary_care_physicians                                               -347.5367     78.684     -4.417      0.000    -501.837    -193.236\n",
       "Dentists                                                                -6.9809     76.603     -0.091      0.927    -157.200     143.238\n",
       "Mental_health_providers                                                -38.8863     15.892     -2.447      0.014     -70.050      -7.723\n",
       "Preventable_hospital_stays                                           -1.822e-05   1.21e-05     -1.502      0.133    -4.2e-05    5.56e-06\n",
       "Mammography_screening                                                   -0.8001      0.348     -2.302      0.021      -1.482      -0.118\n",
       "Flu_vaccinations                                                         0.0225      0.262      0.086      0.931      -0.491       0.536\n",
       "High_school_graduation                                                   0.2516      0.302      0.832      0.406      -0.342       0.845\n",
       "Some_college                                                             0.4474      0.310      1.442      0.149      -0.161       1.056\n",
       "Unemployment                                                            -0.7441      1.780     -0.418      0.676      -4.234       2.746\n",
       "Children_in_poverty                                                     -0.0466      0.602     -0.077      0.938      -1.228       1.135\n",
       "Income_inequality                                                        0.1259      0.037      3.447      0.001       0.054       0.197\n",
       "Children_in_single-parent_households                                    -0.6362      0.330     -1.925      0.054      -1.284       0.012\n",
       "Social_associations                                                     -0.0019      0.004     -0.523      0.601      -0.009       0.005\n",
       "Violent_crime                                                           -0.0003      0.000     -2.139      0.033      -0.001   -2.35e-05\n",
       "Injury_deaths                                                           -0.0025      0.001     -1.766      0.078      -0.005       0.000\n",
       "Air_pollution_-_particulate_matter                                      -0.0799      0.015     -5.410      0.000      -0.109      -0.051\n",
       "Drinking_water_violations                                               -0.0275      0.041     -0.672      0.501      -0.108       0.053\n",
       "Severe_housing_problems                                                 -1.1633      3.665     -0.317      0.751      -8.351       6.024\n",
       "Percentage_of_households_with_high_housing_costs                        -4.7630      3.573     -1.333      0.183     -11.770       2.244\n",
       "Percentage_of_households_with_overcrowding                              -2.2285      3.347     -0.666      0.506      -8.793       4.336\n",
       "Percentage_of_households_with_lack_of_kitchen_or_plumbing_facilities     0.2034      3.148      0.065      0.948      -5.970       6.377\n",
       "Driving_alone_to_work                                                   -1.6628      0.405     -4.108      0.000      -2.457      -0.869\n",
       "Long_commute_-_driving_alone                                            -0.6159      0.235     -2.616      0.009      -1.078      -0.154\n",
       "Premature_age-adjusted_mortality                                        -0.0207      0.001    -27.120      0.000      -0.022      -0.019\n",
       "Child_mortality                                                         -0.0048      0.001     -3.873      0.000      -0.007      -0.002\n",
       "Frequent_physical_distress                                              24.3861     11.236      2.170      0.030       2.352      46.421\n",
       "Frequent_mental_distress                                                 1.7428     10.150      0.172      0.864     -18.161      21.647\n",
       "Diabetes_prevalence                                                      1.5749      1.736      0.907      0.365      -1.830       4.980\n",
       "HIV_prevalence                                                       -9.368e-05      0.000     -0.568      0.570      -0.000       0.000\n",
       "Food_insecurity                                                         -4.8101      5.738     -0.838      0.402     -16.063       6.443\n",
       "Limited_access_to_healthy_foods                                         -0.9680      2.823     -0.343      0.732      -6.504       4.568\n",
       "Drug_overdose_deaths                                                     0.0024      0.003      0.870      0.384      -0.003       0.008\n",
       "Motor_vehicle_crash_deaths                                              -0.0075      0.003     -2.258      0.024      -0.014      -0.001\n",
       "Insufficient_sleep                                                      -2.1265      1.030     -2.065      0.039      -4.146      -0.107\n",
       "Uninsured_adults                                                       -61.2388      8.440     -7.255      0.000     -77.790     -44.687\n",
       "Uninsured_children                                                     -25.6979      3.807     -6.751      0.000     -33.163     -18.233\n",
       "Other_primary_care_providers                                           175.3899     45.048      3.893      0.000      87.050     263.730\n",
       "Median_household_income                                               1.552e-05   3.67e-06      4.226      0.000    8.32e-06    2.27e-05\n",
       "Children_eligible_for_free_or_reduced_price_lunch                       -0.1462      0.156     -0.936      0.349      -0.452       0.160\n",
       "Residential_segregation_-_Black/White                                    0.0031      0.002      1.662      0.097      -0.001       0.007\n",
       "Residential_segregation_-_non-white/white                               -0.0040      0.002     -2.075      0.038      -0.008      -0.000\n",
       "Firearm_fatalities                                                      -0.0011      0.004     -0.260      0.795      -0.010       0.007\n",
       "Homeownership                                                           -0.7262      0.435     -1.671      0.095      -1.578       0.126\n",
       "Severe_housing_cost_burden                                               2.6375      1.340      1.969      0.049       0.010       5.265\n",
       "Population                                                            8.654e-09    6.8e-08      0.127      0.899   -1.25e-07    1.42e-07\n",
       "%_below_18_years_of_age                                                 -0.0291      1.441     -0.020      0.984      -2.854       2.796\n",
       "%_65_and_older                                                           3.1324      1.041      3.009      0.003       1.091       5.174\n",
       "%_Non-Hispanic_African_American                                         -1.7452      2.170     -0.804      0.421      -6.001       2.511\n",
       "%_American_Indian_and_Alaskan_Native                                    -2.0231      2.259     -0.896      0.371      -6.453       2.407\n",
       "%_Asian                                                                  1.2625      2.469      0.511      0.609      -3.579       6.104\n",
       "%_Native_Hawaiian/Other_Pacific_Islander                               -10.6079      3.608     -2.940      0.003     -17.682      -3.534\n",
       "%_Hispanic                                                              -3.1741      2.081     -1.525      0.127      -7.255       0.907\n",
       "%_Non-Hispanic_white                                                    -3.9733      2.140     -1.857      0.063      -8.169       0.223\n",
       "%_not_proficient_in_English                                              5.7312      1.310      4.375      0.000       3.162       8.300\n",
       "%_Females                                                                0.6025      1.388      0.434      0.664      -2.120       3.325\n",
       "%_Rural                                                                  0.1417      0.124      1.145      0.253      -0.101       0.385\n",
       "==============================================================================\n",
       "Omnibus:                     1742.103   Durbin-Watson:                   2.028\n",
       "Prob(Omnibus):                  0.000   Jarque-Bera (JB):            57112.092\n",
       "Skew:                           3.127   Prob(JB):                         0.00\n",
       "Kurtosis:                      26.295   Cond. No.                     1.68e+09\n",
       "==============================================================================\n",
       "\n",
       "Warnings:\n",
       "[1] Standard Errors assume that the covariance matrix of the errors is correctly specified.\n",
       "[2] The condition number is large, 1.68e+09. This might indicate that there are\n",
       "strong multicollinearity or other numerical problems.\n",
       "\"\"\""
      ]
     },
     "execution_count": 8,
     "metadata": {},
     "output_type": "execute_result"
    }
   ],
   "source": [
    "baseline_OLS.summary()"
   ]
  },
  {
   "cell_type": "markdown",
   "metadata": {},
   "source": [
    "Now, let's check the R2 of the train and test sets as well as plot the residuals"
   ]
  },
  {
   "cell_type": "code",
   "execution_count": 9,
   "metadata": {},
   "outputs": [
    {
     "name": "stdout",
     "output_type": "stream",
     "text": [
      "Baseline Train R-Squared: 0.91\n",
      "Baseline Test R-Squared: 0.84\n",
      "\n",
      "\n",
      "Check for Homoscedasticity Assumption\n"
     ]
    },
    {
     "data": {
      "image/png": "[encoded data removed]",
      "text/plain": [
       "<Figure size 432x288 with 1 Axes>"
      ]
     },
     "metadata": {
      "needs_background": "light"
     },
     "output_type": "display_data"
    },
    {
     "name": "stdout",
     "output_type": "stream",
     "text": [
      "Check for Residuals Normality\n"
     ]
    },
    {
     "data": {
      "image/png": "[encoded data removed]",
      "text/plain": [
       "<Figure size 432x288 with 1 Axes>"
      ]
     },
     "metadata": {
      "needs_background": "light"
     },
     "output_type": "display_data"
    }
   ],
   "source": [
    "baseline_errors = y_test - baseline_predictions\n",
    "\n",
    "print ('Baseline Train R-Squared:', round(baseline_train_r2, 2))\n",
    "print ('Baseline Test R-Squared:', round(baseline_test_r2, 2))\n",
    "\n",
    "print ('\\n')\n",
    "\n",
    "print ('Check for Homoscedasticity Assumption')\n",
    "plt.figure(figsize = (6,4))\n",
    "plt.scatter(x = y_test, y = baseline_errors)\n",
    "plt.show()\n",
    "\n",
    "print ('Check for Residuals Normality')\n",
    "fig = sm.graphics.qqplot(baseline_OLS.resid, dist=stats.norm, line='45', fit=True)"
   ]
  },
  {
   "cell_type": "markdown",
   "metadata": {},
   "source": [
    "Rule of thumb threshold is VIF at the level of 2.5, meaning if the VIF is above 2.5 you should consider there is effect of multicollinearity on your fitted model"
   ]
  },
  {
   "cell_type": "code",
   "execution_count": 10,
   "metadata": {},
   "outputs": [
    {
     "data": {
      "text/plain": [
       "31"
      ]
     },
     "execution_count": 10,
     "metadata": {},
     "output_type": "execute_result"
    }
   ],
   "source": [
    "X_baseline = X_train\n",
    "X_baseline['Intercept'] = 1\n",
    "\n",
    "Baseline_VIF = pd.DataFrame()\n",
    "Baseline_VIF[\"variables\"] = X_baseline.columns\n",
    "Baseline_VIF[\"VIF\"] = [variance_inflation_factor(X_baseline.values, i) for i in range(X_baseline.shape[1])]\n",
    "\n",
    "baseline_correlated_features = sum(Baseline_VIF['VIF'] > 5)\n",
    "baseline_correlated_features"
   ]
  },
  {
   "cell_type": "code",
   "execution_count": 11,
   "metadata": {},
   "outputs": [],
   "source": [
    "all_model_summary_df.loc[all_model_summary_df.model == 'Baseline', 'n_features'] = len(baseline_OLS.pvalues)\n",
    "all_model_summary_df.loc[all_model_summary_df.model == 'Baseline', 'AIC'] = baseline_OLS.aic\n",
    "all_model_summary_df.loc[all_model_summary_df.model == 'Baseline', 'R2_test'] = baseline_test_r2\n",
    "all_model_summary_df.loc[all_model_summary_df.model == 'Baseline', '>0.05_pvalues'] = sum(baseline_OLS.pvalues > 0.05)"
   ]
  },
  {
   "cell_type": "code",
   "execution_count": 12,
   "metadata": {},
   "outputs": [
    {
     "data": {
      "text/html": [
       "<div>\n",
       "<style scoped>\n",
       "    .dataframe tbody tr th:only-of-type {\n",
       "        vertical-align: middle;\n",
       "    }\n",
       "\n",
       "    .dataframe tbody tr th {\n",
       "        vertical-align: top;\n",
       "    }\n",
       "\n",
       "    .dataframe thead th {\n",
       "        text-align: right;\n",
       "    }\n",
       "</style>\n",
       "<table border=\"1\" class=\"dataframe\">\n",
       "  <thead>\n",
       "    <tr style=\"text-align: right;\">\n",
       "      <th></th>\n",
       "      <th>model</th>\n",
       "      <th>R2_test</th>\n",
       "      <th>AIC</th>\n",
       "      <th>n_features</th>\n",
       "      <th>&gt;0.05_pvalues</th>\n",
       "    </tr>\n",
       "  </thead>\n",
       "  <tbody>\n",
       "    <tr>\n",
       "      <th>0</th>\n",
       "      <td>Baseline</td>\n",
       "      <td>0.835919</td>\n",
       "      <td>6151.3</td>\n",
       "      <td>73</td>\n",
       "      <td>46</td>\n",
       "    </tr>\n",
       "    <tr>\n",
       "      <th>1</th>\n",
       "      <td>Basic - Top Correlation</td>\n",
       "      <td>NaN</td>\n",
       "      <td>NaN</td>\n",
       "      <td>NaN</td>\n",
       "      <td>NaN</td>\n",
       "    </tr>\n",
       "    <tr>\n",
       "      <th>2</th>\n",
       "      <td>Filter</td>\n",
       "      <td>NaN</td>\n",
       "      <td>NaN</td>\n",
       "      <td>NaN</td>\n",
       "      <td>NaN</td>\n",
       "    </tr>\n",
       "    <tr>\n",
       "      <th>3</th>\n",
       "      <td>Wrappper - RFE</td>\n",
       "      <td>NaN</td>\n",
       "      <td>NaN</td>\n",
       "      <td>NaN</td>\n",
       "      <td>NaN</td>\n",
       "    </tr>\n",
       "    <tr>\n",
       "      <th>4</th>\n",
       "      <td>Wrappper - Stepwise</td>\n",
       "      <td>NaN</td>\n",
       "      <td>NaN</td>\n",
       "      <td>NaN</td>\n",
       "      <td>NaN</td>\n",
       "    </tr>\n",
       "    <tr>\n",
       "      <th>5</th>\n",
       "      <td>Embedded - Lasso</td>\n",
       "      <td>NaN</td>\n",
       "      <td>NaN</td>\n",
       "      <td>NaN</td>\n",
       "      <td>NaN</td>\n",
       "    </tr>\n",
       "  </tbody>\n",
       "</table>\n",
       "</div>"
      ],
      "text/plain": [
       "                     model   R2_test     AIC n_features >0.05_pvalues\n",
       "0                 Baseline  0.835919  6151.3         73            46\n",
       "1  Basic - Top Correlation       NaN     NaN        NaN           NaN\n",
       "2                   Filter       NaN     NaN        NaN           NaN\n",
       "3           Wrappper - RFE       NaN     NaN        NaN           NaN\n",
       "4      Wrappper - Stepwise       NaN     NaN        NaN           NaN\n",
       "5         Embedded - Lasso       NaN     NaN        NaN           NaN"
      ]
     },
     "execution_count": 12,
     "metadata": {},
     "output_type": "execute_result"
    }
   ],
   "source": [
    "all_model_summary_df"
   ]
  },
  {
   "cell_type": "markdown",
   "metadata": {},
   "source": [
    "### 2. Basic - Features with Highest Correlation with Target\n",
    "\n",
    "Given we've blindly included all features in the baseline model, let's try and narrow these down to only include features which are highly correlated with 'Life Expectancy'. First, we initiated a correlation matrix and set our target correlation threshold to 0.65."
   ]
  },
  {
   "cell_type": "code",
   "execution_count": 13,
   "metadata": {},
   "outputs": [
    {
     "data": {
      "text/plain": [
       "['Premature_death',\n",
       " 'Poor_physical_health_days',\n",
       " 'Adult_smoking',\n",
       " 'Premature_age-adjusted_mortality',\n",
       " 'Frequent_physical_distress',\n",
       " 'Frequent_mental_distress']"
      ]
     },
     "execution_count": 13,
     "metadata": {},
     "output_type": "execute_result"
    }
   ],
   "source": [
    "initial_matrix = abs(df_clean.corr().Life_expectancy)\n",
    "\n",
    "target_correlation_threshold = 0.65\n",
    "\n",
    "final = list(initial_matrix[(initial_matrix.sort_values(ascending=False) > target_correlation_threshold)].index)\n",
    "final.remove('Life_expectancy')\n",
    "final"
   ]
  },
  {
   "cell_type": "markdown",
   "metadata": {},
   "source": [
    "Using a 0.65 threshold, we've narrowed down our features from 76 to 6 features. Using these 6 features, let's create another OLS model and evaluate its performance."
   ]
  },
  {
   "cell_type": "code",
   "execution_count": 14,
   "metadata": {},
   "outputs": [],
   "source": [
    "basic_correlation_OLS = OLS(y_train, add_constant(X_train[final])).fit()\n",
    "\n",
    "basic_predictions = basic_correlation_OLS.predict(add_constant(X_test[final]))\n",
    "basic_train_r2 = basic_correlation_OLS.rsquared\n",
    "\n",
    "basic_test_r2 = r2_score(y_test, basic_predictions)"
   ]
  },
  {
   "cell_type": "code",
   "execution_count": 15,
   "metadata": {},
   "outputs": [
    {
     "data": {
      "text/html": [
       "<table class=\"simpletable\">\n",
       "<caption>OLS Regression Results</caption>\n",
       "<tr>\n",
       "  <th>Dep. Variable:</th>     <td>Life_expectancy</td> <th>  R-squared:         </th> <td>   0.885</td>\n",
       "</tr>\n",
       "<tr>\n",
       "  <th>Model:</th>                   <td>OLS</td>       <th>  Adj. R-squared:    </th> <td>   0.885</td>\n",
       "</tr>\n",
       "<tr>\n",
       "  <th>Method:</th>             <td>Least Squares</td>  <th>  F-statistic:       </th> <td>   3007.</td>\n",
       "</tr>\n",
       "<tr>\n",
       "  <th>Date:</th>             <td>Sun, 12 Jan 2020</td> <th>  Prob (F-statistic):</th>  <td>  0.00</td> \n",
       "</tr>\n",
       "<tr>\n",
       "  <th>Time:</th>                 <td>20:56:50</td>     <th>  Log-Likelihood:    </th> <td> -3343.8</td>\n",
       "</tr>\n",
       "<tr>\n",
       "  <th>No. Observations:</th>      <td>  2356</td>      <th>  AIC:               </th> <td>   6702.</td>\n",
       "</tr>\n",
       "<tr>\n",
       "  <th>Df Residuals:</th>          <td>  2349</td>      <th>  BIC:               </th> <td>   6742.</td>\n",
       "</tr>\n",
       "<tr>\n",
       "  <th>Df Model:</th>              <td>     6</td>      <th>                     </th>     <td> </td>   \n",
       "</tr>\n",
       "<tr>\n",
       "  <th>Covariance Type:</th>      <td>nonrobust</td>    <th>                     </th>     <td> </td>   \n",
       "</tr>\n",
       "</table>\n",
       "<table class=\"simpletable\">\n",
       "<tr>\n",
       "                  <td></td>                    <th>coef</th>     <th>std err</th>      <th>t</th>      <th>P>|t|</th>  <th>[0.025</th>    <th>0.975]</th>  \n",
       "</tr>\n",
       "<tr>\n",
       "  <th>const</th>                            <td>   88.5765</td> <td>    0.157</td> <td>  565.278</td> <td> 0.000</td> <td>   88.269</td> <td>   88.884</td>\n",
       "</tr>\n",
       "<tr>\n",
       "  <th>Premature_death</th>                  <td> 2.108e-05</td> <td> 2.55e-05</td> <td>    0.826</td> <td> 0.409</td> <td>-2.89e-05</td> <td> 7.11e-05</td>\n",
       "</tr>\n",
       "<tr>\n",
       "  <th>Poor_physical_health_days</th>        <td>   -1.1767</td> <td>    0.163</td> <td>   -7.224</td> <td> 0.000</td> <td>   -1.496</td> <td>   -0.857</td>\n",
       "</tr>\n",
       "<tr>\n",
       "  <th>Adult_smoking</th>                    <td>   -6.4842</td> <td>    1.060</td> <td>   -6.117</td> <td> 0.000</td> <td>   -8.563</td> <td>   -4.405</td>\n",
       "</tr>\n",
       "<tr>\n",
       "  <th>Premature_age-adjusted_mortality</th> <td>   -0.0242</td> <td>    0.001</td> <td>  -37.377</td> <td> 0.000</td> <td>   -0.026</td> <td>   -0.023</td>\n",
       "</tr>\n",
       "<tr>\n",
       "  <th>Frequent_physical_distress</th>       <td>   58.1358</td> <td>    5.056</td> <td>   11.498</td> <td> 0.000</td> <td>   48.221</td> <td>   68.050</td>\n",
       "</tr>\n",
       "<tr>\n",
       "  <th>Frequent_mental_distress</th>         <td>  -21.7542</td> <td>    4.001</td> <td>   -5.438</td> <td> 0.000</td> <td>  -29.599</td> <td>  -13.909</td>\n",
       "</tr>\n",
       "</table>\n",
       "<table class=\"simpletable\">\n",
       "<tr>\n",
       "  <th>Omnibus:</th>       <td>2330.297</td> <th>  Durbin-Watson:     </th>  <td>   2.006</td> \n",
       "</tr>\n",
       "<tr>\n",
       "  <th>Prob(Omnibus):</th>  <td> 0.000</td>  <th>  Jarque-Bera (JB):  </th> <td>171800.511</td>\n",
       "</tr>\n",
       "<tr>\n",
       "  <th>Skew:</th>           <td> 4.630</td>  <th>  Prob(JB):          </th>  <td>    0.00</td> \n",
       "</tr>\n",
       "<tr>\n",
       "  <th>Kurtosis:</th>       <td>43.796</td>  <th>  Cond. No.          </th>  <td>2.27e+06</td> \n",
       "</tr>\n",
       "</table><br/><br/>Warnings:<br/>[1] Standard Errors assume that the covariance matrix of the errors is correctly specified.<br/>[2] The condition number is large, 2.27e+06. This might indicate that there are<br/>strong multicollinearity or other numerical problems."
      ],
      "text/plain": [
       "<class 'statsmodels.iolib.summary.Summary'>\n",
       "\"\"\"\n",
       "                            OLS Regression Results                            \n",
       "==============================================================================\n",
       "Dep. Variable:        Life_expectancy   R-squared:                       0.885\n",
       "Model:                            OLS   Adj. R-squared:                  0.885\n",
       "Method:                 Least Squares   F-statistic:                     3007.\n",
       "Date:                Sun, 12 Jan 2020   Prob (F-statistic):               0.00\n",
       "Time:                        20:56:50   Log-Likelihood:                -3343.8\n",
       "No. Observations:                2356   AIC:                             6702.\n",
       "Df Residuals:                    2349   BIC:                             6742.\n",
       "Df Model:                           6                                         \n",
       "Covariance Type:            nonrobust                                         \n",
       "====================================================================================================\n",
       "                                       coef    std err          t      P>|t|      [0.025      0.975]\n",
       "----------------------------------------------------------------------------------------------------\n",
       "const                               88.5765      0.157    565.278      0.000      88.269      88.884\n",
       "Premature_death                   2.108e-05   2.55e-05      0.826      0.409   -2.89e-05    7.11e-05\n",
       "Poor_physical_health_days           -1.1767      0.163     -7.224      0.000      -1.496      -0.857\n",
       "Adult_smoking                       -6.4842      1.060     -6.117      0.000      -8.563      -4.405\n",
       "Premature_age-adjusted_mortality    -0.0242      0.001    -37.377      0.000      -0.026      -0.023\n",
       "Frequent_physical_distress          58.1358      5.056     11.498      0.000      48.221      68.050\n",
       "Frequent_mental_distress           -21.7542      4.001     -5.438      0.000     -29.599     -13.909\n",
       "==============================================================================\n",
       "Omnibus:                     2330.297   Durbin-Watson:                   2.006\n",
       "Prob(Omnibus):                  0.000   Jarque-Bera (JB):           171800.511\n",
       "Skew:                           4.630   Prob(JB):                         0.00\n",
       "Kurtosis:                      43.796   Cond. No.                     2.27e+06\n",
       "==============================================================================\n",
       "\n",
       "Warnings:\n",
       "[1] Standard Errors assume that the covariance matrix of the errors is correctly specified.\n",
       "[2] The condition number is large, 2.27e+06. This might indicate that there are\n",
       "strong multicollinearity or other numerical problems.\n",
       "\"\"\""
      ]
     },
     "execution_count": 15,
     "metadata": {},
     "output_type": "execute_result"
    }
   ],
   "source": [
    "basic_correlation_OLS.summary()"
   ]
  },
  {
   "cell_type": "markdown",
   "metadata": {},
   "source": [
    "Looks like the 'Premature_death' feature is not significant according its p-value. Let's re-run the model again excluding this feature."
   ]
  },
  {
   "cell_type": "code",
   "execution_count": 16,
   "metadata": {},
   "outputs": [
    {
     "data": {
      "text/plain": [
       "['Poor_physical_health_days',\n",
       " 'Adult_smoking',\n",
       " 'Premature_age-adjusted_mortality',\n",
       " 'Frequent_physical_distress',\n",
       " 'Frequent_mental_distress']"
      ]
     },
     "execution_count": 16,
     "metadata": {},
     "output_type": "execute_result"
    }
   ],
   "source": [
    "final.remove('Premature_death')\n",
    "final"
   ]
  },
  {
   "cell_type": "code",
   "execution_count": 17,
   "metadata": {},
   "outputs": [],
   "source": [
    "basic_correlation_OLS = OLS(y_train, add_constant(X_train[final])).fit()\n",
    "\n",
    "basic_predictions = basic_correlation_OLS.predict(add_constant(X_test[final]))\n",
    "basic_train_r2 = basic_correlation_OLS.rsquared\n",
    "\n",
    "basic_test_r2 = r2_score(y_test, basic_predictions)"
   ]
  },
  {
   "cell_type": "code",
   "execution_count": 18,
   "metadata": {},
   "outputs": [
    {
     "data": {
      "text/html": [
       "<table class=\"simpletable\">\n",
       "<caption>OLS Regression Results</caption>\n",
       "<tr>\n",
       "  <th>Dep. Variable:</th>     <td>Life_expectancy</td> <th>  R-squared:         </th> <td>   0.885</td>\n",
       "</tr>\n",
       "<tr>\n",
       "  <th>Model:</th>                   <td>OLS</td>       <th>  Adj. R-squared:    </th> <td>   0.885</td>\n",
       "</tr>\n",
       "<tr>\n",
       "  <th>Method:</th>             <td>Least Squares</td>  <th>  F-statistic:       </th> <td>   3609.</td>\n",
       "</tr>\n",
       "<tr>\n",
       "  <th>Date:</th>             <td>Sun, 12 Jan 2020</td> <th>  Prob (F-statistic):</th>  <td>  0.00</td> \n",
       "</tr>\n",
       "<tr>\n",
       "  <th>Time:</th>                 <td>20:56:50</td>     <th>  Log-Likelihood:    </th> <td> -3344.2</td>\n",
       "</tr>\n",
       "<tr>\n",
       "  <th>No. Observations:</th>      <td>  2356</td>      <th>  AIC:               </th> <td>   6700.</td>\n",
       "</tr>\n",
       "<tr>\n",
       "  <th>Df Residuals:</th>          <td>  2350</td>      <th>  BIC:               </th> <td>   6735.</td>\n",
       "</tr>\n",
       "<tr>\n",
       "  <th>Df Model:</th>              <td>     5</td>      <th>                     </th>     <td> </td>   \n",
       "</tr>\n",
       "<tr>\n",
       "  <th>Covariance Type:</th>      <td>nonrobust</td>    <th>                     </th>     <td> </td>   \n",
       "</tr>\n",
       "</table>\n",
       "<table class=\"simpletable\">\n",
       "<tr>\n",
       "                  <td></td>                    <th>coef</th>     <th>std err</th>      <th>t</th>      <th>P>|t|</th>  <th>[0.025</th>    <th>0.975]</th>  \n",
       "</tr>\n",
       "<tr>\n",
       "  <th>const</th>                            <td>   88.5568</td> <td>    0.155</td> <td>  571.848</td> <td> 0.000</td> <td>   88.253</td> <td>   88.861</td>\n",
       "</tr>\n",
       "<tr>\n",
       "  <th>Poor_physical_health_days</th>        <td>   -1.1993</td> <td>    0.161</td> <td>   -7.469</td> <td> 0.000</td> <td>   -1.514</td> <td>   -0.884</td>\n",
       "</tr>\n",
       "<tr>\n",
       "  <th>Adult_smoking</th>                    <td>   -6.5190</td> <td>    1.059</td> <td>   -6.155</td> <td> 0.000</td> <td>   -8.596</td> <td>   -4.442</td>\n",
       "</tr>\n",
       "<tr>\n",
       "  <th>Premature_age-adjusted_mortality</th> <td>   -0.0238</td> <td>    0.000</td> <td>  -84.558</td> <td> 0.000</td> <td>   -0.024</td> <td>   -0.023</td>\n",
       "</tr>\n",
       "<tr>\n",
       "  <th>Frequent_physical_distress</th>       <td>   58.4547</td> <td>    5.041</td> <td>   11.596</td> <td> 0.000</td> <td>   48.570</td> <td>   68.340</td>\n",
       "</tr>\n",
       "<tr>\n",
       "  <th>Frequent_mental_distress</th>         <td>  -21.2764</td> <td>    3.958</td> <td>   -5.375</td> <td> 0.000</td> <td>  -29.038</td> <td>  -13.514</td>\n",
       "</tr>\n",
       "</table>\n",
       "<table class=\"simpletable\">\n",
       "<tr>\n",
       "  <th>Omnibus:</th>       <td>2347.908</td> <th>  Durbin-Watson:     </th>  <td>   2.005</td> \n",
       "</tr>\n",
       "<tr>\n",
       "  <th>Prob(Omnibus):</th>  <td> 0.000</td>  <th>  Jarque-Bera (JB):  </th> <td>176856.921</td>\n",
       "</tr>\n",
       "<tr>\n",
       "  <th>Skew:</th>           <td> 4.682</td>  <th>  Prob(JB):          </th>  <td>    0.00</td> \n",
       "</tr>\n",
       "<tr>\n",
       "  <th>Kurtosis:</th>       <td>44.399</td>  <th>  Cond. No.          </th>  <td>1.08e+05</td> \n",
       "</tr>\n",
       "</table><br/><br/>Warnings:<br/>[1] Standard Errors assume that the covariance matrix of the errors is correctly specified.<br/>[2] The condition number is large, 1.08e+05. This might indicate that there are<br/>strong multicollinearity or other numerical problems."
      ],
      "text/plain": [
       "<class 'statsmodels.iolib.summary.Summary'>\n",
       "\"\"\"\n",
       "                            OLS Regression Results                            \n",
       "==============================================================================\n",
       "Dep. Variable:        Life_expectancy   R-squared:                       0.885\n",
       "Model:                            OLS   Adj. R-squared:                  0.885\n",
       "Method:                 Least Squares   F-statistic:                     3609.\n",
       "Date:                Sun, 12 Jan 2020   Prob (F-statistic):               0.00\n",
       "Time:                        20:56:50   Log-Likelihood:                -3344.2\n",
       "No. Observations:                2356   AIC:                             6700.\n",
       "Df Residuals:                    2350   BIC:                             6735.\n",
       "Df Model:                           5                                         \n",
       "Covariance Type:            nonrobust                                         \n",
       "====================================================================================================\n",
       "                                       coef    std err          t      P>|t|      [0.025      0.975]\n",
       "----------------------------------------------------------------------------------------------------\n",
       "const                               88.5568      0.155    571.848      0.000      88.253      88.861\n",
       "Poor_physical_health_days           -1.1993      0.161     -7.469      0.000      -1.514      -0.884\n",
       "Adult_smoking                       -6.5190      1.059     -6.155      0.000      -8.596      -4.442\n",
       "Premature_age-adjusted_mortality    -0.0238      0.000    -84.558      0.000      -0.024      -0.023\n",
       "Frequent_physical_distress          58.4547      5.041     11.596      0.000      48.570      68.340\n",
       "Frequent_mental_distress           -21.2764      3.958     -5.375      0.000     -29.038     -13.514\n",
       "==============================================================================\n",
       "Omnibus:                     2347.908   Durbin-Watson:                   2.005\n",
       "Prob(Omnibus):                  0.000   Jarque-Bera (JB):           176856.921\n",
       "Skew:                           4.682   Prob(JB):                         0.00\n",
       "Kurtosis:                      44.399   Cond. No.                     1.08e+05\n",
       "==============================================================================\n",
       "\n",
       "Warnings:\n",
       "[1] Standard Errors assume that the covariance matrix of the errors is correctly specified.\n",
       "[2] The condition number is large, 1.08e+05. This might indicate that there are\n",
       "strong multicollinearity or other numerical problems.\n",
       "\"\"\""
      ]
     },
     "execution_count": 18,
     "metadata": {},
     "output_type": "execute_result"
    }
   ],
   "source": [
    "basic_correlation_OLS.summary()"
   ]
  },
  {
   "cell_type": "markdown",
   "metadata": {},
   "source": [
    "Good, dropping the feature does not impact our R2. Let's now conduct further analysis on the R-Squares, Residuals' Homoscedasticity and Normality"
   ]
  },
  {
   "cell_type": "code",
   "execution_count": 19,
   "metadata": {},
   "outputs": [
    {
     "name": "stdout",
     "output_type": "stream",
     "text": [
      "Basic Train R-Squared: 0.88\n",
      "Basic Test R-Squared: 0.82\n",
      "\n",
      "\n",
      "Check for Homoscedasticity Assumption\n"
     ]
    },
    {
     "data": {
      "image/png": "[encoded data removed]",
      "text/plain": [
       "<Figure size 432x288 with 1 Axes>"
      ]
     },
     "metadata": {
      "needs_background": "light"
     },
     "output_type": "display_data"
    },
    {
     "name": "stdout",
     "output_type": "stream",
     "text": [
      "Check for Residuals Normality\n"
     ]
    },
    {
     "data": {
      "image/png": "[encoded data removed]",
      "text/plain": [
       "<Figure size 432x288 with 1 Axes>"
      ]
     },
     "metadata": {
      "needs_background": "light"
     },
     "output_type": "display_data"
    }
   ],
   "source": [
    "basic_errors = y_test - basic_predictions\n",
    "\n",
    "print ('Basic Train R-Squared:', round(basic_train_r2, 2))\n",
    "print ('Basic Test R-Squared:', round(basic_test_r2, 2))\n",
    "\n",
    "print ('\\n')\n",
    "\n",
    "print ('Check for Homoscedasticity Assumption')\n",
    "plt.figure(figsize = (6,4))\n",
    "plt.scatter(x = y_test, y = basic_errors)\n",
    "plt.show()\n",
    "\n",
    "print ('Check for Residuals Normality')\n",
    "fig = sm.graphics.qqplot(basic_correlation_OLS.resid, dist=stats.norm, line='45', fit=True)"
   ]
  },
  {
   "cell_type": "code",
   "execution_count": 20,
   "metadata": {},
   "outputs": [
    {
     "data": {
      "image/png": "[encoded data removed]",
      "text/plain": [
       "<Figure size 432x288 with 1 Axes>"
      ]
     },
     "metadata": {
      "needs_background": "light"
     },
     "output_type": "display_data"
    }
   ],
   "source": [
    "coef_basic = basic_correlation_OLS.params.sort_values()\n",
    "coef_basic[:5].plot(kind = 'bar', figsize = (6,4))\n",
    "plt.show()"
   ]
  },
  {
   "cell_type": "code",
   "execution_count": 21,
   "metadata": {},
   "outputs": [],
   "source": [
    "all_model_summary_df.loc[all_model_summary_df.model == 'Basic - Top Correlation', 'n_features'] = len(basic_correlation_OLS.pvalues)\n",
    "all_model_summary_df.loc[all_model_summary_df.model == 'Basic - Top Correlation', 'AIC'] = basic_correlation_OLS.aic\n",
    "all_model_summary_df.loc[all_model_summary_df.model == 'Basic - Top Correlation', 'R2_test'] = basic_test_r2\n",
    "all_model_summary_df.loc[all_model_summary_df.model == 'Basic - Top Correlation', '>0.05_pvalues'] = sum(basic_correlation_OLS.pvalues > 0.05)"
   ]
  },
  {
   "cell_type": "code",
   "execution_count": 22,
   "metadata": {},
   "outputs": [
    {
     "data": {
      "text/html": [
       "<div>\n",
       "<style scoped>\n",
       "    .dataframe tbody tr th:only-of-type {\n",
       "        vertical-align: middle;\n",
       "    }\n",
       "\n",
       "    .dataframe tbody tr th {\n",
       "        vertical-align: top;\n",
       "    }\n",
       "\n",
       "    .dataframe thead th {\n",
       "        text-align: right;\n",
       "    }\n",
       "</style>\n",
       "<table border=\"1\" class=\"dataframe\">\n",
       "  <thead>\n",
       "    <tr style=\"text-align: right;\">\n",
       "      <th></th>\n",
       "      <th>model</th>\n",
       "      <th>R2_test</th>\n",
       "      <th>AIC</th>\n",
       "      <th>n_features</th>\n",
       "      <th>&gt;0.05_pvalues</th>\n",
       "    </tr>\n",
       "  </thead>\n",
       "  <tbody>\n",
       "    <tr>\n",
       "      <th>0</th>\n",
       "      <td>Baseline</td>\n",
       "      <td>0.835919</td>\n",
       "      <td>6151.3</td>\n",
       "      <td>73</td>\n",
       "      <td>46</td>\n",
       "    </tr>\n",
       "    <tr>\n",
       "      <th>1</th>\n",
       "      <td>Basic - Top Correlation</td>\n",
       "      <td>0.817139</td>\n",
       "      <td>6700.37</td>\n",
       "      <td>6</td>\n",
       "      <td>0</td>\n",
       "    </tr>\n",
       "    <tr>\n",
       "      <th>2</th>\n",
       "      <td>Filter</td>\n",
       "      <td>NaN</td>\n",
       "      <td>NaN</td>\n",
       "      <td>NaN</td>\n",
       "      <td>NaN</td>\n",
       "    </tr>\n",
       "    <tr>\n",
       "      <th>3</th>\n",
       "      <td>Wrappper - RFE</td>\n",
       "      <td>NaN</td>\n",
       "      <td>NaN</td>\n",
       "      <td>NaN</td>\n",
       "      <td>NaN</td>\n",
       "    </tr>\n",
       "    <tr>\n",
       "      <th>4</th>\n",
       "      <td>Wrappper - Stepwise</td>\n",
       "      <td>NaN</td>\n",
       "      <td>NaN</td>\n",
       "      <td>NaN</td>\n",
       "      <td>NaN</td>\n",
       "    </tr>\n",
       "    <tr>\n",
       "      <th>5</th>\n",
       "      <td>Embedded - Lasso</td>\n",
       "      <td>NaN</td>\n",
       "      <td>NaN</td>\n",
       "      <td>NaN</td>\n",
       "      <td>NaN</td>\n",
       "    </tr>\n",
       "  </tbody>\n",
       "</table>\n",
       "</div>"
      ],
      "text/plain": [
       "                     model   R2_test      AIC n_features >0.05_pvalues\n",
       "0                 Baseline  0.835919   6151.3         73            46\n",
       "1  Basic - Top Correlation  0.817139  6700.37          6             0\n",
       "2                   Filter       NaN      NaN        NaN           NaN\n",
       "3           Wrappper - RFE       NaN      NaN        NaN           NaN\n",
       "4      Wrappper - Stepwise       NaN      NaN        NaN           NaN\n",
       "5         Embedded - Lasso       NaN      NaN        NaN           NaN"
      ]
     },
     "execution_count": 22,
     "metadata": {},
     "output_type": "execute_result"
    }
   ],
   "source": [
    "all_model_summary_df"
   ]
  },
  {
   "cell_type": "markdown",
   "metadata": {},
   "source": [
    "Just by using the 6 top correlated features, we get almost similar results to our Baseline model and is much more user friendly for our client!"
   ]
  },
  {
   "cell_type": "markdown",
   "metadata": {},
   "source": [
    "### 3. Filter Method - drop features with no or low variance & high correlation with other features\n",
    "\n",
    "One of the pitfalls of the above method is that we might have potentially ignored other useful features that might be of use to our client. Also, the baseline model might include various highly correlated features which violates the assumptions of a regression model. As such, let's try out best to find a middle ground by using the filter methods, first by:\n",
    "\n",
    "- dropping features with no or low variance. These features typically do not add much predictive value\n",
    "- dropping features which are highly correlated\n",
    "\n",
    "Let's start of by dropping features with no or low variance. We can use Sklearn's variance threshold tool to remove features with low threshold (we set it at 0.025)."
   ]
  },
  {
   "cell_type": "code",
   "execution_count": 23,
   "metadata": {},
   "outputs": [
    {
     "data": {
      "text/plain": [
       "VarianceThreshold(threshold=0.0)"
      ]
     },
     "execution_count": 23,
     "metadata": {},
     "output_type": "execute_result"
    }
   ],
   "source": [
    "variance_threshold = 0.00\n",
    "\n",
    "low_var_filter = VarianceThreshold(threshold = variance_threshold)\n",
    "low_var_filter.fit(X_train)"
   ]
  },
  {
   "cell_type": "code",
   "execution_count": 24,
   "metadata": {},
   "outputs": [
    {
     "name": "stdout",
     "output_type": "stream",
     "text": [
      "Number of low variance features: 2\n"
     ]
    }
   ],
   "source": [
    "dropped_cols = X_train.columns[low_var_filter.get_support() == False]\n",
    "print ('Number of low variance features:', len(dropped_cols))"
   ]
  },
  {
   "cell_type": "code",
   "execution_count": 25,
   "metadata": {},
   "outputs": [],
   "source": [
    "High_Var_Features = X_train.drop(dropped_cols, axis = 1)"
   ]
  },
  {
   "cell_type": "markdown",
   "metadata": {},
   "source": [
    "Now we have removed them, let's further narrow down features by excluding highly correlated features. We have defined highly correlated features as those with pearson's r of 0.7 or more"
   ]
  },
  {
   "cell_type": "code",
   "execution_count": 26,
   "metadata": {},
   "outputs": [
    {
     "data": {
      "text/plain": [
       "{'%_not_proficient_in_English',\n",
       " 'Adult_smoking',\n",
       " 'Children_eligible_for_free_or_reduced_price_lunch',\n",
       " 'Children_in_poverty',\n",
       " 'Diabetes_prevalence',\n",
       " 'Food_insecurity',\n",
       " 'Frequent_mental_distress',\n",
       " 'Frequent_physical_distress',\n",
       " 'Limited_access_to_healthy_foods',\n",
       " 'Median_household_income',\n",
       " 'Percentage_of_households_with_high_housing_costs',\n",
       " 'Poor_mental_health_days',\n",
       " 'Poor_physical_health_days',\n",
       " 'Premature_age-adjusted_mortality',\n",
       " 'Severe_housing_cost_burden',\n",
       " 'Teen_births',\n",
       " 'Uninsured_adults',\n",
       " 'Uninsured_children'}"
      ]
     },
     "execution_count": 26,
     "metadata": {},
     "output_type": "execute_result"
    }
   ],
   "source": [
    "corr_matrix = High_Var_Features.corr()\n",
    "correlated_features = set()\n",
    "\n",
    "corr_threshold = 0.7\n",
    "\n",
    "for i in range(len(corr_matrix.columns)):\n",
    "    for j in range(i):\n",
    "        if abs(corr_matrix.iloc[i, j]) > corr_threshold:\n",
    "            colname = corr_matrix.columns[i]\n",
    "            correlated_features.add(colname)\n",
    "\n",
    "correlated_features"
   ]
  },
  {
   "cell_type": "code",
   "execution_count": 27,
   "metadata": {},
   "outputs": [],
   "source": [
    "High_Var_Features_Low_Corr = High_Var_Features.drop(list(correlated_features), axis = 1)"
   ]
  },
  {
   "cell_type": "code",
   "execution_count": 28,
   "metadata": {},
   "outputs": [],
   "source": [
    "filter_OLS = OLS(y_train, add_constant(X_train[High_Var_Features_Low_Corr.columns])).fit()\n",
    "\n",
    "filter_predictions = filter_OLS.predict(add_constant(X_test[High_Var_Features_Low_Corr.columns]))\n",
    "filter_train_r2 = filter_OLS.rsquared\n",
    "\n",
    "filter_test_r2 = r2_score(y_test, filter_predictions)"
   ]
  },
  {
   "cell_type": "code",
   "execution_count": 29,
   "metadata": {},
   "outputs": [
    {
     "data": {
      "text/html": [
       "<table class=\"simpletable\">\n",
       "<caption>OLS Regression Results</caption>\n",
       "<tr>\n",
       "  <th>Dep. Variable:</th>     <td>Life_expectancy</td> <th>  R-squared:         </th> <td>   0.875</td>\n",
       "</tr>\n",
       "<tr>\n",
       "  <th>Model:</th>                   <td>OLS</td>       <th>  Adj. R-squared:    </th> <td>   0.872</td>\n",
       "</tr>\n",
       "<tr>\n",
       "  <th>Method:</th>             <td>Least Squares</td>  <th>  F-statistic:       </th> <td>   298.5</td>\n",
       "</tr>\n",
       "<tr>\n",
       "  <th>Date:</th>             <td>Sun, 12 Jan 2020</td> <th>  Prob (F-statistic):</th>  <td>  0.00</td> \n",
       "</tr>\n",
       "<tr>\n",
       "  <th>Time:</th>                 <td>20:56:51</td>     <th>  Log-Likelihood:    </th> <td> -3439.3</td>\n",
       "</tr>\n",
       "<tr>\n",
       "  <th>No. Observations:</th>      <td>  2356</td>      <th>  AIC:               </th> <td>   6989.</td>\n",
       "</tr>\n",
       "<tr>\n",
       "  <th>Df Residuals:</th>          <td>  2301</td>      <th>  BIC:               </th> <td>   7306.</td>\n",
       "</tr>\n",
       "<tr>\n",
       "  <th>Df Model:</th>              <td>    54</td>      <th>                     </th>     <td> </td>   \n",
       "</tr>\n",
       "<tr>\n",
       "  <th>Covariance Type:</th>      <td>nonrobust</td>    <th>                     </th>     <td> </td>   \n",
       "</tr>\n",
       "</table>\n",
       "<table class=\"simpletable\">\n",
       "<tr>\n",
       "                                    <td></td>                                      <th>coef</th>     <th>std err</th>      <th>t</th>      <th>P>|t|</th>  <th>[0.025</th>    <th>0.975]</th>  \n",
       "</tr>\n",
       "<tr>\n",
       "  <th>const</th>                                                                <td>   86.5615</td> <td>    2.631</td> <td>   32.897</td> <td> 0.000</td> <td>   81.402</td> <td>   91.722</td>\n",
       "</tr>\n",
       "<tr>\n",
       "  <th>County_Ranked_(Yes=1/No=0)</th>                                           <td>    0.7491</td> <td>    0.195</td> <td>    3.851</td> <td> 0.000</td> <td>    0.368</td> <td>    1.131</td>\n",
       "</tr>\n",
       "<tr>\n",
       "  <th>Premature_death</th>                                                      <td>   -0.0008</td> <td> 1.74e-05</td> <td>  -44.881</td> <td> 0.000</td> <td>   -0.001</td> <td>   -0.001</td>\n",
       "</tr>\n",
       "<tr>\n",
       "  <th>Poor_or_fair_health</th>                                                  <td>    0.1945</td> <td>    1.349</td> <td>    0.144</td> <td> 0.885</td> <td>   -2.452</td> <td>    2.840</td>\n",
       "</tr>\n",
       "<tr>\n",
       "  <th>Low_birthweight</th>                                                      <td>   -6.1250</td> <td>    1.526</td> <td>   -4.014</td> <td> 0.000</td> <td>   -9.117</td> <td>   -3.133</td>\n",
       "</tr>\n",
       "<tr>\n",
       "  <th>Adult_obesity</th>                                                        <td>   -1.6766</td> <td>    0.802</td> <td>   -2.091</td> <td> 0.037</td> <td>   -3.249</td> <td>   -0.105</td>\n",
       "</tr>\n",
       "<tr>\n",
       "  <th>Food_environment_index</th>                                               <td>    0.0020</td> <td>    0.032</td> <td>    0.062</td> <td> 0.950</td> <td>   -0.061</td> <td>    0.065</td>\n",
       "</tr>\n",
       "<tr>\n",
       "  <th>Physical_inactivity</th>                                                  <td>   -3.3447</td> <td>    0.819</td> <td>   -4.082</td> <td> 0.000</td> <td>   -4.952</td> <td>   -1.738</td>\n",
       "</tr>\n",
       "<tr>\n",
       "  <th>Access_to_exercise_opportunities</th>                                     <td>   -0.0536</td> <td>    0.139</td> <td>   -0.386</td> <td> 0.700</td> <td>   -0.326</td> <td>    0.219</td>\n",
       "</tr>\n",
       "<tr>\n",
       "  <th>Excessive_drinking</th>                                                   <td>    2.5315</td> <td>    1.188</td> <td>    2.131</td> <td> 0.033</td> <td>    0.202</td> <td>    4.861</td>\n",
       "</tr>\n",
       "<tr>\n",
       "  <th>Alcohol-impaired_driving_deaths</th>                                      <td>   -0.0884</td> <td>    0.145</td> <td>   -0.611</td> <td> 0.541</td> <td>   -0.372</td> <td>    0.195</td>\n",
       "</tr>\n",
       "<tr>\n",
       "  <th>Sexually_transmitted_infections</th>                                      <td>   -0.0005</td> <td>    0.000</td> <td>   -3.433</td> <td> 0.001</td> <td>   -0.001</td> <td>   -0.000</td>\n",
       "</tr>\n",
       "<tr>\n",
       "  <th>Uninsured</th>                                                            <td>   -1.3925</td> <td>    0.731</td> <td>   -1.906</td> <td> 0.057</td> <td>   -2.825</td> <td>    0.040</td>\n",
       "</tr>\n",
       "<tr>\n",
       "  <th>Primary_care_physicians</th>                                              <td> -301.5995</td> <td>   93.378</td> <td>   -3.230</td> <td> 0.001</td> <td> -484.712</td> <td> -118.487</td>\n",
       "</tr>\n",
       "<tr>\n",
       "  <th>Dentists</th>                                                             <td>  -83.8419</td> <td>   90.947</td> <td>   -0.922</td> <td> 0.357</td> <td> -262.188</td> <td>   94.504</td>\n",
       "</tr>\n",
       "<tr>\n",
       "  <th>Mental_health_providers</th>                                              <td>  -54.1855</td> <td>   18.435</td> <td>   -2.939</td> <td> 0.003</td> <td>  -90.337</td> <td>  -18.034</td>\n",
       "</tr>\n",
       "<tr>\n",
       "  <th>Preventable_hospital_stays</th>                                           <td>-4.184e-05</td> <td> 1.42e-05</td> <td>   -2.955</td> <td> 0.003</td> <td>-6.96e-05</td> <td>-1.41e-05</td>\n",
       "</tr>\n",
       "<tr>\n",
       "  <th>Mammography_screening</th>                                                <td>    0.0574</td> <td>    0.400</td> <td>    0.143</td> <td> 0.886</td> <td>   -0.728</td> <td>    0.843</td>\n",
       "</tr>\n",
       "<tr>\n",
       "  <th>Flu_vaccinations</th>                                                     <td>    0.2196</td> <td>    0.307</td> <td>    0.716</td> <td> 0.474</td> <td>   -0.382</td> <td>    0.821</td>\n",
       "</tr>\n",
       "<tr>\n",
       "  <th>High_school_graduation</th>                                               <td>    0.4435</td> <td>    0.351</td> <td>    1.262</td> <td> 0.207</td> <td>   -0.246</td> <td>    1.133</td>\n",
       "</tr>\n",
       "<tr>\n",
       "  <th>Some_college</th>                                                         <td>    1.0312</td> <td>    0.347</td> <td>    2.968</td> <td> 0.003</td> <td>    0.350</td> <td>    1.712</td>\n",
       "</tr>\n",
       "<tr>\n",
       "  <th>Unemployment</th>                                                         <td>   -4.6100</td> <td>    1.950</td> <td>   -2.364</td> <td> 0.018</td> <td>   -8.434</td> <td>   -0.786</td>\n",
       "</tr>\n",
       "<tr>\n",
       "  <th>Income_inequality</th>                                                    <td>    0.0315</td> <td>    0.042</td> <td>    0.757</td> <td> 0.449</td> <td>   -0.050</td> <td>    0.113</td>\n",
       "</tr>\n",
       "<tr>\n",
       "  <th>Children_in_single-parent_households</th>                                 <td>   -1.5252</td> <td>    0.382</td> <td>   -3.993</td> <td> 0.000</td> <td>   -2.274</td> <td>   -0.776</td>\n",
       "</tr>\n",
       "<tr>\n",
       "  <th>Social_associations</th>                                                  <td>   -0.0159</td> <td>    0.004</td> <td>   -3.809</td> <td> 0.000</td> <td>   -0.024</td> <td>   -0.008</td>\n",
       "</tr>\n",
       "<tr>\n",
       "  <th>Violent_crime</th>                                                        <td>   -0.0005</td> <td>    0.000</td> <td>   -3.301</td> <td> 0.001</td> <td>   -0.001</td> <td>   -0.000</td>\n",
       "</tr>\n",
       "<tr>\n",
       "  <th>Injury_deaths</th>                                                        <td>   -0.0051</td> <td>    0.002</td> <td>   -3.021</td> <td> 0.003</td> <td>   -0.008</td> <td>   -0.002</td>\n",
       "</tr>\n",
       "<tr>\n",
       "  <th>Air_pollution_-_particulate_matter</th>                                   <td>   -0.1145</td> <td>    0.017</td> <td>   -6.688</td> <td> 0.000</td> <td>   -0.148</td> <td>   -0.081</td>\n",
       "</tr>\n",
       "<tr>\n",
       "  <th>Drinking_water_violations</th>                                            <td>   -0.0158</td> <td>    0.048</td> <td>   -0.330</td> <td> 0.741</td> <td>   -0.110</td> <td>    0.078</td>\n",
       "</tr>\n",
       "<tr>\n",
       "  <th>Severe_housing_problems</th>                                              <td>   -2.9101</td> <td>    0.980</td> <td>   -2.969</td> <td> 0.003</td> <td>   -4.832</td> <td>   -0.988</td>\n",
       "</tr>\n",
       "<tr>\n",
       "  <th>Percentage_of_households_with_overcrowding</th>                           <td>   -2.0561</td> <td>    1.975</td> <td>   -1.041</td> <td> 0.298</td> <td>   -5.929</td> <td>    1.817</td>\n",
       "</tr>\n",
       "<tr>\n",
       "  <th>Percentage_of_households_with_lack_of_kitchen_or_plumbing_facilities</th> <td>    3.4070</td> <td>    1.916</td> <td>    1.778</td> <td> 0.076</td> <td>   -0.351</td> <td>    7.165</td>\n",
       "</tr>\n",
       "<tr>\n",
       "  <th>Driving_alone_to_work</th>                                                <td>   -3.2135</td> <td>    0.469</td> <td>   -6.846</td> <td> 0.000</td> <td>   -4.134</td> <td>   -2.293</td>\n",
       "</tr>\n",
       "<tr>\n",
       "  <th>Long_commute_-_driving_alone</th>                                         <td>   -0.1501</td> <td>    0.270</td> <td>   -0.555</td> <td> 0.579</td> <td>   -0.680</td> <td>    0.380</td>\n",
       "</tr>\n",
       "<tr>\n",
       "  <th>Child_mortality</th>                                                      <td>    0.0006</td> <td>    0.001</td> <td>    0.433</td> <td> 0.665</td> <td>   -0.002</td> <td>    0.003</td>\n",
       "</tr>\n",
       "<tr>\n",
       "  <th>HIV_prevalence</th>                                                       <td>   -0.0004</td> <td>    0.000</td> <td>   -2.280</td> <td> 0.023</td> <td>   -0.001</td> <td>-6.19e-05</td>\n",
       "</tr>\n",
       "<tr>\n",
       "  <th>Drug_overdose_deaths</th>                                                 <td>    0.0060</td> <td>    0.003</td> <td>    1.885</td> <td> 0.060</td> <td>   -0.000</td> <td>    0.012</td>\n",
       "</tr>\n",
       "<tr>\n",
       "  <th>Motor_vehicle_crash_deaths</th>                                           <td>   -0.0130</td> <td>    0.004</td> <td>   -3.348</td> <td> 0.001</td> <td>   -0.021</td> <td>   -0.005</td>\n",
       "</tr>\n",
       "<tr>\n",
       "  <th>Insufficient_sleep</th>                                                   <td>   -1.8026</td> <td>    1.084</td> <td>   -1.662</td> <td> 0.097</td> <td>   -3.929</td> <td>    0.324</td>\n",
       "</tr>\n",
       "<tr>\n",
       "  <th>Other_primary_care_providers</th>                                         <td>  109.8288</td> <td>   53.361</td> <td>    2.058</td> <td> 0.040</td> <td>    5.189</td> <td>  214.469</td>\n",
       "</tr>\n",
       "<tr>\n",
       "  <th>Residential_segregation_-_Black/White</th>                                <td>    0.0052</td> <td>    0.002</td> <td>    2.295</td> <td> 0.022</td> <td>    0.001</td> <td>    0.010</td>\n",
       "</tr>\n",
       "<tr>\n",
       "  <th>Residential_segregation_-_non-white/white</th>                            <td> 3.942e-05</td> <td>    0.002</td> <td>    0.017</td> <td> 0.986</td> <td>   -0.004</td> <td>    0.004</td>\n",
       "</tr>\n",
       "<tr>\n",
       "  <th>Firearm_fatalities</th>                                                   <td>   -0.0019</td> <td>    0.005</td> <td>   -0.366</td> <td> 0.715</td> <td>   -0.012</td> <td>    0.008</td>\n",
       "</tr>\n",
       "<tr>\n",
       "  <th>Homeownership</th>                                                        <td>    0.0577</td> <td>    0.492</td> <td>    0.117</td> <td> 0.907</td> <td>   -0.907</td> <td>    1.022</td>\n",
       "</tr>\n",
       "<tr>\n",
       "  <th>Population</th>                                                           <td> 6.955e-08</td> <td> 8.01e-08</td> <td>    0.868</td> <td> 0.385</td> <td>-8.75e-08</td> <td> 2.27e-07</td>\n",
       "</tr>\n",
       "<tr>\n",
       "  <th>%_below_18_years_of_age</th>                                              <td>   -4.6801</td> <td>    1.313</td> <td>   -3.564</td> <td> 0.000</td> <td>   -7.255</td> <td>   -2.105</td>\n",
       "</tr>\n",
       "<tr>\n",
       "  <th>%_65_and_older</th>                                                       <td>    6.1092</td> <td>    1.099</td> <td>    5.559</td> <td> 0.000</td> <td>    3.954</td> <td>    8.264</td>\n",
       "</tr>\n",
       "<tr>\n",
       "  <th>%_Non-Hispanic_African_American</th>                                      <td>    4.1194</td> <td>    2.507</td> <td>    1.643</td> <td> 0.100</td> <td>   -0.796</td> <td>    9.035</td>\n",
       "</tr>\n",
       "<tr>\n",
       "  <th>%_American_Indian_and_Alaskan_Native</th>                                 <td>    5.0314</td> <td>    2.620</td> <td>    1.920</td> <td> 0.055</td> <td>   -0.107</td> <td>   10.170</td>\n",
       "</tr>\n",
       "<tr>\n",
       "  <th>%_Asian</th>                                                              <td>   11.0788</td> <td>    2.849</td> <td>    3.889</td> <td> 0.000</td> <td>    5.492</td> <td>   16.666</td>\n",
       "</tr>\n",
       "<tr>\n",
       "  <th>%_Native_Hawaiian/Other_Pacific_Islander</th>                             <td>  -10.7727</td> <td>    4.111</td> <td>   -2.620</td> <td> 0.009</td> <td>  -18.835</td> <td>   -2.710</td>\n",
       "</tr>\n",
       "<tr>\n",
       "  <th>%_Hispanic</th>                                                           <td>    2.9862</td> <td>    2.409</td> <td>    1.240</td> <td> 0.215</td> <td>   -1.737</td> <td>    7.709</td>\n",
       "</tr>\n",
       "<tr>\n",
       "  <th>%_Non-Hispanic_white</th>                                                 <td>   -0.0637</td> <td>    2.498</td> <td>   -0.025</td> <td> 0.980</td> <td>   -4.962</td> <td>    4.835</td>\n",
       "</tr>\n",
       "<tr>\n",
       "  <th>%_Females</th>                                                            <td>    5.1213</td> <td>    1.496</td> <td>    3.424</td> <td> 0.001</td> <td>    2.188</td> <td>    8.055</td>\n",
       "</tr>\n",
       "<tr>\n",
       "  <th>%_Rural</th>                                                              <td>    0.3762</td> <td>    0.139</td> <td>    2.699</td> <td> 0.007</td> <td>    0.103</td> <td>    0.650</td>\n",
       "</tr>\n",
       "</table>\n",
       "<table class=\"simpletable\">\n",
       "<tr>\n",
       "  <th>Omnibus:</th>       <td>1863.068</td> <th>  Durbin-Watson:     </th> <td>   1.997</td> \n",
       "</tr>\n",
       "<tr>\n",
       "  <th>Prob(Omnibus):</th>  <td> 0.000</td>  <th>  Jarque-Bera (JB):  </th> <td>93663.396</td>\n",
       "</tr>\n",
       "<tr>\n",
       "  <th>Skew:</th>           <td> 3.305</td>  <th>  Prob(JB):          </th> <td>    0.00</td> \n",
       "</tr>\n",
       "<tr>\n",
       "  <th>Kurtosis:</th>       <td>33.173</td>  <th>  Cond. No.          </th> <td>1.66e+09</td> \n",
       "</tr>\n",
       "</table><br/><br/>Warnings:<br/>[1] Standard Errors assume that the covariance matrix of the errors is correctly specified.<br/>[2] The condition number is large, 1.66e+09. This might indicate that there are<br/>strong multicollinearity or other numerical problems."
      ],
      "text/plain": [
       "<class 'statsmodels.iolib.summary.Summary'>\n",
       "\"\"\"\n",
       "                            OLS Regression Results                            \n",
       "==============================================================================\n",
       "Dep. Variable:        Life_expectancy   R-squared:                       0.875\n",
       "Model:                            OLS   Adj. R-squared:                  0.872\n",
       "Method:                 Least Squares   F-statistic:                     298.5\n",
       "Date:                Sun, 12 Jan 2020   Prob (F-statistic):               0.00\n",
       "Time:                        20:56:51   Log-Likelihood:                -3439.3\n",
       "No. Observations:                2356   AIC:                             6989.\n",
       "Df Residuals:                    2301   BIC:                             7306.\n",
       "Df Model:                          54                                         \n",
       "Covariance Type:            nonrobust                                         \n",
       "========================================================================================================================================\n",
       "                                                                           coef    std err          t      P>|t|      [0.025      0.975]\n",
       "----------------------------------------------------------------------------------------------------------------------------------------\n",
       "const                                                                   86.5615      2.631     32.897      0.000      81.402      91.722\n",
       "County_Ranked_(Yes=1/No=0)                                               0.7491      0.195      3.851      0.000       0.368       1.131\n",
       "Premature_death                                                         -0.0008   1.74e-05    -44.881      0.000      -0.001      -0.001\n",
       "Poor_or_fair_health                                                      0.1945      1.349      0.144      0.885      -2.452       2.840\n",
       "Low_birthweight                                                         -6.1250      1.526     -4.014      0.000      -9.117      -3.133\n",
       "Adult_obesity                                                           -1.6766      0.802     -2.091      0.037      -3.249      -0.105\n",
       "Food_environment_index                                                   0.0020      0.032      0.062      0.950      -0.061       0.065\n",
       "Physical_inactivity                                                     -3.3447      0.819     -4.082      0.000      -4.952      -1.738\n",
       "Access_to_exercise_opportunities                                        -0.0536      0.139     -0.386      0.700      -0.326       0.219\n",
       "Excessive_drinking                                                       2.5315      1.188      2.131      0.033       0.202       4.861\n",
       "Alcohol-impaired_driving_deaths                                         -0.0884      0.145     -0.611      0.541      -0.372       0.195\n",
       "Sexually_transmitted_infections                                         -0.0005      0.000     -3.433      0.001      -0.001      -0.000\n",
       "Uninsured                                                               -1.3925      0.731     -1.906      0.057      -2.825       0.040\n",
       "Primary_care_physicians                                               -301.5995     93.378     -3.230      0.001    -484.712    -118.487\n",
       "Dentists                                                               -83.8419     90.947     -0.922      0.357    -262.188      94.504\n",
       "Mental_health_providers                                                -54.1855     18.435     -2.939      0.003     -90.337     -18.034\n",
       "Preventable_hospital_stays                                           -4.184e-05   1.42e-05     -2.955      0.003   -6.96e-05   -1.41e-05\n",
       "Mammography_screening                                                    0.0574      0.400      0.143      0.886      -0.728       0.843\n",
       "Flu_vaccinations                                                         0.2196      0.307      0.716      0.474      -0.382       0.821\n",
       "High_school_graduation                                                   0.4435      0.351      1.262      0.207      -0.246       1.133\n",
       "Some_college                                                             1.0312      0.347      2.968      0.003       0.350       1.712\n",
       "Unemployment                                                            -4.6100      1.950     -2.364      0.018      -8.434      -0.786\n",
       "Income_inequality                                                        0.0315      0.042      0.757      0.449      -0.050       0.113\n",
       "Children_in_single-parent_households                                    -1.5252      0.382     -3.993      0.000      -2.274      -0.776\n",
       "Social_associations                                                     -0.0159      0.004     -3.809      0.000      -0.024      -0.008\n",
       "Violent_crime                                                           -0.0005      0.000     -3.301      0.001      -0.001      -0.000\n",
       "Injury_deaths                                                           -0.0051      0.002     -3.021      0.003      -0.008      -0.002\n",
       "Air_pollution_-_particulate_matter                                      -0.1145      0.017     -6.688      0.000      -0.148      -0.081\n",
       "Drinking_water_violations                                               -0.0158      0.048     -0.330      0.741      -0.110       0.078\n",
       "Severe_housing_problems                                                 -2.9101      0.980     -2.969      0.003      -4.832      -0.988\n",
       "Percentage_of_households_with_overcrowding                              -2.0561      1.975     -1.041      0.298      -5.929       1.817\n",
       "Percentage_of_households_with_lack_of_kitchen_or_plumbing_facilities     3.4070      1.916      1.778      0.076      -0.351       7.165\n",
       "Driving_alone_to_work                                                   -3.2135      0.469     -6.846      0.000      -4.134      -2.293\n",
       "Long_commute_-_driving_alone                                            -0.1501      0.270     -0.555      0.579      -0.680       0.380\n",
       "Child_mortality                                                          0.0006      0.001      0.433      0.665      -0.002       0.003\n",
       "HIV_prevalence                                                          -0.0004      0.000     -2.280      0.023      -0.001   -6.19e-05\n",
       "Drug_overdose_deaths                                                     0.0060      0.003      1.885      0.060      -0.000       0.012\n",
       "Motor_vehicle_crash_deaths                                              -0.0130      0.004     -3.348      0.001      -0.021      -0.005\n",
       "Insufficient_sleep                                                      -1.8026      1.084     -1.662      0.097      -3.929       0.324\n",
       "Other_primary_care_providers                                           109.8288     53.361      2.058      0.040       5.189     214.469\n",
       "Residential_segregation_-_Black/White                                    0.0052      0.002      2.295      0.022       0.001       0.010\n",
       "Residential_segregation_-_non-white/white                             3.942e-05      0.002      0.017      0.986      -0.004       0.004\n",
       "Firearm_fatalities                                                      -0.0019      0.005     -0.366      0.715      -0.012       0.008\n",
       "Homeownership                                                            0.0577      0.492      0.117      0.907      -0.907       1.022\n",
       "Population                                                            6.955e-08   8.01e-08      0.868      0.385   -8.75e-08    2.27e-07\n",
       "%_below_18_years_of_age                                                 -4.6801      1.313     -3.564      0.000      -7.255      -2.105\n",
       "%_65_and_older                                                           6.1092      1.099      5.559      0.000       3.954       8.264\n",
       "%_Non-Hispanic_African_American                                          4.1194      2.507      1.643      0.100      -0.796       9.035\n",
       "%_American_Indian_and_Alaskan_Native                                     5.0314      2.620      1.920      0.055      -0.107      10.170\n",
       "%_Asian                                                                 11.0788      2.849      3.889      0.000       5.492      16.666\n",
       "%_Native_Hawaiian/Other_Pacific_Islander                               -10.7727      4.111     -2.620      0.009     -18.835      -2.710\n",
       "%_Hispanic                                                               2.9862      2.409      1.240      0.215      -1.737       7.709\n",
       "%_Non-Hispanic_white                                                    -0.0637      2.498     -0.025      0.980      -4.962       4.835\n",
       "%_Females                                                                5.1213      1.496      3.424      0.001       2.188       8.055\n",
       "%_Rural                                                                  0.3762      0.139      2.699      0.007       0.103       0.650\n",
       "==============================================================================\n",
       "Omnibus:                     1863.068   Durbin-Watson:                   1.997\n",
       "Prob(Omnibus):                  0.000   Jarque-Bera (JB):            93663.396\n",
       "Skew:                           3.305   Prob(JB):                         0.00\n",
       "Kurtosis:                      33.173   Cond. No.                     1.66e+09\n",
       "==============================================================================\n",
       "\n",
       "Warnings:\n",
       "[1] Standard Errors assume that the covariance matrix of the errors is correctly specified.\n",
       "[2] The condition number is large, 1.66e+09. This might indicate that there are\n",
       "strong multicollinearity or other numerical problems.\n",
       "\"\"\""
      ]
     },
     "execution_count": 29,
     "metadata": {},
     "output_type": "execute_result"
    }
   ],
   "source": [
    "filter_OLS.summary()"
   ]
  },
  {
   "cell_type": "markdown",
   "metadata": {},
   "source": [
    "Looks like there are more features with high p-values. Once again, let's remove them and refit the model"
   ]
  },
  {
   "cell_type": "code",
   "execution_count": 30,
   "metadata": {},
   "outputs": [
    {
     "data": {
      "text/plain": [
       "Index(['County_Ranked_(Yes=1/No=0)', 'Premature_death', 'Low_birthweight',\n",
       "       'Adult_obesity', 'Physical_inactivity', 'Excessive_drinking',\n",
       "       'Sexually_transmitted_infections', 'Primary_care_physicians',\n",
       "       'Mental_health_providers', 'Preventable_hospital_stays', 'Some_college',\n",
       "       'Unemployment', 'Children_in_single-parent_households',\n",
       "       'Social_associations', 'Violent_crime', 'Injury_deaths',\n",
       "       'Air_pollution_-_particulate_matter', 'Severe_housing_problems',\n",
       "       'Driving_alone_to_work', 'HIV_prevalence', 'Motor_vehicle_crash_deaths',\n",
       "       'Other_primary_care_providers', 'Residential_segregation_-_Black/White',\n",
       "       '%_below_18_years_of_age', '%_65_and_older', '%_Asian',\n",
       "       '%_Native_Hawaiian/Other_Pacific_Islander', '%_Females', '%_Rural'],\n",
       "      dtype='object')"
      ]
     },
     "execution_count": 30,
     "metadata": {},
     "output_type": "execute_result"
    }
   ],
   "source": [
    "updated_filter_features = filter_OLS.pvalues\n",
    "updated_filter_features = updated_filter_features[updated_filter_features < 0.05]\n",
    "updated_filter_features.drop('const', axis = 0, inplace = True)\n",
    "updated_filter_features.index"
   ]
  },
  {
   "cell_type": "code",
   "execution_count": 31,
   "metadata": {},
   "outputs": [],
   "source": [
    "filter_OLS = OLS(y_train, add_constant(X_train[updated_filter_features.index])).fit()\n",
    "\n",
    "filter_predictions = filter_OLS.predict(add_constant(X_test[updated_filter_features.index]))\n",
    "filter_train_r2 = filter_OLS.rsquared\n",
    "\n",
    "filter_test_r2 = r2_score(y_test, filter_predictions)"
   ]
  },
  {
   "cell_type": "code",
   "execution_count": 32,
   "metadata": {},
   "outputs": [
    {
     "data": {
      "text/html": [
       "<table class=\"simpletable\">\n",
       "<caption>OLS Regression Results</caption>\n",
       "<tr>\n",
       "  <th>Dep. Variable:</th>     <td>Life_expectancy</td> <th>  R-squared:         </th> <td>   0.861</td>\n",
       "</tr>\n",
       "<tr>\n",
       "  <th>Model:</th>                   <td>OLS</td>       <th>  Adj. R-squared:    </th> <td>   0.859</td>\n",
       "</tr>\n",
       "<tr>\n",
       "  <th>Method:</th>             <td>Least Squares</td>  <th>  F-statistic:       </th> <td>   497.7</td>\n",
       "</tr>\n",
       "<tr>\n",
       "  <th>Date:</th>             <td>Sun, 12 Jan 2020</td> <th>  Prob (F-statistic):</th>  <td>  0.00</td> \n",
       "</tr>\n",
       "<tr>\n",
       "  <th>Time:</th>                 <td>20:56:51</td>     <th>  Log-Likelihood:    </th> <td> -3563.4</td>\n",
       "</tr>\n",
       "<tr>\n",
       "  <th>No. Observations:</th>      <td>  2356</td>      <th>  AIC:               </th> <td>   7187.</td>\n",
       "</tr>\n",
       "<tr>\n",
       "  <th>Df Residuals:</th>          <td>  2326</td>      <th>  BIC:               </th> <td>   7360.</td>\n",
       "</tr>\n",
       "<tr>\n",
       "  <th>Df Model:</th>              <td>    29</td>      <th>                     </th>     <td> </td>   \n",
       "</tr>\n",
       "<tr>\n",
       "  <th>Covariance Type:</th>      <td>nonrobust</td>    <th>                     </th>     <td> </td>   \n",
       "</tr>\n",
       "</table>\n",
       "<table class=\"simpletable\">\n",
       "<tr>\n",
       "                      <td></td>                        <th>coef</th>     <th>std err</th>      <th>t</th>      <th>P>|t|</th>  <th>[0.025</th>    <th>0.975]</th>  \n",
       "</tr>\n",
       "<tr>\n",
       "  <th>const</th>                                    <td>   87.9808</td> <td>    0.774</td> <td>  113.742</td> <td> 0.000</td> <td>   86.464</td> <td>   89.498</td>\n",
       "</tr>\n",
       "<tr>\n",
       "  <th>County_Ranked_(Yes=1/No=0)</th>               <td>    0.4629</td> <td>    0.190</td> <td>    2.439</td> <td> 0.015</td> <td>    0.091</td> <td>    0.835</td>\n",
       "</tr>\n",
       "<tr>\n",
       "  <th>Premature_death</th>                          <td>   -0.0008</td> <td> 1.64e-05</td> <td>  -47.235</td> <td> 0.000</td> <td>   -0.001</td> <td>   -0.001</td>\n",
       "</tr>\n",
       "<tr>\n",
       "  <th>Low_birthweight</th>                          <td>   -3.3412</td> <td>    1.442</td> <td>   -2.317</td> <td> 0.021</td> <td>   -6.169</td> <td>   -0.513</td>\n",
       "</tr>\n",
       "<tr>\n",
       "  <th>Adult_obesity</th>                            <td>   -1.7249</td> <td>    0.767</td> <td>   -2.248</td> <td> 0.025</td> <td>   -3.230</td> <td>   -0.220</td>\n",
       "</tr>\n",
       "<tr>\n",
       "  <th>Physical_inactivity</th>                      <td>   -5.6412</td> <td>    0.791</td> <td>   -7.129</td> <td> 0.000</td> <td>   -7.193</td> <td>   -4.089</td>\n",
       "</tr>\n",
       "<tr>\n",
       "  <th>Excessive_drinking</th>                       <td>    0.6896</td> <td>    1.060</td> <td>    0.651</td> <td> 0.515</td> <td>   -1.389</td> <td>    2.768</td>\n",
       "</tr>\n",
       "<tr>\n",
       "  <th>Sexually_transmitted_infections</th>          <td>    0.0003</td> <td>    0.000</td> <td>    1.957</td> <td> 0.050</td> <td>-5.56e-07</td> <td>    0.001</td>\n",
       "</tr>\n",
       "<tr>\n",
       "  <th>Primary_care_physicians</th>                  <td> -344.5089</td> <td>   91.577</td> <td>   -3.762</td> <td> 0.000</td> <td> -524.091</td> <td> -164.927</td>\n",
       "</tr>\n",
       "<tr>\n",
       "  <th>Mental_health_providers</th>                  <td>  -63.1366</td> <td>   18.339</td> <td>   -3.443</td> <td> 0.001</td> <td>  -99.100</td> <td>  -27.173</td>\n",
       "</tr>\n",
       "<tr>\n",
       "  <th>Preventable_hospital_stays</th>               <td>-3.944e-05</td> <td> 1.44e-05</td> <td>   -2.745</td> <td> 0.006</td> <td>-6.76e-05</td> <td>-1.13e-05</td>\n",
       "</tr>\n",
       "<tr>\n",
       "  <th>Some_college</th>                             <td>    1.0740</td> <td>    0.315</td> <td>    3.406</td> <td> 0.001</td> <td>    0.456</td> <td>    1.692</td>\n",
       "</tr>\n",
       "<tr>\n",
       "  <th>Unemployment</th>                             <td>    0.1274</td> <td>    1.812</td> <td>    0.070</td> <td> 0.944</td> <td>   -3.427</td> <td>    3.681</td>\n",
       "</tr>\n",
       "<tr>\n",
       "  <th>Children_in_single-parent_households</th>     <td>    0.1949</td> <td>    0.355</td> <td>    0.549</td> <td> 0.583</td> <td>   -0.501</td> <td>    0.891</td>\n",
       "</tr>\n",
       "<tr>\n",
       "  <th>Social_associations</th>                      <td>   -0.0109</td> <td>    0.004</td> <td>   -2.699</td> <td> 0.007</td> <td>   -0.019</td> <td>   -0.003</td>\n",
       "</tr>\n",
       "<tr>\n",
       "  <th>Violent_crime</th>                            <td>   -0.0005</td> <td>    0.000</td> <td>   -2.943</td> <td> 0.003</td> <td>   -0.001</td> <td>   -0.000</td>\n",
       "</tr>\n",
       "<tr>\n",
       "  <th>Injury_deaths</th>                            <td>   -0.0067</td> <td>    0.002</td> <td>   -4.484</td> <td> 0.000</td> <td>   -0.010</td> <td>   -0.004</td>\n",
       "</tr>\n",
       "<tr>\n",
       "  <th>Air_pollution_-_particulate_matter</th>       <td>   -0.1527</td> <td>    0.016</td> <td>   -9.365</td> <td> 0.000</td> <td>   -0.185</td> <td>   -0.121</td>\n",
       "</tr>\n",
       "<tr>\n",
       "  <th>Severe_housing_problems</th>                  <td>   -0.7609</td> <td>    0.764</td> <td>   -0.995</td> <td> 0.320</td> <td>   -2.260</td> <td>    0.738</td>\n",
       "</tr>\n",
       "<tr>\n",
       "  <th>Driving_alone_to_work</th>                    <td>   -3.1880</td> <td>    0.446</td> <td>   -7.146</td> <td> 0.000</td> <td>   -4.063</td> <td>   -2.313</td>\n",
       "</tr>\n",
       "<tr>\n",
       "  <th>HIV_prevalence</th>                           <td>    0.0002</td> <td>    0.000</td> <td>    1.442</td> <td> 0.149</td> <td>-8.82e-05</td> <td>    0.001</td>\n",
       "</tr>\n",
       "<tr>\n",
       "  <th>Motor_vehicle_crash_deaths</th>               <td>   -0.0044</td> <td>    0.004</td> <td>   -1.160</td> <td> 0.246</td> <td>   -0.012</td> <td>    0.003</td>\n",
       "</tr>\n",
       "<tr>\n",
       "  <th>Other_primary_care_providers</th>             <td>   34.8585</td> <td>   52.514</td> <td>    0.664</td> <td> 0.507</td> <td>  -68.120</td> <td>  137.837</td>\n",
       "</tr>\n",
       "<tr>\n",
       "  <th>Residential_segregation_-_Black/White</th>    <td>   -0.0007</td> <td>    0.002</td> <td>   -0.391</td> <td> 0.696</td> <td>   -0.005</td> <td>    0.003</td>\n",
       "</tr>\n",
       "<tr>\n",
       "  <th>%_below_18_years_of_age</th>                  <td>    0.8925</td> <td>    1.102</td> <td>    0.810</td> <td> 0.418</td> <td>   -1.269</td> <td>    3.054</td>\n",
       "</tr>\n",
       "<tr>\n",
       "  <th>%_65_and_older</th>                           <td>    6.8193</td> <td>    0.994</td> <td>    6.862</td> <td> 0.000</td> <td>    4.870</td> <td>    8.768</td>\n",
       "</tr>\n",
       "<tr>\n",
       "  <th>%_Asian</th>                                  <td>   11.9487</td> <td>    1.071</td> <td>   11.156</td> <td> 0.000</td> <td>    9.848</td> <td>   14.049</td>\n",
       "</tr>\n",
       "<tr>\n",
       "  <th>%_Native_Hawaiian/Other_Pacific_Islander</th> <td>   -9.6885</td> <td>    2.338</td> <td>   -4.144</td> <td> 0.000</td> <td>  -14.274</td> <td>   -5.103</td>\n",
       "</tr>\n",
       "<tr>\n",
       "  <th>%_Females</th>                                <td>    1.0781</td> <td>    1.405</td> <td>    0.767</td> <td> 0.443</td> <td>   -1.677</td> <td>    3.834</td>\n",
       "</tr>\n",
       "<tr>\n",
       "  <th>%_Rural</th>                                  <td>    0.1927</td> <td>    0.122</td> <td>    1.580</td> <td> 0.114</td> <td>   -0.046</td> <td>    0.432</td>\n",
       "</tr>\n",
       "</table>\n",
       "<table class=\"simpletable\">\n",
       "<tr>\n",
       "  <th>Omnibus:</th>       <td>1961.763</td> <th>  Durbin-Watson:     </th>  <td>   1.986</td> \n",
       "</tr>\n",
       "<tr>\n",
       "  <th>Prob(Omnibus):</th>  <td> 0.000</td>  <th>  Jarque-Bera (JB):  </th> <td>112127.173</td>\n",
       "</tr>\n",
       "<tr>\n",
       "  <th>Skew:</th>           <td> 3.545</td>  <th>  Prob(JB):          </th>  <td>    0.00</td> \n",
       "</tr>\n",
       "<tr>\n",
       "  <th>Kurtosis:</th>       <td>36.044</td>  <th>  Cond. No.          </th>  <td>4.19e+07</td> \n",
       "</tr>\n",
       "</table><br/><br/>Warnings:<br/>[1] Standard Errors assume that the covariance matrix of the errors is correctly specified.<br/>[2] The condition number is large, 4.19e+07. This might indicate that there are<br/>strong multicollinearity or other numerical problems."
      ],
      "text/plain": [
       "<class 'statsmodels.iolib.summary.Summary'>\n",
       "\"\"\"\n",
       "                            OLS Regression Results                            \n",
       "==============================================================================\n",
       "Dep. Variable:        Life_expectancy   R-squared:                       0.861\n",
       "Model:                            OLS   Adj. R-squared:                  0.859\n",
       "Method:                 Least Squares   F-statistic:                     497.7\n",
       "Date:                Sun, 12 Jan 2020   Prob (F-statistic):               0.00\n",
       "Time:                        20:56:51   Log-Likelihood:                -3563.4\n",
       "No. Observations:                2356   AIC:                             7187.\n",
       "Df Residuals:                    2326   BIC:                             7360.\n",
       "Df Model:                          29                                         \n",
       "Covariance Type:            nonrobust                                         \n",
       "============================================================================================================\n",
       "                                               coef    std err          t      P>|t|      [0.025      0.975]\n",
       "------------------------------------------------------------------------------------------------------------\n",
       "const                                       87.9808      0.774    113.742      0.000      86.464      89.498\n",
       "County_Ranked_(Yes=1/No=0)                   0.4629      0.190      2.439      0.015       0.091       0.835\n",
       "Premature_death                             -0.0008   1.64e-05    -47.235      0.000      -0.001      -0.001\n",
       "Low_birthweight                             -3.3412      1.442     -2.317      0.021      -6.169      -0.513\n",
       "Adult_obesity                               -1.7249      0.767     -2.248      0.025      -3.230      -0.220\n",
       "Physical_inactivity                         -5.6412      0.791     -7.129      0.000      -7.193      -4.089\n",
       "Excessive_drinking                           0.6896      1.060      0.651      0.515      -1.389       2.768\n",
       "Sexually_transmitted_infections              0.0003      0.000      1.957      0.050   -5.56e-07       0.001\n",
       "Primary_care_physicians                   -344.5089     91.577     -3.762      0.000    -524.091    -164.927\n",
       "Mental_health_providers                    -63.1366     18.339     -3.443      0.001     -99.100     -27.173\n",
       "Preventable_hospital_stays               -3.944e-05   1.44e-05     -2.745      0.006   -6.76e-05   -1.13e-05\n",
       "Some_college                                 1.0740      0.315      3.406      0.001       0.456       1.692\n",
       "Unemployment                                 0.1274      1.812      0.070      0.944      -3.427       3.681\n",
       "Children_in_single-parent_households         0.1949      0.355      0.549      0.583      -0.501       0.891\n",
       "Social_associations                         -0.0109      0.004     -2.699      0.007      -0.019      -0.003\n",
       "Violent_crime                               -0.0005      0.000     -2.943      0.003      -0.001      -0.000\n",
       "Injury_deaths                               -0.0067      0.002     -4.484      0.000      -0.010      -0.004\n",
       "Air_pollution_-_particulate_matter          -0.1527      0.016     -9.365      0.000      -0.185      -0.121\n",
       "Severe_housing_problems                     -0.7609      0.764     -0.995      0.320      -2.260       0.738\n",
       "Driving_alone_to_work                       -3.1880      0.446     -7.146      0.000      -4.063      -2.313\n",
       "HIV_prevalence                               0.0002      0.000      1.442      0.149   -8.82e-05       0.001\n",
       "Motor_vehicle_crash_deaths                  -0.0044      0.004     -1.160      0.246      -0.012       0.003\n",
       "Other_primary_care_providers                34.8585     52.514      0.664      0.507     -68.120     137.837\n",
       "Residential_segregation_-_Black/White       -0.0007      0.002     -0.391      0.696      -0.005       0.003\n",
       "%_below_18_years_of_age                      0.8925      1.102      0.810      0.418      -1.269       3.054\n",
       "%_65_and_older                               6.8193      0.994      6.862      0.000       4.870       8.768\n",
       "%_Asian                                     11.9487      1.071     11.156      0.000       9.848      14.049\n",
       "%_Native_Hawaiian/Other_Pacific_Islander    -9.6885      2.338     -4.144      0.000     -14.274      -5.103\n",
       "%_Females                                    1.0781      1.405      0.767      0.443      -1.677       3.834\n",
       "%_Rural                                      0.1927      0.122      1.580      0.114      -0.046       0.432\n",
       "==============================================================================\n",
       "Omnibus:                     1961.763   Durbin-Watson:                   1.986\n",
       "Prob(Omnibus):                  0.000   Jarque-Bera (JB):           112127.173\n",
       "Skew:                           3.545   Prob(JB):                         0.00\n",
       "Kurtosis:                      36.044   Cond. No.                     4.19e+07\n",
       "==============================================================================\n",
       "\n",
       "Warnings:\n",
       "[1] Standard Errors assume that the covariance matrix of the errors is correctly specified.\n",
       "[2] The condition number is large, 4.19e+07. This might indicate that there are\n",
       "strong multicollinearity or other numerical problems.\n",
       "\"\"\""
      ]
     },
     "execution_count": 32,
     "metadata": {},
     "output_type": "execute_result"
    }
   ],
   "source": [
    "filter_OLS.summary()"
   ]
  },
  {
   "cell_type": "code",
   "execution_count": 33,
   "metadata": {},
   "outputs": [
    {
     "name": "stdout",
     "output_type": "stream",
     "text": [
      "Filter Train R-Squared: 0.86\n",
      "Filter Test R-Squared: 0.78\n",
      "\n",
      "\n",
      "Check for Homoscedasticity Assumption\n"
     ]
    },
    {
     "data": {
      "image/png": "[encoded data removed]",
      "text/plain": [
       "<Figure size 432x288 with 1 Axes>"
      ]
     },
     "metadata": {
      "needs_background": "light"
     },
     "output_type": "display_data"
    },
    {
     "name": "stdout",
     "output_type": "stream",
     "text": [
      "Check for Residuals Normality\n"
     ]
    },
    {
     "data": {
      "image/png": "[encoded data removed]",
      "text/plain": [
       "<Figure size 432x288 with 1 Axes>"
      ]
     },
     "metadata": {
      "needs_background": "light"
     },
     "output_type": "display_data"
    }
   ],
   "source": [
    "filter_errors = y_test - filter_predictions\n",
    "\n",
    "print ('Filter Train R-Squared:', round(filter_train_r2, 2))\n",
    "print ('Filter Test R-Squared:', round(filter_test_r2, 2))\n",
    "\n",
    "print ('\\n')\n",
    "\n",
    "print ('Check for Homoscedasticity Assumption')\n",
    "plt.figure(figsize = (6,4))\n",
    "plt.scatter(x = y_test, y = filter_errors)\n",
    "plt.show()\n",
    "\n",
    "print ('Check for Residuals Normality')\n",
    "fig = sm.graphics.qqplot(filter_OLS.resid, dist=stats.norm, line='45', fit=True)"
   ]
  },
  {
   "cell_type": "code",
   "execution_count": 34,
   "metadata": {},
   "outputs": [
    {
     "data": {
      "image/png": "[encoded data removed]",
      "text/plain": [
       "<Figure size 1080x720 with 1 Axes>"
      ]
     },
     "metadata": {
      "needs_background": "light"
     },
     "output_type": "display_data"
    }
   ],
   "source": [
    "coef_filter = filter_OLS.params.sort_values()\n",
    "coef_filter[:-1].plot(kind = 'bar', figsize = (15,10))\n",
    "plt.show()"
   ]
  },
  {
   "cell_type": "code",
   "execution_count": 35,
   "metadata": {},
   "outputs": [],
   "source": [
    "all_model_summary_df.loc[all_model_summary_df.model == 'Filter', 'n_features'] = len(filter_OLS.pvalues)\n",
    "all_model_summary_df.loc[all_model_summary_df.model == 'Filter', 'AIC'] = filter_OLS.aic\n",
    "all_model_summary_df.loc[all_model_summary_df.model == 'Filter', 'R2_test'] = filter_test_r2\n",
    "all_model_summary_df.loc[all_model_summary_df.model == 'Filter', '>0.05_pvalues'] = sum(filter_OLS.pvalues > 0.05)"
   ]
  },
  {
   "cell_type": "code",
   "execution_count": 36,
   "metadata": {},
   "outputs": [
    {
     "data": {
      "text/html": [
       "<div>\n",
       "<style scoped>\n",
       "    .dataframe tbody tr th:only-of-type {\n",
       "        vertical-align: middle;\n",
       "    }\n",
       "\n",
       "    .dataframe tbody tr th {\n",
       "        vertical-align: top;\n",
       "    }\n",
       "\n",
       "    .dataframe thead th {\n",
       "        text-align: right;\n",
       "    }\n",
       "</style>\n",
       "<table border=\"1\" class=\"dataframe\">\n",
       "  <thead>\n",
       "    <tr style=\"text-align: right;\">\n",
       "      <th></th>\n",
       "      <th>model</th>\n",
       "      <th>R2_test</th>\n",
       "      <th>AIC</th>\n",
       "      <th>n_features</th>\n",
       "      <th>&gt;0.05_pvalues</th>\n",
       "    </tr>\n",
       "  </thead>\n",
       "  <tbody>\n",
       "    <tr>\n",
       "      <th>0</th>\n",
       "      <td>Baseline</td>\n",
       "      <td>0.835919</td>\n",
       "      <td>6151.3</td>\n",
       "      <td>73</td>\n",
       "      <td>46</td>\n",
       "    </tr>\n",
       "    <tr>\n",
       "      <th>1</th>\n",
       "      <td>Basic - Top Correlation</td>\n",
       "      <td>0.817139</td>\n",
       "      <td>6700.37</td>\n",
       "      <td>6</td>\n",
       "      <td>0</td>\n",
       "    </tr>\n",
       "    <tr>\n",
       "      <th>2</th>\n",
       "      <td>Filter</td>\n",
       "      <td>0.778847</td>\n",
       "      <td>7186.9</td>\n",
       "      <td>30</td>\n",
       "      <td>12</td>\n",
       "    </tr>\n",
       "    <tr>\n",
       "      <th>3</th>\n",
       "      <td>Wrappper - RFE</td>\n",
       "      <td>NaN</td>\n",
       "      <td>NaN</td>\n",
       "      <td>NaN</td>\n",
       "      <td>NaN</td>\n",
       "    </tr>\n",
       "    <tr>\n",
       "      <th>4</th>\n",
       "      <td>Wrappper - Stepwise</td>\n",
       "      <td>NaN</td>\n",
       "      <td>NaN</td>\n",
       "      <td>NaN</td>\n",
       "      <td>NaN</td>\n",
       "    </tr>\n",
       "    <tr>\n",
       "      <th>5</th>\n",
       "      <td>Embedded - Lasso</td>\n",
       "      <td>NaN</td>\n",
       "      <td>NaN</td>\n",
       "      <td>NaN</td>\n",
       "      <td>NaN</td>\n",
       "    </tr>\n",
       "  </tbody>\n",
       "</table>\n",
       "</div>"
      ],
      "text/plain": [
       "                     model   R2_test      AIC n_features >0.05_pvalues\n",
       "0                 Baseline  0.835919   6151.3         73            46\n",
       "1  Basic - Top Correlation  0.817139  6700.37          6             0\n",
       "2                   Filter  0.778847   7186.9         30            12\n",
       "3           Wrappper - RFE       NaN      NaN        NaN           NaN\n",
       "4      Wrappper - Stepwise       NaN      NaN        NaN           NaN\n",
       "5         Embedded - Lasso       NaN      NaN        NaN           NaN"
      ]
     },
     "execution_count": 36,
     "metadata": {},
     "output_type": "execute_result"
    }
   ],
   "source": [
    "all_model_summary_df"
   ]
  },
  {
   "cell_type": "markdown",
   "metadata": {},
   "source": [
    "### 4. Wrapper - Recursive Feature Elimination"
   ]
  },
  {
   "cell_type": "code",
   "execution_count": 37,
   "metadata": {},
   "outputs": [],
   "source": [
    "from sklearn.feature_selection import RFECV, RFE"
   ]
  },
  {
   "cell_type": "code",
   "execution_count": 38,
   "metadata": {},
   "outputs": [
    {
     "data": {
      "text/plain": [
       "RFECV(cv=10,\n",
       "      estimator=LinearRegression(copy_X=True, fit_intercept=True, n_jobs=None,\n",
       "                                 normalize=False),\n",
       "      min_features_to_select=1, n_jobs=None, scoring='r2', step=1, verbose=0)"
      ]
     },
     "execution_count": 38,
     "metadata": {},
     "output_type": "execute_result"
    }
   ],
   "source": [
    "linreg = LinearRegression()\n",
    "rfecv = RFECV(linreg, step = 1, scoring='r2', cv=10)\n",
    "rfecv.fit(X_train, y_train)"
   ]
  },
  {
   "cell_type": "code",
   "execution_count": 39,
   "metadata": {},
   "outputs": [
    {
     "data": {
      "image/png": "[encoded data removed]",
      "text/plain": [
       "<Figure size 432x288 with 1 Axes>"
      ]
     },
     "metadata": {
      "needs_background": "light"
     },
     "output_type": "display_data"
    }
   ],
   "source": [
    "plt.plot(range(1, len(rfecv.grid_scores_) + 1), rfecv.grid_scores_)\n",
    "plt.xlabel('Number of Features')\n",
    "plt.ylabel('R2 CV score')\n",
    "plt.show()"
   ]
  },
  {
   "cell_type": "code",
   "execution_count": 40,
   "metadata": {},
   "outputs": [],
   "source": [
    "to_include = X_train.columns[rfecv.get_support()]"
   ]
  },
  {
   "cell_type": "code",
   "execution_count": 41,
   "metadata": {},
   "outputs": [],
   "source": [
    "RFE_test_r2 = statsmodel_regression(X_train[to_include], add_constant(X_test[to_include]), y_train, y_test)[0]\n",
    "RFE_estimator = statsmodel_regression(X_train[to_include], add_constant(X_test[to_include]), y_train, y_test)[1]"
   ]
  },
  {
   "cell_type": "code",
   "execution_count": 42,
   "metadata": {},
   "outputs": [],
   "source": [
    "all_model_summary_df.loc[all_model_summary_df.model == 'Wrappper - RFE', 'n_features'] = len(RFE_estimator.pvalues)\n",
    "all_model_summary_df.loc[all_model_summary_df.model == 'Wrappper - RFE', 'AIC'] = RFE_estimator.aic\n",
    "all_model_summary_df.loc[all_model_summary_df.model == 'Wrappper - RFE', 'R2_test'] = RFE_test_r2\n",
    "all_model_summary_df.loc[all_model_summary_df.model == 'Wrappper - RFE', '>0.05_pvalues'] = sum(RFE_estimator.pvalues > 0.05)"
   ]
  },
  {
   "cell_type": "code",
   "execution_count": 43,
   "metadata": {},
   "outputs": [
    {
     "data": {
      "text/html": [
       "<div>\n",
       "<style scoped>\n",
       "    .dataframe tbody tr th:only-of-type {\n",
       "        vertical-align: middle;\n",
       "    }\n",
       "\n",
       "    .dataframe tbody tr th {\n",
       "        vertical-align: top;\n",
       "    }\n",
       "\n",
       "    .dataframe thead th {\n",
       "        text-align: right;\n",
       "    }\n",
       "</style>\n",
       "<table border=\"1\" class=\"dataframe\">\n",
       "  <thead>\n",
       "    <tr style=\"text-align: right;\">\n",
       "      <th></th>\n",
       "      <th>model</th>\n",
       "      <th>R2_test</th>\n",
       "      <th>AIC</th>\n",
       "      <th>n_features</th>\n",
       "      <th>&gt;0.05_pvalues</th>\n",
       "    </tr>\n",
       "  </thead>\n",
       "  <tbody>\n",
       "    <tr>\n",
       "      <th>0</th>\n",
       "      <td>Baseline</td>\n",
       "      <td>0.835919</td>\n",
       "      <td>6151.3</td>\n",
       "      <td>73</td>\n",
       "      <td>46</td>\n",
       "    </tr>\n",
       "    <tr>\n",
       "      <th>1</th>\n",
       "      <td>Basic - Top Correlation</td>\n",
       "      <td>0.817139</td>\n",
       "      <td>6700.37</td>\n",
       "      <td>6</td>\n",
       "      <td>0</td>\n",
       "    </tr>\n",
       "    <tr>\n",
       "      <th>2</th>\n",
       "      <td>Filter</td>\n",
       "      <td>0.778847</td>\n",
       "      <td>7186.9</td>\n",
       "      <td>30</td>\n",
       "      <td>12</td>\n",
       "    </tr>\n",
       "    <tr>\n",
       "      <th>3</th>\n",
       "      <td>Wrappper - RFE</td>\n",
       "      <td>0.84</td>\n",
       "      <td>6169.38</td>\n",
       "      <td>67</td>\n",
       "      <td>39</td>\n",
       "    </tr>\n",
       "    <tr>\n",
       "      <th>4</th>\n",
       "      <td>Wrappper - Stepwise</td>\n",
       "      <td>NaN</td>\n",
       "      <td>NaN</td>\n",
       "      <td>NaN</td>\n",
       "      <td>NaN</td>\n",
       "    </tr>\n",
       "    <tr>\n",
       "      <th>5</th>\n",
       "      <td>Embedded - Lasso</td>\n",
       "      <td>NaN</td>\n",
       "      <td>NaN</td>\n",
       "      <td>NaN</td>\n",
       "      <td>NaN</td>\n",
       "    </tr>\n",
       "  </tbody>\n",
       "</table>\n",
       "</div>"
      ],
      "text/plain": [
       "                     model   R2_test      AIC n_features >0.05_pvalues\n",
       "0                 Baseline  0.835919   6151.3         73            46\n",
       "1  Basic - Top Correlation  0.817139  6700.37          6             0\n",
       "2                   Filter  0.778847   7186.9         30            12\n",
       "3           Wrappper - RFE      0.84  6169.38         67            39\n",
       "4      Wrappper - Stepwise       NaN      NaN        NaN           NaN\n",
       "5         Embedded - Lasso       NaN      NaN        NaN           NaN"
      ]
     },
     "execution_count": 43,
     "metadata": {},
     "output_type": "execute_result"
    }
   ],
   "source": [
    "all_model_summary_df"
   ]
  },
  {
   "cell_type": "markdown",
   "metadata": {},
   "source": [
    "### 5. Stepwise Selection - Combination of Forward and Backward feature selection"
   ]
  },
  {
   "cell_type": "code",
   "execution_count": 44,
   "metadata": {},
   "outputs": [
    {
     "name": "stdout",
     "output_type": "stream",
     "text": [
      "Add  Premature_age-adjusted_mortality with p-value 0.0\n",
      "Add  Release_Year                   with p-value 0.0\n",
      "Add  Intercept                      with p-value 0.0\n",
      "Add  Driving_alone_to_work          with p-value 2.96713e-41\n",
      "Add  %_not_proficient_in_English    with p-value 2.65547e-15\n",
      "Add  %_below_18_years_of_age        with p-value 3.73109e-17\n",
      "Add  Air_pollution_-_particulate_matter with p-value 2.38055e-16\n",
      "Add  %_Asian                        with p-value 7.32641e-13\n",
      "Add  Severe_housing_problems        with p-value 1.03946e-10\n",
      "Add  %_Non-Hispanic_white           with p-value 2.8868e-11\n",
      "Add  Child_mortality                with p-value 2.04289e-08\n",
      "Add  Limited_access_to_healthy_foods with p-value 3.52036e-07\n",
      "Add  Income_inequality              with p-value 0.000105851\n",
      "Add  Primary_care_physicians        with p-value 7.91373e-05\n",
      "Add  %_Native_Hawaiian/Other_Pacific_Islander with p-value 0.00039003\n",
      "Add  Some_college                   with p-value 0.00056378\n",
      "Add  Violent_crime                  with p-value 0.00284399\n",
      "Add  Other_primary_care_providers   with p-value 0.00236261\n",
      "Add  Mental_health_providers        with p-value 0.00121875\n",
      "Add  Low_birthweight                with p-value 0.00951611\n"
     ]
    }
   ],
   "source": [
    "stepwise_columns = stepwise_selection(X_train, y_train, threshold_in = 0.01, verbose=True)"
   ]
  },
  {
   "cell_type": "code",
   "execution_count": 45,
   "metadata": {},
   "outputs": [
    {
     "ename": "KeyError",
     "evalue": "\"['Intercept'] not in index\"",
     "output_type": "error",
     "traceback": [
      "\u001b[0;31m---------------------------------------------------------------------------\u001b[0m",
      "\u001b[0;31mKeyError\u001b[0m                                  Traceback (most recent call last)",
      "\u001b[0;32m<ipython-input-45-ff8e5ce53886>\u001b[0m in \u001b[0;36m<module>\u001b[0;34m()\u001b[0m\n\u001b[0;32m----> 1\u001b[0;31m \u001b[0mstepwise_test_r2\u001b[0m \u001b[0;34m=\u001b[0m \u001b[0mstatsmodel_regression\u001b[0m\u001b[0;34m(\u001b[0m\u001b[0mX_train\u001b[0m\u001b[0;34m[\u001b[0m\u001b[0mstepwise_columns\u001b[0m\u001b[0;34m]\u001b[0m\u001b[0;34m,\u001b[0m \u001b[0mX_test\u001b[0m\u001b[0;34m[\u001b[0m\u001b[0mstepwise_columns\u001b[0m\u001b[0;34m]\u001b[0m\u001b[0;34m,\u001b[0m \u001b[0my_train\u001b[0m\u001b[0;34m,\u001b[0m \u001b[0my_test\u001b[0m\u001b[0;34m)\u001b[0m\u001b[0;34m[\u001b[0m\u001b[0;36m0\u001b[0m\u001b[0;34m]\u001b[0m\u001b[0;34m\u001b[0m\u001b[0m\n\u001b[0m\u001b[1;32m      2\u001b[0m \u001b[0mstepwise_estimator\u001b[0m \u001b[0;34m=\u001b[0m \u001b[0mstatsmodel_regression\u001b[0m\u001b[0;34m(\u001b[0m\u001b[0mX_train\u001b[0m\u001b[0;34m[\u001b[0m\u001b[0mstepwise_columns\u001b[0m\u001b[0;34m]\u001b[0m\u001b[0;34m,\u001b[0m \u001b[0mX_test\u001b[0m\u001b[0;34m[\u001b[0m\u001b[0mstepwise_columns\u001b[0m\u001b[0;34m]\u001b[0m\u001b[0;34m,\u001b[0m \u001b[0my_train\u001b[0m\u001b[0;34m,\u001b[0m \u001b[0my_test\u001b[0m\u001b[0;34m)\u001b[0m\u001b[0;34m[\u001b[0m\u001b[0;36m1\u001b[0m\u001b[0;34m]\u001b[0m\u001b[0;34m\u001b[0m\u001b[0m\n",
      "\u001b[0;32m~/anaconda3/envs/learn-env/lib/python3.6/site-packages/pandas/core/frame.py\u001b[0m in \u001b[0;36m__getitem__\u001b[0;34m(self, key)\u001b[0m\n\u001b[1;32m   2680\u001b[0m         \u001b[0;32mif\u001b[0m \u001b[0misinstance\u001b[0m\u001b[0;34m(\u001b[0m\u001b[0mkey\u001b[0m\u001b[0;34m,\u001b[0m \u001b[0;34m(\u001b[0m\u001b[0mSeries\u001b[0m\u001b[0;34m,\u001b[0m \u001b[0mnp\u001b[0m\u001b[0;34m.\u001b[0m\u001b[0mndarray\u001b[0m\u001b[0;34m,\u001b[0m \u001b[0mIndex\u001b[0m\u001b[0;34m,\u001b[0m \u001b[0mlist\u001b[0m\u001b[0;34m)\u001b[0m\u001b[0;34m)\u001b[0m\u001b[0;34m:\u001b[0m\u001b[0;34m\u001b[0m\u001b[0m\n\u001b[1;32m   2681\u001b[0m             \u001b[0;31m# either boolean or fancy integer index\u001b[0m\u001b[0;34m\u001b[0m\u001b[0;34m\u001b[0m\u001b[0m\n\u001b[0;32m-> 2682\u001b[0;31m             \u001b[0;32mreturn\u001b[0m \u001b[0mself\u001b[0m\u001b[0;34m.\u001b[0m\u001b[0m_getitem_array\u001b[0m\u001b[0;34m(\u001b[0m\u001b[0mkey\u001b[0m\u001b[0;34m)\u001b[0m\u001b[0;34m\u001b[0m\u001b[0m\n\u001b[0m\u001b[1;32m   2683\u001b[0m         \u001b[0;32melif\u001b[0m \u001b[0misinstance\u001b[0m\u001b[0;34m(\u001b[0m\u001b[0mkey\u001b[0m\u001b[0;34m,\u001b[0m \u001b[0mDataFrame\u001b[0m\u001b[0;34m)\u001b[0m\u001b[0;34m:\u001b[0m\u001b[0;34m\u001b[0m\u001b[0m\n\u001b[1;32m   2684\u001b[0m             \u001b[0;32mreturn\u001b[0m \u001b[0mself\u001b[0m\u001b[0;34m.\u001b[0m\u001b[0m_getitem_frame\u001b[0m\u001b[0;34m(\u001b[0m\u001b[0mkey\u001b[0m\u001b[0;34m)\u001b[0m\u001b[0;34m\u001b[0m\u001b[0m\n",
      "\u001b[0;32m~/anaconda3/envs/learn-env/lib/python3.6/site-packages/pandas/core/frame.py\u001b[0m in \u001b[0;36m_getitem_array\u001b[0;34m(self, key)\u001b[0m\n\u001b[1;32m   2724\u001b[0m             \u001b[0;32mreturn\u001b[0m \u001b[0mself\u001b[0m\u001b[0;34m.\u001b[0m\u001b[0m_take\u001b[0m\u001b[0;34m(\u001b[0m\u001b[0mindexer\u001b[0m\u001b[0;34m,\u001b[0m \u001b[0maxis\u001b[0m\u001b[0;34m=\u001b[0m\u001b[0;36m0\u001b[0m\u001b[0;34m)\u001b[0m\u001b[0;34m\u001b[0m\u001b[0m\n\u001b[1;32m   2725\u001b[0m         \u001b[0;32melse\u001b[0m\u001b[0;34m:\u001b[0m\u001b[0;34m\u001b[0m\u001b[0m\n\u001b[0;32m-> 2726\u001b[0;31m             \u001b[0mindexer\u001b[0m \u001b[0;34m=\u001b[0m \u001b[0mself\u001b[0m\u001b[0;34m.\u001b[0m\u001b[0mloc\u001b[0m\u001b[0;34m.\u001b[0m\u001b[0m_convert_to_indexer\u001b[0m\u001b[0;34m(\u001b[0m\u001b[0mkey\u001b[0m\u001b[0;34m,\u001b[0m \u001b[0maxis\u001b[0m\u001b[0;34m=\u001b[0m\u001b[0;36m1\u001b[0m\u001b[0;34m)\u001b[0m\u001b[0;34m\u001b[0m\u001b[0m\n\u001b[0m\u001b[1;32m   2727\u001b[0m             \u001b[0;32mreturn\u001b[0m \u001b[0mself\u001b[0m\u001b[0;34m.\u001b[0m\u001b[0m_take\u001b[0m\u001b[0;34m(\u001b[0m\u001b[0mindexer\u001b[0m\u001b[0;34m,\u001b[0m \u001b[0maxis\u001b[0m\u001b[0;34m=\u001b[0m\u001b[0;36m1\u001b[0m\u001b[0;34m)\u001b[0m\u001b[0;34m\u001b[0m\u001b[0m\n\u001b[1;32m   2728\u001b[0m \u001b[0;34m\u001b[0m\u001b[0m\n",
      "\u001b[0;32m~/anaconda3/envs/learn-env/lib/python3.6/site-packages/pandas/core/indexing.py\u001b[0m in \u001b[0;36m_convert_to_indexer\u001b[0;34m(self, obj, axis, is_setter)\u001b[0m\n\u001b[1;32m   1325\u001b[0m                 \u001b[0;32mif\u001b[0m \u001b[0mmask\u001b[0m\u001b[0;34m.\u001b[0m\u001b[0many\u001b[0m\u001b[0;34m(\u001b[0m\u001b[0;34m)\u001b[0m\u001b[0;34m:\u001b[0m\u001b[0;34m\u001b[0m\u001b[0m\n\u001b[1;32m   1326\u001b[0m                     raise KeyError('{mask} not in index'\n\u001b[0;32m-> 1327\u001b[0;31m                                    .format(mask=objarr[mask]))\n\u001b[0m\u001b[1;32m   1328\u001b[0m \u001b[0;34m\u001b[0m\u001b[0m\n\u001b[1;32m   1329\u001b[0m                 \u001b[0;32mreturn\u001b[0m \u001b[0mcom\u001b[0m\u001b[0;34m.\u001b[0m\u001b[0m_values_from_object\u001b[0m\u001b[0;34m(\u001b[0m\u001b[0mindexer\u001b[0m\u001b[0;34m)\u001b[0m\u001b[0;34m\u001b[0m\u001b[0m\n",
      "\u001b[0;31mKeyError\u001b[0m: \"['Intercept'] not in index\""
     ]
    }
   ],
   "source": [
    "stepwise_test_r2 = statsmodel_regression(X_train[stepwise_columns], X_test[stepwise_columns], y_train, y_test)[0]\n",
    "stepwise_estimator = statsmodel_regression(X_train[stepwise_columns], X_test[stepwise_columns], y_train, y_test)[1]"
   ]
  },
  {
   "cell_type": "code",
   "execution_count": null,
   "metadata": {},
   "outputs": [],
   "source": [
    "stepwise_estimator.params.sort_values().plot(kind = 'bar', figsize = (18,10))\n",
    "plt.show()"
   ]
  },
  {
   "cell_type": "code",
   "execution_count": null,
   "metadata": {},
   "outputs": [],
   "source": [
    "len(stepwise_estimator.resid)"
   ]
  },
  {
   "cell_type": "code",
   "execution_count": null,
   "metadata": {},
   "outputs": [],
   "source": [
    "all_model_summary_df.loc[all_model_summary_df.model == 'Wrappper - Stepwise', 'n_features'] = len(stepwise_estimator.pvalues)\n",
    "all_model_summary_df.loc[all_model_summary_df.model == 'Wrappper - Stepwise', 'AIC'] = stepwise_estimator.aic\n",
    "all_model_summary_df.loc[all_model_summary_df.model == 'Wrappper - Stepwise', 'R2_test'] = stepwise_test_r2\n",
    "all_model_summary_df.loc[all_model_summary_df.model == 'Wrappper - Stepwise', '>0.05_pvalues'] = sum(stepwise_estimator.pvalues > 0.05)"
   ]
  },
  {
   "cell_type": "code",
   "execution_count": null,
   "metadata": {},
   "outputs": [],
   "source": [
    "all_model_summary_df"
   ]
  },
  {
   "cell_type": "markdown",
   "metadata": {},
   "source": [
    "### 6. Embedded - Lasso L2 Regression"
   ]
  },
  {
   "cell_type": "markdown",
   "metadata": {},
   "source": [
    "First we set the all the hyperparameters we are interested in tuning, primarily the 'penalizing' parameters (alpha). The GridSearch function will be able to obtain the best parameters for us by evaluating them using R2 score."
   ]
  },
  {
   "cell_type": "code",
   "execution_count": null,
   "metadata": {},
   "outputs": [],
   "source": [
    "from sklearn.linear_model import Lasso\n",
    "from sklearn.model_selection import GridSearchCV\n",
    "\n",
    "model = Lasso()\n",
    "lasso_params = {'alpha' : [0.05, 0.1, 0.3, 1, 3, 5, 10, 15, 30, 50, 75],\n",
    "                'fit_intercept': [True, False],\n",
    "                'normalize' : [True, False]}\n",
    "\n",
    "grid_obj = GridSearchCV(estimator = model, \n",
    "                        param_grid = lasso_params, \n",
    "                        scoring = 'r2',\n",
    "                        cv = 5,\n",
    "                        n_jobs = -1)\n",
    "\n",
    "grid_obj = grid_obj.fit(X_train_subset, y_train_subset)\n",
    "grid_obj.best_params_"
   ]
  },
  {
   "cell_type": "markdown",
   "metadata": {},
   "source": [
    "Looks like the best alpha level is 0.05. Let's use the above best selected parameters and train it on our subset of X_train data and subsequently test them on the validation dataset."
   ]
  },
  {
   "cell_type": "code",
   "execution_count": null,
   "metadata": {},
   "outputs": [],
   "source": [
    "final_lasso = grid_obj.best_estimator_.fit(X_train_subset, y_train_subset)\n",
    "\n",
    "train_predictions = final_lasso.predict(X_train_subset)\n",
    "val_predictions = final_lasso.predict(X_val)\n",
    "test_predictions = final_lasso.predict(X_test)\n",
    "\n",
    "print ('Train R2 score of:', round(r2_score(y_train_subset, train_predictions),2))\n",
    "print ('Validation R2 score of:', round(r2_score(y_val, val_predictions),2))\n",
    "print ('Test R2 score of:', round(r2_score(y_test, test_predictions),2))"
   ]
  },
  {
   "cell_type": "markdown",
   "metadata": {},
   "source": [
    "Not bad at all. Now let's explore the coefficients that the Lasso model chose and plot them."
   ]
  },
  {
   "cell_type": "code",
   "execution_count": null,
   "metadata": {},
   "outputs": [],
   "source": [
    "coef = pd.Series(final_lasso.coef_, index = X_train_subset.columns)\n",
    "final_coef = coef[coef != 0]\n",
    "final_coef.sort_values(ascending = False, inplace=True)\n",
    "\n",
    "print(\"Lasso picked \" + str(sum(coef != 0)) + \" variables and eliminated the other \" +  str(sum(coef == 0)) + \" variables\")\n",
    "\n",
    "final_coef.plot(kind = \"bar\", figsize=(15,5))\n",
    "plt.title(\"Coefficients in the Lasso Model\")\n",
    "plt.show()"
   ]
  },
  {
   "cell_type": "markdown",
   "metadata": {},
   "source": [
    "How about the residuals?"
   ]
  },
  {
   "cell_type": "code",
   "execution_count": null,
   "metadata": {},
   "outputs": [],
   "source": [
    "preds = pd.DataFrame({\"preds\":final_lasso.predict(X_test), \"true\":y_test})\n",
    "preds[\"residuals\"] = preds[\"true\"] - preds[\"preds\"]\n",
    "\n",
    "preds.plot(x = \"preds\", y = \"residuals\", kind = \"scatter\", figsize=(15,10))\n",
    "plt.title('Lasso Residual Plots')\n",
    "plt.show()"
   ]
  },
  {
   "cell_type": "code",
   "execution_count": null,
   "metadata": {},
   "outputs": [],
   "source": [
    "X2 = X_train[final_coef.index]\n",
    "X2['Intercept'] = 1\n",
    "\n",
    "vif = pd.DataFrame()\n",
    "vif[\"variables\"] = X2.columns\n",
    "vif[\"VIF\"] = [variance_inflation_factor(X2.values, i) for i in range(X2.shape[1])]\n",
    "\n",
    "vif"
   ]
  },
  {
   "cell_type": "code",
   "execution_count": null,
   "metadata": {},
   "outputs": [],
   "source": [
    "final_coef"
   ]
  },
  {
   "cell_type": "code",
   "execution_count": null,
   "metadata": {},
   "outputs": [],
   "source": []
  },
  {
   "cell_type": "markdown",
   "metadata": {},
   "source": [
    "Apply the 20 selected features from the lasso model into our usual OLS model to obtain further information"
   ]
  },
  {
   "cell_type": "code",
   "execution_count": null,
   "metadata": {},
   "outputs": [],
   "source": [
    "final_lasso_test_r2 = statsmodel_regression(X_train[final_coef.index], add_constant(X_test[final_coef.index]), y_train, y_test)[0]\n",
    "final_lasso_estimator = statsmodel_regression(X_train[final_coef.index], add_constant(X_test[final_coef.index]), y_train, y_test)[1]"
   ]
  },
  {
   "cell_type": "code",
   "execution_count": null,
   "metadata": {},
   "outputs": [],
   "source": [
    "final_lasso_estimator.pvalues > 0.05"
   ]
  },
  {
   "cell_type": "code",
   "execution_count": null,
   "metadata": {},
   "outputs": [],
   "source": [
    "all_model_summary_df.loc[all_model_summary_df.model == 'Embedded - Lasso', 'n_features'] = len(final_lasso_estimator.pvalues)\n",
    "all_model_summary_df.loc[all_model_summary_df.model == 'Embedded - Lasso', 'AIC'] = final_lasso_estimator.aic\n",
    "all_model_summary_df.loc[all_model_summary_df.model == 'Embedded - Lasso', 'R2_test'] = final_lasso_test_r2\n",
    "all_model_summary_df.loc[all_model_summary_df.model == 'Embedded - Lasso', '>0.05_pvalues'] = sum(final_lasso_estimator.pvalues > 0.05)"
   ]
  },
  {
   "cell_type": "code",
   "execution_count": null,
   "metadata": {},
   "outputs": [],
   "source": [
    "all_model_summary_df"
   ]
  }
 ],
 "metadata": {
  "kernelspec": {
   "display_name": "Python 3",
   "language": "python",
   "name": "python3"
  },
  "language_info": {
   "codemirror_mode": {
    "name": "ipython",
    "version": 3
   },
   "file_extension": ".py",
   "mimetype": "text/x-python",
   "name": "python",
   "nbconvert_exporter": "python",
   "pygments_lexer": "ipython3",
   "version": "3.6.6"
  }
 },
 "nbformat": 4,
 "nbformat_minor": 2
}
