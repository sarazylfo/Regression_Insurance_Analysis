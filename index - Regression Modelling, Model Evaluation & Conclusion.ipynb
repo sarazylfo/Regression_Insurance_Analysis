{
 "cells": [
  {
   "cell_type": "markdown",
   "metadata": {},
   "source": [
    "# Multiple Linear Regression - Prediciting US Life Expectancy"
   ]
  },
  {
   "cell_type": "markdown",
   "metadata": {},
   "source": [
    "Given the sheer size of the features involved and for better interpretation for our final user ('Life Insurer'), it is crucial to narrow down the number of variables. There are several ways to do this but the ones we are about to list below are definitely not exhaustive. \n",
    "\n",
    "- Baseline Method: Using all available variables\n",
    "- Naive Selection: using only top correlated features that are correlated to Life Expectancy\n",
    "- Filter Method: dropping low variance features followed by removing highly correlated features\n",
    "- Stepwise Selection: Adding features with p-values below certain threshold and dropping those \n",
    "- Recursive Feature Elimination: sklearn's function of greedily choosing \n",
    "- Lasso: use GridSearch to find the best penalizing parameter 'alpha' for the Lasso algo. We will then select features that have not been shrinked to 0\n",
    "\n",
    "Once we get all the features selected by each method above, we pass those into Statsmodel's OLS function. Subsequently, we will select our most prefferred model by comparing their R2 scores, AIC (model complexity) and also consider the number of features included, which is the primary consideration here. \n",
    "\n",
    "Post model selection, we will then check if the chosen model satisfies the assumptions of a regression; no multicollinearity between selected features, homosceasticity and normality of errors. In the end, we shall evaluate the model if it fits the purpose for our final user.\n",
    "\n",
    "First let's import all the required libraries."
   ]
  },
  {
   "cell_type": "code",
   "execution_count": 1,
   "metadata": {},
   "outputs": [],
   "source": [
    "import pandas as pd\n",
    "import numpy as np\n",
    "\n",
    "import matplotlib.pyplot as plt\n",
    "import seaborn as sns\n",
    "import pylab\n",
    "import warnings\n",
    "\n",
    "from functions import *\n",
    "\n",
    "from sklearn.linear_model import LinearRegression, Lasso\n",
    "from sklearn.model_selection import train_test_split, cross_validate, cross_val_score, KFold, GridSearchCV\n",
    "from sklearn.metrics import r2_score\n",
    "from sklearn.feature_selection import VarianceThreshold, RFECV, RFE\n",
    "from sklearn.preprocessing import StandardScaler\n",
    "\n",
    "from statsmodels.regression.linear_model import OLS\n",
    "from statsmodels.tools import add_constant\n",
    "from statsmodels.stats.outliers_influence import variance_inflation_factor\n",
    "\n",
    "from scipy import stats\n",
    "\n",
    "sns.set_style('darkgrid')\n",
    "warnings.filterwarnings('ignore')\n",
    "pd.set_option('display.max_columns', None)\n",
    "\n",
    "%load_ext autoreload\n",
    "%autoreload 2"
   ]
  },
  {
   "cell_type": "markdown",
   "metadata": {},
   "source": [
    "Import the data which was previously cleaned in a seperate notebook."
   ]
  },
  {
   "cell_type": "code",
   "execution_count": 2,
   "metadata": {},
   "outputs": [
    {
     "name": "stdout",
     "output_type": "stream",
     "text": [
      "Number of rows: 3142\n",
      "Number of columns: 66\n"
     ]
    }
   ],
   "source": [
    "df_clean = pd.read_csv('clean_data.csv', index_col = [0])\n",
    "print ('Number of rows:', df_clean.shape[0])\n",
    "print ('Number of columns:', df_clean.shape[1])"
   ]
  },
  {
   "cell_type": "markdown",
   "metadata": {},
   "source": [
    "Now, let's drop both of the string columns 'State Abbreviation' and 'Name'. We then split the data into X feature and y target as the 'Life_expectancy'."
   ]
  },
  {
   "cell_type": "code",
   "execution_count": 3,
   "metadata": {},
   "outputs": [],
   "source": [
    "to_drop = ['State_Abbreviation', 'Name', 'Life_expectancy', 'Premature_age-adjusted_mortality', 'Premature_death', 'Injury_deaths', 'Teen_births']\n",
    "\n",
    "X = df_clean.drop(to_drop, axis = 1)\n",
    "y = df_clean['Life_expectancy']"
   ]
  },
  {
   "cell_type": "markdown",
   "metadata": {},
   "source": [
    "Split into training and testing dataset, setting the test size to 25% and a random state of 1 to ensure reproducibility of data."
   ]
  },
  {
   "cell_type": "code",
   "execution_count": 4,
   "metadata": {},
   "outputs": [],
   "source": [
    "X_train, X_test, y_train, y_test = train_test_split(X, y, test_size = 0.25, random_state = 1)"
   ]
  },
  {
   "cell_type": "markdown",
   "metadata": {},
   "source": [
    "Given one our end goal is to rank features, this is not possible as the features are on different unit scales. To enable comparison, let's standardized our dataset using Sklearn's Standard Scaler which transforms the data into its relevant Z-scores (ie. number of standard deviation away from the mean)."
   ]
  },
  {
   "cell_type": "code",
   "execution_count": 5,
   "metadata": {},
   "outputs": [],
   "source": [
    "scx = StandardScaler()\n",
    "scy = StandardScaler()\n",
    "\n",
    "X_train_scaled = pd.DataFrame(scx.fit_transform(X_train), columns = X_train.columns)\n",
    "X_test_scaled = pd.DataFrame(scx.transform(X_test), columns = X_test.columns)\n",
    "\n",
    "y_train_scaled = np.concatenate(scy.fit_transform(np.array(y_train).reshape(-1,1)))\n",
    "y_test_scaled = np.concatenate(scy.transform(np.array(y_test).reshape(-1,1)))"
   ]
  },
  {
   "cell_type": "markdown",
   "metadata": {},
   "source": [
    "Finally ahead of running all the different methods, let's create a dataframe to store all method outcomes for better readability and comparison."
   ]
  },
  {
   "cell_type": "code",
   "execution_count": 6,
   "metadata": {},
   "outputs": [
    {
     "data": {
      "text/html": [
       "<div>\n",
       "<style scoped>\n",
       "    .dataframe tbody tr th:only-of-type {\n",
       "        vertical-align: middle;\n",
       "    }\n",
       "\n",
       "    .dataframe tbody tr th {\n",
       "        vertical-align: top;\n",
       "    }\n",
       "\n",
       "    .dataframe thead th {\n",
       "        text-align: right;\n",
       "    }\n",
       "</style>\n",
       "<table border=\"1\" class=\"dataframe\">\n",
       "  <thead>\n",
       "    <tr style=\"text-align: right;\">\n",
       "      <th></th>\n",
       "      <th>model</th>\n",
       "      <th>R2_train</th>\n",
       "      <th>CV_R2_train</th>\n",
       "      <th>AIC</th>\n",
       "      <th>n_features</th>\n",
       "      <th>&gt;0.05_pvalues</th>\n",
       "    </tr>\n",
       "  </thead>\n",
       "  <tbody>\n",
       "    <tr>\n",
       "      <th>0</th>\n",
       "      <td>Baseline</td>\n",
       "      <td>NaN</td>\n",
       "      <td>NaN</td>\n",
       "      <td>NaN</td>\n",
       "      <td>NaN</td>\n",
       "      <td>NaN</td>\n",
       "    </tr>\n",
       "    <tr>\n",
       "      <th>1</th>\n",
       "      <td>Naive - Top Correlation</td>\n",
       "      <td>NaN</td>\n",
       "      <td>NaN</td>\n",
       "      <td>NaN</td>\n",
       "      <td>NaN</td>\n",
       "      <td>NaN</td>\n",
       "    </tr>\n",
       "    <tr>\n",
       "      <th>2</th>\n",
       "      <td>Filter</td>\n",
       "      <td>NaN</td>\n",
       "      <td>NaN</td>\n",
       "      <td>NaN</td>\n",
       "      <td>NaN</td>\n",
       "      <td>NaN</td>\n",
       "    </tr>\n",
       "    <tr>\n",
       "      <th>3</th>\n",
       "      <td>RFE</td>\n",
       "      <td>NaN</td>\n",
       "      <td>NaN</td>\n",
       "      <td>NaN</td>\n",
       "      <td>NaN</td>\n",
       "      <td>NaN</td>\n",
       "    </tr>\n",
       "    <tr>\n",
       "      <th>4</th>\n",
       "      <td>Stepwise</td>\n",
       "      <td>NaN</td>\n",
       "      <td>NaN</td>\n",
       "      <td>NaN</td>\n",
       "      <td>NaN</td>\n",
       "      <td>NaN</td>\n",
       "    </tr>\n",
       "    <tr>\n",
       "      <th>5</th>\n",
       "      <td>Lasso</td>\n",
       "      <td>NaN</td>\n",
       "      <td>NaN</td>\n",
       "      <td>NaN</td>\n",
       "      <td>NaN</td>\n",
       "      <td>NaN</td>\n",
       "    </tr>\n",
       "  </tbody>\n",
       "</table>\n",
       "</div>"
      ],
      "text/plain": [
       "                     model R2_train CV_R2_train  AIC n_features >0.05_pvalues\n",
       "0                 Baseline      NaN         NaN  NaN        NaN           NaN\n",
       "1  Naive - Top Correlation      NaN         NaN  NaN        NaN           NaN\n",
       "2                   Filter      NaN         NaN  NaN        NaN           NaN\n",
       "3                      RFE      NaN         NaN  NaN        NaN           NaN\n",
       "4                 Stepwise      NaN         NaN  NaN        NaN           NaN\n",
       "5                    Lasso      NaN         NaN  NaN        NaN           NaN"
      ]
     },
     "execution_count": 6,
     "metadata": {},
     "output_type": "execute_result"
    }
   ],
   "source": [
    "all_model_summary_df = pd.DataFrame([], \n",
    "                                    columns = ['model', \n",
    "                                               'R2_train', 'CV_R2_train', \n",
    "                                               'AIC', 'n_features', '>0.05_pvalues'])\n",
    "\n",
    "\n",
    "all_model_summary_df['model'] = ['Baseline', 'Naive - Top Correlation',\n",
    "                                 'Filter', \n",
    "                                 'RFE', 'Stepwise',\n",
    "                                 'Lasso']\n",
    "\n",
    "all_model_summary_df"
   ]
  },
  {
   "cell_type": "markdown",
   "metadata": {},
   "source": [
    "## 1. Baseline - All available features\n",
    "\n",
    "Cool, we now start off by using all 63 z-scaled features to run the OLS model, followed by calculating all of the R2 scores, the AIC, number of features and number of features with p-values of more than 0.05."
   ]
  },
  {
   "cell_type": "code",
   "execution_count": 7,
   "metadata": {},
   "outputs": [],
   "source": [
    "linreg_baseline = LinearRegression()\n",
    "linreg_baseline_mean_score = round(np.mean(cross_val_score(linreg_baseline, X_train_scaled, y_train_scaled, cv = 5)), 3)"
   ]
  },
  {
   "cell_type": "code",
   "execution_count": 8,
   "metadata": {},
   "outputs": [
    {
     "name": "stdout",
     "output_type": "stream",
     "text": [
      "Baseline Train R-Squared: 0.755\n",
      "Baseline CV Score R-Squared: 0.724\n"
     ]
    }
   ],
   "source": [
    "baseline_OLS = OLS(y_train_scaled, add_constant(X_train_scaled)).fit()\n",
    "\n",
    "baseline_predictions = baseline_OLS.predict(add_constant(X_test_scaled))\n",
    "baseline_train_r2 = round(baseline_OLS.rsquared, 3)\n",
    "\n",
    "baseline_errors = y_test_scaled - baseline_predictions\n",
    "baseline_test_r2 = round(r2_score(y_test_scaled, baseline_predictions), 3)\n",
    "\n",
    "print ('Baseline Train R-Squared:', baseline_train_r2)\n",
    "print ('Baseline CV Score R-Squared:', linreg_baseline_mean_score)"
   ]
  },
  {
   "cell_type": "markdown",
   "metadata": {},
   "source": [
    "Without taking any further assumptions on this method, let's update our initial table."
   ]
  },
  {
   "cell_type": "code",
   "execution_count": 9,
   "metadata": {},
   "outputs": [],
   "source": [
    "update_model(all_model_summary_df, 'Baseline', baseline_OLS, [baseline_train_r2, linreg_baseline_mean_score])"
   ]
  },
  {
   "cell_type": "code",
   "execution_count": 10,
   "metadata": {},
   "outputs": [
    {
     "data": {
      "text/html": [
       "<div>\n",
       "<style scoped>\n",
       "    .dataframe tbody tr th:only-of-type {\n",
       "        vertical-align: middle;\n",
       "    }\n",
       "\n",
       "    .dataframe tbody tr th {\n",
       "        vertical-align: top;\n",
       "    }\n",
       "\n",
       "    .dataframe thead th {\n",
       "        text-align: right;\n",
       "    }\n",
       "</style>\n",
       "<table border=\"1\" class=\"dataframe\">\n",
       "  <thead>\n",
       "    <tr style=\"text-align: right;\">\n",
       "      <th></th>\n",
       "      <th>model</th>\n",
       "      <th>R2_train</th>\n",
       "      <th>CV_R2_train</th>\n",
       "      <th>AIC</th>\n",
       "      <th>n_features</th>\n",
       "      <th>&gt;0.05_pvalues</th>\n",
       "    </tr>\n",
       "  </thead>\n",
       "  <tbody>\n",
       "    <tr>\n",
       "      <th>0</th>\n",
       "      <td>Baseline</td>\n",
       "      <td>0.755</td>\n",
       "      <td>0.724</td>\n",
       "      <td>3493</td>\n",
       "      <td>60</td>\n",
       "      <td>27</td>\n",
       "    </tr>\n",
       "    <tr>\n",
       "      <th>1</th>\n",
       "      <td>Naive - Top Correlation</td>\n",
       "      <td>NaN</td>\n",
       "      <td>NaN</td>\n",
       "      <td>NaN</td>\n",
       "      <td>NaN</td>\n",
       "      <td>NaN</td>\n",
       "    </tr>\n",
       "    <tr>\n",
       "      <th>2</th>\n",
       "      <td>Filter</td>\n",
       "      <td>NaN</td>\n",
       "      <td>NaN</td>\n",
       "      <td>NaN</td>\n",
       "      <td>NaN</td>\n",
       "      <td>NaN</td>\n",
       "    </tr>\n",
       "    <tr>\n",
       "      <th>3</th>\n",
       "      <td>RFE</td>\n",
       "      <td>NaN</td>\n",
       "      <td>NaN</td>\n",
       "      <td>NaN</td>\n",
       "      <td>NaN</td>\n",
       "      <td>NaN</td>\n",
       "    </tr>\n",
       "    <tr>\n",
       "      <th>4</th>\n",
       "      <td>Stepwise</td>\n",
       "      <td>NaN</td>\n",
       "      <td>NaN</td>\n",
       "      <td>NaN</td>\n",
       "      <td>NaN</td>\n",
       "      <td>NaN</td>\n",
       "    </tr>\n",
       "    <tr>\n",
       "      <th>5</th>\n",
       "      <td>Lasso</td>\n",
       "      <td>NaN</td>\n",
       "      <td>NaN</td>\n",
       "      <td>NaN</td>\n",
       "      <td>NaN</td>\n",
       "      <td>NaN</td>\n",
       "    </tr>\n",
       "  </tbody>\n",
       "</table>\n",
       "</div>"
      ],
      "text/plain": [
       "                     model R2_train CV_R2_train   AIC n_features >0.05_pvalues\n",
       "0                 Baseline    0.755       0.724  3493         60            27\n",
       "1  Naive - Top Correlation      NaN         NaN   NaN        NaN           NaN\n",
       "2                   Filter      NaN         NaN   NaN        NaN           NaN\n",
       "3                      RFE      NaN         NaN   NaN        NaN           NaN\n",
       "4                 Stepwise      NaN         NaN   NaN        NaN           NaN\n",
       "5                    Lasso      NaN         NaN   NaN        NaN           NaN"
      ]
     },
     "execution_count": 10,
     "metadata": {},
     "output_type": "execute_result"
    }
   ],
   "source": [
    "all_model_summary_df"
   ]
  },
  {
   "cell_type": "markdown",
   "metadata": {},
   "source": [
    "## 2. Naive Selection - Subset of features with highest correlation to Life Expectancy\n",
    "\n",
    "Given we've 'blindly' included all features in the baseline model, let's try and narrow these down to only include features which are highly correlated with our target variabe, 'Life Expectancy'. First, we initiated a correlation matrix and set our target correlation threshold to 0.65."
   ]
  },
  {
   "cell_type": "code",
   "execution_count": 11,
   "metadata": {},
   "outputs": [
    {
     "data": {
      "text/plain": [
       "Poor_physical_health_days     0.670166\n",
       "Adult_smoking                 0.701254\n",
       "Children_in_poverty           0.656341\n",
       "Frequent_physical_distress    0.675509\n",
       "Frequent_mental_distress      0.695187\n",
       "dtype: float64"
      ]
     },
     "execution_count": 11,
     "metadata": {},
     "output_type": "execute_result"
    }
   ],
   "source": [
    "target_correlation_threshold = 0.65\n",
    "\n",
    "absolute_correlation = abs(X_train.corrwith(y_train))\n",
    "final = absolute_correlation[absolute_correlation > 0.65]\n",
    "final"
   ]
  },
  {
   "cell_type": "markdown",
   "metadata": {},
   "source": [
    "Using a 0.65 threshold, we've narrowed down from 64 to 8 features. Using these 8 features, let's create another OLS model and evaluate its performance."
   ]
  },
  {
   "cell_type": "code",
   "execution_count": 12,
   "metadata": {},
   "outputs": [],
   "source": [
    "linreg_naive = LinearRegression()\n",
    "linreg_naive_mean_score = round(np.mean(cross_val_score(linreg_naive, \n",
    "                                                        X_train_scaled[final.index], \n",
    "                                                        y_train_scaled, cv = 5)), 3)"
   ]
  },
  {
   "cell_type": "code",
   "execution_count": 13,
   "metadata": {},
   "outputs": [
    {
     "name": "stdout",
     "output_type": "stream",
     "text": [
      "Naive Train R-Squared: 0.577\n",
      "Naive CV Score R-Squared: 0.571\n"
     ]
    }
   ],
   "source": [
    "naive_OLS = OLS(y_train_scaled, add_constant(X_train_scaled[final.index])).fit()\n",
    "\n",
    "naive_predictions = naive_OLS.predict(add_constant(X_test_scaled[final.index]))\n",
    "naive_train_r2 = round(naive_OLS.rsquared, 3)\n",
    "\n",
    "naive_errors = y_test_scaled - naive_predictions\n",
    "naive_test_r2 = round(r2_score(y_test_scaled, naive_predictions), 3)\n",
    "\n",
    "print ('Naive Train R-Squared:', naive_train_r2)\n",
    "print ('Naive CV Score R-Squared:', linreg_naive_mean_score)"
   ]
  },
  {
   "cell_type": "code",
   "execution_count": 14,
   "metadata": {},
   "outputs": [],
   "source": [
    "update_model(all_model_summary_df, 'Naive - Top Correlation', naive_OLS, [naive_train_r2, linreg_naive_mean_score])"
   ]
  },
  {
   "cell_type": "code",
   "execution_count": 15,
   "metadata": {},
   "outputs": [
    {
     "data": {
      "text/html": [
       "<div>\n",
       "<style scoped>\n",
       "    .dataframe tbody tr th:only-of-type {\n",
       "        vertical-align: middle;\n",
       "    }\n",
       "\n",
       "    .dataframe tbody tr th {\n",
       "        vertical-align: top;\n",
       "    }\n",
       "\n",
       "    .dataframe thead th {\n",
       "        text-align: right;\n",
       "    }\n",
       "</style>\n",
       "<table border=\"1\" class=\"dataframe\">\n",
       "  <thead>\n",
       "    <tr style=\"text-align: right;\">\n",
       "      <th></th>\n",
       "      <th>model</th>\n",
       "      <th>R2_train</th>\n",
       "      <th>CV_R2_train</th>\n",
       "      <th>AIC</th>\n",
       "      <th>n_features</th>\n",
       "      <th>&gt;0.05_pvalues</th>\n",
       "    </tr>\n",
       "  </thead>\n",
       "  <tbody>\n",
       "    <tr>\n",
       "      <th>0</th>\n",
       "      <td>Baseline</td>\n",
       "      <td>0.755</td>\n",
       "      <td>0.724</td>\n",
       "      <td>3493</td>\n",
       "      <td>60</td>\n",
       "      <td>27</td>\n",
       "    </tr>\n",
       "    <tr>\n",
       "      <th>1</th>\n",
       "      <td>Naive - Top Correlation</td>\n",
       "      <td>0.577</td>\n",
       "      <td>0.571</td>\n",
       "      <td>4670</td>\n",
       "      <td>6</td>\n",
       "      <td>1</td>\n",
       "    </tr>\n",
       "    <tr>\n",
       "      <th>2</th>\n",
       "      <td>Filter</td>\n",
       "      <td>NaN</td>\n",
       "      <td>NaN</td>\n",
       "      <td>NaN</td>\n",
       "      <td>NaN</td>\n",
       "      <td>NaN</td>\n",
       "    </tr>\n",
       "    <tr>\n",
       "      <th>3</th>\n",
       "      <td>RFE</td>\n",
       "      <td>NaN</td>\n",
       "      <td>NaN</td>\n",
       "      <td>NaN</td>\n",
       "      <td>NaN</td>\n",
       "      <td>NaN</td>\n",
       "    </tr>\n",
       "    <tr>\n",
       "      <th>4</th>\n",
       "      <td>Stepwise</td>\n",
       "      <td>NaN</td>\n",
       "      <td>NaN</td>\n",
       "      <td>NaN</td>\n",
       "      <td>NaN</td>\n",
       "      <td>NaN</td>\n",
       "    </tr>\n",
       "    <tr>\n",
       "      <th>5</th>\n",
       "      <td>Lasso</td>\n",
       "      <td>NaN</td>\n",
       "      <td>NaN</td>\n",
       "      <td>NaN</td>\n",
       "      <td>NaN</td>\n",
       "      <td>NaN</td>\n",
       "    </tr>\n",
       "  </tbody>\n",
       "</table>\n",
       "</div>"
      ],
      "text/plain": [
       "                     model R2_train CV_R2_train   AIC n_features >0.05_pvalues\n",
       "0                 Baseline    0.755       0.724  3493         60            27\n",
       "1  Naive - Top Correlation    0.577       0.571  4670          6             1\n",
       "2                   Filter      NaN         NaN   NaN        NaN           NaN\n",
       "3                      RFE      NaN         NaN   NaN        NaN           NaN\n",
       "4                 Stepwise      NaN         NaN   NaN        NaN           NaN\n",
       "5                    Lasso      NaN         NaN   NaN        NaN           NaN"
      ]
     },
     "execution_count": 15,
     "metadata": {},
     "output_type": "execute_result"
    }
   ],
   "source": [
    "all_model_summary_df"
   ]
  },
  {
   "cell_type": "markdown",
   "metadata": {},
   "source": [
    "Just by using the 8 (9 with constant) top correlated features, we get almost similar results to our Baseline model!"
   ]
  },
  {
   "cell_type": "markdown",
   "metadata": {},
   "source": [
    "## 3. Filter - drop features with no / low variance & high correlation with other features\n",
    "\n",
    "One of the pitfalls of the above methods is that we might have potentially ignored other useful features that might be of use to our final user. \n",
    "\n",
    "Coupled with the above, the previously contemplated model might include various highly correlated features, violating the assumptions of a regression model. As such, let's try out best to find a middle ground by using by:\n",
    "\n",
    "- dropping features with no or low variance. These features typically do not add much predictive value in a model\n",
    "- dropping features which are highly correlated\n",
    "\n",
    "Let's start of by dropping features with no or low variance. We can utilize Sklearn's 'variance_threshold' tool to solve this."
   ]
  },
  {
   "cell_type": "code",
   "execution_count": 16,
   "metadata": {},
   "outputs": [
    {
     "name": "stdout",
     "output_type": "stream",
     "text": [
      "Number of low variance features: 1\n",
      "Low variance features: ['Release_Year']\n"
     ]
    }
   ],
   "source": [
    "variance_threshold = 0.00\n",
    "\n",
    "low_var_filter = VarianceThreshold(threshold = variance_threshold).fit(X_train_scaled)\n",
    "\n",
    "dropped_cols = X_train_scaled.columns[low_var_filter.get_support() == False]\n",
    "print ('Number of low variance features:', len(dropped_cols))\n",
    "print ('Low variance features:', list(dropped_cols))"
   ]
  },
  {
   "cell_type": "code",
   "execution_count": 17,
   "metadata": {},
   "outputs": [],
   "source": [
    "High_Var_Features = X_train_scaled.drop(dropped_cols, axis = 1)"
   ]
  },
  {
   "cell_type": "markdown",
   "metadata": {},
   "source": [
    "Next, let's further narrow down features by excluding highly correlated features. We have defined this as those with pearson's r of > 0.6."
   ]
  },
  {
   "cell_type": "code",
   "execution_count": 18,
   "metadata": {},
   "outputs": [
    {
     "name": "stdout",
     "output_type": "stream",
     "text": [
      "Number of features to drop: 21\n",
      "Features to drop: \n",
      " ['Median_household_income', 'Insufficient_sleep', 'Uninsured_adults', 'Physical_inactivity', 'Children_in_single-parent_households', 'Poor_mental_health_days', 'Limited_access_to_healthy_foods', 'Diabetes_prevalence', 'Adult_smoking', 'Children_eligible_for_free_or_reduced_price_lunch', 'Poor_physical_health_days', 'Food_insecurity', 'Excessive_drinking', 'Severe_housing_cost_burden', 'Percentage_of_households_with_high_housing_costs', 'Uninsured_children', 'Frequent_physical_distress', 'Frequent_mental_distress', 'Some_college', 'Percentage_of_households_with_overcrowding', 'Children_in_poverty']\n"
     ]
    }
   ],
   "source": [
    "corr_matrix = High_Var_Features.corr()\n",
    "correlated_features = set()\n",
    "\n",
    "corr_threshold = 0.6\n",
    "\n",
    "for i in range(len(corr_matrix.columns)):\n",
    "    for j in range(i):\n",
    "        if abs(corr_matrix.iloc[i, j]) > corr_threshold:\n",
    "            colname = corr_matrix.columns[i]\n",
    "            correlated_features.add(colname)\n",
    "\n",
    "correlated_features\n",
    "print ('Number of features to drop:', len(correlated_features))\n",
    "print ('Features to drop: \\n', list(correlated_features))"
   ]
  },
  {
   "cell_type": "code",
   "execution_count": 19,
   "metadata": {},
   "outputs": [],
   "source": [
    "High_Var_Features_Low_Corr = High_Var_Features.drop(list(correlated_features), axis = 1)"
   ]
  },
  {
   "cell_type": "code",
   "execution_count": 20,
   "metadata": {},
   "outputs": [],
   "source": [
    "linreg_filter = LinearRegression()\n",
    "linreg_filter_mean_score = round(np.mean(cross_val_score(linreg_filter, \n",
    "                                                        X_train_scaled[High_Var_Features_Low_Corr.columns], \n",
    "                                                        y_train_scaled, cv = 5)), 3)"
   ]
  },
  {
   "cell_type": "code",
   "execution_count": 21,
   "metadata": {},
   "outputs": [],
   "source": [
    "filter_OLS = OLS(y_train_scaled, add_constant(X_train_scaled[High_Var_Features_Low_Corr.columns])).fit()\n",
    "\n",
    "filter_predictions = filter_OLS.predict(add_constant(X_test_scaled[High_Var_Features_Low_Corr.columns]))\n",
    "filter_train_r2 = round(filter_OLS.rsquared, 3)\n",
    "\n",
    "filter_errors = y_test_scaled - filter_predictions\n",
    "filter_test_r2 = round(r2_score(y_test_scaled, filter_predictions), 3)"
   ]
  },
  {
   "cell_type": "code",
   "execution_count": 22,
   "metadata": {},
   "outputs": [
    {
     "name": "stdout",
     "output_type": "stream",
     "text": [
      "Filter Train R-Squared: 0.702\n",
      "Filter CV Score R-Squared: 0.679\n"
     ]
    }
   ],
   "source": [
    "print ('Filter Train R-Squared:', filter_train_r2)\n",
    "print ('Filter CV Score R-Squared:', linreg_filter_mean_score)"
   ]
  },
  {
   "cell_type": "code",
   "execution_count": 23,
   "metadata": {},
   "outputs": [],
   "source": [
    "update_model(all_model_summary_df, 'Filter', filter_OLS, [filter_train_r2, linreg_filter_mean_score])"
   ]
  },
  {
   "cell_type": "code",
   "execution_count": 24,
   "metadata": {},
   "outputs": [
    {
     "data": {
      "text/html": [
       "<div>\n",
       "<style scoped>\n",
       "    .dataframe tbody tr th:only-of-type {\n",
       "        vertical-align: middle;\n",
       "    }\n",
       "\n",
       "    .dataframe tbody tr th {\n",
       "        vertical-align: top;\n",
       "    }\n",
       "\n",
       "    .dataframe thead th {\n",
       "        text-align: right;\n",
       "    }\n",
       "</style>\n",
       "<table border=\"1\" class=\"dataframe\">\n",
       "  <thead>\n",
       "    <tr style=\"text-align: right;\">\n",
       "      <th></th>\n",
       "      <th>model</th>\n",
       "      <th>R2_train</th>\n",
       "      <th>CV_R2_train</th>\n",
       "      <th>AIC</th>\n",
       "      <th>n_features</th>\n",
       "      <th>&gt;0.05_pvalues</th>\n",
       "    </tr>\n",
       "  </thead>\n",
       "  <tbody>\n",
       "    <tr>\n",
       "      <th>0</th>\n",
       "      <td>Baseline</td>\n",
       "      <td>0.755</td>\n",
       "      <td>0.724</td>\n",
       "      <td>3493</td>\n",
       "      <td>60</td>\n",
       "      <td>27</td>\n",
       "    </tr>\n",
       "    <tr>\n",
       "      <th>1</th>\n",
       "      <td>Naive - Top Correlation</td>\n",
       "      <td>0.577</td>\n",
       "      <td>0.571</td>\n",
       "      <td>4670</td>\n",
       "      <td>6</td>\n",
       "      <td>1</td>\n",
       "    </tr>\n",
       "    <tr>\n",
       "      <th>2</th>\n",
       "      <td>Filter</td>\n",
       "      <td>0.702</td>\n",
       "      <td>0.679</td>\n",
       "      <td>3909</td>\n",
       "      <td>38</td>\n",
       "      <td>15</td>\n",
       "    </tr>\n",
       "    <tr>\n",
       "      <th>3</th>\n",
       "      <td>RFE</td>\n",
       "      <td>NaN</td>\n",
       "      <td>NaN</td>\n",
       "      <td>NaN</td>\n",
       "      <td>NaN</td>\n",
       "      <td>NaN</td>\n",
       "    </tr>\n",
       "    <tr>\n",
       "      <th>4</th>\n",
       "      <td>Stepwise</td>\n",
       "      <td>NaN</td>\n",
       "      <td>NaN</td>\n",
       "      <td>NaN</td>\n",
       "      <td>NaN</td>\n",
       "      <td>NaN</td>\n",
       "    </tr>\n",
       "    <tr>\n",
       "      <th>5</th>\n",
       "      <td>Lasso</td>\n",
       "      <td>NaN</td>\n",
       "      <td>NaN</td>\n",
       "      <td>NaN</td>\n",
       "      <td>NaN</td>\n",
       "      <td>NaN</td>\n",
       "    </tr>\n",
       "  </tbody>\n",
       "</table>\n",
       "</div>"
      ],
      "text/plain": [
       "                     model R2_train CV_R2_train   AIC n_features >0.05_pvalues\n",
       "0                 Baseline    0.755       0.724  3493         60            27\n",
       "1  Naive - Top Correlation    0.577       0.571  4670          6             1\n",
       "2                   Filter    0.702       0.679  3909         38            15\n",
       "3                      RFE      NaN         NaN   NaN        NaN           NaN\n",
       "4                 Stepwise      NaN         NaN   NaN        NaN           NaN\n",
       "5                    Lasso      NaN         NaN   NaN        NaN           NaN"
      ]
     },
     "execution_count": 24,
     "metadata": {},
     "output_type": "execute_result"
    }
   ],
   "source": [
    "all_model_summary_df"
   ]
  },
  {
   "cell_type": "markdown",
   "metadata": {},
   "source": [
    "Looks like the filter method performs on a less satisfactory basis across test accuracy, model complexity and the higher number of features (which still might be overwhelming for our end user!)"
   ]
  },
  {
   "cell_type": "markdown",
   "metadata": {},
   "source": [
    "## 4. Wrapper - Recursive Feature Elimination"
   ]
  },
  {
   "cell_type": "code",
   "execution_count": 25,
   "metadata": {},
   "outputs": [
    {
     "data": {
      "text/plain": [
       "RFECV(cv=10,\n",
       "      estimator=LinearRegression(copy_X=True, fit_intercept=True, n_jobs=None,\n",
       "                                 normalize=False),\n",
       "      min_features_to_select=1, n_jobs=None, scoring='r2', step=1, verbose=0)"
      ]
     },
     "execution_count": 25,
     "metadata": {},
     "output_type": "execute_result"
    }
   ],
   "source": [
    "linreg = LinearRegression()\n",
    "rfecv = RFECV(linreg, step = 1, scoring='r2', cv=10)\n",
    "rfecv.fit(X_train_scaled, y_train_scaled)"
   ]
  },
  {
   "cell_type": "code",
   "execution_count": 56,
   "metadata": {},
   "outputs": [
    {
     "data": {
      "image/png": "[encoded data removed]",
      "text/plain": [
       "<Figure size 1080x576 with 1 Axes>"
      ]
     },
     "metadata": {
      "needs_background": "light"
     },
     "output_type": "display_data"
    },
    {
     "data": {
      "text/plain": [
       "<Figure size 432x288 with 0 Axes>"
      ]
     },
     "metadata": {},
     "output_type": "display_data"
    }
   ],
   "source": [
    "plt.figure(figsize=(15, 8))\n",
    "plt.plot(range(1, len(rfecv.grid_scores_) + 1), rfecv.grid_scores_)\n",
    "plt.axvline(rfecv.n_features_, linestyle = ':', color = 'black')\n",
    "plt.xlabel('Number of Features')\n",
    "plt.ylabel('R2 CV score')\n",
    "plt.show()\n",
    "plt.savefig('RFECV.png')"
   ]
  },
  {
   "cell_type": "code",
   "execution_count": 27,
   "metadata": {},
   "outputs": [],
   "source": [
    "RFE_columns = X_train_scaled.columns[rfecv.get_support()]"
   ]
  },
  {
   "cell_type": "code",
   "execution_count": 28,
   "metadata": {},
   "outputs": [],
   "source": [
    "linreg_RFE = LinearRegression()\n",
    "linreg_RFE_mean_score = round(np.mean(cross_val_score(linreg_RFE, \n",
    "                                                        X_train_scaled[RFE_columns], \n",
    "                                                        y_train_scaled, cv = 5)), 3)"
   ]
  },
  {
   "cell_type": "code",
   "execution_count": 29,
   "metadata": {},
   "outputs": [],
   "source": [
    "RFE_OLS = OLS(y_train_scaled, add_constant(X_train_scaled[RFE_columns])).fit()\n",
    "\n",
    "RFE_predictions = RFE_OLS.predict(add_constant(X_test_scaled[RFE_columns]))\n",
    "RFE_train_r2 = round(RFE_OLS.rsquared, 3)\n",
    "\n",
    "RFE_errors = y_test_scaled - RFE_predictions\n",
    "RFE_test_r2 = round(r2_score(y_test_scaled, RFE_predictions), 3)"
   ]
  },
  {
   "cell_type": "code",
   "execution_count": 30,
   "metadata": {},
   "outputs": [
    {
     "name": "stdout",
     "output_type": "stream",
     "text": [
      "RFE Train R-Squared: 0.75\n",
      "RFE CV Score R-Squared: 0.73\n"
     ]
    }
   ],
   "source": [
    "print ('RFE Train R-Squared:', round(RFE_train_r2, 2))\n",
    "print ('RFE CV Score R-Squared:', linreg_RFE_mean_score)"
   ]
  },
  {
   "cell_type": "code",
   "execution_count": 31,
   "metadata": {},
   "outputs": [],
   "source": [
    "update_model(all_model_summary_df, 'RFE', RFE_OLS, [RFE_train_r2, linreg_RFE_mean_score])"
   ]
  },
  {
   "cell_type": "code",
   "execution_count": 32,
   "metadata": {},
   "outputs": [
    {
     "data": {
      "text/html": [
       "<div>\n",
       "<style scoped>\n",
       "    .dataframe tbody tr th:only-of-type {\n",
       "        vertical-align: middle;\n",
       "    }\n",
       "\n",
       "    .dataframe tbody tr th {\n",
       "        vertical-align: top;\n",
       "    }\n",
       "\n",
       "    .dataframe thead th {\n",
       "        text-align: right;\n",
       "    }\n",
       "</style>\n",
       "<table border=\"1\" class=\"dataframe\">\n",
       "  <thead>\n",
       "    <tr style=\"text-align: right;\">\n",
       "      <th></th>\n",
       "      <th>model</th>\n",
       "      <th>R2_train</th>\n",
       "      <th>CV_R2_train</th>\n",
       "      <th>AIC</th>\n",
       "      <th>n_features</th>\n",
       "      <th>&gt;0.05_pvalues</th>\n",
       "    </tr>\n",
       "  </thead>\n",
       "  <tbody>\n",
       "    <tr>\n",
       "      <th>0</th>\n",
       "      <td>Baseline</td>\n",
       "      <td>0.755</td>\n",
       "      <td>0.724</td>\n",
       "      <td>3493</td>\n",
       "      <td>60</td>\n",
       "      <td>27</td>\n",
       "    </tr>\n",
       "    <tr>\n",
       "      <th>1</th>\n",
       "      <td>Naive - Top Correlation</td>\n",
       "      <td>0.577</td>\n",
       "      <td>0.571</td>\n",
       "      <td>4670</td>\n",
       "      <td>6</td>\n",
       "      <td>1</td>\n",
       "    </tr>\n",
       "    <tr>\n",
       "      <th>2</th>\n",
       "      <td>Filter</td>\n",
       "      <td>0.702</td>\n",
       "      <td>0.679</td>\n",
       "      <td>3909</td>\n",
       "      <td>38</td>\n",
       "      <td>15</td>\n",
       "    </tr>\n",
       "    <tr>\n",
       "      <th>3</th>\n",
       "      <td>RFE</td>\n",
       "      <td>0.752</td>\n",
       "      <td>0.73</td>\n",
       "      <td>3482</td>\n",
       "      <td>42</td>\n",
       "      <td>10</td>\n",
       "    </tr>\n",
       "    <tr>\n",
       "      <th>4</th>\n",
       "      <td>Stepwise</td>\n",
       "      <td>NaN</td>\n",
       "      <td>NaN</td>\n",
       "      <td>NaN</td>\n",
       "      <td>NaN</td>\n",
       "      <td>NaN</td>\n",
       "    </tr>\n",
       "    <tr>\n",
       "      <th>5</th>\n",
       "      <td>Lasso</td>\n",
       "      <td>NaN</td>\n",
       "      <td>NaN</td>\n",
       "      <td>NaN</td>\n",
       "      <td>NaN</td>\n",
       "      <td>NaN</td>\n",
       "    </tr>\n",
       "  </tbody>\n",
       "</table>\n",
       "</div>"
      ],
      "text/plain": [
       "                     model R2_train CV_R2_train   AIC n_features >0.05_pvalues\n",
       "0                 Baseline    0.755       0.724  3493         60            27\n",
       "1  Naive - Top Correlation    0.577       0.571  4670          6             1\n",
       "2                   Filter    0.702       0.679  3909         38            15\n",
       "3                      RFE    0.752        0.73  3482         42            10\n",
       "4                 Stepwise      NaN         NaN   NaN        NaN           NaN\n",
       "5                    Lasso      NaN         NaN   NaN        NaN           NaN"
      ]
     },
     "execution_count": 32,
     "metadata": {},
     "output_type": "execute_result"
    }
   ],
   "source": [
    "all_model_summary_df"
   ]
  },
  {
   "cell_type": "markdown",
   "metadata": {},
   "source": [
    "This looks slightly better than the filter method however the number of features still remains an issue here."
   ]
  },
  {
   "cell_type": "markdown",
   "metadata": {},
   "source": [
    "## 5. Stepwise Selection - Combination of Forward and Backward feature selection"
   ]
  },
  {
   "cell_type": "code",
   "execution_count": 33,
   "metadata": {},
   "outputs": [
    {
     "name": "stdout",
     "output_type": "stream",
     "text": [
      "Add  Adult_smoking                  with p-value 0.0\n",
      "Add  Motor_vehicle_crash_deaths     with p-value 8.13982e-86\n",
      "Add  Diabetes_prevalence            with p-value 2.34273e-51\n",
      "Add  Food_insecurity                with p-value 2.48287e-27\n",
      "Add  Drug_overdose_deaths           with p-value 9.27658e-30\n",
      "Add  Driving_alone_to_work          with p-value 2.76458e-23\n",
      "Add  Sexually_transmitted_infections with p-value 1.64372e-21\n",
      "Add  Median_household_income        with p-value 1.81715e-19\n",
      "Add  Child_mortality                with p-value 4.36577e-13\n",
      "Add  Firearm_fatalities             with p-value 5.21154e-09\n",
      "Add  Air_pollution_-_particulate_matter with p-value 1.35673e-08\n",
      "Add  %_not_proficient_in_English    with p-value 2.91693e-07\n",
      "Add  Percentage_of_households_with_overcrowding with p-value 3.9601e-14\n",
      "Add  Mammography_screening          with p-value 1.77806e-09\n",
      "Drop Food_insecurity                with p-value 0.14547\n",
      "Add  %_Rural                        with p-value 3.59683e-11\n",
      "Add  Preventable_hospital_stays     with p-value 1.91234e-06\n",
      "Add  Children_eligible_for_free_or_reduced_price_lunch with p-value 2.0846e-06\n",
      "Add  Physical_inactivity            with p-value 7.66511e-06\n",
      "Add  Other_primary_care_providers   with p-value 3.58444e-05\n",
      "Add  County_Ranked_(Yes=1/No=0)     with p-value 6.01524e-05\n",
      "Add  Some_college                   with p-value 0.00168637\n",
      "Add  %_Females                      with p-value 6.03103e-05\n"
     ]
    }
   ],
   "source": [
    "stepwise_columns = stepwise_selection(X_train_scaled, y_train_scaled, threshold_in = 0.01, verbose=True)"
   ]
  },
  {
   "cell_type": "code",
   "execution_count": 34,
   "metadata": {},
   "outputs": [
    {
     "name": "stdout",
     "output_type": "stream",
     "text": [
      "Number of stepwise columns: 21\n"
     ]
    }
   ],
   "source": [
    "print ('Number of stepwise columns:', len(stepwise_columns))"
   ]
  },
  {
   "cell_type": "code",
   "execution_count": 35,
   "metadata": {},
   "outputs": [],
   "source": [
    "linreg_stepwise = LinearRegression()\n",
    "linreg_stepwise_mean_score = round(np.mean(cross_val_score(linreg_stepwise, \n",
    "                                                        X_train_scaled[stepwise_columns], \n",
    "                                                        y_train_scaled, cv = 5)), 3)"
   ]
  },
  {
   "cell_type": "code",
   "execution_count": 36,
   "metadata": {},
   "outputs": [],
   "source": [
    "stepwise_OLS = OLS(y_train_scaled, add_constant(X_train_scaled[stepwise_columns])).fit()\n",
    "\n",
    "stepwise_predictions = stepwise_OLS.predict(add_constant(X_test_scaled[stepwise_columns]))\n",
    "stepwise_train_r2 = round(stepwise_OLS.rsquared, 3)\n",
    "\n",
    "stepwise_errors = y_test_scaled - stepwise_predictions\n",
    "stepwise_test_r2 = round(r2_score(y_test_scaled, stepwise_predictions), 3)"
   ]
  },
  {
   "cell_type": "code",
   "execution_count": 37,
   "metadata": {},
   "outputs": [
    {
     "name": "stdout",
     "output_type": "stream",
     "text": [
      "Stepwise Train R-Squared: 0.74\n",
      "Stepwise CV Score R-Squared: 0.73\n"
     ]
    }
   ],
   "source": [
    "print ('Stepwise Train R-Squared:', round(stepwise_train_r2, 2))\n",
    "print ('Stepwise CV Score R-Squared:', linreg_RFE_mean_score)"
   ]
  },
  {
   "cell_type": "code",
   "execution_count": 38,
   "metadata": {},
   "outputs": [],
   "source": [
    "update_model(all_model_summary_df, 'Stepwise', stepwise_OLS, [stepwise_train_r2, linreg_stepwise_mean_score])"
   ]
  },
  {
   "cell_type": "code",
   "execution_count": 39,
   "metadata": {},
   "outputs": [
    {
     "data": {
      "text/html": [
       "<div>\n",
       "<style scoped>\n",
       "    .dataframe tbody tr th:only-of-type {\n",
       "        vertical-align: middle;\n",
       "    }\n",
       "\n",
       "    .dataframe tbody tr th {\n",
       "        vertical-align: top;\n",
       "    }\n",
       "\n",
       "    .dataframe thead th {\n",
       "        text-align: right;\n",
       "    }\n",
       "</style>\n",
       "<table border=\"1\" class=\"dataframe\">\n",
       "  <thead>\n",
       "    <tr style=\"text-align: right;\">\n",
       "      <th></th>\n",
       "      <th>model</th>\n",
       "      <th>R2_train</th>\n",
       "      <th>CV_R2_train</th>\n",
       "      <th>AIC</th>\n",
       "      <th>n_features</th>\n",
       "      <th>&gt;0.05_pvalues</th>\n",
       "    </tr>\n",
       "  </thead>\n",
       "  <tbody>\n",
       "    <tr>\n",
       "      <th>0</th>\n",
       "      <td>Baseline</td>\n",
       "      <td>0.755</td>\n",
       "      <td>0.724</td>\n",
       "      <td>3493</td>\n",
       "      <td>60</td>\n",
       "      <td>27</td>\n",
       "    </tr>\n",
       "    <tr>\n",
       "      <th>1</th>\n",
       "      <td>Naive - Top Correlation</td>\n",
       "      <td>0.577</td>\n",
       "      <td>0.571</td>\n",
       "      <td>4670</td>\n",
       "      <td>6</td>\n",
       "      <td>1</td>\n",
       "    </tr>\n",
       "    <tr>\n",
       "      <th>2</th>\n",
       "      <td>Filter</td>\n",
       "      <td>0.702</td>\n",
       "      <td>0.679</td>\n",
       "      <td>3909</td>\n",
       "      <td>38</td>\n",
       "      <td>15</td>\n",
       "    </tr>\n",
       "    <tr>\n",
       "      <th>3</th>\n",
       "      <td>RFE</td>\n",
       "      <td>0.752</td>\n",
       "      <td>0.73</td>\n",
       "      <td>3482</td>\n",
       "      <td>42</td>\n",
       "      <td>10</td>\n",
       "    </tr>\n",
       "    <tr>\n",
       "      <th>4</th>\n",
       "      <td>Stepwise</td>\n",
       "      <td>0.736</td>\n",
       "      <td>0.722</td>\n",
       "      <td>3596</td>\n",
       "      <td>22</td>\n",
       "      <td>1</td>\n",
       "    </tr>\n",
       "    <tr>\n",
       "      <th>5</th>\n",
       "      <td>Lasso</td>\n",
       "      <td>NaN</td>\n",
       "      <td>NaN</td>\n",
       "      <td>NaN</td>\n",
       "      <td>NaN</td>\n",
       "      <td>NaN</td>\n",
       "    </tr>\n",
       "  </tbody>\n",
       "</table>\n",
       "</div>"
      ],
      "text/plain": [
       "                     model R2_train CV_R2_train   AIC n_features >0.05_pvalues\n",
       "0                 Baseline    0.755       0.724  3493         60            27\n",
       "1  Naive - Top Correlation    0.577       0.571  4670          6             1\n",
       "2                   Filter    0.702       0.679  3909         38            15\n",
       "3                      RFE    0.752        0.73  3482         42            10\n",
       "4                 Stepwise    0.736       0.722  3596         22             1\n",
       "5                    Lasso      NaN         NaN   NaN        NaN           NaN"
      ]
     },
     "execution_count": 39,
     "metadata": {},
     "output_type": "execute_result"
    }
   ],
   "source": [
    "all_model_summary_df"
   ]
  },
  {
   "cell_type": "markdown",
   "metadata": {},
   "source": [
    "Now, this looks better than before with a less complex model, fairly reasonable test R2 and a manageable amount of features."
   ]
  },
  {
   "cell_type": "markdown",
   "metadata": {},
   "source": [
    "## 6. Lasso"
   ]
  },
  {
   "cell_type": "markdown",
   "metadata": {},
   "source": [
    "First we set the all the hyperparameters we are interested in tuning, primarily the 'penalizing' parameters (alpha). The GridSearch function will be able to obtain the best parameters for us by evaluating them using R2 score."
   ]
  },
  {
   "cell_type": "code",
   "execution_count": 40,
   "metadata": {},
   "outputs": [
    {
     "data": {
      "text/plain": [
       "{'alpha': 0.05}"
      ]
     },
     "execution_count": 40,
     "metadata": {},
     "output_type": "execute_result"
    }
   ],
   "source": [
    "model = Lasso()\n",
    "lasso_params = {'alpha' : [0.05, 0.1, 0.3, 1, 3, 5, 10, 15, 30, 50, 75]}\n",
    "\n",
    "grid_obj = GridSearchCV(estimator = model, \n",
    "                        param_grid = lasso_params, \n",
    "                        scoring = 'r2',\n",
    "                        cv = 5,\n",
    "                        n_jobs = -1)\n",
    "\n",
    "grid_obj = grid_obj.fit(X_train_scaled, y_train_scaled)\n",
    "grid_obj.best_params_"
   ]
  },
  {
   "cell_type": "markdown",
   "metadata": {},
   "source": [
    "Looks like the best alpha level is 0.05."
   ]
  },
  {
   "cell_type": "code",
   "execution_count": 41,
   "metadata": {},
   "outputs": [
    {
     "name": "stdout",
     "output_type": "stream",
     "text": [
      "Number of non-0 coef: 24\n",
      "Selected lasso coef:\n",
      " Poor_mental_health_days                             -0.006075\n",
      "Adult_smoking                                       -0.186576\n",
      "Adult_obesity                                       -0.014473\n",
      "Physical_inactivity                                 -0.084175\n",
      "Excessive_drinking                                   0.007923\n",
      "Sexually_transmitted_infections                     -0.079343\n",
      "Preventable_hospital_stays                          -0.029920\n",
      "Mammography_screening                                0.013501\n",
      "Children_in_poverty                                 -0.062329\n",
      "Children_in_single-parent_households                -0.003642\n",
      "Violent_crime                                       -0.003283\n",
      "Air_pollution_-_particulate_matter                  -0.027500\n",
      "Driving_alone_to_work                               -0.092817\n",
      "Child_mortality                                     -0.071881\n",
      "Frequent_mental_distress                            -0.079920\n",
      "Diabetes_prevalence                                 -0.022381\n",
      "Food_insecurity                                     -0.020614\n",
      "Drug_overdose_deaths                                -0.092674\n",
      "Motor_vehicle_crash_deaths                          -0.135953\n",
      "Median_household_income                              0.064227\n",
      "Children_eligible_for_free_or_reduced_price_lunch   -0.051171\n",
      "Firearm_fatalities                                  -0.050520\n",
      "%_not_proficient_in_English                          0.067272\n",
      "%_Females                                           -0.000353\n",
      "dtype: float64\n"
     ]
    }
   ],
   "source": [
    "final_lasso = grid_obj.best_estimator_.fit(X_train_scaled, y_train_scaled)\n",
    "lasso_coef = pd.Series(final_lasso.coef_, index = X_train_scaled.columns)\n",
    "lasso_coef = lasso_coef[lasso_coef != 0]\n",
    "\n",
    "print ('Number of non-0 coef:', len(lasso_coef))\n",
    "print ('Selected lasso coef:\\n', lasso_coef)"
   ]
  },
  {
   "cell_type": "code",
   "execution_count": 42,
   "metadata": {},
   "outputs": [],
   "source": [
    "linreg_lasso = LinearRegression()\n",
    "linreg_lasso_mean_score = round(np.mean(cross_val_score(linreg_lasso, \n",
    "                                                        X_train_scaled[lasso_coef.index], \n",
    "                                                        y_train_scaled, cv = 5)), 3)"
   ]
  },
  {
   "cell_type": "code",
   "execution_count": 43,
   "metadata": {},
   "outputs": [],
   "source": [
    "Lasso_OLS = OLS(y_train_scaled, add_constant(X_train_scaled[lasso_coef.index])).fit()\n",
    "\n",
    "Lasso_predictions = Lasso_OLS.predict(add_constant(X_test_scaled[lasso_coef.index]))\n",
    "Lasso_train_r2 = round(Lasso_OLS.rsquared, 3)\n",
    "\n",
    "Lasso_errors = y_test_scaled - Lasso_predictions\n",
    "Lasso_test_r2 = round(r2_score(y_test_scaled, Lasso_predictions), 3)"
   ]
  },
  {
   "cell_type": "code",
   "execution_count": 44,
   "metadata": {},
   "outputs": [
    {
     "name": "stdout",
     "output_type": "stream",
     "text": [
      "Lasso Train R-Squared: 0.72\n",
      "Lasso CV Score R-Squared: 0.709\n"
     ]
    }
   ],
   "source": [
    "print ('Lasso Train R-Squared:', round(Lasso_train_r2, 2))\n",
    "print ('Lasso CV Score R-Squared:', linreg_lasso_mean_score)"
   ]
  },
  {
   "cell_type": "code",
   "execution_count": 45,
   "metadata": {},
   "outputs": [],
   "source": [
    "update_model(all_model_summary_df, 'Lasso', Lasso_OLS, [Lasso_train_r2, linreg_lasso_mean_score])"
   ]
  },
  {
   "cell_type": "code",
   "execution_count": 46,
   "metadata": {},
   "outputs": [
    {
     "data": {
      "text/html": [
       "<div>\n",
       "<style scoped>\n",
       "    .dataframe tbody tr th:only-of-type {\n",
       "        vertical-align: middle;\n",
       "    }\n",
       "\n",
       "    .dataframe tbody tr th {\n",
       "        vertical-align: top;\n",
       "    }\n",
       "\n",
       "    .dataframe thead th {\n",
       "        text-align: right;\n",
       "    }\n",
       "</style>\n",
       "<table border=\"1\" class=\"dataframe\">\n",
       "  <thead>\n",
       "    <tr style=\"text-align: right;\">\n",
       "      <th></th>\n",
       "      <th>model</th>\n",
       "      <th>R2_train</th>\n",
       "      <th>CV_R2_train</th>\n",
       "      <th>AIC</th>\n",
       "      <th>n_features</th>\n",
       "      <th>&gt;0.05_pvalues</th>\n",
       "    </tr>\n",
       "  </thead>\n",
       "  <tbody>\n",
       "    <tr>\n",
       "      <th>0</th>\n",
       "      <td>Baseline</td>\n",
       "      <td>0.755</td>\n",
       "      <td>0.724</td>\n",
       "      <td>3493</td>\n",
       "      <td>60</td>\n",
       "      <td>27</td>\n",
       "    </tr>\n",
       "    <tr>\n",
       "      <th>1</th>\n",
       "      <td>Naive - Top Correlation</td>\n",
       "      <td>0.577</td>\n",
       "      <td>0.571</td>\n",
       "      <td>4670</td>\n",
       "      <td>6</td>\n",
       "      <td>1</td>\n",
       "    </tr>\n",
       "    <tr>\n",
       "      <th>2</th>\n",
       "      <td>Filter</td>\n",
       "      <td>0.702</td>\n",
       "      <td>0.679</td>\n",
       "      <td>3909</td>\n",
       "      <td>38</td>\n",
       "      <td>15</td>\n",
       "    </tr>\n",
       "    <tr>\n",
       "      <th>3</th>\n",
       "      <td>RFE</td>\n",
       "      <td>0.752</td>\n",
       "      <td>0.73</td>\n",
       "      <td>3482</td>\n",
       "      <td>42</td>\n",
       "      <td>10</td>\n",
       "    </tr>\n",
       "    <tr>\n",
       "      <th>4</th>\n",
       "      <td>Stepwise</td>\n",
       "      <td>0.736</td>\n",
       "      <td>0.722</td>\n",
       "      <td>3596</td>\n",
       "      <td>22</td>\n",
       "      <td>1</td>\n",
       "    </tr>\n",
       "    <tr>\n",
       "      <th>5</th>\n",
       "      <td>Lasso</td>\n",
       "      <td>0.723</td>\n",
       "      <td>0.709</td>\n",
       "      <td>3713</td>\n",
       "      <td>25</td>\n",
       "      <td>8</td>\n",
       "    </tr>\n",
       "  </tbody>\n",
       "</table>\n",
       "</div>"
      ],
      "text/plain": [
       "                     model R2_train CV_R2_train   AIC n_features >0.05_pvalues\n",
       "0                 Baseline    0.755       0.724  3493         60            27\n",
       "1  Naive - Top Correlation    0.577       0.571  4670          6             1\n",
       "2                   Filter    0.702       0.679  3909         38            15\n",
       "3                      RFE    0.752        0.73  3482         42            10\n",
       "4                 Stepwise    0.736       0.722  3596         22             1\n",
       "5                    Lasso    0.723       0.709  3713         25             8"
      ]
     },
     "execution_count": 46,
     "metadata": {},
     "output_type": "execute_result"
    }
   ],
   "source": [
    "all_model_summary_df"
   ]
  },
  {
   "cell_type": "markdown",
   "metadata": {},
   "source": [
    "# Final Model Selection - Stepwise Selection"
   ]
  },
  {
   "cell_type": "markdown",
   "metadata": {},
   "source": [
    "Okay, looking purely by R2 scores, model complexity and optimum number of features, we have decided to go for the Stepwise model. However we will still need to check if the model fits the regression assumptions. First let check for multicollinearity using the VIF metric. "
   ]
  },
  {
   "cell_type": "code",
   "execution_count": 47,
   "metadata": {},
   "outputs": [
    {
     "data": {
      "text/html": [
       "<div>\n",
       "<style scoped>\n",
       "    .dataframe tbody tr th:only-of-type {\n",
       "        vertical-align: middle;\n",
       "    }\n",
       "\n",
       "    .dataframe tbody tr th {\n",
       "        vertical-align: top;\n",
       "    }\n",
       "\n",
       "    .dataframe thead th {\n",
       "        text-align: right;\n",
       "    }\n",
       "</style>\n",
       "<table border=\"1\" class=\"dataframe\">\n",
       "  <thead>\n",
       "    <tr style=\"text-align: right;\">\n",
       "      <th></th>\n",
       "      <th>variables</th>\n",
       "      <th>VIF</th>\n",
       "    </tr>\n",
       "  </thead>\n",
       "  <tbody>\n",
       "    <tr>\n",
       "      <th>0</th>\n",
       "      <td>Adult_smoking</td>\n",
       "      <td>3.030270</td>\n",
       "    </tr>\n",
       "    <tr>\n",
       "      <th>1</th>\n",
       "      <td>Motor_vehicle_crash_deaths</td>\n",
       "      <td>1.959786</td>\n",
       "    </tr>\n",
       "    <tr>\n",
       "      <th>2</th>\n",
       "      <td>Diabetes_prevalence</td>\n",
       "      <td>3.621573</td>\n",
       "    </tr>\n",
       "    <tr>\n",
       "      <th>3</th>\n",
       "      <td>Drug_overdose_deaths</td>\n",
       "      <td>1.157858</td>\n",
       "    </tr>\n",
       "    <tr>\n",
       "      <th>4</th>\n",
       "      <td>Driving_alone_to_work</td>\n",
       "      <td>1.843965</td>\n",
       "    </tr>\n",
       "    <tr>\n",
       "      <th>5</th>\n",
       "      <td>Sexually_transmitted_infections</td>\n",
       "      <td>1.797629</td>\n",
       "    </tr>\n",
       "    <tr>\n",
       "      <th>6</th>\n",
       "      <td>Median_household_income</td>\n",
       "      <td>2.899842</td>\n",
       "    </tr>\n",
       "    <tr>\n",
       "      <th>7</th>\n",
       "      <td>Child_mortality</td>\n",
       "      <td>1.565470</td>\n",
       "    </tr>\n",
       "    <tr>\n",
       "      <th>8</th>\n",
       "      <td>Firearm_fatalities</td>\n",
       "      <td>1.454857</td>\n",
       "    </tr>\n",
       "    <tr>\n",
       "      <th>9</th>\n",
       "      <td>Air_pollution_-_particulate_matter</td>\n",
       "      <td>1.756740</td>\n",
       "    </tr>\n",
       "    <tr>\n",
       "      <th>10</th>\n",
       "      <td>%_not_proficient_in_English</td>\n",
       "      <td>2.130778</td>\n",
       "    </tr>\n",
       "    <tr>\n",
       "      <th>11</th>\n",
       "      <td>Percentage_of_households_with_overcrowding</td>\n",
       "      <td>2.228089</td>\n",
       "    </tr>\n",
       "    <tr>\n",
       "      <th>12</th>\n",
       "      <td>Mammography_screening</td>\n",
       "      <td>1.585408</td>\n",
       "    </tr>\n",
       "    <tr>\n",
       "      <th>13</th>\n",
       "      <td>%_Rural</td>\n",
       "      <td>2.238737</td>\n",
       "    </tr>\n",
       "    <tr>\n",
       "      <th>14</th>\n",
       "      <td>Preventable_hospital_stays</td>\n",
       "      <td>1.436009</td>\n",
       "    </tr>\n",
       "    <tr>\n",
       "      <th>15</th>\n",
       "      <td>Children_eligible_for_free_or_reduced_price_lunch</td>\n",
       "      <td>2.237764</td>\n",
       "    </tr>\n",
       "    <tr>\n",
       "      <th>16</th>\n",
       "      <td>Physical_inactivity</td>\n",
       "      <td>2.909100</td>\n",
       "    </tr>\n",
       "    <tr>\n",
       "      <th>17</th>\n",
       "      <td>Other_primary_care_providers</td>\n",
       "      <td>1.202588</td>\n",
       "    </tr>\n",
       "    <tr>\n",
       "      <th>18</th>\n",
       "      <td>County_Ranked_(Yes=1/No=0)</td>\n",
       "      <td>1.228360</td>\n",
       "    </tr>\n",
       "    <tr>\n",
       "      <th>19</th>\n",
       "      <td>Some_college</td>\n",
       "      <td>3.078256</td>\n",
       "    </tr>\n",
       "    <tr>\n",
       "      <th>20</th>\n",
       "      <td>%_Females</td>\n",
       "      <td>1.445675</td>\n",
       "    </tr>\n",
       "    <tr>\n",
       "      <th>21</th>\n",
       "      <td>Intercept</td>\n",
       "      <td>1.000000</td>\n",
       "    </tr>\n",
       "  </tbody>\n",
       "</table>\n",
       "</div>"
      ],
      "text/plain": [
       "                                            variables       VIF\n",
       "0                                       Adult_smoking  3.030270\n",
       "1                          Motor_vehicle_crash_deaths  1.959786\n",
       "2                                 Diabetes_prevalence  3.621573\n",
       "3                                Drug_overdose_deaths  1.157858\n",
       "4                               Driving_alone_to_work  1.843965\n",
       "5                     Sexually_transmitted_infections  1.797629\n",
       "6                             Median_household_income  2.899842\n",
       "7                                     Child_mortality  1.565470\n",
       "8                                  Firearm_fatalities  1.454857\n",
       "9                  Air_pollution_-_particulate_matter  1.756740\n",
       "10                        %_not_proficient_in_English  2.130778\n",
       "11         Percentage_of_households_with_overcrowding  2.228089\n",
       "12                              Mammography_screening  1.585408\n",
       "13                                            %_Rural  2.238737\n",
       "14                         Preventable_hospital_stays  1.436009\n",
       "15  Children_eligible_for_free_or_reduced_price_lunch  2.237764\n",
       "16                                Physical_inactivity  2.909100\n",
       "17                       Other_primary_care_providers  1.202588\n",
       "18                         County_Ranked_(Yes=1/No=0)  1.228360\n",
       "19                                       Some_college  3.078256\n",
       "20                                          %_Females  1.445675\n",
       "21                                          Intercept  1.000000"
      ]
     },
     "execution_count": 47,
     "metadata": {},
     "output_type": "execute_result"
    }
   ],
   "source": [
    "stepwise_baseline = X_train_scaled[stepwise_columns]\n",
    "stepwise_baseline['Intercept'] = 1\n",
    "\n",
    "stepwise_VIF = pd.DataFrame()\n",
    "stepwise_VIF[\"variables\"] = stepwise_baseline.columns\n",
    "stepwise_VIF[\"VIF\"] = [variance_inflation_factor(stepwise_baseline.values, i) for i in range(stepwise_baseline.shape[1])]\n",
    "\n",
    "stepwise_VIF"
   ]
  },
  {
   "cell_type": "markdown",
   "metadata": {},
   "source": [
    "Cool, since no features are more than 10, multicollinearity is not a big concern here. Next we check for homoscedasticity by plotting the residuals."
   ]
  },
  {
   "cell_type": "code",
   "execution_count": 48,
   "metadata": {},
   "outputs": [
    {
     "data": {
      "image/png": "[encoded data removed]",
      "text/plain": [
       "<Figure size 1080x720 with 1 Axes>"
      ]
     },
     "metadata": {
      "needs_background": "light"
     },
     "output_type": "display_data"
    }
   ],
   "source": [
    "stepwise_updated = X_train_scaled[stepwise_columns]\n",
    "stepwise_updated.insert(0, 'const', 1)\n",
    "\n",
    "stepwise_OLS.predict(stepwise_updated)\n",
    "len(stepwise_OLS.resid)\n",
    "\n",
    "plt.figure(figsize = (15,10))\n",
    "plt.scatter(stepwise_OLS.predict(stepwise_updated), stepwise_OLS.resid)\n",
    "plt.plot(stepwise_OLS.predict(stepwise_updated), [0 for i in range(len(X_train_scaled))], color = 'r')\n",
    "plt.show()"
   ]
  },
  {
   "cell_type": "markdown",
   "metadata": {},
   "source": [
    "This looks fine with no concerning trends. No we look at the normality of the errors using the QQ plot and distribution of errors"
   ]
  },
  {
   "cell_type": "code",
   "execution_count": 49,
   "metadata": {},
   "outputs": [
    {
     "data": {
      "image/png": "[encoded data removed]",
      "text/plain": [
       "<Figure size 432x288 with 1 Axes>"
      ]
     },
     "metadata": {
      "needs_background": "light"
     },
     "output_type": "display_data"
    }
   ],
   "source": [
    "residuals = stepwise_OLS.resid\n",
    "fig = stats.probplot(residuals, dist=\"norm\", plot=pylab)"
   ]
  },
  {
   "cell_type": "markdown",
   "metadata": {},
   "source": [
    "Not perfect. This is likely caused by outliers. Let's investigate the outliers for the target and see if there are any significant changes between quantiles/"
   ]
  },
  {
   "cell_type": "code",
   "execution_count": 50,
   "metadata": {},
   "outputs": [
    {
     "name": "stdout",
     "output_type": "stream",
     "text": [
      "0.0 -5.08\n",
      "0.01 -2.36\n",
      "0.02 -2.07\n",
      "0.03 -1.86\n",
      "0.04 -1.72\n",
      "0.05 -1.6\n",
      "0.06 -1.5\n",
      "0.07 -1.43\n",
      "0.08 -1.36\n",
      "0.09 -1.31\n",
      "0.1 -1.23\n"
     ]
    }
   ],
   "source": [
    "updated_scaled = X_train_scaled\n",
    "updated_scaled['Life_expectancy'] = y_train_scaled\n",
    "\n",
    "list_range = np.linspace(0, 0.1, 11)\n",
    "for i in list_range:\n",
    "    print (round(i, 5), round(updated_scaled.Life_expectancy.quantile(i),2))"
   ]
  },
  {
   "cell_type": "code",
   "execution_count": 51,
   "metadata": {},
   "outputs": [
    {
     "data": {
      "image/png": "[encoded data removed]",
      "text/plain": [
       "<Figure size 432x288 with 1 Axes>"
      ]
     },
     "metadata": {
      "needs_background": "light"
     },
     "output_type": "display_data"
    }
   ],
   "source": [
    "to_use_scaled = updated_scaled[(updated_scaled.Life_expectancy < 1.5) & (updated_scaled.Life_expectancy > -1.5)]\n",
    "to_use_x_train_scaled = to_use_scaled.drop(['Life_expectancy'], axis = 1)\n",
    "to_use_y_train_scaled = to_use_scaled.Life_expectancy\n",
    "\n",
    "stepwise_OLS_scaled_outliers = OLS(to_use_y_train_scaled, to_use_x_train_scaled[stepwise_columns]).fit()\n",
    "residuals_outlier = stepwise_OLS_scaled_outliers.resid\n",
    "stats.probplot(residuals_outlier, dist=\"norm\", plot=pylab)\n",
    "pylab.show()"
   ]
  },
  {
   "cell_type": "markdown",
   "metadata": {},
   "source": [
    "Now, let's check if our model performance has deteriorated post dropping outliers."
   ]
  },
  {
   "cell_type": "code",
   "execution_count": 52,
   "metadata": {},
   "outputs": [
    {
     "name": "stdout",
     "output_type": "stream",
     "text": [
      "Test R-Squared: 0.671\n"
     ]
    }
   ],
   "source": [
    "updated_predictions = stepwise_OLS_scaled_outliers.predict(X_test_scaled[stepwise_columns])\n",
    "updated_test_r2 = round(r2_score(y_test_scaled, updated_predictions), 3)\n",
    "print ('Test R-Squared:', updated_test_r2)"
   ]
  },
  {
   "cell_type": "code",
   "execution_count": 53,
   "metadata": {},
   "outputs": [
    {
     "data": {
      "image/png": "[encoded data removed]",
      "text/plain": [
       "<Figure size 1080x720 with 1 Axes>"
      ]
     },
     "metadata": {
      "needs_background": "light"
     },
     "output_type": "display_data"
    }
   ],
   "source": [
    "stepwise_OLS_scaled_outliers.params.sort_values().plot(kind = 'barh', figsize = (15,10))\n",
    "plt.show()"
   ]
  },
  {
   "cell_type": "markdown",
   "metadata": {},
   "source": [
    "# Conclusion and future work\n",
    "\n",
    "To conclude, it is important to emphasize that whilst we have chosen the model above, there are many other methods out there which may result in a better model. That said, the above model should at least provide our end user with the crucial indicators for estimating life expectancy.\n",
    "\n",
    "For future work, we will look to explore:\n",
    "- investigate performance of forward / backward selection, Ridge regression, interactions and polynomials\n",
    "- user other models apart from OLS, ie RF, CART, etc\n",
    "- investigate indirect correlations between features"
   ]
  }
 ],
 "metadata": {
  "kernelspec": {
   "display_name": "Python 3",
   "language": "python",
   "name": "python3"
  },
  "language_info": {
   "codemirror_mode": {
    "name": "ipython",
    "version": 3
   },
   "file_extension": ".py",
   "mimetype": "text/x-python",
   "name": "python",
   "nbconvert_exporter": "python",
   "pygments_lexer": "ipython3",
   "version": "3.6.6"
  }
 },
 "nbformat": 4,
 "nbformat_minor": 2
}
