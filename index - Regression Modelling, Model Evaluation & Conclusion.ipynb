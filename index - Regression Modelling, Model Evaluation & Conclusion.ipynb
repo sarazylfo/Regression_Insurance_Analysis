{
 "cells": [
  {
   "cell_type": "markdown",
   "metadata": {},
   "source": [
    "# Regression - Prediciting Life Expectancy for US"
   ]
  },
  {
   "cell_type": "markdown",
   "metadata": {},
   "source": [
    "### [TBD] Now it is time to use other models to reduce the complexity of our baseline model by using several feature selection techniques. The aim here is to reduce the amount of features for our 'client', there will no doubt be some tradeoff between model accuracy and complexity.\n",
    "\n",
    "As we can see above, we get a R2 scores of 83% for a single train-test split model and 88% if we conduct a cross-validation with 5 splits. This however might result in a model that is too complex noting the number of features we have. Let's conduct two different ways of selecting only the best features:\n",
    "- filter methods\n",
    "    - low variance\n",
    "    - Pearson's Correlation (Given majority of our features are continuous)\n",
    "- wrapper methods\n",
    "    - Recurvsive Feature Elimination\n",
    "    - Stepwise Selection\n",
    "- embedded methods \n",
    "    - Lasso"
   ]
  },
  {
   "cell_type": "code",
   "execution_count": 1,
   "metadata": {},
   "outputs": [],
   "source": [
    "import pandas as pd\n",
    "import numpy as np\n",
    "\n",
    "import matplotlib.pyplot as plt\n",
    "import seaborn as sns\n",
    "import pylab\n",
    "import warnings\n",
    "\n",
    "from functions import *\n",
    "\n",
    "from sklearn.linear_model import LinearRegression, Lasso\n",
    "from sklearn.model_selection import train_test_split, cross_validate, cross_val_score, KFold, GridSearchCV\n",
    "from sklearn.metrics import r2_score\n",
    "from sklearn.feature_selection import VarianceThreshold, RFECV, RFE\n",
    "from sklearn.preprocessing import StandardScaler\n",
    "\n",
    "from statsmodels.regression.linear_model import OLS\n",
    "from statsmodels.formula.api import OLS\n",
    "from statsmodels.tools import add_constant\n",
    "from statsmodels.stats.outliers_influence import variance_inflation_factor\n",
    "\n",
    "from scipy import stats\n",
    "\n",
    "sns.set_style('darkgrid')\n",
    "warnings.filterwarnings('ignore')\n",
    "pd.set_option('display.max_columns', None)\n",
    "\n",
    "%load_ext autoreload\n",
    "%autoreload 2"
   ]
  },
  {
   "cell_type": "code",
   "execution_count": 2,
   "metadata": {},
   "outputs": [],
   "source": [
    "df_clean = pd.read_csv('clean_data.csv', index_col = [0])"
   ]
  },
  {
   "cell_type": "code",
   "execution_count": 3,
   "metadata": {},
   "outputs": [],
   "source": [
    "to_drop = ['State_Abbreviation', 'Name', 'Life_expectancy']\n",
    "X = df_clean.drop(to_drop, axis = 1)\n",
    "y = df_clean['Life_expectancy']"
   ]
  },
  {
   "cell_type": "markdown",
   "metadata": {},
   "source": [
    "Split into training and testing dataset, followed by a subsequent split within the training bucket into training and validation"
   ]
  },
  {
   "cell_type": "code",
   "execution_count": 4,
   "metadata": {},
   "outputs": [],
   "source": [
    "X_train, X_test, y_train, y_test = train_test_split(X, y, test_size = 0.25, random_state = 1)"
   ]
  },
  {
   "cell_type": "code",
   "execution_count": 5,
   "metadata": {},
   "outputs": [],
   "source": [
    "scx = StandardScaler()\n",
    "scy = StandardScaler()\n",
    "\n",
    "X_train_scaled = pd.DataFrame(scx.fit_transform(X_train), columns = X_train.columns)\n",
    "X_test_scaled = pd.DataFrame(scx.transform(X_test), columns = X_test.columns)\n",
    "y_train_scaled = np.concatenate(scy.fit_transform(np.array(y_train).reshape(-1,1)))\n",
    "y_test_scaled = np.concatenate(scy.transform(np.array(y_test).reshape(-1,1)))"
   ]
  },
  {
   "cell_type": "markdown",
   "metadata": {},
   "source": [
    "Create a dataframe to store all model outcomes which will be useful to derive a conclusion at a later stage"
   ]
  },
  {
   "cell_type": "code",
   "execution_count": 6,
   "metadata": {},
   "outputs": [],
   "source": [
    "all_model_summary_df = pd.DataFrame([], columns = ['model', 'R2_train', 'R2_test', 'AIC', 'n_features', '>0.05_pvalues'])\n",
    "all_model_summary_df['model'] = ['Baseline', 'Basic - Top Correlation',\n",
    "                                 'Filter', \n",
    "                                 'Wrappper - RFE', 'Wrappper - Stepwise',\n",
    "                                 'Embedded - Lasso']"
   ]
  },
  {
   "cell_type": "markdown",
   "metadata": {},
   "source": [
    "### 1. Baseline model - All available features\n",
    "\n",
    "This is a very basic model which accounts for all 76 features purely using the X_train dataset (no validation)"
   ]
  },
  {
   "cell_type": "code",
   "execution_count": 7,
   "metadata": {},
   "outputs": [],
   "source": [
    "baseline_OLS = OLS(y_train_scaled, add_constant(X_train_scaled)).fit()\n",
    "\n",
    "baseline_predictions = baseline_OLS.predict(add_constant(X_test_scaled))\n",
    "baseline_train_r2 = baseline_OLS.rsquared\n",
    "\n",
    "baseline_test_r2 = r2_score(y_test_scaled, baseline_predictions)"
   ]
  },
  {
   "cell_type": "code",
   "execution_count": 8,
   "metadata": {},
   "outputs": [
    {
     "data": {
      "text/html": [
       "<table class=\"simpletable\">\n",
       "<caption>OLS Regression Results</caption>\n",
       "<tr>\n",
       "  <th>Dep. Variable:</th>            <td>y</td>        <th>  R-squared:         </th> <td>   0.911</td>\n",
       "</tr>\n",
       "<tr>\n",
       "  <th>Model:</th>                   <td>OLS</td>       <th>  Adj. R-squared:    </th> <td>   0.908</td>\n",
       "</tr>\n",
       "<tr>\n",
       "  <th>Method:</th>             <td>Least Squares</td>  <th>  F-statistic:       </th> <td>   377.5</td>\n",
       "</tr>\n",
       "<tr>\n",
       "  <th>Date:</th>             <td>Mon, 13 Jan 2020</td> <th>  Prob (F-statistic):</th>  <td>  0.00</td> \n",
       "</tr>\n",
       "<tr>\n",
       "  <th>Time:</th>                 <td>19:10:31</td>     <th>  Log-Likelihood:    </th> <td> -496.19</td>\n",
       "</tr>\n",
       "<tr>\n",
       "  <th>No. Observations:</th>      <td>  2356</td>      <th>  AIC:               </th> <td>   1118.</td>\n",
       "</tr>\n",
       "<tr>\n",
       "  <th>Df Residuals:</th>          <td>  2293</td>      <th>  BIC:               </th> <td>   1482.</td>\n",
       "</tr>\n",
       "<tr>\n",
       "  <th>Df Model:</th>              <td>    62</td>      <th>                     </th>     <td> </td>   \n",
       "</tr>\n",
       "<tr>\n",
       "  <th>Covariance Type:</th>      <td>nonrobust</td>    <th>                     </th>     <td> </td>   \n",
       "</tr>\n",
       "</table>\n",
       "<table class=\"simpletable\">\n",
       "<tr>\n",
       "                                    <td></td>                                      <th>coef</th>     <th>std err</th>      <th>t</th>      <th>P>|t|</th>  <th>[0.025</th>    <th>0.975]</th>  \n",
       "</tr>\n",
       "<tr>\n",
       "  <th>const</th>                                                                <td> 7.112e-16</td> <td>    0.006</td> <td> 1.14e-13</td> <td> 1.000</td> <td>   -0.012</td> <td>    0.012</td>\n",
       "</tr>\n",
       "<tr>\n",
       "  <th>Release_Year</th>                                                         <td> -3.47e-15</td> <td> 3.42e-16</td> <td>  -10.155</td> <td> 0.000</td> <td>-4.14e-15</td> <td> -2.8e-15</td>\n",
       "</tr>\n",
       "<tr>\n",
       "  <th>County_Ranked_(Yes=1/No=0)</th>                                           <td>    0.0071</td> <td>    0.008</td> <td>    0.874</td> <td> 0.382</td> <td>   -0.009</td> <td>    0.023</td>\n",
       "</tr>\n",
       "<tr>\n",
       "  <th>Premature_death</th>                                                      <td>   -0.0334</td> <td>    0.026</td> <td>   -1.292</td> <td> 0.196</td> <td>   -0.084</td> <td>    0.017</td>\n",
       "</tr>\n",
       "<tr>\n",
       "  <th>Poor_or_fair_health</th>                                                  <td>    0.0588</td> <td>    0.029</td> <td>    2.016</td> <td> 0.044</td> <td>    0.002</td> <td>    0.116</td>\n",
       "</tr>\n",
       "<tr>\n",
       "  <th>Poor_physical_health_days</th>                                            <td>   -0.1248</td> <td>    0.064</td> <td>   -1.951</td> <td> 0.051</td> <td>   -0.250</td> <td>    0.001</td>\n",
       "</tr>\n",
       "<tr>\n",
       "  <th>Poor_mental_health_days</th>                                              <td>   -0.0630</td> <td>    0.041</td> <td>   -1.530</td> <td> 0.126</td> <td>   -0.144</td> <td>    0.018</td>\n",
       "</tr>\n",
       "<tr>\n",
       "  <th>Low_birthweight</th>                                                      <td>   -0.0161</td> <td>    0.011</td> <td>   -1.518</td> <td> 0.129</td> <td>   -0.037</td> <td>    0.005</td>\n",
       "</tr>\n",
       "<tr>\n",
       "  <th>Adult_smoking</th>                                                        <td>   -0.0413</td> <td>    0.017</td> <td>   -2.453</td> <td> 0.014</td> <td>   -0.074</td> <td>   -0.008</td>\n",
       "</tr>\n",
       "<tr>\n",
       "  <th>Adult_obesity</th>                                                        <td>   -0.0154</td> <td>    0.011</td> <td>   -1.423</td> <td> 0.155</td> <td>   -0.037</td> <td>    0.006</td>\n",
       "</tr>\n",
       "<tr>\n",
       "  <th>Food_environment_index</th>                                               <td>   -0.0841</td> <td>    0.123</td> <td>   -0.681</td> <td> 0.496</td> <td>   -0.326</td> <td>    0.158</td>\n",
       "</tr>\n",
       "<tr>\n",
       "  <th>Physical_inactivity</th>                                                  <td>   -0.0067</td> <td>    0.012</td> <td>   -0.532</td> <td> 0.595</td> <td>   -0.031</td> <td>    0.018</td>\n",
       "</tr>\n",
       "<tr>\n",
       "  <th>Access_to_exercise_opportunities</th>                                     <td>   -0.0281</td> <td>    0.009</td> <td>   -3.016</td> <td> 0.003</td> <td>   -0.046</td> <td>   -0.010</td>\n",
       "</tr>\n",
       "<tr>\n",
       "  <th>Excessive_drinking</th>                                                   <td>    0.0160</td> <td>    0.012</td> <td>    1.372</td> <td> 0.170</td> <td>   -0.007</td> <td>    0.039</td>\n",
       "</tr>\n",
       "<tr>\n",
       "  <th>Alcohol-impaired_driving_deaths</th>                                      <td>   -0.0037</td> <td>    0.007</td> <td>   -0.565</td> <td> 0.572</td> <td>   -0.016</td> <td>    0.009</td>\n",
       "</tr>\n",
       "<tr>\n",
       "  <th>Sexually_transmitted_infections</th>                                      <td>   -0.0008</td> <td>    0.010</td> <td>   -0.082</td> <td> 0.935</td> <td>   -0.021</td> <td>    0.019</td>\n",
       "</tr>\n",
       "<tr>\n",
       "  <th>Teen_births</th>                                                          <td>    0.0086</td> <td>    0.014</td> <td>    0.636</td> <td> 0.525</td> <td>   -0.018</td> <td>    0.035</td>\n",
       "</tr>\n",
       "<tr>\n",
       "  <th>Uninsured</th>                                                            <td>    1.7782</td> <td>    0.151</td> <td>   11.804</td> <td> 0.000</td> <td>    1.483</td> <td>    2.074</td>\n",
       "</tr>\n",
       "<tr>\n",
       "  <th>Primary_care_physicians</th>                                              <td>   -0.0359</td> <td>    0.009</td> <td>   -3.887</td> <td> 0.000</td> <td>   -0.054</td> <td>   -0.018</td>\n",
       "</tr>\n",
       "<tr>\n",
       "  <th>Dentists</th>                                                             <td>    0.0045</td> <td>    0.009</td> <td>    0.531</td> <td> 0.596</td> <td>   -0.012</td> <td>    0.021</td>\n",
       "</tr>\n",
       "<tr>\n",
       "  <th>Mental_health_providers</th>                                              <td>   -0.0165</td> <td>    0.009</td> <td>   -1.929</td> <td> 0.054</td> <td>   -0.033</td> <td>    0.000</td>\n",
       "</tr>\n",
       "<tr>\n",
       "  <th>Preventable_hospital_stays</th>                                           <td>   -0.0117</td> <td>    0.008</td> <td>   -1.483</td> <td> 0.138</td> <td>   -0.027</td> <td>    0.004</td>\n",
       "</tr>\n",
       "<tr>\n",
       "  <th>Mammography_screening</th>                                                <td>   -0.0200</td> <td>    0.010</td> <td>   -2.092</td> <td> 0.037</td> <td>   -0.039</td> <td>   -0.001</td>\n",
       "</tr>\n",
       "<tr>\n",
       "  <th>Flu_vaccinations</th>                                                     <td>   -0.0034</td> <td>    0.009</td> <td>   -0.377</td> <td> 0.706</td> <td>   -0.021</td> <td>    0.014</td>\n",
       "</tr>\n",
       "<tr>\n",
       "  <th>High_school_graduation</th>                                               <td>    0.0025</td> <td>    0.008</td> <td>    0.327</td> <td> 0.744</td> <td>   -0.013</td> <td>    0.018</td>\n",
       "</tr>\n",
       "<tr>\n",
       "  <th>Some_college</th>                                                         <td>    0.0242</td> <td>    0.012</td> <td>    1.982</td> <td> 0.048</td> <td>    0.000</td> <td>    0.048</td>\n",
       "</tr>\n",
       "<tr>\n",
       "  <th>Unemployment</th>                                                         <td>    0.0042</td> <td>    0.010</td> <td>    0.437</td> <td> 0.662</td> <td>   -0.015</td> <td>    0.023</td>\n",
       "</tr>\n",
       "<tr>\n",
       "  <th>Children_in_poverty</th>                                                  <td>    0.0269</td> <td>    0.018</td> <td>    1.468</td> <td> 0.142</td> <td>   -0.009</td> <td>    0.063</td>\n",
       "</tr>\n",
       "<tr>\n",
       "  <th>Income_inequality</th>                                                    <td>    0.0295</td> <td>    0.009</td> <td>    3.268</td> <td> 0.001</td> <td>    0.012</td> <td>    0.047</td>\n",
       "</tr>\n",
       "<tr>\n",
       "  <th>Children_in_single-parent_households</th>                                 <td>    0.0026</td> <td>    0.011</td> <td>    0.234</td> <td> 0.815</td> <td>   -0.019</td> <td>    0.025</td>\n",
       "</tr>\n",
       "<tr>\n",
       "  <th>Social_associations</th>                                                  <td>    0.0024</td> <td>    0.009</td> <td>    0.280</td> <td> 0.779</td> <td>   -0.015</td> <td>    0.020</td>\n",
       "</tr>\n",
       "<tr>\n",
       "  <th>Violent_crime</th>                                                        <td>   -0.0125</td> <td>    0.008</td> <td>   -1.495</td> <td> 0.135</td> <td>   -0.029</td> <td>    0.004</td>\n",
       "</tr>\n",
       "<tr>\n",
       "  <th>Injury_deaths</th>                                                        <td>   -0.0136</td> <td>    0.012</td> <td>   -1.145</td> <td> 0.252</td> <td>   -0.037</td> <td>    0.010</td>\n",
       "</tr>\n",
       "<tr>\n",
       "  <th>Air_pollution_-_particulate_matter</th>                                   <td>   -0.0555</td> <td>    0.010</td> <td>   -5.749</td> <td> 0.000</td> <td>   -0.074</td> <td>   -0.037</td>\n",
       "</tr>\n",
       "<tr>\n",
       "  <th>Drinking_water_violations</th>                                            <td>   -0.0081</td> <td>    0.007</td> <td>   -1.196</td> <td> 0.232</td> <td>   -0.021</td> <td>    0.005</td>\n",
       "</tr>\n",
       "<tr>\n",
       "  <th>Severe_housing_problems</th>                                              <td>   -0.0369</td> <td>    0.058</td> <td>   -0.640</td> <td> 0.522</td> <td>   -0.150</td> <td>    0.076</td>\n",
       "</tr>\n",
       "<tr>\n",
       "  <th>Percentage_of_households_with_high_housing_costs</th>                     <td>   -0.0501</td> <td>    0.046</td> <td>   -1.086</td> <td> 0.278</td> <td>   -0.141</td> <td>    0.040</td>\n",
       "</tr>\n",
       "<tr>\n",
       "  <th>Percentage_of_households_with_overcrowding</th>                           <td>   -0.0026</td> <td>    0.027</td> <td>   -0.098</td> <td> 0.922</td> <td>   -0.056</td> <td>    0.050</td>\n",
       "</tr>\n",
       "<tr>\n",
       "  <th>Percentage_of_households_with_lack_of_kitchen_or_plumbing_facilities</th> <td>    0.0059</td> <td>    0.017</td> <td>    0.338</td> <td> 0.736</td> <td>   -0.028</td> <td>    0.040</td>\n",
       "</tr>\n",
       "<tr>\n",
       "  <th>Driving_alone_to_work</th>                                                <td>   -0.0490</td> <td>    0.010</td> <td>   -4.882</td> <td> 0.000</td> <td>   -0.069</td> <td>   -0.029</td>\n",
       "</tr>\n",
       "<tr>\n",
       "  <th>Long_commute_-_driving_alone</th>                                         <td>   -0.0287</td> <td>    0.010</td> <td>   -2.962</td> <td> 0.003</td> <td>   -0.048</td> <td>   -0.010</td>\n",
       "</tr>\n",
       "<tr>\n",
       "  <th>Premature_age-adjusted_mortality</th>                                     <td>   -0.8266</td> <td>    0.028</td> <td>  -29.247</td> <td> 0.000</td> <td>   -0.882</td> <td>   -0.771</td>\n",
       "</tr>\n",
       "<tr>\n",
       "  <th>Child_mortality</th>                                                      <td>   -0.0312</td> <td>    0.008</td> <td>   -3.725</td> <td> 0.000</td> <td>   -0.048</td> <td>   -0.015</td>\n",
       "</tr>\n",
       "<tr>\n",
       "  <th>Frequent_physical_distress</th>                                           <td>    0.1853</td> <td>    0.087</td> <td>    2.139</td> <td> 0.033</td> <td>    0.015</td> <td>    0.355</td>\n",
       "</tr>\n",
       "<tr>\n",
       "  <th>Frequent_mental_distress</th>                                             <td>    0.0336</td> <td>    0.059</td> <td>    0.565</td> <td> 0.572</td> <td>   -0.083</td> <td>    0.150</td>\n",
       "</tr>\n",
       "<tr>\n",
       "  <th>Diabetes_prevalence</th>                                                  <td>    0.0391</td> <td>    0.015</td> <td>    2.694</td> <td> 0.007</td> <td>    0.011</td> <td>    0.068</td>\n",
       "</tr>\n",
       "<tr>\n",
       "  <th>HIV_prevalence</th>                                                       <td>    0.0054</td> <td>    0.009</td> <td>    0.567</td> <td> 0.571</td> <td>   -0.013</td> <td>    0.024</td>\n",
       "</tr>\n",
       "<tr>\n",
       "  <th>Food_insecurity</th>                                                      <td>   -0.0593</td> <td>    0.081</td> <td>   -0.730</td> <td> 0.466</td> <td>   -0.219</td> <td>    0.100</td>\n",
       "</tr>\n",
       "<tr>\n",
       "  <th>Limited_access_to_healthy_foods</th>                                      <td>   -0.0261</td> <td>    0.083</td> <td>   -0.315</td> <td> 0.753</td> <td>   -0.189</td> <td>    0.137</td>\n",
       "</tr>\n",
       "<tr>\n",
       "  <th>Drug_overdose_deaths</th>                                                 <td>   -0.0029</td> <td>    0.008</td> <td>   -0.361</td> <td> 0.718</td> <td>   -0.019</td> <td>    0.013</td>\n",
       "</tr>\n",
       "<tr>\n",
       "  <th>Motor_vehicle_crash_deaths</th>                                           <td>   -0.0205</td> <td>    0.010</td> <td>   -2.041</td> <td> 0.041</td> <td>   -0.040</td> <td>   -0.001</td>\n",
       "</tr>\n",
       "<tr>\n",
       "  <th>Insufficient_sleep</th>                                                   <td>   -0.0207</td> <td>    0.013</td> <td>   -1.547</td> <td> 0.122</td> <td>   -0.047</td> <td>    0.006</td>\n",
       "</tr>\n",
       "<tr>\n",
       "  <th>Uninsured_adults</th>                                                     <td>   -1.5467</td> <td>    0.133</td> <td>  -11.666</td> <td> 0.000</td> <td>   -1.807</td> <td>   -1.287</td>\n",
       "</tr>\n",
       "<tr>\n",
       "  <th>Uninsured_children</th>                                                   <td>   -0.3353</td> <td>    0.032</td> <td>  -10.580</td> <td> 0.000</td> <td>   -0.397</td> <td>   -0.273</td>\n",
       "</tr>\n",
       "<tr>\n",
       "  <th>Other_primary_care_providers</th>                                         <td>    0.0265</td> <td>    0.008</td> <td>    3.305</td> <td> 0.001</td> <td>    0.011</td> <td>    0.042</td>\n",
       "</tr>\n",
       "<tr>\n",
       "  <th>Median_household_income</th>                                              <td>    0.1152</td> <td>    0.015</td> <td>    7.741</td> <td> 0.000</td> <td>    0.086</td> <td>    0.144</td>\n",
       "</tr>\n",
       "<tr>\n",
       "  <th>Children_eligible_for_free_or_reduced_price_lunch</th>                    <td>   -0.0065</td> <td>    0.010</td> <td>   -0.621</td> <td> 0.535</td> <td>   -0.027</td> <td>    0.014</td>\n",
       "</tr>\n",
       "<tr>\n",
       "  <th>Firearm_fatalities</th>                                                   <td>   -0.0045</td> <td>    0.008</td> <td>   -0.540</td> <td> 0.589</td> <td>   -0.021</td> <td>    0.012</td>\n",
       "</tr>\n",
       "<tr>\n",
       "  <th>Homeownership</th>                                                        <td>   -0.0148</td> <td>    0.012</td> <td>   -1.284</td> <td> 0.199</td> <td>   -0.037</td> <td>    0.008</td>\n",
       "</tr>\n",
       "<tr>\n",
       "  <th>Severe_housing_cost_burden</th>                                           <td>    0.0448</td> <td>    0.017</td> <td>    2.672</td> <td> 0.008</td> <td>    0.012</td> <td>    0.078</td>\n",
       "</tr>\n",
       "<tr>\n",
       "  <th>Population</th>                                                           <td>    0.0075</td> <td>    0.008</td> <td>    0.968</td> <td> 0.333</td> <td>   -0.008</td> <td>    0.023</td>\n",
       "</tr>\n",
       "<tr>\n",
       "  <th>%_not_proficient_in_English</th>                                          <td>    0.0596</td> <td>    0.012</td> <td>    4.799</td> <td> 0.000</td> <td>    0.035</td> <td>    0.084</td>\n",
       "</tr>\n",
       "<tr>\n",
       "  <th>%_Females</th>                                                            <td>   -0.0051</td> <td>    0.009</td> <td>   -0.580</td> <td> 0.562</td> <td>   -0.022</td> <td>    0.012</td>\n",
       "</tr>\n",
       "<tr>\n",
       "  <th>%_Rural</th>                                                              <td>    0.0147</td> <td>    0.013</td> <td>    1.141</td> <td> 0.254</td> <td>   -0.011</td> <td>    0.040</td>\n",
       "</tr>\n",
       "</table>\n",
       "<table class=\"simpletable\">\n",
       "<tr>\n",
       "  <th>Omnibus:</th>       <td>1745.444</td> <th>  Durbin-Watson:     </th> <td>   2.011</td> \n",
       "</tr>\n",
       "<tr>\n",
       "  <th>Prob(Omnibus):</th>  <td> 0.000</td>  <th>  Jarque-Bera (JB):  </th> <td>56309.120</td>\n",
       "</tr>\n",
       "<tr>\n",
       "  <th>Skew:</th>           <td> 3.143</td>  <th>  Prob(JB):          </th> <td>    0.00</td> \n",
       "</tr>\n",
       "<tr>\n",
       "  <th>Kurtosis:</th>       <td>26.111</td>  <th>  Cond. No.          </th> <td>1.06e+16</td> \n",
       "</tr>\n",
       "</table><br/><br/>Warnings:<br/>[1] Standard Errors assume that the covariance matrix of the errors is correctly specified.<br/>[2] The smallest eigenvalue is 3.64e-28. This might indicate that there are<br/>strong multicollinearity problems or that the design matrix is singular."
      ],
      "text/plain": [
       "<class 'statsmodels.iolib.summary.Summary'>\n",
       "\"\"\"\n",
       "                            OLS Regression Results                            \n",
       "==============================================================================\n",
       "Dep. Variable:                      y   R-squared:                       0.911\n",
       "Model:                            OLS   Adj. R-squared:                  0.908\n",
       "Method:                 Least Squares   F-statistic:                     377.5\n",
       "Date:                Mon, 13 Jan 2020   Prob (F-statistic):               0.00\n",
       "Time:                        19:10:31   Log-Likelihood:                -496.19\n",
       "No. Observations:                2356   AIC:                             1118.\n",
       "Df Residuals:                    2293   BIC:                             1482.\n",
       "Df Model:                          62                                         \n",
       "Covariance Type:            nonrobust                                         \n",
       "========================================================================================================================================\n",
       "                                                                           coef    std err          t      P>|t|      [0.025      0.975]\n",
       "----------------------------------------------------------------------------------------------------------------------------------------\n",
       "const                                                                 7.112e-16      0.006   1.14e-13      1.000      -0.012       0.012\n",
       "Release_Year                                                          -3.47e-15   3.42e-16    -10.155      0.000   -4.14e-15    -2.8e-15\n",
       "County_Ranked_(Yes=1/No=0)                                               0.0071      0.008      0.874      0.382      -0.009       0.023\n",
       "Premature_death                                                         -0.0334      0.026     -1.292      0.196      -0.084       0.017\n",
       "Poor_or_fair_health                                                      0.0588      0.029      2.016      0.044       0.002       0.116\n",
       "Poor_physical_health_days                                               -0.1248      0.064     -1.951      0.051      -0.250       0.001\n",
       "Poor_mental_health_days                                                 -0.0630      0.041     -1.530      0.126      -0.144       0.018\n",
       "Low_birthweight                                                         -0.0161      0.011     -1.518      0.129      -0.037       0.005\n",
       "Adult_smoking                                                           -0.0413      0.017     -2.453      0.014      -0.074      -0.008\n",
       "Adult_obesity                                                           -0.0154      0.011     -1.423      0.155      -0.037       0.006\n",
       "Food_environment_index                                                  -0.0841      0.123     -0.681      0.496      -0.326       0.158\n",
       "Physical_inactivity                                                     -0.0067      0.012     -0.532      0.595      -0.031       0.018\n",
       "Access_to_exercise_opportunities                                        -0.0281      0.009     -3.016      0.003      -0.046      -0.010\n",
       "Excessive_drinking                                                       0.0160      0.012      1.372      0.170      -0.007       0.039\n",
       "Alcohol-impaired_driving_deaths                                         -0.0037      0.007     -0.565      0.572      -0.016       0.009\n",
       "Sexually_transmitted_infections                                         -0.0008      0.010     -0.082      0.935      -0.021       0.019\n",
       "Teen_births                                                              0.0086      0.014      0.636      0.525      -0.018       0.035\n",
       "Uninsured                                                                1.7782      0.151     11.804      0.000       1.483       2.074\n",
       "Primary_care_physicians                                                 -0.0359      0.009     -3.887      0.000      -0.054      -0.018\n",
       "Dentists                                                                 0.0045      0.009      0.531      0.596      -0.012       0.021\n",
       "Mental_health_providers                                                 -0.0165      0.009     -1.929      0.054      -0.033       0.000\n",
       "Preventable_hospital_stays                                              -0.0117      0.008     -1.483      0.138      -0.027       0.004\n",
       "Mammography_screening                                                   -0.0200      0.010     -2.092      0.037      -0.039      -0.001\n",
       "Flu_vaccinations                                                        -0.0034      0.009     -0.377      0.706      -0.021       0.014\n",
       "High_school_graduation                                                   0.0025      0.008      0.327      0.744      -0.013       0.018\n",
       "Some_college                                                             0.0242      0.012      1.982      0.048       0.000       0.048\n",
       "Unemployment                                                             0.0042      0.010      0.437      0.662      -0.015       0.023\n",
       "Children_in_poverty                                                      0.0269      0.018      1.468      0.142      -0.009       0.063\n",
       "Income_inequality                                                        0.0295      0.009      3.268      0.001       0.012       0.047\n",
       "Children_in_single-parent_households                                     0.0026      0.011      0.234      0.815      -0.019       0.025\n",
       "Social_associations                                                      0.0024      0.009      0.280      0.779      -0.015       0.020\n",
       "Violent_crime                                                           -0.0125      0.008     -1.495      0.135      -0.029       0.004\n",
       "Injury_deaths                                                           -0.0136      0.012     -1.145      0.252      -0.037       0.010\n",
       "Air_pollution_-_particulate_matter                                      -0.0555      0.010     -5.749      0.000      -0.074      -0.037\n",
       "Drinking_water_violations                                               -0.0081      0.007     -1.196      0.232      -0.021       0.005\n",
       "Severe_housing_problems                                                 -0.0369      0.058     -0.640      0.522      -0.150       0.076\n",
       "Percentage_of_households_with_high_housing_costs                        -0.0501      0.046     -1.086      0.278      -0.141       0.040\n",
       "Percentage_of_households_with_overcrowding                              -0.0026      0.027     -0.098      0.922      -0.056       0.050\n",
       "Percentage_of_households_with_lack_of_kitchen_or_plumbing_facilities     0.0059      0.017      0.338      0.736      -0.028       0.040\n",
       "Driving_alone_to_work                                                   -0.0490      0.010     -4.882      0.000      -0.069      -0.029\n",
       "Long_commute_-_driving_alone                                            -0.0287      0.010     -2.962      0.003      -0.048      -0.010\n",
       "Premature_age-adjusted_mortality                                        -0.8266      0.028    -29.247      0.000      -0.882      -0.771\n",
       "Child_mortality                                                         -0.0312      0.008     -3.725      0.000      -0.048      -0.015\n",
       "Frequent_physical_distress                                               0.1853      0.087      2.139      0.033       0.015       0.355\n",
       "Frequent_mental_distress                                                 0.0336      0.059      0.565      0.572      -0.083       0.150\n",
       "Diabetes_prevalence                                                      0.0391      0.015      2.694      0.007       0.011       0.068\n",
       "HIV_prevalence                                                           0.0054      0.009      0.567      0.571      -0.013       0.024\n",
       "Food_insecurity                                                         -0.0593      0.081     -0.730      0.466      -0.219       0.100\n",
       "Limited_access_to_healthy_foods                                         -0.0261      0.083     -0.315      0.753      -0.189       0.137\n",
       "Drug_overdose_deaths                                                    -0.0029      0.008     -0.361      0.718      -0.019       0.013\n",
       "Motor_vehicle_crash_deaths                                              -0.0205      0.010     -2.041      0.041      -0.040      -0.001\n",
       "Insufficient_sleep                                                      -0.0207      0.013     -1.547      0.122      -0.047       0.006\n",
       "Uninsured_adults                                                        -1.5467      0.133    -11.666      0.000      -1.807      -1.287\n",
       "Uninsured_children                                                      -0.3353      0.032    -10.580      0.000      -0.397      -0.273\n",
       "Other_primary_care_providers                                             0.0265      0.008      3.305      0.001       0.011       0.042\n",
       "Median_household_income                                                  0.1152      0.015      7.741      0.000       0.086       0.144\n",
       "Children_eligible_for_free_or_reduced_price_lunch                       -0.0065      0.010     -0.621      0.535      -0.027       0.014\n",
       "Firearm_fatalities                                                      -0.0045      0.008     -0.540      0.589      -0.021       0.012\n",
       "Homeownership                                                           -0.0148      0.012     -1.284      0.199      -0.037       0.008\n",
       "Severe_housing_cost_burden                                               0.0448      0.017      2.672      0.008       0.012       0.078\n",
       "Population                                                               0.0075      0.008      0.968      0.333      -0.008       0.023\n",
       "%_not_proficient_in_English                                              0.0596      0.012      4.799      0.000       0.035       0.084\n",
       "%_Females                                                               -0.0051      0.009     -0.580      0.562      -0.022       0.012\n",
       "%_Rural                                                                  0.0147      0.013      1.141      0.254      -0.011       0.040\n",
       "==============================================================================\n",
       "Omnibus:                     1745.444   Durbin-Watson:                   2.011\n",
       "Prob(Omnibus):                  0.000   Jarque-Bera (JB):            56309.120\n",
       "Skew:                           3.143   Prob(JB):                         0.00\n",
       "Kurtosis:                      26.111   Cond. No.                     1.06e+16\n",
       "==============================================================================\n",
       "\n",
       "Warnings:\n",
       "[1] Standard Errors assume that the covariance matrix of the errors is correctly specified.\n",
       "[2] The smallest eigenvalue is 3.64e-28. This might indicate that there are\n",
       "strong multicollinearity problems or that the design matrix is singular.\n",
       "\"\"\""
      ]
     },
     "execution_count": 8,
     "metadata": {},
     "output_type": "execute_result"
    }
   ],
   "source": [
    "baseline_OLS.summary()"
   ]
  },
  {
   "cell_type": "markdown",
   "metadata": {},
   "source": [
    "Now, let's check the R2 of the train and test sets as well as plot the residuals"
   ]
  },
  {
   "cell_type": "code",
   "execution_count": 9,
   "metadata": {},
   "outputs": [
    {
     "name": "stdout",
     "output_type": "stream",
     "text": [
      "Baseline Train R-Squared: 0.91\n",
      "Baseline Test R-Squared: 0.84\n",
      "\n",
      "\n",
      "Check for Homoscedasticity Assumption\n"
     ]
    },
    {
     "data": {
      "image/png": "[encoded data removed]",
      "text/plain": [
       "<Figure size 432x288 with 1 Axes>"
      ]
     },
     "metadata": {
      "needs_background": "light"
     },
     "output_type": "display_data"
    },
    {
     "name": "stdout",
     "output_type": "stream",
     "text": [
      "Check for Residuals Normality\n"
     ]
    },
    {
     "data": {
      "image/png": "[encoded data removed]",
      "text/plain": [
       "<Figure size 432x288 with 1 Axes>"
      ]
     },
     "metadata": {
      "needs_background": "light"
     },
     "output_type": "display_data"
    }
   ],
   "source": [
    "baseline_errors = y_test_scaled - baseline_predictions\n",
    "\n",
    "print ('Baseline Train R-Squared:', round(baseline_train_r2, 2))\n",
    "print ('Baseline Test R-Squared:', round(baseline_test_r2, 2))\n",
    "\n",
    "print ('\\n')\n",
    "\n",
    "print ('Check for Homoscedasticity Assumption')\n",
    "plt.figure(figsize = (6,4))\n",
    "plt.scatter(x = y_test_scaled, y = baseline_errors)\n",
    "plt.show()\n",
    "\n",
    "print ('Check for Residuals Normality')\n",
    "fig = sm.graphics.qqplot(baseline_OLS.resid, dist=stats.norm, line='45', fit=True)"
   ]
  },
  {
   "cell_type": "markdown",
   "metadata": {},
   "source": [
    "Rule of thumb threshold is VIF at the level of 2.5, meaning if the VIF is above 2.5 you should consider there is effect of multicollinearity on your fitted model"
   ]
  },
  {
   "cell_type": "code",
   "execution_count": 10,
   "metadata": {},
   "outputs": [],
   "source": [
    "# X_baseline = X_train_scaled\n",
    "# X_baseline['Intercept'] = 1\n",
    "\n",
    "# Baseline_VIF = pd.DataFrame()\n",
    "# Baseline_VIF[\"variables\"] = X_baseline.columns\n",
    "# Baseline_VIF[\"VIF\"] = [variance_inflation_factor(X_baseline.values, i) for i in range(X_baseline.shape[1])]\n",
    "\n",
    "# Baseline_VIF"
   ]
  },
  {
   "cell_type": "code",
   "execution_count": 11,
   "metadata": {},
   "outputs": [],
   "source": [
    "all_model_summary_df.loc[all_model_summary_df.model == 'Baseline', 'n_features'] = len(baseline_OLS.pvalues)\n",
    "all_model_summary_df.loc[all_model_summary_df.model == 'Baseline', 'AIC'] = baseline_OLS.aic\n",
    "all_model_summary_df.loc[all_model_summary_df.model == 'Baseline', 'R2_train'] = baseline_train_r2\n",
    "all_model_summary_df.loc[all_model_summary_df.model == 'Baseline', 'R2_test'] = baseline_test_r2\n",
    "all_model_summary_df.loc[all_model_summary_df.model == 'Baseline', '>0.05_pvalues'] = sum(baseline_OLS.pvalues > 0.05)"
   ]
  },
  {
   "cell_type": "code",
   "execution_count": 12,
   "metadata": {},
   "outputs": [
    {
     "data": {
      "text/html": [
       "<div>\n",
       "<style scoped>\n",
       "    .dataframe tbody tr th:only-of-type {\n",
       "        vertical-align: middle;\n",
       "    }\n",
       "\n",
       "    .dataframe tbody tr th {\n",
       "        vertical-align: top;\n",
       "    }\n",
       "\n",
       "    .dataframe thead th {\n",
       "        text-align: right;\n",
       "    }\n",
       "</style>\n",
       "<table border=\"1\" class=\"dataframe\">\n",
       "  <thead>\n",
       "    <tr style=\"text-align: right;\">\n",
       "      <th></th>\n",
       "      <th>model</th>\n",
       "      <th>R2_train</th>\n",
       "      <th>R2_test</th>\n",
       "      <th>AIC</th>\n",
       "      <th>n_features</th>\n",
       "      <th>&gt;0.05_pvalues</th>\n",
       "    </tr>\n",
       "  </thead>\n",
       "  <tbody>\n",
       "    <tr>\n",
       "      <th>0</th>\n",
       "      <td>Baseline</td>\n",
       "      <td>0.910781</td>\n",
       "      <td>0.839762</td>\n",
       "      <td>1118.37</td>\n",
       "      <td>64</td>\n",
       "      <td>41</td>\n",
       "    </tr>\n",
       "    <tr>\n",
       "      <th>1</th>\n",
       "      <td>Basic - Top Correlation</td>\n",
       "      <td>NaN</td>\n",
       "      <td>NaN</td>\n",
       "      <td>NaN</td>\n",
       "      <td>NaN</td>\n",
       "      <td>NaN</td>\n",
       "    </tr>\n",
       "    <tr>\n",
       "      <th>2</th>\n",
       "      <td>Filter</td>\n",
       "      <td>NaN</td>\n",
       "      <td>NaN</td>\n",
       "      <td>NaN</td>\n",
       "      <td>NaN</td>\n",
       "      <td>NaN</td>\n",
       "    </tr>\n",
       "    <tr>\n",
       "      <th>3</th>\n",
       "      <td>Wrappper - RFE</td>\n",
       "      <td>NaN</td>\n",
       "      <td>NaN</td>\n",
       "      <td>NaN</td>\n",
       "      <td>NaN</td>\n",
       "      <td>NaN</td>\n",
       "    </tr>\n",
       "    <tr>\n",
       "      <th>4</th>\n",
       "      <td>Wrappper - Stepwise</td>\n",
       "      <td>NaN</td>\n",
       "      <td>NaN</td>\n",
       "      <td>NaN</td>\n",
       "      <td>NaN</td>\n",
       "      <td>NaN</td>\n",
       "    </tr>\n",
       "    <tr>\n",
       "      <th>5</th>\n",
       "      <td>Embedded - Lasso</td>\n",
       "      <td>NaN</td>\n",
       "      <td>NaN</td>\n",
       "      <td>NaN</td>\n",
       "      <td>NaN</td>\n",
       "      <td>NaN</td>\n",
       "    </tr>\n",
       "  </tbody>\n",
       "</table>\n",
       "</div>"
      ],
      "text/plain": [
       "                     model  R2_train   R2_test      AIC n_features  \\\n",
       "0                 Baseline  0.910781  0.839762  1118.37         64   \n",
       "1  Basic - Top Correlation       NaN       NaN      NaN        NaN   \n",
       "2                   Filter       NaN       NaN      NaN        NaN   \n",
       "3           Wrappper - RFE       NaN       NaN      NaN        NaN   \n",
       "4      Wrappper - Stepwise       NaN       NaN      NaN        NaN   \n",
       "5         Embedded - Lasso       NaN       NaN      NaN        NaN   \n",
       "\n",
       "  >0.05_pvalues  \n",
       "0            41  \n",
       "1           NaN  \n",
       "2           NaN  \n",
       "3           NaN  \n",
       "4           NaN  \n",
       "5           NaN  "
      ]
     },
     "execution_count": 12,
     "metadata": {},
     "output_type": "execute_result"
    }
   ],
   "source": [
    "all_model_summary_df"
   ]
  },
  {
   "cell_type": "markdown",
   "metadata": {},
   "source": [
    "### 2. Basic - Features with Highest Correlation with Target\n",
    "\n",
    "Given we've blindly included all features in the baseline model, let's try and narrow these down to only include features which are highly correlated with 'Life Expectancy'. First, we initiated a correlation matrix and set our target correlation threshold to 0.65."
   ]
  },
  {
   "cell_type": "code",
   "execution_count": 13,
   "metadata": {},
   "outputs": [
    {
     "data": {
      "text/plain": [
       "['Premature_death',\n",
       " 'Poor_physical_health_days',\n",
       " 'Adult_smoking',\n",
       " 'Premature_age-adjusted_mortality',\n",
       " 'Frequent_physical_distress',\n",
       " 'Frequent_mental_distress']"
      ]
     },
     "execution_count": 13,
     "metadata": {},
     "output_type": "execute_result"
    }
   ],
   "source": [
    "initial_matrix = abs(df_clean.corr().Life_expectancy)\n",
    "\n",
    "target_correlation_threshold = 0.65\n",
    "\n",
    "final = list(initial_matrix[(initial_matrix.sort_values(ascending=False) > target_correlation_threshold)].index)\n",
    "final.remove('Life_expectancy')\n",
    "final"
   ]
  },
  {
   "cell_type": "markdown",
   "metadata": {},
   "source": [
    "Using a 0.65 threshold, we've narrowed down our features from 76 to 6 features. Using these 6 features, let's create another OLS model and evaluate its performance."
   ]
  },
  {
   "cell_type": "code",
   "execution_count": 14,
   "metadata": {},
   "outputs": [],
   "source": [
    "basic_correlation_OLS = OLS(y_train_scaled, add_constant(X_train_scaled[final])).fit()\n",
    "\n",
    "basic_predictions = basic_correlation_OLS.predict(add_constant(X_test_scaled[final]))\n",
    "basic_train_r2 = basic_correlation_OLS.rsquared\n",
    "\n",
    "basic_test_r2 = r2_score(y_test_scaled, basic_predictions)"
   ]
  },
  {
   "cell_type": "code",
   "execution_count": 15,
   "metadata": {},
   "outputs": [
    {
     "data": {
      "text/html": [
       "<table class=\"simpletable\">\n",
       "<caption>OLS Regression Results</caption>\n",
       "<tr>\n",
       "  <th>Dep. Variable:</th>            <td>y</td>        <th>  R-squared:         </th> <td>   0.885</td>\n",
       "</tr>\n",
       "<tr>\n",
       "  <th>Model:</th>                   <td>OLS</td>       <th>  Adj. R-squared:    </th> <td>   0.885</td>\n",
       "</tr>\n",
       "<tr>\n",
       "  <th>Method:</th>             <td>Least Squares</td>  <th>  F-statistic:       </th> <td>   3007.</td>\n",
       "</tr>\n",
       "<tr>\n",
       "  <th>Date:</th>             <td>Mon, 13 Jan 2020</td> <th>  Prob (F-statistic):</th>  <td>  0.00</td> \n",
       "</tr>\n",
       "<tr>\n",
       "  <th>Time:</th>                 <td>19:10:31</td>     <th>  Log-Likelihood:    </th> <td> -797.17</td>\n",
       "</tr>\n",
       "<tr>\n",
       "  <th>No. Observations:</th>      <td>  2356</td>      <th>  AIC:               </th> <td>   1608.</td>\n",
       "</tr>\n",
       "<tr>\n",
       "  <th>Df Residuals:</th>          <td>  2349</td>      <th>  BIC:               </th> <td>   1649.</td>\n",
       "</tr>\n",
       "<tr>\n",
       "  <th>Df Model:</th>              <td>     6</td>      <th>                     </th>     <td> </td>   \n",
       "</tr>\n",
       "<tr>\n",
       "  <th>Covariance Type:</th>      <td>nonrobust</td>    <th>                     </th>     <td> </td>   \n",
       "</tr>\n",
       "</table>\n",
       "<table class=\"simpletable\">\n",
       "<tr>\n",
       "                  <td></td>                    <th>coef</th>     <th>std err</th>      <th>t</th>      <th>P>|t|</th>  <th>[0.025</th>    <th>0.975]</th>  \n",
       "</tr>\n",
       "<tr>\n",
       "  <th>const</th>                            <td> 1.082e-15</td> <td>    0.007</td> <td> 1.54e-13</td> <td> 1.000</td> <td>   -0.014</td> <td>    0.014</td>\n",
       "</tr>\n",
       "<tr>\n",
       "  <th>Premature_death</th>                  <td>    0.0193</td> <td>    0.023</td> <td>    0.826</td> <td> 0.409</td> <td>   -0.026</td> <td>    0.065</td>\n",
       "</tr>\n",
       "<tr>\n",
       "  <th>Poor_physical_health_days</th>        <td>   -0.2860</td> <td>    0.040</td> <td>   -7.224</td> <td> 0.000</td> <td>   -0.364</td> <td>   -0.208</td>\n",
       "</tr>\n",
       "<tr>\n",
       "  <th>Adult_smoking</th>                    <td>   -0.0808</td> <td>    0.013</td> <td>   -6.117</td> <td> 0.000</td> <td>   -0.107</td> <td>   -0.055</td>\n",
       "</tr>\n",
       "<tr>\n",
       "  <th>Premature_age-adjusted_mortality</th> <td>   -0.9280</td> <td>    0.025</td> <td>  -37.377</td> <td> 0.000</td> <td>   -0.977</td> <td>   -0.879</td>\n",
       "</tr>\n",
       "<tr>\n",
       "  <th>Frequent_physical_distress</th>       <td>    0.4619</td> <td>    0.040</td> <td>   11.498</td> <td> 0.000</td> <td>    0.383</td> <td>    0.541</td>\n",
       "</tr>\n",
       "<tr>\n",
       "  <th>Frequent_mental_distress</th>         <td>   -0.1398</td> <td>    0.026</td> <td>   -5.438</td> <td> 0.000</td> <td>   -0.190</td> <td>   -0.089</td>\n",
       "</tr>\n",
       "</table>\n",
       "<table class=\"simpletable\">\n",
       "<tr>\n",
       "  <th>Omnibus:</th>       <td>2330.297</td> <th>  Durbin-Watson:     </th>  <td>   2.006</td> \n",
       "</tr>\n",
       "<tr>\n",
       "  <th>Prob(Omnibus):</th>  <td> 0.000</td>  <th>  Jarque-Bera (JB):  </th> <td>171800.511</td>\n",
       "</tr>\n",
       "<tr>\n",
       "  <th>Skew:</th>           <td> 4.630</td>  <th>  Prob(JB):          </th>  <td>    0.00</td> \n",
       "</tr>\n",
       "<tr>\n",
       "  <th>Kurtosis:</th>       <td>43.796</td>  <th>  Cond. No.          </th>  <td>    17.1</td> \n",
       "</tr>\n",
       "</table><br/><br/>Warnings:<br/>[1] Standard Errors assume that the covariance matrix of the errors is correctly specified."
      ],
      "text/plain": [
       "<class 'statsmodels.iolib.summary.Summary'>\n",
       "\"\"\"\n",
       "                            OLS Regression Results                            \n",
       "==============================================================================\n",
       "Dep. Variable:                      y   R-squared:                       0.885\n",
       "Model:                            OLS   Adj. R-squared:                  0.885\n",
       "Method:                 Least Squares   F-statistic:                     3007.\n",
       "Date:                Mon, 13 Jan 2020   Prob (F-statistic):               0.00\n",
       "Time:                        19:10:31   Log-Likelihood:                -797.17\n",
       "No. Observations:                2356   AIC:                             1608.\n",
       "Df Residuals:                    2349   BIC:                             1649.\n",
       "Df Model:                           6                                         \n",
       "Covariance Type:            nonrobust                                         \n",
       "====================================================================================================\n",
       "                                       coef    std err          t      P>|t|      [0.025      0.975]\n",
       "----------------------------------------------------------------------------------------------------\n",
       "const                             1.082e-15      0.007   1.54e-13      1.000      -0.014       0.014\n",
       "Premature_death                      0.0193      0.023      0.826      0.409      -0.026       0.065\n",
       "Poor_physical_health_days           -0.2860      0.040     -7.224      0.000      -0.364      -0.208\n",
       "Adult_smoking                       -0.0808      0.013     -6.117      0.000      -0.107      -0.055\n",
       "Premature_age-adjusted_mortality    -0.9280      0.025    -37.377      0.000      -0.977      -0.879\n",
       "Frequent_physical_distress           0.4619      0.040     11.498      0.000       0.383       0.541\n",
       "Frequent_mental_distress            -0.1398      0.026     -5.438      0.000      -0.190      -0.089\n",
       "==============================================================================\n",
       "Omnibus:                     2330.297   Durbin-Watson:                   2.006\n",
       "Prob(Omnibus):                  0.000   Jarque-Bera (JB):           171800.511\n",
       "Skew:                           4.630   Prob(JB):                         0.00\n",
       "Kurtosis:                      43.796   Cond. No.                         17.1\n",
       "==============================================================================\n",
       "\n",
       "Warnings:\n",
       "[1] Standard Errors assume that the covariance matrix of the errors is correctly specified.\n",
       "\"\"\""
      ]
     },
     "execution_count": 15,
     "metadata": {},
     "output_type": "execute_result"
    }
   ],
   "source": [
    "basic_correlation_OLS.summary()"
   ]
  },
  {
   "cell_type": "markdown",
   "metadata": {},
   "source": [
    "Looks like the 'Premature_death' feature is not significant according its p-value. Let's re-run the model again excluding this feature."
   ]
  },
  {
   "cell_type": "code",
   "execution_count": 16,
   "metadata": {},
   "outputs": [
    {
     "data": {
      "text/plain": [
       "['Poor_physical_health_days',\n",
       " 'Adult_smoking',\n",
       " 'Premature_age-adjusted_mortality',\n",
       " 'Frequent_physical_distress',\n",
       " 'Frequent_mental_distress']"
      ]
     },
     "execution_count": 16,
     "metadata": {},
     "output_type": "execute_result"
    }
   ],
   "source": [
    "final.remove('Premature_death')\n",
    "final"
   ]
  },
  {
   "cell_type": "code",
   "execution_count": 17,
   "metadata": {},
   "outputs": [],
   "source": [
    "basic_correlation_OLS = OLS(y_train_scaled, add_constant(X_train_scaled[final])).fit()\n",
    "\n",
    "basic_predictions = basic_correlation_OLS.predict(add_constant(X_test_scaled[final]))\n",
    "basic_train_r2 = basic_correlation_OLS.rsquared\n",
    "\n",
    "basic_test_r2 = r2_score(y_test_scaled, basic_predictions)"
   ]
  },
  {
   "cell_type": "code",
   "execution_count": 18,
   "metadata": {},
   "outputs": [
    {
     "data": {
      "text/html": [
       "<table class=\"simpletable\">\n",
       "<caption>OLS Regression Results</caption>\n",
       "<tr>\n",
       "  <th>Dep. Variable:</th>            <td>y</td>        <th>  R-squared:         </th> <td>   0.885</td>\n",
       "</tr>\n",
       "<tr>\n",
       "  <th>Model:</th>                   <td>OLS</td>       <th>  Adj. R-squared:    </th> <td>   0.885</td>\n",
       "</tr>\n",
       "<tr>\n",
       "  <th>Method:</th>             <td>Least Squares</td>  <th>  F-statistic:       </th> <td>   3609.</td>\n",
       "</tr>\n",
       "<tr>\n",
       "  <th>Date:</th>             <td>Mon, 13 Jan 2020</td> <th>  Prob (F-statistic):</th>  <td>  0.00</td> \n",
       "</tr>\n",
       "<tr>\n",
       "  <th>Time:</th>                 <td>19:10:32</td>     <th>  Log-Likelihood:    </th> <td> -797.51</td>\n",
       "</tr>\n",
       "<tr>\n",
       "  <th>No. Observations:</th>      <td>  2356</td>      <th>  AIC:               </th> <td>   1607.</td>\n",
       "</tr>\n",
       "<tr>\n",
       "  <th>Df Residuals:</th>          <td>  2350</td>      <th>  BIC:               </th> <td>   1642.</td>\n",
       "</tr>\n",
       "<tr>\n",
       "  <th>Df Model:</th>              <td>     5</td>      <th>                     </th>     <td> </td>   \n",
       "</tr>\n",
       "<tr>\n",
       "  <th>Covariance Type:</th>      <td>nonrobust</td>    <th>                     </th>     <td> </td>   \n",
       "</tr>\n",
       "</table>\n",
       "<table class=\"simpletable\">\n",
       "<tr>\n",
       "                  <td></td>                    <th>coef</th>     <th>std err</th>      <th>t</th>      <th>P>|t|</th>  <th>[0.025</th>    <th>0.975]</th>  \n",
       "</tr>\n",
       "<tr>\n",
       "  <th>const</th>                            <td> 1.082e-15</td> <td>    0.007</td> <td> 1.54e-13</td> <td> 1.000</td> <td>   -0.014</td> <td>    0.014</td>\n",
       "</tr>\n",
       "<tr>\n",
       "  <th>Poor_physical_health_days</th>        <td>   -0.2915</td> <td>    0.039</td> <td>   -7.469</td> <td> 0.000</td> <td>   -0.368</td> <td>   -0.215</td>\n",
       "</tr>\n",
       "<tr>\n",
       "  <th>Adult_smoking</th>                    <td>   -0.0813</td> <td>    0.013</td> <td>   -6.155</td> <td> 0.000</td> <td>   -0.107</td> <td>   -0.055</td>\n",
       "</tr>\n",
       "<tr>\n",
       "  <th>Premature_age-adjusted_mortality</th> <td>   -0.9095</td> <td>    0.011</td> <td>  -84.558</td> <td> 0.000</td> <td>   -0.931</td> <td>   -0.888</td>\n",
       "</tr>\n",
       "<tr>\n",
       "  <th>Frequent_physical_distress</th>       <td>    0.4644</td> <td>    0.040</td> <td>   11.596</td> <td> 0.000</td> <td>    0.386</td> <td>    0.543</td>\n",
       "</tr>\n",
       "<tr>\n",
       "  <th>Frequent_mental_distress</th>         <td>   -0.1367</td> <td>    0.025</td> <td>   -5.375</td> <td> 0.000</td> <td>   -0.187</td> <td>   -0.087</td>\n",
       "</tr>\n",
       "</table>\n",
       "<table class=\"simpletable\">\n",
       "<tr>\n",
       "  <th>Omnibus:</th>       <td>2347.908</td> <th>  Durbin-Watson:     </th>  <td>   2.005</td> \n",
       "</tr>\n",
       "<tr>\n",
       "  <th>Prob(Omnibus):</th>  <td> 0.000</td>  <th>  Jarque-Bera (JB):  </th> <td>176856.921</td>\n",
       "</tr>\n",
       "<tr>\n",
       "  <th>Skew:</th>           <td> 4.682</td>  <th>  Prob(JB):          </th>  <td>    0.00</td> \n",
       "</tr>\n",
       "<tr>\n",
       "  <th>Kurtosis:</th>       <td>44.399</td>  <th>  Cond. No.          </th>  <td>    15.7</td> \n",
       "</tr>\n",
       "</table><br/><br/>Warnings:<br/>[1] Standard Errors assume that the covariance matrix of the errors is correctly specified."
      ],
      "text/plain": [
       "<class 'statsmodels.iolib.summary.Summary'>\n",
       "\"\"\"\n",
       "                            OLS Regression Results                            \n",
       "==============================================================================\n",
       "Dep. Variable:                      y   R-squared:                       0.885\n",
       "Model:                            OLS   Adj. R-squared:                  0.885\n",
       "Method:                 Least Squares   F-statistic:                     3609.\n",
       "Date:                Mon, 13 Jan 2020   Prob (F-statistic):               0.00\n",
       "Time:                        19:10:32   Log-Likelihood:                -797.51\n",
       "No. Observations:                2356   AIC:                             1607.\n",
       "Df Residuals:                    2350   BIC:                             1642.\n",
       "Df Model:                           5                                         \n",
       "Covariance Type:            nonrobust                                         \n",
       "====================================================================================================\n",
       "                                       coef    std err          t      P>|t|      [0.025      0.975]\n",
       "----------------------------------------------------------------------------------------------------\n",
       "const                             1.082e-15      0.007   1.54e-13      1.000      -0.014       0.014\n",
       "Poor_physical_health_days           -0.2915      0.039     -7.469      0.000      -0.368      -0.215\n",
       "Adult_smoking                       -0.0813      0.013     -6.155      0.000      -0.107      -0.055\n",
       "Premature_age-adjusted_mortality    -0.9095      0.011    -84.558      0.000      -0.931      -0.888\n",
       "Frequent_physical_distress           0.4644      0.040     11.596      0.000       0.386       0.543\n",
       "Frequent_mental_distress            -0.1367      0.025     -5.375      0.000      -0.187      -0.087\n",
       "==============================================================================\n",
       "Omnibus:                     2347.908   Durbin-Watson:                   2.005\n",
       "Prob(Omnibus):                  0.000   Jarque-Bera (JB):           176856.921\n",
       "Skew:                           4.682   Prob(JB):                         0.00\n",
       "Kurtosis:                      44.399   Cond. No.                         15.7\n",
       "==============================================================================\n",
       "\n",
       "Warnings:\n",
       "[1] Standard Errors assume that the covariance matrix of the errors is correctly specified.\n",
       "\"\"\""
      ]
     },
     "execution_count": 18,
     "metadata": {},
     "output_type": "execute_result"
    }
   ],
   "source": [
    "basic_correlation_OLS.summary()"
   ]
  },
  {
   "cell_type": "markdown",
   "metadata": {},
   "source": [
    "Good, dropping the feature does not impact our R2. Let's now conduct further analysis on the R-Squares, Residuals' Homoscedasticity and Normality"
   ]
  },
  {
   "cell_type": "code",
   "execution_count": 19,
   "metadata": {},
   "outputs": [
    {
     "name": "stdout",
     "output_type": "stream",
     "text": [
      "Basic Train R-Squared: 0.88\n",
      "Basic Test R-Squared: 0.82\n",
      "\n",
      "\n",
      "Check for Homoscedasticity Assumption\n"
     ]
    },
    {
     "data": {
      "image/png": "[encoded data removed]",
      "text/plain": [
       "<Figure size 432x288 with 1 Axes>"
      ]
     },
     "metadata": {
      "needs_background": "light"
     },
     "output_type": "display_data"
    },
    {
     "name": "stdout",
     "output_type": "stream",
     "text": [
      "Check for Residuals Normality\n"
     ]
    },
    {
     "data": {
      "image/png": "[encoded data removed]",
      "text/plain": [
       "<Figure size 432x288 with 1 Axes>"
      ]
     },
     "metadata": {
      "needs_background": "light"
     },
     "output_type": "display_data"
    }
   ],
   "source": [
    "basic_errors = y_test_scaled - basic_predictions\n",
    "\n",
    "print ('Basic Train R-Squared:', round(basic_train_r2, 2))\n",
    "print ('Basic Test R-Squared:', round(basic_test_r2, 2))\n",
    "\n",
    "print ('\\n')\n",
    "\n",
    "print ('Check for Homoscedasticity Assumption')\n",
    "plt.figure(figsize = (6,4))\n",
    "plt.scatter(x = y_test_scaled, y = basic_errors)\n",
    "plt.show()\n",
    "\n",
    "print ('Check for Residuals Normality')\n",
    "fig = sm.graphics.qqplot(basic_correlation_OLS.resid, dist = stats.norm, line='45', fit=True)"
   ]
  },
  {
   "cell_type": "code",
   "execution_count": 20,
   "metadata": {},
   "outputs": [
    {
     "data": {
      "image/png": "[encoded data removed]",
      "text/plain": [
       "<Figure size 432x288 with 1 Axes>"
      ]
     },
     "metadata": {
      "needs_background": "light"
     },
     "output_type": "display_data"
    }
   ],
   "source": [
    "coef_basic = basic_correlation_OLS.params.sort_values()\n",
    "coef_basic[:5].plot(kind = 'barh', figsize = (6,4))\n",
    "plt.show()"
   ]
  },
  {
   "cell_type": "code",
   "execution_count": 21,
   "metadata": {},
   "outputs": [],
   "source": [
    "all_model_summary_df.loc[all_model_summary_df.model == 'Basic - Top Correlation', 'n_features'] = len(basic_correlation_OLS.pvalues)\n",
    "all_model_summary_df.loc[all_model_summary_df.model == 'Basic - Top Correlation', 'AIC'] = basic_correlation_OLS.aic\n",
    "all_model_summary_df.loc[all_model_summary_df.model == 'Basic - Top Correlation', 'R2_train'] = basic_train_r2\n",
    "all_model_summary_df.loc[all_model_summary_df.model == 'Basic - Top Correlation', 'R2_test'] = basic_test_r2\n",
    "all_model_summary_df.loc[all_model_summary_df.model == 'Basic - Top Correlation', '>0.05_pvalues'] = sum(basic_correlation_OLS.pvalues > 0.05)"
   ]
  },
  {
   "cell_type": "code",
   "execution_count": 22,
   "metadata": {},
   "outputs": [
    {
     "data": {
      "text/html": [
       "<div>\n",
       "<style scoped>\n",
       "    .dataframe tbody tr th:only-of-type {\n",
       "        vertical-align: middle;\n",
       "    }\n",
       "\n",
       "    .dataframe tbody tr th {\n",
       "        vertical-align: top;\n",
       "    }\n",
       "\n",
       "    .dataframe thead th {\n",
       "        text-align: right;\n",
       "    }\n",
       "</style>\n",
       "<table border=\"1\" class=\"dataframe\">\n",
       "  <thead>\n",
       "    <tr style=\"text-align: right;\">\n",
       "      <th></th>\n",
       "      <th>model</th>\n",
       "      <th>R2_train</th>\n",
       "      <th>R2_test</th>\n",
       "      <th>AIC</th>\n",
       "      <th>n_features</th>\n",
       "      <th>&gt;0.05_pvalues</th>\n",
       "    </tr>\n",
       "  </thead>\n",
       "  <tbody>\n",
       "    <tr>\n",
       "      <th>0</th>\n",
       "      <td>Baseline</td>\n",
       "      <td>0.910781</td>\n",
       "      <td>0.839762</td>\n",
       "      <td>1118.37</td>\n",
       "      <td>64</td>\n",
       "      <td>41</td>\n",
       "    </tr>\n",
       "    <tr>\n",
       "      <th>1</th>\n",
       "      <td>Basic - Top Correlation</td>\n",
       "      <td>0.884775</td>\n",
       "      <td>0.817139</td>\n",
       "      <td>1607.02</td>\n",
       "      <td>6</td>\n",
       "      <td>1</td>\n",
       "    </tr>\n",
       "    <tr>\n",
       "      <th>2</th>\n",
       "      <td>Filter</td>\n",
       "      <td>NaN</td>\n",
       "      <td>NaN</td>\n",
       "      <td>NaN</td>\n",
       "      <td>NaN</td>\n",
       "      <td>NaN</td>\n",
       "    </tr>\n",
       "    <tr>\n",
       "      <th>3</th>\n",
       "      <td>Wrappper - RFE</td>\n",
       "      <td>NaN</td>\n",
       "      <td>NaN</td>\n",
       "      <td>NaN</td>\n",
       "      <td>NaN</td>\n",
       "      <td>NaN</td>\n",
       "    </tr>\n",
       "    <tr>\n",
       "      <th>4</th>\n",
       "      <td>Wrappper - Stepwise</td>\n",
       "      <td>NaN</td>\n",
       "      <td>NaN</td>\n",
       "      <td>NaN</td>\n",
       "      <td>NaN</td>\n",
       "      <td>NaN</td>\n",
       "    </tr>\n",
       "    <tr>\n",
       "      <th>5</th>\n",
       "      <td>Embedded - Lasso</td>\n",
       "      <td>NaN</td>\n",
       "      <td>NaN</td>\n",
       "      <td>NaN</td>\n",
       "      <td>NaN</td>\n",
       "      <td>NaN</td>\n",
       "    </tr>\n",
       "  </tbody>\n",
       "</table>\n",
       "</div>"
      ],
      "text/plain": [
       "                     model  R2_train   R2_test      AIC n_features  \\\n",
       "0                 Baseline  0.910781  0.839762  1118.37         64   \n",
       "1  Basic - Top Correlation  0.884775  0.817139  1607.02          6   \n",
       "2                   Filter       NaN       NaN      NaN        NaN   \n",
       "3           Wrappper - RFE       NaN       NaN      NaN        NaN   \n",
       "4      Wrappper - Stepwise       NaN       NaN      NaN        NaN   \n",
       "5         Embedded - Lasso       NaN       NaN      NaN        NaN   \n",
       "\n",
       "  >0.05_pvalues  \n",
       "0            41  \n",
       "1             1  \n",
       "2           NaN  \n",
       "3           NaN  \n",
       "4           NaN  \n",
       "5           NaN  "
      ]
     },
     "execution_count": 22,
     "metadata": {},
     "output_type": "execute_result"
    }
   ],
   "source": [
    "all_model_summary_df"
   ]
  },
  {
   "cell_type": "markdown",
   "metadata": {},
   "source": [
    "Just by using the 6 top correlated features, we get almost similar results to our Baseline model and is much more user friendly for our client!"
   ]
  },
  {
   "cell_type": "markdown",
   "metadata": {},
   "source": [
    "### 3. Filter Method - drop features with no or low variance & high correlation with other features\n",
    "\n",
    "One of the pitfalls of the above method is that we might have potentially ignored other useful features that might be of use to our client. Also, the baseline model might include various highly correlated features which violates the assumptions of a regression model. As such, let's try out best to find a middle ground by using the filter methods, first by:\n",
    "\n",
    "- dropping features with no or low variance. These features typically do not add much predictive value\n",
    "- dropping features which are highly correlated\n",
    "\n",
    "Let's start of by dropping features with no or low variance. We can use Sklearn's variance threshold tool to remove features with low threshold (we set it at 0.025)."
   ]
  },
  {
   "cell_type": "code",
   "execution_count": 23,
   "metadata": {},
   "outputs": [
    {
     "data": {
      "text/plain": [
       "VarianceThreshold(threshold=0.0)"
      ]
     },
     "execution_count": 23,
     "metadata": {},
     "output_type": "execute_result"
    }
   ],
   "source": [
    "variance_threshold = 0.00\n",
    "\n",
    "low_var_filter = VarianceThreshold(threshold = variance_threshold)\n",
    "low_var_filter.fit(X_train)"
   ]
  },
  {
   "cell_type": "code",
   "execution_count": 24,
   "metadata": {},
   "outputs": [
    {
     "name": "stdout",
     "output_type": "stream",
     "text": [
      "Number of low variance features: 1\n"
     ]
    }
   ],
   "source": [
    "dropped_cols = X_train.columns[low_var_filter.get_support() == False]\n",
    "print ('Number of low variance features:', len(dropped_cols))"
   ]
  },
  {
   "cell_type": "code",
   "execution_count": 25,
   "metadata": {},
   "outputs": [],
   "source": [
    "High_Var_Features = X_train.drop(dropped_cols, axis = 1)"
   ]
  },
  {
   "cell_type": "markdown",
   "metadata": {},
   "source": [
    "Now we have removed them, let's further narrow down features by excluding highly correlated features. We have defined highly correlated features as those with pearson's r of 0.7 or more"
   ]
  },
  {
   "cell_type": "code",
   "execution_count": 26,
   "metadata": {},
   "outputs": [
    {
     "data": {
      "text/plain": [
       "{'Adult_smoking',\n",
       " 'Children_eligible_for_free_or_reduced_price_lunch',\n",
       " 'Children_in_poverty',\n",
       " 'Children_in_single-parent_households',\n",
       " 'Diabetes_prevalence',\n",
       " 'Excessive_drinking',\n",
       " 'Food_insecurity',\n",
       " 'Frequent_mental_distress',\n",
       " 'Frequent_physical_distress',\n",
       " 'Injury_deaths',\n",
       " 'Insufficient_sleep',\n",
       " 'Limited_access_to_healthy_foods',\n",
       " 'Median_household_income',\n",
       " 'Percentage_of_households_with_high_housing_costs',\n",
       " 'Percentage_of_households_with_overcrowding',\n",
       " 'Physical_inactivity',\n",
       " 'Poor_mental_health_days',\n",
       " 'Poor_or_fair_health',\n",
       " 'Poor_physical_health_days',\n",
       " 'Premature_age-adjusted_mortality',\n",
       " 'Severe_housing_cost_burden',\n",
       " 'Some_college',\n",
       " 'Teen_births',\n",
       " 'Uninsured_adults',\n",
       " 'Uninsured_children'}"
      ]
     },
     "execution_count": 26,
     "metadata": {},
     "output_type": "execute_result"
    }
   ],
   "source": [
    "corr_matrix = High_Var_Features.corr()\n",
    "correlated_features = set()\n",
    "\n",
    "corr_threshold = 0.6\n",
    "\n",
    "for i in range(len(corr_matrix.columns)):\n",
    "    for j in range(i):\n",
    "        if abs(corr_matrix.iloc[i, j]) > corr_threshold:\n",
    "            colname = corr_matrix.columns[i]\n",
    "            correlated_features.add(colname)\n",
    "\n",
    "correlated_features"
   ]
  },
  {
   "cell_type": "code",
   "execution_count": 27,
   "metadata": {},
   "outputs": [],
   "source": [
    "High_Var_Features_Low_Corr = High_Var_Features.drop(list(correlated_features), axis = 1)"
   ]
  },
  {
   "cell_type": "code",
   "execution_count": 28,
   "metadata": {},
   "outputs": [],
   "source": [
    "filter_OLS = OLS(y_train_scaled, add_constant(X_train_scaled[High_Var_Features_Low_Corr.columns])).fit()\n",
    "\n",
    "filter_predictions = filter_OLS.predict(add_constant(X_test_scaled[High_Var_Features_Low_Corr.columns]))\n",
    "filter_train_r2 = filter_OLS.rsquared\n",
    "\n",
    "filter_test_r2 = r2_score(y_test_scaled, filter_predictions)"
   ]
  },
  {
   "cell_type": "code",
   "execution_count": 29,
   "metadata": {},
   "outputs": [
    {
     "data": {
      "text/html": [
       "<table class=\"simpletable\">\n",
       "<caption>OLS Regression Results</caption>\n",
       "<tr>\n",
       "  <th>Dep. Variable:</th>            <td>y</td>        <th>  R-squared:         </th> <td>   0.851</td>\n",
       "</tr>\n",
       "<tr>\n",
       "  <th>Model:</th>                   <td>OLS</td>       <th>  Adj. R-squared:    </th> <td>   0.849</td>\n",
       "</tr>\n",
       "<tr>\n",
       "  <th>Method:</th>             <td>Least Squares</td>  <th>  F-statistic:       </th> <td>   358.3</td>\n",
       "</tr>\n",
       "<tr>\n",
       "  <th>Date:</th>             <td>Mon, 13 Jan 2020</td> <th>  Prob (F-statistic):</th>  <td>  0.00</td> \n",
       "</tr>\n",
       "<tr>\n",
       "  <th>Time:</th>                 <td>19:10:32</td>     <th>  Log-Likelihood:    </th> <td> -1099.1</td>\n",
       "</tr>\n",
       "<tr>\n",
       "  <th>No. Observations:</th>      <td>  2356</td>      <th>  AIC:               </th> <td>   2274.</td>\n",
       "</tr>\n",
       "<tr>\n",
       "  <th>Df Residuals:</th>          <td>  2318</td>      <th>  BIC:               </th> <td>   2493.</td>\n",
       "</tr>\n",
       "<tr>\n",
       "  <th>Df Model:</th>              <td>    37</td>      <th>                     </th>     <td> </td>   \n",
       "</tr>\n",
       "<tr>\n",
       "  <th>Covariance Type:</th>      <td>nonrobust</td>    <th>                     </th>     <td> </td>   \n",
       "</tr>\n",
       "</table>\n",
       "<table class=\"simpletable\">\n",
       "<tr>\n",
       "                                    <td></td>                                      <th>coef</th>     <th>std err</th>      <th>t</th>      <th>P>|t|</th>  <th>[0.025</th>    <th>0.975]</th>  \n",
       "</tr>\n",
       "<tr>\n",
       "  <th>const</th>                                                                <td> 1.364e-15</td> <td>    0.008</td> <td>  1.7e-13</td> <td> 1.000</td> <td>   -0.016</td> <td>    0.016</td>\n",
       "</tr>\n",
       "<tr>\n",
       "  <th>County_Ranked_(Yes=1/No=0)</th>                                           <td>    0.0194</td> <td>    0.010</td> <td>    1.959</td> <td> 0.050</td> <td>-2.04e-05</td> <td>    0.039</td>\n",
       "</tr>\n",
       "<tr>\n",
       "  <th>Premature_death</th>                                                      <td>   -0.7451</td> <td>    0.015</td> <td>  -50.603</td> <td> 0.000</td> <td>   -0.774</td> <td>   -0.716</td>\n",
       "</tr>\n",
       "<tr>\n",
       "  <th>Low_birthweight</th>                                                      <td>   -0.0325</td> <td>    0.012</td> <td>   -2.722</td> <td> 0.007</td> <td>   -0.056</td> <td>   -0.009</td>\n",
       "</tr>\n",
       "<tr>\n",
       "  <th>Adult_obesity</th>                                                        <td>   -0.0777</td> <td>    0.011</td> <td>   -7.036</td> <td> 0.000</td> <td>   -0.099</td> <td>   -0.056</td>\n",
       "</tr>\n",
       "<tr>\n",
       "  <th>Food_environment_index</th>                                               <td>   -0.0384</td> <td>    0.013</td> <td>   -3.064</td> <td> 0.002</td> <td>   -0.063</td> <td>   -0.014</td>\n",
       "</tr>\n",
       "<tr>\n",
       "  <th>Access_to_exercise_opportunities</th>                                     <td>    0.0185</td> <td>    0.012</td> <td>    1.584</td> <td> 0.113</td> <td>   -0.004</td> <td>    0.041</td>\n",
       "</tr>\n",
       "<tr>\n",
       "  <th>Alcohol-impaired_driving_deaths</th>                                      <td>    0.0110</td> <td>    0.008</td> <td>    1.326</td> <td> 0.185</td> <td>   -0.005</td> <td>    0.027</td>\n",
       "</tr>\n",
       "<tr>\n",
       "  <th>Sexually_transmitted_infections</th>                                      <td>    0.0176</td> <td>    0.012</td> <td>    1.463</td> <td> 0.144</td> <td>   -0.006</td> <td>    0.041</td>\n",
       "</tr>\n",
       "<tr>\n",
       "  <th>Uninsured</th>                                                            <td>   -0.0198</td> <td>    0.012</td> <td>   -1.686</td> <td> 0.092</td> <td>   -0.043</td> <td>    0.003</td>\n",
       "</tr>\n",
       "<tr>\n",
       "  <th>Primary_care_physicians</th>                                              <td>   -0.0063</td> <td>    0.012</td> <td>   -0.548</td> <td> 0.584</td> <td>   -0.029</td> <td>    0.016</td>\n",
       "</tr>\n",
       "<tr>\n",
       "  <th>Dentists</th>                                                             <td>    0.0069</td> <td>    0.011</td> <td>    0.636</td> <td> 0.525</td> <td>   -0.014</td> <td>    0.028</td>\n",
       "</tr>\n",
       "<tr>\n",
       "  <th>Mental_health_providers</th>                                              <td>   -0.0227</td> <td>    0.011</td> <td>   -2.144</td> <td> 0.032</td> <td>   -0.044</td> <td>   -0.002</td>\n",
       "</tr>\n",
       "<tr>\n",
       "  <th>Preventable_hospital_stays</th>                                           <td>   -0.0534</td> <td>    0.010</td> <td>   -5.491</td> <td> 0.000</td> <td>   -0.073</td> <td>   -0.034</td>\n",
       "</tr>\n",
       "<tr>\n",
       "  <th>Mammography_screening</th>                                                <td>    0.0265</td> <td>    0.011</td> <td>    2.331</td> <td> 0.020</td> <td>    0.004</td> <td>    0.049</td>\n",
       "</tr>\n",
       "<tr>\n",
       "  <th>Flu_vaccinations</th>                                                     <td>   -0.0048</td> <td>    0.011</td> <td>   -0.426</td> <td> 0.670</td> <td>   -0.027</td> <td>    0.017</td>\n",
       "</tr>\n",
       "<tr>\n",
       "  <th>High_school_graduation</th>                                               <td>    0.0025</td> <td>    0.009</td> <td>    0.262</td> <td> 0.793</td> <td>   -0.016</td> <td>    0.021</td>\n",
       "</tr>\n",
       "<tr>\n",
       "  <th>Unemployment</th>                                                         <td>   -0.0085</td> <td>    0.011</td> <td>   -0.764</td> <td> 0.445</td> <td>   -0.030</td> <td>    0.013</td>\n",
       "</tr>\n",
       "<tr>\n",
       "  <th>Income_inequality</th>                                                    <td>    0.0287</td> <td>    0.011</td> <td>    2.724</td> <td> 0.007</td> <td>    0.008</td> <td>    0.049</td>\n",
       "</tr>\n",
       "<tr>\n",
       "  <th>Social_associations</th>                                                  <td>   -0.0145</td> <td>    0.010</td> <td>   -1.401</td> <td> 0.161</td> <td>   -0.035</td> <td>    0.006</td>\n",
       "</tr>\n",
       "<tr>\n",
       "  <th>Violent_crime</th>                                                        <td>   -0.0311</td> <td>    0.010</td> <td>   -2.980</td> <td> 0.003</td> <td>   -0.052</td> <td>   -0.011</td>\n",
       "</tr>\n",
       "<tr>\n",
       "  <th>Air_pollution_-_particulate_matter</th>                                   <td>   -0.1053</td> <td>    0.011</td> <td>   -9.639</td> <td> 0.000</td> <td>   -0.127</td> <td>   -0.084</td>\n",
       "</tr>\n",
       "<tr>\n",
       "  <th>Drinking_water_violations</th>                                            <td>   -0.0083</td> <td>    0.008</td> <td>   -0.973</td> <td> 0.331</td> <td>   -0.025</td> <td>    0.008</td>\n",
       "</tr>\n",
       "<tr>\n",
       "  <th>Severe_housing_problems</th>                                              <td>   -0.0384</td> <td>    0.014</td> <td>   -2.739</td> <td> 0.006</td> <td>   -0.066</td> <td>   -0.011</td>\n",
       "</tr>\n",
       "<tr>\n",
       "  <th>Percentage_of_households_with_lack_of_kitchen_or_plumbing_facilities</th> <td>    0.0032</td> <td>    0.011</td> <td>    0.298</td> <td> 0.766</td> <td>   -0.018</td> <td>    0.024</td>\n",
       "</tr>\n",
       "<tr>\n",
       "  <th>Driving_alone_to_work</th>                                                <td>   -0.1068</td> <td>    0.012</td> <td>   -8.843</td> <td> 0.000</td> <td>   -0.130</td> <td>   -0.083</td>\n",
       "</tr>\n",
       "<tr>\n",
       "  <th>Long_commute_-_driving_alone</th>                                         <td>    0.0142</td> <td>    0.012</td> <td>    1.225</td> <td> 0.221</td> <td>   -0.009</td> <td>    0.037</td>\n",
       "</tr>\n",
       "<tr>\n",
       "  <th>Child_mortality</th>                                                      <td>    0.0008</td> <td>    0.010</td> <td>    0.074</td> <td> 0.941</td> <td>   -0.020</td> <td>    0.021</td>\n",
       "</tr>\n",
       "<tr>\n",
       "  <th>HIV_prevalence</th>                                                       <td>    0.0091</td> <td>    0.011</td> <td>    0.827</td> <td> 0.408</td> <td>   -0.013</td> <td>    0.031</td>\n",
       "</tr>\n",
       "<tr>\n",
       "  <th>Drug_overdose_deaths</th>                                                 <td>   -0.0132</td> <td>    0.009</td> <td>   -1.425</td> <td> 0.154</td> <td>   -0.031</td> <td>    0.005</td>\n",
       "</tr>\n",
       "<tr>\n",
       "  <th>Motor_vehicle_crash_deaths</th>                                           <td>   -0.0518</td> <td>    0.012</td> <td>   -4.390</td> <td> 0.000</td> <td>   -0.075</td> <td>   -0.029</td>\n",
       "</tr>\n",
       "<tr>\n",
       "  <th>Other_primary_care_providers</th>                                         <td>    0.0042</td> <td>    0.010</td> <td>    0.418</td> <td> 0.676</td> <td>   -0.016</td> <td>    0.024</td>\n",
       "</tr>\n",
       "<tr>\n",
       "  <th>Firearm_fatalities</th>                                                   <td>   -0.0245</td> <td>    0.010</td> <td>   -2.459</td> <td> 0.014</td> <td>   -0.044</td> <td>   -0.005</td>\n",
       "</tr>\n",
       "<tr>\n",
       "  <th>Homeownership</th>                                                        <td>    0.0370</td> <td>    0.014</td> <td>    2.715</td> <td> 0.007</td> <td>    0.010</td> <td>    0.064</td>\n",
       "</tr>\n",
       "<tr>\n",
       "  <th>Population</th>                                                           <td>    0.0279</td> <td>    0.010</td> <td>    2.898</td> <td> 0.004</td> <td>    0.009</td> <td>    0.047</td>\n",
       "</tr>\n",
       "<tr>\n",
       "  <th>%_not_proficient_in_English</th>                                          <td>    0.0824</td> <td>    0.011</td> <td>    7.168</td> <td> 0.000</td> <td>    0.060</td> <td>    0.105</td>\n",
       "</tr>\n",
       "<tr>\n",
       "  <th>%_Females</th>                                                            <td>    0.0257</td> <td>    0.009</td> <td>    2.774</td> <td> 0.006</td> <td>    0.008</td> <td>    0.044</td>\n",
       "</tr>\n",
       "<tr>\n",
       "  <th>%_Rural</th>                                                              <td>    0.0322</td> <td>    0.015</td> <td>    2.216</td> <td> 0.027</td> <td>    0.004</td> <td>    0.061</td>\n",
       "</tr>\n",
       "</table>\n",
       "<table class=\"simpletable\">\n",
       "<tr>\n",
       "  <th>Omnibus:</th>       <td>2041.528</td> <th>  Durbin-Watson:     </th>  <td>   2.005</td> \n",
       "</tr>\n",
       "<tr>\n",
       "  <th>Prob(Omnibus):</th>  <td> 0.000</td>  <th>  Jarque-Bera (JB):  </th> <td>140389.506</td>\n",
       "</tr>\n",
       "<tr>\n",
       "  <th>Skew:</th>           <td> 3.715</td>  <th>  Prob(JB):          </th>  <td>    0.00</td> \n",
       "</tr>\n",
       "<tr>\n",
       "  <th>Kurtosis:</th>       <td>40.080</td>  <th>  Cond. No.          </th>  <td>    5.43</td> \n",
       "</tr>\n",
       "</table><br/><br/>Warnings:<br/>[1] Standard Errors assume that the covariance matrix of the errors is correctly specified."
      ],
      "text/plain": [
       "<class 'statsmodels.iolib.summary.Summary'>\n",
       "\"\"\"\n",
       "                            OLS Regression Results                            \n",
       "==============================================================================\n",
       "Dep. Variable:                      y   R-squared:                       0.851\n",
       "Model:                            OLS   Adj. R-squared:                  0.849\n",
       "Method:                 Least Squares   F-statistic:                     358.3\n",
       "Date:                Mon, 13 Jan 2020   Prob (F-statistic):               0.00\n",
       "Time:                        19:10:32   Log-Likelihood:                -1099.1\n",
       "No. Observations:                2356   AIC:                             2274.\n",
       "Df Residuals:                    2318   BIC:                             2493.\n",
       "Df Model:                          37                                         \n",
       "Covariance Type:            nonrobust                                         \n",
       "========================================================================================================================================\n",
       "                                                                           coef    std err          t      P>|t|      [0.025      0.975]\n",
       "----------------------------------------------------------------------------------------------------------------------------------------\n",
       "const                                                                 1.364e-15      0.008    1.7e-13      1.000      -0.016       0.016\n",
       "County_Ranked_(Yes=1/No=0)                                               0.0194      0.010      1.959      0.050   -2.04e-05       0.039\n",
       "Premature_death                                                         -0.7451      0.015    -50.603      0.000      -0.774      -0.716\n",
       "Low_birthweight                                                         -0.0325      0.012     -2.722      0.007      -0.056      -0.009\n",
       "Adult_obesity                                                           -0.0777      0.011     -7.036      0.000      -0.099      -0.056\n",
       "Food_environment_index                                                  -0.0384      0.013     -3.064      0.002      -0.063      -0.014\n",
       "Access_to_exercise_opportunities                                         0.0185      0.012      1.584      0.113      -0.004       0.041\n",
       "Alcohol-impaired_driving_deaths                                          0.0110      0.008      1.326      0.185      -0.005       0.027\n",
       "Sexually_transmitted_infections                                          0.0176      0.012      1.463      0.144      -0.006       0.041\n",
       "Uninsured                                                               -0.0198      0.012     -1.686      0.092      -0.043       0.003\n",
       "Primary_care_physicians                                                 -0.0063      0.012     -0.548      0.584      -0.029       0.016\n",
       "Dentists                                                                 0.0069      0.011      0.636      0.525      -0.014       0.028\n",
       "Mental_health_providers                                                 -0.0227      0.011     -2.144      0.032      -0.044      -0.002\n",
       "Preventable_hospital_stays                                              -0.0534      0.010     -5.491      0.000      -0.073      -0.034\n",
       "Mammography_screening                                                    0.0265      0.011      2.331      0.020       0.004       0.049\n",
       "Flu_vaccinations                                                        -0.0048      0.011     -0.426      0.670      -0.027       0.017\n",
       "High_school_graduation                                                   0.0025      0.009      0.262      0.793      -0.016       0.021\n",
       "Unemployment                                                            -0.0085      0.011     -0.764      0.445      -0.030       0.013\n",
       "Income_inequality                                                        0.0287      0.011      2.724      0.007       0.008       0.049\n",
       "Social_associations                                                     -0.0145      0.010     -1.401      0.161      -0.035       0.006\n",
       "Violent_crime                                                           -0.0311      0.010     -2.980      0.003      -0.052      -0.011\n",
       "Air_pollution_-_particulate_matter                                      -0.1053      0.011     -9.639      0.000      -0.127      -0.084\n",
       "Drinking_water_violations                                               -0.0083      0.008     -0.973      0.331      -0.025       0.008\n",
       "Severe_housing_problems                                                 -0.0384      0.014     -2.739      0.006      -0.066      -0.011\n",
       "Percentage_of_households_with_lack_of_kitchen_or_plumbing_facilities     0.0032      0.011      0.298      0.766      -0.018       0.024\n",
       "Driving_alone_to_work                                                   -0.1068      0.012     -8.843      0.000      -0.130      -0.083\n",
       "Long_commute_-_driving_alone                                             0.0142      0.012      1.225      0.221      -0.009       0.037\n",
       "Child_mortality                                                          0.0008      0.010      0.074      0.941      -0.020       0.021\n",
       "HIV_prevalence                                                           0.0091      0.011      0.827      0.408      -0.013       0.031\n",
       "Drug_overdose_deaths                                                    -0.0132      0.009     -1.425      0.154      -0.031       0.005\n",
       "Motor_vehicle_crash_deaths                                              -0.0518      0.012     -4.390      0.000      -0.075      -0.029\n",
       "Other_primary_care_providers                                             0.0042      0.010      0.418      0.676      -0.016       0.024\n",
       "Firearm_fatalities                                                      -0.0245      0.010     -2.459      0.014      -0.044      -0.005\n",
       "Homeownership                                                            0.0370      0.014      2.715      0.007       0.010       0.064\n",
       "Population                                                               0.0279      0.010      2.898      0.004       0.009       0.047\n",
       "%_not_proficient_in_English                                              0.0824      0.011      7.168      0.000       0.060       0.105\n",
       "%_Females                                                                0.0257      0.009      2.774      0.006       0.008       0.044\n",
       "%_Rural                                                                  0.0322      0.015      2.216      0.027       0.004       0.061\n",
       "==============================================================================\n",
       "Omnibus:                     2041.528   Durbin-Watson:                   2.005\n",
       "Prob(Omnibus):                  0.000   Jarque-Bera (JB):           140389.506\n",
       "Skew:                           3.715   Prob(JB):                         0.00\n",
       "Kurtosis:                      40.080   Cond. No.                         5.43\n",
       "==============================================================================\n",
       "\n",
       "Warnings:\n",
       "[1] Standard Errors assume that the covariance matrix of the errors is correctly specified.\n",
       "\"\"\""
      ]
     },
     "execution_count": 29,
     "metadata": {},
     "output_type": "execute_result"
    }
   ],
   "source": [
    "filter_OLS.summary()"
   ]
  },
  {
   "cell_type": "markdown",
   "metadata": {},
   "source": [
    "Looks like there are more features with high p-values. Once again, let's remove them and refit the model"
   ]
  },
  {
   "cell_type": "code",
   "execution_count": 30,
   "metadata": {},
   "outputs": [
    {
     "data": {
      "text/plain": [
       "Index(['Premature_death', 'Low_birthweight', 'Adult_obesity',\n",
       "       'Food_environment_index', 'Mental_health_providers',\n",
       "       'Preventable_hospital_stays', 'Mammography_screening',\n",
       "       'Income_inequality', 'Violent_crime',\n",
       "       'Air_pollution_-_particulate_matter', 'Severe_housing_problems',\n",
       "       'Driving_alone_to_work', 'Motor_vehicle_crash_deaths',\n",
       "       'Firearm_fatalities', 'Homeownership', 'Population',\n",
       "       '%_not_proficient_in_English', '%_Females', '%_Rural'],\n",
       "      dtype='object')"
      ]
     },
     "execution_count": 30,
     "metadata": {},
     "output_type": "execute_result"
    }
   ],
   "source": [
    "updated_filter_features = filter_OLS.pvalues\n",
    "updated_filter_features = updated_filter_features[updated_filter_features < 0.05]\n",
    "# updated_filter_features.drop('const', axis = 0, inplace = True)\n",
    "updated_filter_features.index"
   ]
  },
  {
   "cell_type": "code",
   "execution_count": 31,
   "metadata": {},
   "outputs": [],
   "source": [
    "filter_OLS = OLS(y_train_scaled, add_constant(X_train_scaled[updated_filter_features.index])).fit()\n",
    "\n",
    "filter_predictions = filter_OLS.predict(add_constant(X_test_scaled[updated_filter_features.index]))\n",
    "filter_train_r2 = filter_OLS.rsquared\n",
    "\n",
    "filter_test_r2 = r2_score(y_test_scaled, filter_predictions)"
   ]
  },
  {
   "cell_type": "code",
   "execution_count": 32,
   "metadata": {},
   "outputs": [
    {
     "data": {
      "text/html": [
       "<table class=\"simpletable\">\n",
       "<caption>OLS Regression Results</caption>\n",
       "<tr>\n",
       "  <th>Dep. Variable:</th>            <td>y</td>        <th>  R-squared:         </th> <td>   0.850</td>\n",
       "</tr>\n",
       "<tr>\n",
       "  <th>Model:</th>                   <td>OLS</td>       <th>  Adj. R-squared:    </th> <td>   0.848</td>\n",
       "</tr>\n",
       "<tr>\n",
       "  <th>Method:</th>             <td>Least Squares</td>  <th>  F-statistic:       </th> <td>   694.8</td>\n",
       "</tr>\n",
       "<tr>\n",
       "  <th>Date:</th>             <td>Mon, 13 Jan 2020</td> <th>  Prob (F-statistic):</th>  <td>  0.00</td> \n",
       "</tr>\n",
       "<tr>\n",
       "  <th>Time:</th>                 <td>19:10:32</td>     <th>  Log-Likelihood:    </th> <td> -1110.9</td>\n",
       "</tr>\n",
       "<tr>\n",
       "  <th>No. Observations:</th>      <td>  2356</td>      <th>  AIC:               </th> <td>   2262.</td>\n",
       "</tr>\n",
       "<tr>\n",
       "  <th>Df Residuals:</th>          <td>  2336</td>      <th>  BIC:               </th> <td>   2377.</td>\n",
       "</tr>\n",
       "<tr>\n",
       "  <th>Df Model:</th>              <td>    19</td>      <th>                     </th>     <td> </td>   \n",
       "</tr>\n",
       "<tr>\n",
       "  <th>Covariance Type:</th>      <td>nonrobust</td>    <th>                     </th>     <td> </td>   \n",
       "</tr>\n",
       "</table>\n",
       "<table class=\"simpletable\">\n",
       "<tr>\n",
       "                   <td></td>                     <th>coef</th>     <th>std err</th>      <th>t</th>      <th>P>|t|</th>  <th>[0.025</th>    <th>0.975]</th>  \n",
       "</tr>\n",
       "<tr>\n",
       "  <th>const</th>                              <td> 1.082e-15</td> <td>    0.008</td> <td> 1.35e-13</td> <td> 1.000</td> <td>   -0.016</td> <td>    0.016</td>\n",
       "</tr>\n",
       "<tr>\n",
       "  <th>Premature_death</th>                    <td>   -0.7501</td> <td>    0.013</td> <td>  -57.495</td> <td> 0.000</td> <td>   -0.776</td> <td>   -0.725</td>\n",
       "</tr>\n",
       "<tr>\n",
       "  <th>Low_birthweight</th>                    <td>   -0.0217</td> <td>    0.011</td> <td>   -2.033</td> <td> 0.042</td> <td>   -0.043</td> <td>   -0.001</td>\n",
       "</tr>\n",
       "<tr>\n",
       "  <th>Adult_obesity</th>                      <td>   -0.0747</td> <td>    0.011</td> <td>   -7.080</td> <td> 0.000</td> <td>   -0.095</td> <td>   -0.054</td>\n",
       "</tr>\n",
       "<tr>\n",
       "  <th>Food_environment_index</th>             <td>   -0.0289</td> <td>    0.011</td> <td>   -2.630</td> <td> 0.009</td> <td>   -0.050</td> <td>   -0.007</td>\n",
       "</tr>\n",
       "<tr>\n",
       "  <th>Mental_health_providers</th>            <td>   -0.0200</td> <td>    0.010</td> <td>   -2.086</td> <td> 0.037</td> <td>   -0.039</td> <td>   -0.001</td>\n",
       "</tr>\n",
       "<tr>\n",
       "  <th>Preventable_hospital_stays</th>         <td>   -0.0560</td> <td>    0.010</td> <td>   -5.862</td> <td> 0.000</td> <td>   -0.075</td> <td>   -0.037</td>\n",
       "</tr>\n",
       "<tr>\n",
       "  <th>Mammography_screening</th>              <td>    0.0322</td> <td>    0.010</td> <td>    3.209</td> <td> 0.001</td> <td>    0.013</td> <td>    0.052</td>\n",
       "</tr>\n",
       "<tr>\n",
       "  <th>Income_inequality</th>                  <td>    0.0293</td> <td>    0.010</td> <td>    2.861</td> <td> 0.004</td> <td>    0.009</td> <td>    0.049</td>\n",
       "</tr>\n",
       "<tr>\n",
       "  <th>Violent_crime</th>                      <td>   -0.0281</td> <td>    0.010</td> <td>   -2.836</td> <td> 0.005</td> <td>   -0.048</td> <td>   -0.009</td>\n",
       "</tr>\n",
       "<tr>\n",
       "  <th>Air_pollution_-_particulate_matter</th> <td>   -0.1019</td> <td>    0.010</td> <td>  -10.093</td> <td> 0.000</td> <td>   -0.122</td> <td>   -0.082</td>\n",
       "</tr>\n",
       "<tr>\n",
       "  <th>Severe_housing_problems</th>            <td>   -0.0253</td> <td>    0.012</td> <td>   -2.200</td> <td> 0.028</td> <td>   -0.048</td> <td>   -0.003</td>\n",
       "</tr>\n",
       "<tr>\n",
       "  <th>Driving_alone_to_work</th>              <td>   -0.1081</td> <td>    0.011</td> <td>   -9.635</td> <td> 0.000</td> <td>   -0.130</td> <td>   -0.086</td>\n",
       "</tr>\n",
       "<tr>\n",
       "  <th>Motor_vehicle_crash_deaths</th>         <td>   -0.0510</td> <td>    0.011</td> <td>   -4.460</td> <td> 0.000</td> <td>   -0.073</td> <td>   -0.029</td>\n",
       "</tr>\n",
       "<tr>\n",
       "  <th>Firearm_fatalities</th>                 <td>   -0.0268</td> <td>    0.010</td> <td>   -2.723</td> <td> 0.007</td> <td>   -0.046</td> <td>   -0.007</td>\n",
       "</tr>\n",
       "<tr>\n",
       "  <th>Homeownership</th>                      <td>    0.0344</td> <td>    0.012</td> <td>    2.927</td> <td> 0.003</td> <td>    0.011</td> <td>    0.057</td>\n",
       "</tr>\n",
       "<tr>\n",
       "  <th>Population</th>                         <td>    0.0343</td> <td>    0.009</td> <td>    3.695</td> <td> 0.000</td> <td>    0.016</td> <td>    0.052</td>\n",
       "</tr>\n",
       "<tr>\n",
       "  <th>%_not_proficient_in_English</th>        <td>    0.0706</td> <td>    0.010</td> <td>    7.046</td> <td> 0.000</td> <td>    0.051</td> <td>    0.090</td>\n",
       "</tr>\n",
       "<tr>\n",
       "  <th>%_Females</th>                          <td>    0.0233</td> <td>    0.009</td> <td>    2.669</td> <td> 0.008</td> <td>    0.006</td> <td>    0.040</td>\n",
       "</tr>\n",
       "<tr>\n",
       "  <th>%_Rural</th>                            <td>    0.0202</td> <td>    0.013</td> <td>    1.598</td> <td> 0.110</td> <td>   -0.005</td> <td>    0.045</td>\n",
       "</tr>\n",
       "</table>\n",
       "<table class=\"simpletable\">\n",
       "<tr>\n",
       "  <th>Omnibus:</th>       <td>2051.640</td> <th>  Durbin-Watson:     </th>  <td>   1.998</td> \n",
       "</tr>\n",
       "<tr>\n",
       "  <th>Prob(Omnibus):</th>  <td> 0.000</td>  <th>  Jarque-Bera (JB):  </th> <td>147202.382</td>\n",
       "</tr>\n",
       "<tr>\n",
       "  <th>Skew:</th>           <td> 3.729</td>  <th>  Prob(JB):          </th>  <td>    0.00</td> \n",
       "</tr>\n",
       "<tr>\n",
       "  <th>Kurtosis:</th>       <td>40.999</td>  <th>  Cond. No.          </th>  <td>    3.82</td> \n",
       "</tr>\n",
       "</table><br/><br/>Warnings:<br/>[1] Standard Errors assume that the covariance matrix of the errors is correctly specified."
      ],
      "text/plain": [
       "<class 'statsmodels.iolib.summary.Summary'>\n",
       "\"\"\"\n",
       "                            OLS Regression Results                            \n",
       "==============================================================================\n",
       "Dep. Variable:                      y   R-squared:                       0.850\n",
       "Model:                            OLS   Adj. R-squared:                  0.848\n",
       "Method:                 Least Squares   F-statistic:                     694.8\n",
       "Date:                Mon, 13 Jan 2020   Prob (F-statistic):               0.00\n",
       "Time:                        19:10:32   Log-Likelihood:                -1110.9\n",
       "No. Observations:                2356   AIC:                             2262.\n",
       "Df Residuals:                    2336   BIC:                             2377.\n",
       "Df Model:                          19                                         \n",
       "Covariance Type:            nonrobust                                         \n",
       "======================================================================================================\n",
       "                                         coef    std err          t      P>|t|      [0.025      0.975]\n",
       "------------------------------------------------------------------------------------------------------\n",
       "const                               1.082e-15      0.008   1.35e-13      1.000      -0.016       0.016\n",
       "Premature_death                       -0.7501      0.013    -57.495      0.000      -0.776      -0.725\n",
       "Low_birthweight                       -0.0217      0.011     -2.033      0.042      -0.043      -0.001\n",
       "Adult_obesity                         -0.0747      0.011     -7.080      0.000      -0.095      -0.054\n",
       "Food_environment_index                -0.0289      0.011     -2.630      0.009      -0.050      -0.007\n",
       "Mental_health_providers               -0.0200      0.010     -2.086      0.037      -0.039      -0.001\n",
       "Preventable_hospital_stays            -0.0560      0.010     -5.862      0.000      -0.075      -0.037\n",
       "Mammography_screening                  0.0322      0.010      3.209      0.001       0.013       0.052\n",
       "Income_inequality                      0.0293      0.010      2.861      0.004       0.009       0.049\n",
       "Violent_crime                         -0.0281      0.010     -2.836      0.005      -0.048      -0.009\n",
       "Air_pollution_-_particulate_matter    -0.1019      0.010    -10.093      0.000      -0.122      -0.082\n",
       "Severe_housing_problems               -0.0253      0.012     -2.200      0.028      -0.048      -0.003\n",
       "Driving_alone_to_work                 -0.1081      0.011     -9.635      0.000      -0.130      -0.086\n",
       "Motor_vehicle_crash_deaths            -0.0510      0.011     -4.460      0.000      -0.073      -0.029\n",
       "Firearm_fatalities                    -0.0268      0.010     -2.723      0.007      -0.046      -0.007\n",
       "Homeownership                          0.0344      0.012      2.927      0.003       0.011       0.057\n",
       "Population                             0.0343      0.009      3.695      0.000       0.016       0.052\n",
       "%_not_proficient_in_English            0.0706      0.010      7.046      0.000       0.051       0.090\n",
       "%_Females                              0.0233      0.009      2.669      0.008       0.006       0.040\n",
       "%_Rural                                0.0202      0.013      1.598      0.110      -0.005       0.045\n",
       "==============================================================================\n",
       "Omnibus:                     2051.640   Durbin-Watson:                   1.998\n",
       "Prob(Omnibus):                  0.000   Jarque-Bera (JB):           147202.382\n",
       "Skew:                           3.729   Prob(JB):                         0.00\n",
       "Kurtosis:                      40.999   Cond. No.                         3.82\n",
       "==============================================================================\n",
       "\n",
       "Warnings:\n",
       "[1] Standard Errors assume that the covariance matrix of the errors is correctly specified.\n",
       "\"\"\""
      ]
     },
     "execution_count": 32,
     "metadata": {},
     "output_type": "execute_result"
    }
   ],
   "source": [
    "filter_OLS.summary()"
   ]
  },
  {
   "cell_type": "code",
   "execution_count": 33,
   "metadata": {},
   "outputs": [
    {
     "name": "stdout",
     "output_type": "stream",
     "text": [
      "Filter Train R-Squared: 0.85\n",
      "Filter Test R-Squared: 0.77\n",
      "\n",
      "\n",
      "Check for Homoscedasticity Assumption\n"
     ]
    },
    {
     "data": {
      "image/png": "[encoded data removed]",
      "text/plain": [
       "<Figure size 432x288 with 1 Axes>"
      ]
     },
     "metadata": {
      "needs_background": "light"
     },
     "output_type": "display_data"
    },
    {
     "name": "stdout",
     "output_type": "stream",
     "text": [
      "Check for Residuals Normality\n"
     ]
    },
    {
     "data": {
      "image/png": "[encoded data removed]",
      "text/plain": [
       "<Figure size 432x288 with 1 Axes>"
      ]
     },
     "metadata": {
      "needs_background": "light"
     },
     "output_type": "display_data"
    }
   ],
   "source": [
    "filter_errors = y_test_scaled - filter_predictions\n",
    "\n",
    "print ('Filter Train R-Squared:', round(filter_train_r2, 2))\n",
    "print ('Filter Test R-Squared:', round(filter_test_r2, 2))\n",
    "\n",
    "print ('\\n')\n",
    "\n",
    "print ('Check for Homoscedasticity Assumption')\n",
    "plt.figure(figsize = (6,4))\n",
    "plt.scatter(x = y_test_scaled, y = filter_errors)\n",
    "plt.show()\n",
    "\n",
    "print ('Check for Residuals Normality')\n",
    "fig = sm.graphics.qqplot(filter_OLS.resid, dist=stats.norm, line='45', fit=True)"
   ]
  },
  {
   "cell_type": "code",
   "execution_count": 34,
   "metadata": {},
   "outputs": [
    {
     "data": {
      "image/png": "[encoded data removed]",
      "text/plain": [
       "<Figure size 1080x720 with 1 Axes>"
      ]
     },
     "metadata": {
      "needs_background": "light"
     },
     "output_type": "display_data"
    }
   ],
   "source": [
    "coef_filter = filter_OLS.params.sort_values()\n",
    "coef_filter[:-1].plot(kind = 'bar', figsize = (15,10))\n",
    "plt.show()"
   ]
  },
  {
   "cell_type": "code",
   "execution_count": 35,
   "metadata": {},
   "outputs": [],
   "source": [
    "all_model_summary_df.loc[all_model_summary_df.model == 'Filter', 'n_features'] = len(filter_OLS.pvalues)\n",
    "all_model_summary_df.loc[all_model_summary_df.model == 'Filter', 'AIC'] = filter_OLS.aic\n",
    "all_model_summary_df.loc[all_model_summary_df.model == 'Filter', 'R2_train'] = filter_train_r2\n",
    "all_model_summary_df.loc[all_model_summary_df.model == 'Filter', 'R2_test'] = filter_test_r2\n",
    "all_model_summary_df.loc[all_model_summary_df.model == 'Filter', '>0.05_pvalues'] = sum(filter_OLS.pvalues > 0.05)"
   ]
  },
  {
   "cell_type": "code",
   "execution_count": 36,
   "metadata": {},
   "outputs": [
    {
     "data": {
      "text/html": [
       "<div>\n",
       "<style scoped>\n",
       "    .dataframe tbody tr th:only-of-type {\n",
       "        vertical-align: middle;\n",
       "    }\n",
       "\n",
       "    .dataframe tbody tr th {\n",
       "        vertical-align: top;\n",
       "    }\n",
       "\n",
       "    .dataframe thead th {\n",
       "        text-align: right;\n",
       "    }\n",
       "</style>\n",
       "<table border=\"1\" class=\"dataframe\">\n",
       "  <thead>\n",
       "    <tr style=\"text-align: right;\">\n",
       "      <th></th>\n",
       "      <th>model</th>\n",
       "      <th>R2_train</th>\n",
       "      <th>R2_test</th>\n",
       "      <th>AIC</th>\n",
       "      <th>n_features</th>\n",
       "      <th>&gt;0.05_pvalues</th>\n",
       "    </tr>\n",
       "  </thead>\n",
       "  <tbody>\n",
       "    <tr>\n",
       "      <th>0</th>\n",
       "      <td>Baseline</td>\n",
       "      <td>0.910781</td>\n",
       "      <td>0.839762</td>\n",
       "      <td>1118.37</td>\n",
       "      <td>64</td>\n",
       "      <td>41</td>\n",
       "    </tr>\n",
       "    <tr>\n",
       "      <th>1</th>\n",
       "      <td>Basic - Top Correlation</td>\n",
       "      <td>0.884775</td>\n",
       "      <td>0.817139</td>\n",
       "      <td>1607.02</td>\n",
       "      <td>6</td>\n",
       "      <td>1</td>\n",
       "    </tr>\n",
       "    <tr>\n",
       "      <th>2</th>\n",
       "      <td>Filter</td>\n",
       "      <td>0.84966</td>\n",
       "      <td>0.767399</td>\n",
       "      <td>2261.76</td>\n",
       "      <td>20</td>\n",
       "      <td>2</td>\n",
       "    </tr>\n",
       "    <tr>\n",
       "      <th>3</th>\n",
       "      <td>Wrappper - RFE</td>\n",
       "      <td>NaN</td>\n",
       "      <td>NaN</td>\n",
       "      <td>NaN</td>\n",
       "      <td>NaN</td>\n",
       "      <td>NaN</td>\n",
       "    </tr>\n",
       "    <tr>\n",
       "      <th>4</th>\n",
       "      <td>Wrappper - Stepwise</td>\n",
       "      <td>NaN</td>\n",
       "      <td>NaN</td>\n",
       "      <td>NaN</td>\n",
       "      <td>NaN</td>\n",
       "      <td>NaN</td>\n",
       "    </tr>\n",
       "    <tr>\n",
       "      <th>5</th>\n",
       "      <td>Embedded - Lasso</td>\n",
       "      <td>NaN</td>\n",
       "      <td>NaN</td>\n",
       "      <td>NaN</td>\n",
       "      <td>NaN</td>\n",
       "      <td>NaN</td>\n",
       "    </tr>\n",
       "  </tbody>\n",
       "</table>\n",
       "</div>"
      ],
      "text/plain": [
       "                     model  R2_train   R2_test      AIC n_features  \\\n",
       "0                 Baseline  0.910781  0.839762  1118.37         64   \n",
       "1  Basic - Top Correlation  0.884775  0.817139  1607.02          6   \n",
       "2                   Filter   0.84966  0.767399  2261.76         20   \n",
       "3           Wrappper - RFE       NaN       NaN      NaN        NaN   \n",
       "4      Wrappper - Stepwise       NaN       NaN      NaN        NaN   \n",
       "5         Embedded - Lasso       NaN       NaN      NaN        NaN   \n",
       "\n",
       "  >0.05_pvalues  \n",
       "0            41  \n",
       "1             1  \n",
       "2             2  \n",
       "3           NaN  \n",
       "4           NaN  \n",
       "5           NaN  "
      ]
     },
     "execution_count": 36,
     "metadata": {},
     "output_type": "execute_result"
    }
   ],
   "source": [
    "all_model_summary_df"
   ]
  },
  {
   "cell_type": "markdown",
   "metadata": {},
   "source": [
    "### 4. Wrapper - Recursive Feature Elimination"
   ]
  },
  {
   "cell_type": "code",
   "execution_count": 37,
   "metadata": {},
   "outputs": [
    {
     "data": {
      "text/plain": [
       "RFECV(cv=10,\n",
       "      estimator=LinearRegression(copy_X=True, fit_intercept=True, n_jobs=None,\n",
       "                                 normalize=False),\n",
       "      min_features_to_select=1, n_jobs=None, scoring='r2', step=1, verbose=0)"
      ]
     },
     "execution_count": 37,
     "metadata": {},
     "output_type": "execute_result"
    }
   ],
   "source": [
    "linreg = LinearRegression()\n",
    "rfecv = RFECV(linreg, step = 1, scoring='r2', cv=10)\n",
    "rfecv.fit(X_train_scaled, y_train_scaled)"
   ]
  },
  {
   "cell_type": "code",
   "execution_count": 38,
   "metadata": {},
   "outputs": [
    {
     "data": {
      "image/png": "[encoded data removed]",
      "text/plain": [
       "<Figure size 432x288 with 1 Axes>"
      ]
     },
     "metadata": {
      "needs_background": "light"
     },
     "output_type": "display_data"
    }
   ],
   "source": [
    "plt.plot(range(1, len(rfecv.grid_scores_) + 1), rfecv.grid_scores_)\n",
    "plt.xlabel('Number of Features')\n",
    "plt.ylabel('R2 CV score')\n",
    "plt.show()"
   ]
  },
  {
   "cell_type": "code",
   "execution_count": 39,
   "metadata": {},
   "outputs": [],
   "source": [
    "to_include = X_train_scaled.columns[rfecv.get_support()]"
   ]
  },
  {
   "cell_type": "code",
   "execution_count": 40,
   "metadata": {},
   "outputs": [],
   "source": [
    "RFE_OLS = OLS(y_train_scaled, add_constant(X_train_scaled[to_include])).fit()\n",
    "\n",
    "RFE_predictions = RFE_OLS.predict(add_constant(X_test_scaled[to_include]))\n",
    "RFE_train_r2 = RFE_OLS.rsquared\n",
    "\n",
    "RFE_test_r2 = r2_score(y_test_scaled, RFE_predictions)"
   ]
  },
  {
   "cell_type": "code",
   "execution_count": 41,
   "metadata": {},
   "outputs": [
    {
     "name": "stdout",
     "output_type": "stream",
     "text": [
      "RFE Train R-Squared: 0.91\n",
      "RFE Test R-Squared: 0.84\n",
      "\n",
      "\n",
      "Check for Homoscedasticity Assumption\n"
     ]
    },
    {
     "data": {
      "image/png": "[encoded data removed]",
      "text/plain": [
       "<Figure size 432x288 with 1 Axes>"
      ]
     },
     "metadata": {
      "needs_background": "light"
     },
     "output_type": "display_data"
    },
    {
     "name": "stdout",
     "output_type": "stream",
     "text": [
      "Check for Residuals Normality\n"
     ]
    },
    {
     "data": {
      "image/png": "[encoded data removed]",
      "text/plain": [
       "<Figure size 432x288 with 1 Axes>"
      ]
     },
     "metadata": {
      "needs_background": "light"
     },
     "output_type": "display_data"
    }
   ],
   "source": [
    "RFE_errors = y_test_scaled - RFE_predictions\n",
    "\n",
    "print ('RFE Train R-Squared:', round(RFE_train_r2, 2))\n",
    "print ('RFE Test R-Squared:', round(RFE_test_r2, 2))\n",
    "\n",
    "print ('\\n')\n",
    "\n",
    "print ('Check for Homoscedasticity Assumption')\n",
    "plt.figure(figsize = (6,4))\n",
    "plt.scatter(x = y_test_scaled, y = RFE_errors)\n",
    "plt.show()\n",
    "\n",
    "print ('Check for Residuals Normality')\n",
    "fig = sm.graphics.qqplot(RFE_OLS.resid, dist=stats.norm, line='45', fit=True)"
   ]
  },
  {
   "cell_type": "code",
   "execution_count": 42,
   "metadata": {},
   "outputs": [],
   "source": [
    "all_model_summary_df.loc[all_model_summary_df.model == 'Wrappper - RFE', 'n_features'] = len(RFE_OLS.pvalues)\n",
    "all_model_summary_df.loc[all_model_summary_df.model == 'Wrappper - RFE', 'AIC'] = RFE_OLS.aic\n",
    "all_model_summary_df.loc[all_model_summary_df.model == 'Wrappper - RFE', 'R2_train'] = RFE_train_r2\n",
    "all_model_summary_df.loc[all_model_summary_df.model == 'Wrappper - RFE', 'R2_test'] = RFE_test_r2\n",
    "all_model_summary_df.loc[all_model_summary_df.model == 'Wrappper - RFE', '>0.05_pvalues'] = sum(RFE_OLS.pvalues > 0.05)"
   ]
  },
  {
   "cell_type": "code",
   "execution_count": 43,
   "metadata": {},
   "outputs": [
    {
     "data": {
      "text/html": [
       "<div>\n",
       "<style scoped>\n",
       "    .dataframe tbody tr th:only-of-type {\n",
       "        vertical-align: middle;\n",
       "    }\n",
       "\n",
       "    .dataframe tbody tr th {\n",
       "        vertical-align: top;\n",
       "    }\n",
       "\n",
       "    .dataframe thead th {\n",
       "        text-align: right;\n",
       "    }\n",
       "</style>\n",
       "<table border=\"1\" class=\"dataframe\">\n",
       "  <thead>\n",
       "    <tr style=\"text-align: right;\">\n",
       "      <th></th>\n",
       "      <th>model</th>\n",
       "      <th>R2_train</th>\n",
       "      <th>R2_test</th>\n",
       "      <th>AIC</th>\n",
       "      <th>n_features</th>\n",
       "      <th>&gt;0.05_pvalues</th>\n",
       "    </tr>\n",
       "  </thead>\n",
       "  <tbody>\n",
       "    <tr>\n",
       "      <th>0</th>\n",
       "      <td>Baseline</td>\n",
       "      <td>0.910781</td>\n",
       "      <td>0.839762</td>\n",
       "      <td>1118.37</td>\n",
       "      <td>64</td>\n",
       "      <td>41</td>\n",
       "    </tr>\n",
       "    <tr>\n",
       "      <th>1</th>\n",
       "      <td>Basic - Top Correlation</td>\n",
       "      <td>0.884775</td>\n",
       "      <td>0.817139</td>\n",
       "      <td>1607.02</td>\n",
       "      <td>6</td>\n",
       "      <td>1</td>\n",
       "    </tr>\n",
       "    <tr>\n",
       "      <th>2</th>\n",
       "      <td>Filter</td>\n",
       "      <td>0.84966</td>\n",
       "      <td>0.767399</td>\n",
       "      <td>2261.76</td>\n",
       "      <td>20</td>\n",
       "      <td>2</td>\n",
       "    </tr>\n",
       "    <tr>\n",
       "      <th>3</th>\n",
       "      <td>Wrappper - RFE</td>\n",
       "      <td>0.910223</td>\n",
       "      <td>0.839864</td>\n",
       "      <td>1085.07</td>\n",
       "      <td>39</td>\n",
       "      <td>14</td>\n",
       "    </tr>\n",
       "    <tr>\n",
       "      <th>4</th>\n",
       "      <td>Wrappper - Stepwise</td>\n",
       "      <td>NaN</td>\n",
       "      <td>NaN</td>\n",
       "      <td>NaN</td>\n",
       "      <td>NaN</td>\n",
       "      <td>NaN</td>\n",
       "    </tr>\n",
       "    <tr>\n",
       "      <th>5</th>\n",
       "      <td>Embedded - Lasso</td>\n",
       "      <td>NaN</td>\n",
       "      <td>NaN</td>\n",
       "      <td>NaN</td>\n",
       "      <td>NaN</td>\n",
       "      <td>NaN</td>\n",
       "    </tr>\n",
       "  </tbody>\n",
       "</table>\n",
       "</div>"
      ],
      "text/plain": [
       "                     model  R2_train   R2_test      AIC n_features  \\\n",
       "0                 Baseline  0.910781  0.839762  1118.37         64   \n",
       "1  Basic - Top Correlation  0.884775  0.817139  1607.02          6   \n",
       "2                   Filter   0.84966  0.767399  2261.76         20   \n",
       "3           Wrappper - RFE  0.910223  0.839864  1085.07         39   \n",
       "4      Wrappper - Stepwise       NaN       NaN      NaN        NaN   \n",
       "5         Embedded - Lasso       NaN       NaN      NaN        NaN   \n",
       "\n",
       "  >0.05_pvalues  \n",
       "0            41  \n",
       "1             1  \n",
       "2             2  \n",
       "3            14  \n",
       "4           NaN  \n",
       "5           NaN  "
      ]
     },
     "execution_count": 43,
     "metadata": {},
     "output_type": "execute_result"
    }
   ],
   "source": [
    "all_model_summary_df"
   ]
  },
  {
   "cell_type": "markdown",
   "metadata": {},
   "source": [
    "### 5. Stepwise Selection - Combination of Forward and Backward feature selection"
   ]
  },
  {
   "cell_type": "code",
   "execution_count": 44,
   "metadata": {},
   "outputs": [
    {
     "name": "stdout",
     "output_type": "stream",
     "text": [
      "Add  Adult_smoking                  with p-value 0.0\n",
      "Add  Premature_death                with p-value 0.0\n",
      "Add  Premature_age-adjusted_mortality with p-value 1.25711e-232\n",
      "Drop Premature_death                with p-value 0.264268\n",
      "Add  Driving_alone_to_work          with p-value 1.29505e-41\n",
      "Add  Poor_or_fair_health            with p-value 1.36605e-14\n",
      "Add  Air_pollution_-_particulate_matter with p-value 1.1696e-11\n",
      "Add  Child_mortality                with p-value 3.03405e-11\n",
      "Add  Poor_mental_health_days        with p-value 1.82889e-07\n",
      "Add  Percentage_of_households_with_overcrowding with p-value 3.85548e-07\n",
      "Add  Median_household_income        with p-value 2.48332e-06\n",
      "Add  Limited_access_to_healthy_foods with p-value 2.21094e-06\n",
      "Add  Income_inequality              with p-value 8.33865e-05\n",
      "Add  %_not_proficient_in_English    with p-value 3.60029e-05\n",
      "Add  %_Rural                        with p-value 2.69338e-05\n",
      "Add  Motor_vehicle_crash_deaths     with p-value 0.00115029\n"
     ]
    }
   ],
   "source": [
    "stepwise_columns = stepwise_selection(X_train_scaled, y_train_scaled, threshold_in = 0.01, verbose=True)"
   ]
  },
  {
   "cell_type": "code",
   "execution_count": 45,
   "metadata": {},
   "outputs": [],
   "source": [
    "stepwise_OLS = OLS(y_train_scaled, add_constant(X_train_scaled[stepwise_columns])).fit()\n",
    "\n",
    "stepwise_predictions = stepwise_OLS.predict(add_constant(X_test_scaled[stepwise_columns]))\n",
    "stepwise_train_r2 = stepwise_OLS.rsquared\n",
    "\n",
    "stepwise_test_r2 = r2_score(y_test_scaled, stepwise_predictions)"
   ]
  },
  {
   "cell_type": "code",
   "execution_count": 46,
   "metadata": {},
   "outputs": [
    {
     "data": {
      "text/html": [
       "<table class=\"simpletable\">\n",
       "<caption>OLS Regression Results</caption>\n",
       "<tr>\n",
       "  <th>Dep. Variable:</th>            <td>y</td>        <th>  R-squared:         </th> <td>   0.901</td>\n",
       "</tr>\n",
       "<tr>\n",
       "  <th>Model:</th>                   <td>OLS</td>       <th>  Adj. R-squared:    </th> <td>   0.900</td>\n",
       "</tr>\n",
       "<tr>\n",
       "  <th>Method:</th>             <td>Least Squares</td>  <th>  F-statistic:       </th> <td>   1518.</td>\n",
       "</tr>\n",
       "<tr>\n",
       "  <th>Date:</th>             <td>Mon, 13 Jan 2020</td> <th>  Prob (F-statistic):</th>  <td>  0.00</td> \n",
       "</tr>\n",
       "<tr>\n",
       "  <th>Time:</th>                 <td>19:10:38</td>     <th>  Log-Likelihood:    </th> <td> -621.36</td>\n",
       "</tr>\n",
       "<tr>\n",
       "  <th>No. Observations:</th>      <td>  2356</td>      <th>  AIC:               </th> <td>   1273.</td>\n",
       "</tr>\n",
       "<tr>\n",
       "  <th>Df Residuals:</th>          <td>  2341</td>      <th>  BIC:               </th> <td>   1359.</td>\n",
       "</tr>\n",
       "<tr>\n",
       "  <th>Df Model:</th>              <td>    14</td>      <th>                     </th>     <td> </td>   \n",
       "</tr>\n",
       "<tr>\n",
       "  <th>Covariance Type:</th>      <td>nonrobust</td>    <th>                     </th>     <td> </td>   \n",
       "</tr>\n",
       "</table>\n",
       "<table class=\"simpletable\">\n",
       "<tr>\n",
       "                       <td></td>                         <th>coef</th>     <th>std err</th>      <th>t</th>      <th>P>|t|</th>  <th>[0.025</th>    <th>0.975]</th>  \n",
       "</tr>\n",
       "<tr>\n",
       "  <th>const</th>                                      <td> 1.082e-15</td> <td>    0.007</td> <td> 1.66e-13</td> <td> 1.000</td> <td>   -0.013</td> <td>    0.013</td>\n",
       "</tr>\n",
       "<tr>\n",
       "  <th>Adult_smoking</th>                              <td>   -0.0318</td> <td>    0.013</td> <td>   -2.475</td> <td> 0.013</td> <td>   -0.057</td> <td>   -0.007</td>\n",
       "</tr>\n",
       "<tr>\n",
       "  <th>Premature_age-adjusted_mortality</th>           <td>   -0.8594</td> <td>    0.012</td> <td>  -71.297</td> <td> 0.000</td> <td>   -0.883</td> <td>   -0.836</td>\n",
       "</tr>\n",
       "<tr>\n",
       "  <th>Driving_alone_to_work</th>                      <td>   -0.0775</td> <td>    0.008</td> <td>   -9.266</td> <td> 0.000</td> <td>   -0.094</td> <td>   -0.061</td>\n",
       "</tr>\n",
       "<tr>\n",
       "  <th>Poor_or_fair_health</th>                        <td>    0.1019</td> <td>    0.017</td> <td>    6.015</td> <td> 0.000</td> <td>    0.069</td> <td>    0.135</td>\n",
       "</tr>\n",
       "<tr>\n",
       "  <th>Air_pollution_-_particulate_matter</th>         <td>   -0.0495</td> <td>    0.008</td> <td>   -5.937</td> <td> 0.000</td> <td>   -0.066</td> <td>   -0.033</td>\n",
       "</tr>\n",
       "<tr>\n",
       "  <th>Child_mortality</th>                            <td>   -0.0386</td> <td>    0.008</td> <td>   -4.825</td> <td> 0.000</td> <td>   -0.054</td> <td>   -0.023</td>\n",
       "</tr>\n",
       "<tr>\n",
       "  <th>Poor_mental_health_days</th>                    <td>   -0.0497</td> <td>    0.012</td> <td>   -4.290</td> <td> 0.000</td> <td>   -0.072</td> <td>   -0.027</td>\n",
       "</tr>\n",
       "<tr>\n",
       "  <th>Percentage_of_households_with_overcrowding</th> <td>   -0.0649</td> <td>    0.009</td> <td>   -7.158</td> <td> 0.000</td> <td>   -0.083</td> <td>   -0.047</td>\n",
       "</tr>\n",
       "<tr>\n",
       "  <th>Median_household_income</th>                    <td>    0.0664</td> <td>    0.011</td> <td>    5.963</td> <td> 0.000</td> <td>    0.045</td> <td>    0.088</td>\n",
       "</tr>\n",
       "<tr>\n",
       "  <th>Limited_access_to_healthy_foods</th>            <td>    0.0379</td> <td>    0.008</td> <td>    5.037</td> <td> 0.000</td> <td>    0.023</td> <td>    0.053</td>\n",
       "</tr>\n",
       "<tr>\n",
       "  <th>Income_inequality</th>                          <td>    0.0399</td> <td>    0.008</td> <td>    4.919</td> <td> 0.000</td> <td>    0.024</td> <td>    0.056</td>\n",
       "</tr>\n",
       "<tr>\n",
       "  <th>%_not_proficient_in_English</th>                <td>    0.0502</td> <td>    0.010</td> <td>    4.905</td> <td> 0.000</td> <td>    0.030</td> <td>    0.070</td>\n",
       "</tr>\n",
       "<tr>\n",
       "  <th>%_Rural</th>                                    <td>    0.0450</td> <td>    0.009</td> <td>    5.176</td> <td> 0.000</td> <td>    0.028</td> <td>    0.062</td>\n",
       "</tr>\n",
       "<tr>\n",
       "  <th>Motor_vehicle_crash_deaths</th>                 <td>   -0.0299</td> <td>    0.009</td> <td>   -3.255</td> <td> 0.001</td> <td>   -0.048</td> <td>   -0.012</td>\n",
       "</tr>\n",
       "</table>\n",
       "<table class=\"simpletable\">\n",
       "<tr>\n",
       "  <th>Omnibus:</th>       <td>1965.282</td> <th>  Durbin-Watson:     </th> <td>   2.012</td> \n",
       "</tr>\n",
       "<tr>\n",
       "  <th>Prob(Omnibus):</th>  <td> 0.000</td>  <th>  Jarque-Bera (JB):  </th> <td>90522.473</td>\n",
       "</tr>\n",
       "<tr>\n",
       "  <th>Skew:</th>           <td> 3.641</td>  <th>  Prob(JB):          </th> <td>    0.00</td> \n",
       "</tr>\n",
       "<tr>\n",
       "  <th>Kurtosis:</th>       <td>32.480</td>  <th>  Cond. No.          </th> <td>    6.81</td> \n",
       "</tr>\n",
       "</table><br/><br/>Warnings:<br/>[1] Standard Errors assume that the covariance matrix of the errors is correctly specified."
      ],
      "text/plain": [
       "<class 'statsmodels.iolib.summary.Summary'>\n",
       "\"\"\"\n",
       "                            OLS Regression Results                            \n",
       "==============================================================================\n",
       "Dep. Variable:                      y   R-squared:                       0.901\n",
       "Model:                            OLS   Adj. R-squared:                  0.900\n",
       "Method:                 Least Squares   F-statistic:                     1518.\n",
       "Date:                Mon, 13 Jan 2020   Prob (F-statistic):               0.00\n",
       "Time:                        19:10:38   Log-Likelihood:                -621.36\n",
       "No. Observations:                2356   AIC:                             1273.\n",
       "Df Residuals:                    2341   BIC:                             1359.\n",
       "Df Model:                          14                                         \n",
       "Covariance Type:            nonrobust                                         \n",
       "==============================================================================================================\n",
       "                                                 coef    std err          t      P>|t|      [0.025      0.975]\n",
       "--------------------------------------------------------------------------------------------------------------\n",
       "const                                       1.082e-15      0.007   1.66e-13      1.000      -0.013       0.013\n",
       "Adult_smoking                                 -0.0318      0.013     -2.475      0.013      -0.057      -0.007\n",
       "Premature_age-adjusted_mortality              -0.8594      0.012    -71.297      0.000      -0.883      -0.836\n",
       "Driving_alone_to_work                         -0.0775      0.008     -9.266      0.000      -0.094      -0.061\n",
       "Poor_or_fair_health                            0.1019      0.017      6.015      0.000       0.069       0.135\n",
       "Air_pollution_-_particulate_matter            -0.0495      0.008     -5.937      0.000      -0.066      -0.033\n",
       "Child_mortality                               -0.0386      0.008     -4.825      0.000      -0.054      -0.023\n",
       "Poor_mental_health_days                       -0.0497      0.012     -4.290      0.000      -0.072      -0.027\n",
       "Percentage_of_households_with_overcrowding    -0.0649      0.009     -7.158      0.000      -0.083      -0.047\n",
       "Median_household_income                        0.0664      0.011      5.963      0.000       0.045       0.088\n",
       "Limited_access_to_healthy_foods                0.0379      0.008      5.037      0.000       0.023       0.053\n",
       "Income_inequality                              0.0399      0.008      4.919      0.000       0.024       0.056\n",
       "%_not_proficient_in_English                    0.0502      0.010      4.905      0.000       0.030       0.070\n",
       "%_Rural                                        0.0450      0.009      5.176      0.000       0.028       0.062\n",
       "Motor_vehicle_crash_deaths                    -0.0299      0.009     -3.255      0.001      -0.048      -0.012\n",
       "==============================================================================\n",
       "Omnibus:                     1965.282   Durbin-Watson:                   2.012\n",
       "Prob(Omnibus):                  0.000   Jarque-Bera (JB):            90522.473\n",
       "Skew:                           3.641   Prob(JB):                         0.00\n",
       "Kurtosis:                      32.480   Cond. No.                         6.81\n",
       "==============================================================================\n",
       "\n",
       "Warnings:\n",
       "[1] Standard Errors assume that the covariance matrix of the errors is correctly specified.\n",
       "\"\"\""
      ]
     },
     "execution_count": 46,
     "metadata": {},
     "output_type": "execute_result"
    }
   ],
   "source": [
    "stepwise_OLS.summary()"
   ]
  },
  {
   "cell_type": "code",
   "execution_count": 47,
   "metadata": {},
   "outputs": [
    {
     "name": "stdout",
     "output_type": "stream",
     "text": [
      "Basic Train R-Squared: 0.9\n",
      "Basic Test R-Squared: 0.84\n",
      "\n",
      "\n",
      "Check for Homoscedasticity Assumption\n"
     ]
    },
    {
     "data": {
      "image/png": "[encoded data removed]",
      "text/plain": [
       "<Figure size 432x288 with 1 Axes>"
      ]
     },
     "metadata": {
      "needs_background": "light"
     },
     "output_type": "display_data"
    },
    {
     "name": "stdout",
     "output_type": "stream",
     "text": [
      "Check for Residuals Normality\n"
     ]
    },
    {
     "data": {
      "image/png": "[encoded data removed]",
      "text/plain": [
       "<Figure size 432x288 with 1 Axes>"
      ]
     },
     "metadata": {
      "needs_background": "light"
     },
     "output_type": "display_data"
    }
   ],
   "source": [
    "stepwise_errors = y_test_scaled - stepwise_predictions\n",
    "\n",
    "print ('Basic Train R-Squared:', round(stepwise_train_r2, 2))\n",
    "print ('Basic Test R-Squared:', round(stepwise_test_r2, 2))\n",
    "\n",
    "print ('\\n')\n",
    "\n",
    "print ('Check for Homoscedasticity Assumption')\n",
    "plt.figure(figsize = (6,4))\n",
    "plt.scatter(x = y_test_scaled, y = stepwise_errors)\n",
    "plt.show()\n",
    "\n",
    "print ('Check for Residuals Normality')\n",
    "fig = sm.graphics.qqplot(stepwise_OLS.resid, dist=stats.norm, line='45', fit=True)"
   ]
  },
  {
   "cell_type": "code",
   "execution_count": 48,
   "metadata": {},
   "outputs": [
    {
     "data": {
      "image/png": "[encoded data removed]",
      "text/plain": [
       "<Figure size 1296x720 with 1 Axes>"
      ]
     },
     "metadata": {
      "needs_background": "light"
     },
     "output_type": "display_data"
    }
   ],
   "source": [
    "stepwise_OLS.params.sort_values().plot(kind = 'bar', figsize = (18,10))\n",
    "plt.show()"
   ]
  },
  {
   "cell_type": "code",
   "execution_count": 49,
   "metadata": {},
   "outputs": [],
   "source": [
    "all_model_summary_df.loc[all_model_summary_df.model == 'Wrappper - Stepwise', 'n_features'] = len(stepwise_OLS.pvalues)\n",
    "all_model_summary_df.loc[all_model_summary_df.model == 'Wrappper - Stepwise', 'AIC'] = stepwise_OLS.aic\n",
    "all_model_summary_df.loc[all_model_summary_df.model == 'Wrappper - Stepwise', 'R2_train'] = stepwise_train_r2\n",
    "all_model_summary_df.loc[all_model_summary_df.model == 'Wrappper - Stepwise', 'R2_test'] = stepwise_test_r2\n",
    "all_model_summary_df.loc[all_model_summary_df.model == 'Wrappper - Stepwise', '>0.05_pvalues'] = sum(stepwise_OLS.pvalues > 0.05)"
   ]
  },
  {
   "cell_type": "code",
   "execution_count": 50,
   "metadata": {},
   "outputs": [
    {
     "data": {
      "text/html": [
       "<div>\n",
       "<style scoped>\n",
       "    .dataframe tbody tr th:only-of-type {\n",
       "        vertical-align: middle;\n",
       "    }\n",
       "\n",
       "    .dataframe tbody tr th {\n",
       "        vertical-align: top;\n",
       "    }\n",
       "\n",
       "    .dataframe thead th {\n",
       "        text-align: right;\n",
       "    }\n",
       "</style>\n",
       "<table border=\"1\" class=\"dataframe\">\n",
       "  <thead>\n",
       "    <tr style=\"text-align: right;\">\n",
       "      <th></th>\n",
       "      <th>model</th>\n",
       "      <th>R2_train</th>\n",
       "      <th>R2_test</th>\n",
       "      <th>AIC</th>\n",
       "      <th>n_features</th>\n",
       "      <th>&gt;0.05_pvalues</th>\n",
       "    </tr>\n",
       "  </thead>\n",
       "  <tbody>\n",
       "    <tr>\n",
       "      <th>0</th>\n",
       "      <td>Baseline</td>\n",
       "      <td>0.910781</td>\n",
       "      <td>0.839762</td>\n",
       "      <td>1118.37</td>\n",
       "      <td>64</td>\n",
       "      <td>41</td>\n",
       "    </tr>\n",
       "    <tr>\n",
       "      <th>1</th>\n",
       "      <td>Basic - Top Correlation</td>\n",
       "      <td>0.884775</td>\n",
       "      <td>0.817139</td>\n",
       "      <td>1607.02</td>\n",
       "      <td>6</td>\n",
       "      <td>1</td>\n",
       "    </tr>\n",
       "    <tr>\n",
       "      <th>2</th>\n",
       "      <td>Filter</td>\n",
       "      <td>0.84966</td>\n",
       "      <td>0.767399</td>\n",
       "      <td>2261.76</td>\n",
       "      <td>20</td>\n",
       "      <td>2</td>\n",
       "    </tr>\n",
       "    <tr>\n",
       "      <th>3</th>\n",
       "      <td>Wrappper - RFE</td>\n",
       "      <td>0.910223</td>\n",
       "      <td>0.839864</td>\n",
       "      <td>1085.07</td>\n",
       "      <td>39</td>\n",
       "      <td>14</td>\n",
       "    </tr>\n",
       "    <tr>\n",
       "      <th>4</th>\n",
       "      <td>Wrappper - Stepwise</td>\n",
       "      <td>0.900779</td>\n",
       "      <td>0.838352</td>\n",
       "      <td>1272.72</td>\n",
       "      <td>15</td>\n",
       "      <td>1</td>\n",
       "    </tr>\n",
       "    <tr>\n",
       "      <th>5</th>\n",
       "      <td>Embedded - Lasso</td>\n",
       "      <td>NaN</td>\n",
       "      <td>NaN</td>\n",
       "      <td>NaN</td>\n",
       "      <td>NaN</td>\n",
       "      <td>NaN</td>\n",
       "    </tr>\n",
       "  </tbody>\n",
       "</table>\n",
       "</div>"
      ],
      "text/plain": [
       "                     model  R2_train   R2_test      AIC n_features  \\\n",
       "0                 Baseline  0.910781  0.839762  1118.37         64   \n",
       "1  Basic - Top Correlation  0.884775  0.817139  1607.02          6   \n",
       "2                   Filter   0.84966  0.767399  2261.76         20   \n",
       "3           Wrappper - RFE  0.910223  0.839864  1085.07         39   \n",
       "4      Wrappper - Stepwise  0.900779  0.838352  1272.72         15   \n",
       "5         Embedded - Lasso       NaN       NaN      NaN        NaN   \n",
       "\n",
       "  >0.05_pvalues  \n",
       "0            41  \n",
       "1             1  \n",
       "2             2  \n",
       "3            14  \n",
       "4             1  \n",
       "5           NaN  "
      ]
     },
     "execution_count": 50,
     "metadata": {},
     "output_type": "execute_result"
    }
   ],
   "source": [
    "all_model_summary_df"
   ]
  },
  {
   "cell_type": "markdown",
   "metadata": {},
   "source": [
    "### 6. Embedded - Lasso L2 Regression"
   ]
  },
  {
   "cell_type": "markdown",
   "metadata": {},
   "source": [
    "First we set the all the hyperparameters we are interested in tuning, primarily the 'penalizing' parameters (alpha). The GridSearch function will be able to obtain the best parameters for us by evaluating them using R2 score."
   ]
  },
  {
   "cell_type": "code",
   "execution_count": 51,
   "metadata": {},
   "outputs": [
    {
     "data": {
      "text/plain": [
       "{'alpha': 0.05, 'fit_intercept': False, 'normalize': True}"
      ]
     },
     "execution_count": 51,
     "metadata": {},
     "output_type": "execute_result"
    }
   ],
   "source": [
    "model = Lasso()\n",
    "lasso_params = {'alpha' : [0.05, 0.1, 0.3, 1, 3, 5, 10, 15, 30, 50, 75],\n",
    "                'fit_intercept': [True, False],\n",
    "                'normalize' : [True, False]}\n",
    "\n",
    "grid_obj = GridSearchCV(estimator = model, \n",
    "                        param_grid = lasso_params, \n",
    "                        scoring = 'r2',\n",
    "                        cv = 5,\n",
    "                        n_jobs = -1)\n",
    "\n",
    "grid_obj = grid_obj.fit(X_train_scaled, y_train_scaled)\n",
    "grid_obj.best_params_"
   ]
  },
  {
   "cell_type": "markdown",
   "metadata": {},
   "source": [
    "Looks like the best alpha level is 0.05. Let's use the above best selected parameters and train it on our subset of X_train data and subsequently test them on the validation dataset."
   ]
  },
  {
   "cell_type": "code",
   "execution_count": 52,
   "metadata": {},
   "outputs": [
    {
     "name": "stdout",
     "output_type": "stream",
     "text": [
      "Train R2 score of: 0.89\n",
      "Test R2 score of: 0.82\n"
     ]
    }
   ],
   "source": [
    "final_lasso = grid_obj.best_estimator_.fit(X_train_scaled, y_train_scaled)\n",
    "\n",
    "train_predictions = final_lasso.predict(X_train_scaled)\n",
    "test_predictions = final_lasso.predict(X_test_scaled)\n",
    "\n",
    "print ('Train R2 score of:', round(r2_score(y_train_scaled, train_predictions),2))\n",
    "print ('Test R2 score of:', round(r2_score(y_test_scaled, test_predictions),2))"
   ]
  },
  {
   "cell_type": "markdown",
   "metadata": {},
   "source": [
    "Not bad at all. Now let's explore the coefficients that the Lasso model chose and plot them."
   ]
  },
  {
   "cell_type": "code",
   "execution_count": 53,
   "metadata": {},
   "outputs": [
    {
     "name": "stdout",
     "output_type": "stream",
     "text": [
      "Lasso picked 8 variables and eliminated the other 55 variables\n"
     ]
    },
    {
     "data": {
      "image/png": "[encoded data removed]",
      "text/plain": [
       "<Figure size 1080x360 with 1 Axes>"
      ]
     },
     "metadata": {
      "needs_background": "light"
     },
     "output_type": "display_data"
    }
   ],
   "source": [
    "coef = pd.Series(final_lasso.coef_, index = X_train_scaled.columns)\n",
    "final_coef = coef[coef != 0]\n",
    "final_coef.sort_values(ascending = False, inplace=True)\n",
    "\n",
    "print(\"Lasso picked \" + str(sum(coef != 0)) + \" variables and eliminated the other \" +  str(sum(coef == 0)) + \" variables\")\n",
    "\n",
    "final_coef.plot(kind = \"bar\", figsize=(15,5))\n",
    "plt.title(\"Coefficients in the Lasso Model\")\n",
    "plt.show()"
   ]
  },
  {
   "cell_type": "markdown",
   "metadata": {},
   "source": [
    "How about the residuals?"
   ]
  },
  {
   "cell_type": "code",
   "execution_count": 54,
   "metadata": {},
   "outputs": [
    {
     "data": {
      "image/png": "[encoded data removed]",
      "text/plain": [
       "<Figure size 1080x720 with 1 Axes>"
      ]
     },
     "metadata": {
      "needs_background": "light"
     },
     "output_type": "display_data"
    }
   ],
   "source": [
    "preds = pd.DataFrame({\"preds\":final_lasso.predict(X_test_scaled), \"true\":y_test_scaled})\n",
    "preds[\"residuals\"] = preds[\"true\"] - preds[\"preds\"]\n",
    "\n",
    "preds.plot(x = \"preds\", y = \"residuals\", kind = \"scatter\", figsize=(15,10))\n",
    "plt.title('Lasso Residual Plots')\n",
    "plt.show()"
   ]
  },
  {
   "cell_type": "code",
   "execution_count": 55,
   "metadata": {},
   "outputs": [],
   "source": [
    "Lasso_OLS = OLS(y_train_scaled, add_constant(X_train_scaled[final_coef.index])).fit()\n",
    "\n",
    "Lasso_predictions = Lasso_OLS.predict(add_constant(X_test_scaled[final_coef.index]))\n",
    "Lasso_train_r2 = Lasso_OLS.rsquared\n",
    "\n",
    "Lasso_test_r2 = r2_score(y_test_scaled, Lasso_predictions)"
   ]
  },
  {
   "cell_type": "code",
   "execution_count": 56,
   "metadata": {},
   "outputs": [
    {
     "data": {
      "text/html": [
       "<table class=\"simpletable\">\n",
       "<caption>OLS Regression Results</caption>\n",
       "<tr>\n",
       "  <th>Dep. Variable:</th>            <td>y</td>        <th>  R-squared:         </th> <td>   0.894</td>\n",
       "</tr>\n",
       "<tr>\n",
       "  <th>Model:</th>                   <td>OLS</td>       <th>  Adj. R-squared:    </th> <td>   0.893</td>\n",
       "</tr>\n",
       "<tr>\n",
       "  <th>Method:</th>             <td>Least Squares</td>  <th>  F-statistic:       </th> <td>   2463.</td>\n",
       "</tr>\n",
       "<tr>\n",
       "  <th>Date:</th>             <td>Mon, 13 Jan 2020</td> <th>  Prob (F-statistic):</th>  <td>  0.00</td> \n",
       "</tr>\n",
       "<tr>\n",
       "  <th>Time:</th>                 <td>19:10:42</td>     <th>  Log-Likelihood:    </th> <td> -703.99</td>\n",
       "</tr>\n",
       "<tr>\n",
       "  <th>No. Observations:</th>      <td>  2356</td>      <th>  AIC:               </th> <td>   1426.</td>\n",
       "</tr>\n",
       "<tr>\n",
       "  <th>Df Residuals:</th>          <td>  2347</td>      <th>  BIC:               </th> <td>   1478.</td>\n",
       "</tr>\n",
       "<tr>\n",
       "  <th>Df Model:</th>              <td>     8</td>      <th>                     </th>     <td> </td>   \n",
       "</tr>\n",
       "<tr>\n",
       "  <th>Covariance Type:</th>      <td>nonrobust</td>    <th>                     </th>     <td> </td>   \n",
       "</tr>\n",
       "</table>\n",
       "<table class=\"simpletable\">\n",
       "<tr>\n",
       "                   <td></td>                     <th>coef</th>     <th>std err</th>      <th>t</th>      <th>P>|t|</th>  <th>[0.025</th>    <th>0.975]</th>  \n",
       "</tr>\n",
       "<tr>\n",
       "  <th>const</th>                              <td> 1.082e-15</td> <td>    0.007</td> <td> 1.61e-13</td> <td> 1.000</td> <td>   -0.013</td> <td>    0.013</td>\n",
       "</tr>\n",
       "<tr>\n",
       "  <th>%_not_proficient_in_English</th>        <td>    0.0545</td> <td>    0.007</td> <td>    7.713</td> <td> 0.000</td> <td>    0.041</td> <td>    0.068</td>\n",
       "</tr>\n",
       "<tr>\n",
       "  <th>Adult_obesity</th>                      <td>   -0.0136</td> <td>    0.009</td> <td>   -1.529</td> <td> 0.126</td> <td>   -0.031</td> <td>    0.004</td>\n",
       "</tr>\n",
       "<tr>\n",
       "  <th>Child_mortality</th>                    <td>   -0.0466</td> <td>    0.008</td> <td>   -5.806</td> <td> 0.000</td> <td>   -0.062</td> <td>   -0.031</td>\n",
       "</tr>\n",
       "<tr>\n",
       "  <th>Poor_mental_health_days</th>            <td>   -0.0271</td> <td>    0.011</td> <td>   -2.516</td> <td> 0.012</td> <td>   -0.048</td> <td>   -0.006</td>\n",
       "</tr>\n",
       "<tr>\n",
       "  <th>Adult_smoking</th>                      <td>   -0.0084</td> <td>    0.012</td> <td>   -0.678</td> <td> 0.498</td> <td>   -0.033</td> <td>    0.016</td>\n",
       "</tr>\n",
       "<tr>\n",
       "  <th>Air_pollution_-_particulate_matter</th> <td>   -0.0520</td> <td>    0.008</td> <td>   -6.544</td> <td> 0.000</td> <td>   -0.068</td> <td>   -0.036</td>\n",
       "</tr>\n",
       "<tr>\n",
       "  <th>Driving_alone_to_work</th>              <td>   -0.0690</td> <td>    0.008</td> <td>   -8.771</td> <td> 0.000</td> <td>   -0.084</td> <td>   -0.054</td>\n",
       "</tr>\n",
       "<tr>\n",
       "  <th>Premature_age-adjusted_mortality</th>   <td>   -0.8478</td> <td>    0.011</td> <td>  -79.566</td> <td> 0.000</td> <td>   -0.869</td> <td>   -0.827</td>\n",
       "</tr>\n",
       "</table>\n",
       "<table class=\"simpletable\">\n",
       "<tr>\n",
       "  <th>Omnibus:</th>       <td>2075.227</td> <th>  Durbin-Watson:     </th>  <td>   2.008</td> \n",
       "</tr>\n",
       "<tr>\n",
       "  <th>Prob(Omnibus):</th>  <td> 0.000</td>  <th>  Jarque-Bera (JB):  </th> <td>114549.911</td>\n",
       "</tr>\n",
       "<tr>\n",
       "  <th>Skew:</th>           <td> 3.907</td>  <th>  Prob(JB):          </th>  <td>    0.00</td> \n",
       "</tr>\n",
       "<tr>\n",
       "  <th>Kurtosis:</th>       <td>36.254</td>  <th>  Cond. No.          </th>  <td>    4.08</td> \n",
       "</tr>\n",
       "</table><br/><br/>Warnings:<br/>[1] Standard Errors assume that the covariance matrix of the errors is correctly specified."
      ],
      "text/plain": [
       "<class 'statsmodels.iolib.summary.Summary'>\n",
       "\"\"\"\n",
       "                            OLS Regression Results                            \n",
       "==============================================================================\n",
       "Dep. Variable:                      y   R-squared:                       0.894\n",
       "Model:                            OLS   Adj. R-squared:                  0.893\n",
       "Method:                 Least Squares   F-statistic:                     2463.\n",
       "Date:                Mon, 13 Jan 2020   Prob (F-statistic):               0.00\n",
       "Time:                        19:10:42   Log-Likelihood:                -703.99\n",
       "No. Observations:                2356   AIC:                             1426.\n",
       "Df Residuals:                    2347   BIC:                             1478.\n",
       "Df Model:                           8                                         \n",
       "Covariance Type:            nonrobust                                         \n",
       "======================================================================================================\n",
       "                                         coef    std err          t      P>|t|      [0.025      0.975]\n",
       "------------------------------------------------------------------------------------------------------\n",
       "const                               1.082e-15      0.007   1.61e-13      1.000      -0.013       0.013\n",
       "%_not_proficient_in_English            0.0545      0.007      7.713      0.000       0.041       0.068\n",
       "Adult_obesity                         -0.0136      0.009     -1.529      0.126      -0.031       0.004\n",
       "Child_mortality                       -0.0466      0.008     -5.806      0.000      -0.062      -0.031\n",
       "Poor_mental_health_days               -0.0271      0.011     -2.516      0.012      -0.048      -0.006\n",
       "Adult_smoking                         -0.0084      0.012     -0.678      0.498      -0.033       0.016\n",
       "Air_pollution_-_particulate_matter    -0.0520      0.008     -6.544      0.000      -0.068      -0.036\n",
       "Driving_alone_to_work                 -0.0690      0.008     -8.771      0.000      -0.084      -0.054\n",
       "Premature_age-adjusted_mortality      -0.8478      0.011    -79.566      0.000      -0.869      -0.827\n",
       "==============================================================================\n",
       "Omnibus:                     2075.227   Durbin-Watson:                   2.008\n",
       "Prob(Omnibus):                  0.000   Jarque-Bera (JB):           114549.911\n",
       "Skew:                           3.907   Prob(JB):                         0.00\n",
       "Kurtosis:                      36.254   Cond. No.                         4.08\n",
       "==============================================================================\n",
       "\n",
       "Warnings:\n",
       "[1] Standard Errors assume that the covariance matrix of the errors is correctly specified.\n",
       "\"\"\""
      ]
     },
     "execution_count": 56,
     "metadata": {},
     "output_type": "execute_result"
    }
   ],
   "source": [
    "Lasso_OLS.summary()"
   ]
  },
  {
   "cell_type": "code",
   "execution_count": 57,
   "metadata": {},
   "outputs": [],
   "source": [
    "all_model_summary_df.loc[all_model_summary_df.model == 'Embedded - Lasso', 'n_features'] = len(Lasso_OLS.pvalues)\n",
    "all_model_summary_df.loc[all_model_summary_df.model == 'Embedded - Lasso', 'AIC'] = Lasso_OLS.aic\n",
    "all_model_summary_df.loc[all_model_summary_df.model == 'Embedded - Lasso', 'R2_train'] = Lasso_train_r2\n",
    "all_model_summary_df.loc[all_model_summary_df.model == 'Embedded - Lasso', 'R2_test'] = Lasso_test_r2\n",
    "all_model_summary_df.loc[all_model_summary_df.model == 'Embedded - Lasso', '>0.05_pvalues'] = sum(Lasso_OLS.pvalues > 0.05)"
   ]
  },
  {
   "cell_type": "code",
   "execution_count": 58,
   "metadata": {},
   "outputs": [
    {
     "data": {
      "text/html": [
       "<div>\n",
       "<style scoped>\n",
       "    .dataframe tbody tr th:only-of-type {\n",
       "        vertical-align: middle;\n",
       "    }\n",
       "\n",
       "    .dataframe tbody tr th {\n",
       "        vertical-align: top;\n",
       "    }\n",
       "\n",
       "    .dataframe thead th {\n",
       "        text-align: right;\n",
       "    }\n",
       "</style>\n",
       "<table border=\"1\" class=\"dataframe\">\n",
       "  <thead>\n",
       "    <tr style=\"text-align: right;\">\n",
       "      <th></th>\n",
       "      <th>model</th>\n",
       "      <th>R2_train</th>\n",
       "      <th>R2_test</th>\n",
       "      <th>AIC</th>\n",
       "      <th>n_features</th>\n",
       "      <th>&gt;0.05_pvalues</th>\n",
       "    </tr>\n",
       "  </thead>\n",
       "  <tbody>\n",
       "    <tr>\n",
       "      <th>0</th>\n",
       "      <td>Baseline</td>\n",
       "      <td>0.910781</td>\n",
       "      <td>0.839762</td>\n",
       "      <td>1118.37</td>\n",
       "      <td>64</td>\n",
       "      <td>41</td>\n",
       "    </tr>\n",
       "    <tr>\n",
       "      <th>1</th>\n",
       "      <td>Basic - Top Correlation</td>\n",
       "      <td>0.884775</td>\n",
       "      <td>0.817139</td>\n",
       "      <td>1607.02</td>\n",
       "      <td>6</td>\n",
       "      <td>1</td>\n",
       "    </tr>\n",
       "    <tr>\n",
       "      <th>2</th>\n",
       "      <td>Filter</td>\n",
       "      <td>0.84966</td>\n",
       "      <td>0.767399</td>\n",
       "      <td>2261.76</td>\n",
       "      <td>20</td>\n",
       "      <td>2</td>\n",
       "    </tr>\n",
       "    <tr>\n",
       "      <th>3</th>\n",
       "      <td>Wrappper - RFE</td>\n",
       "      <td>0.910223</td>\n",
       "      <td>0.839864</td>\n",
       "      <td>1085.07</td>\n",
       "      <td>39</td>\n",
       "      <td>14</td>\n",
       "    </tr>\n",
       "    <tr>\n",
       "      <th>4</th>\n",
       "      <td>Wrappper - Stepwise</td>\n",
       "      <td>0.900779</td>\n",
       "      <td>0.838352</td>\n",
       "      <td>1272.72</td>\n",
       "      <td>15</td>\n",
       "      <td>1</td>\n",
       "    </tr>\n",
       "    <tr>\n",
       "      <th>5</th>\n",
       "      <td>Embedded - Lasso</td>\n",
       "      <td>0.89357</td>\n",
       "      <td>0.833313</td>\n",
       "      <td>1425.97</td>\n",
       "      <td>9</td>\n",
       "      <td>3</td>\n",
       "    </tr>\n",
       "  </tbody>\n",
       "</table>\n",
       "</div>"
      ],
      "text/plain": [
       "                     model  R2_train   R2_test      AIC n_features  \\\n",
       "0                 Baseline  0.910781  0.839762  1118.37         64   \n",
       "1  Basic - Top Correlation  0.884775  0.817139  1607.02          6   \n",
       "2                   Filter   0.84966  0.767399  2261.76         20   \n",
       "3           Wrappper - RFE  0.910223  0.839864  1085.07         39   \n",
       "4      Wrappper - Stepwise  0.900779  0.838352  1272.72         15   \n",
       "5         Embedded - Lasso   0.89357  0.833313  1425.97          9   \n",
       "\n",
       "  >0.05_pvalues  \n",
       "0            41  \n",
       "1             1  \n",
       "2             2  \n",
       "3            14  \n",
       "4             1  \n",
       "5             3  "
      ]
     },
     "execution_count": 58,
     "metadata": {},
     "output_type": "execute_result"
    }
   ],
   "source": [
    "all_model_summary_df"
   ]
  },
  {
   "cell_type": "markdown",
   "metadata": {},
   "source": [
    "### Model Chosen - Stepwise Selection"
   ]
  },
  {
   "cell_type": "markdown",
   "metadata": {},
   "source": [
    "Okay, looking purely by R2 scores, model complexity and optimum number of features, we have decided to go for the Stepwise model. However we will still need to check if the model fits the regression assumptions. First let check for multicollinearity using the VIF metric. "
   ]
  },
  {
   "cell_type": "code",
   "execution_count": 59,
   "metadata": {},
   "outputs": [
    {
     "data": {
      "text/html": [
       "<div>\n",
       "<style scoped>\n",
       "    .dataframe tbody tr th:only-of-type {\n",
       "        vertical-align: middle;\n",
       "    }\n",
       "\n",
       "    .dataframe tbody tr th {\n",
       "        vertical-align: top;\n",
       "    }\n",
       "\n",
       "    .dataframe thead th {\n",
       "        text-align: right;\n",
       "    }\n",
       "</style>\n",
       "<table border=\"1\" class=\"dataframe\">\n",
       "  <thead>\n",
       "    <tr style=\"text-align: right;\">\n",
       "      <th></th>\n",
       "      <th>variables</th>\n",
       "      <th>VIF</th>\n",
       "    </tr>\n",
       "  </thead>\n",
       "  <tbody>\n",
       "    <tr>\n",
       "      <th>0</th>\n",
       "      <td>Adult_smoking</td>\n",
       "      <td>3.890193</td>\n",
       "    </tr>\n",
       "    <tr>\n",
       "      <th>1</th>\n",
       "      <td>Premature_age-adjusted_mortality</td>\n",
       "      <td>3.427718</td>\n",
       "    </tr>\n",
       "    <tr>\n",
       "      <th>2</th>\n",
       "      <td>Driving_alone_to_work</td>\n",
       "      <td>1.651229</td>\n",
       "    </tr>\n",
       "    <tr>\n",
       "      <th>3</th>\n",
       "      <td>Poor_or_fair_health</td>\n",
       "      <td>6.776384</td>\n",
       "    </tr>\n",
       "    <tr>\n",
       "      <th>4</th>\n",
       "      <td>Air_pollution_-_particulate_matter</td>\n",
       "      <td>1.641044</td>\n",
       "    </tr>\n",
       "    <tr>\n",
       "      <th>5</th>\n",
       "      <td>Child_mortality</td>\n",
       "      <td>1.514060</td>\n",
       "    </tr>\n",
       "    <tr>\n",
       "      <th>6</th>\n",
       "      <td>Poor_mental_health_days</td>\n",
       "      <td>3.163307</td>\n",
       "    </tr>\n",
       "    <tr>\n",
       "      <th>7</th>\n",
       "      <td>Percentage_of_households_with_overcrowding</td>\n",
       "      <td>1.940717</td>\n",
       "    </tr>\n",
       "    <tr>\n",
       "      <th>8</th>\n",
       "      <td>Median_household_income</td>\n",
       "      <td>2.922483</td>\n",
       "    </tr>\n",
       "    <tr>\n",
       "      <th>9</th>\n",
       "      <td>Limited_access_to_healthy_foods</td>\n",
       "      <td>1.335884</td>\n",
       "    </tr>\n",
       "    <tr>\n",
       "      <th>10</th>\n",
       "      <td>Income_inequality</td>\n",
       "      <td>1.555791</td>\n",
       "    </tr>\n",
       "    <tr>\n",
       "      <th>11</th>\n",
       "      <td>%_not_proficient_in_English</td>\n",
       "      <td>2.471055</td>\n",
       "    </tr>\n",
       "    <tr>\n",
       "      <th>12</th>\n",
       "      <td>%_Rural</td>\n",
       "      <td>1.784907</td>\n",
       "    </tr>\n",
       "    <tr>\n",
       "      <th>13</th>\n",
       "      <td>Motor_vehicle_crash_deaths</td>\n",
       "      <td>1.996573</td>\n",
       "    </tr>\n",
       "    <tr>\n",
       "      <th>14</th>\n",
       "      <td>Intercept</td>\n",
       "      <td>1.000000</td>\n",
       "    </tr>\n",
       "  </tbody>\n",
       "</table>\n",
       "</div>"
      ],
      "text/plain": [
       "                                     variables       VIF\n",
       "0                                Adult_smoking  3.890193\n",
       "1             Premature_age-adjusted_mortality  3.427718\n",
       "2                        Driving_alone_to_work  1.651229\n",
       "3                          Poor_or_fair_health  6.776384\n",
       "4           Air_pollution_-_particulate_matter  1.641044\n",
       "5                              Child_mortality  1.514060\n",
       "6                      Poor_mental_health_days  3.163307\n",
       "7   Percentage_of_households_with_overcrowding  1.940717\n",
       "8                      Median_household_income  2.922483\n",
       "9              Limited_access_to_healthy_foods  1.335884\n",
       "10                           Income_inequality  1.555791\n",
       "11                 %_not_proficient_in_English  2.471055\n",
       "12                                     %_Rural  1.784907\n",
       "13                  Motor_vehicle_crash_deaths  1.996573\n",
       "14                                   Intercept  1.000000"
      ]
     },
     "execution_count": 59,
     "metadata": {},
     "output_type": "execute_result"
    }
   ],
   "source": [
    "stepwise_baseline = X_train_scaled[stepwise_columns]\n",
    "stepwise_baseline['Intercept'] = 1\n",
    "\n",
    "stepwise_VIF = pd.DataFrame()\n",
    "stepwise_VIF[\"variables\"] = stepwise_baseline.columns\n",
    "stepwise_VIF[\"VIF\"] = [variance_inflation_factor(stepwise_baseline.values, i) for i in range(stepwise_baseline.shape[1])]\n",
    "\n",
    "stepwise_VIF"
   ]
  },
  {
   "cell_type": "markdown",
   "metadata": {},
   "source": [
    "Cool, since no features are more than 5, multicollinearity is not a big concern here. Next we check for homoscedasticity by plotting the residuals."
   ]
  },
  {
   "cell_type": "code",
   "execution_count": 60,
   "metadata": {},
   "outputs": [
    {
     "data": {
      "image/png": "[encoded data removed]",
      "text/plain": [
       "<Figure size 432x288 with 1 Axes>"
      ]
     },
     "metadata": {
      "needs_background": "light"
     },
     "output_type": "display_data"
    }
   ],
   "source": [
    "stepwise_updated = X_train_scaled[stepwise_columns]\n",
    "stepwise_updated.insert(0, 'const', 1)\n",
    "\n",
    "stepwise_OLS.predict(stepwise_updated)\n",
    "len(stepwise_OLS.resid)\n",
    "\n",
    "plt.scatter(stepwise_OLS.predict(stepwise_updated), stepwise_OLS.resid)\n",
    "plt.plot(stepwise_OLS.predict(stepwise_updated), [0 for i in range(len(X_train_scaled))])\n",
    "plt.show()"
   ]
  },
  {
   "cell_type": "markdown",
   "metadata": {},
   "source": [
    "This looks fine with no concerning trends. No we look at the normality of the errors using the QQ plot and distribution of errors"
   ]
  },
  {
   "cell_type": "code",
   "execution_count": 61,
   "metadata": {},
   "outputs": [
    {
     "data": {
      "image/png": "[encoded data removed]",
      "text/plain": [
       "<Figure size 432x288 with 1 Axes>"
      ]
     },
     "metadata": {
      "needs_background": "light"
     },
     "output_type": "display_data"
    }
   ],
   "source": [
    "residuals = stepwise_OLS.resid\n",
    "# measurements = np.random.normal(loc = 20, scale = 5, size=100)   \n",
    "stats.probplot(residuals, dist=\"norm\", plot=pylab)\n",
    "pylab.show()"
   ]
  },
  {
   "cell_type": "markdown",
   "metadata": {},
   "source": [
    "This looks pretty bad. This is likely caused by outliers? Let's check."
   ]
  },
  {
   "cell_type": "code",
   "execution_count": 62,
   "metadata": {},
   "outputs": [],
   "source": [
    "updated_scaled = X_train_scaled\n",
    "updated_scaled['Life_expectancy'] = y_train_scaled"
   ]
  },
  {
   "cell_type": "code",
   "execution_count": 63,
   "metadata": {},
   "outputs": [
    {
     "name": "stdout",
     "output_type": "stream",
     "text": [
      "0.9 1.18\n",
      "0.91 1.24\n",
      "0.92 1.31\n",
      "0.93 1.39\n",
      "0.94 1.44\n",
      "0.95 1.53\n",
      "0.96 1.59\n",
      "0.97 1.79\n",
      "0.98 1.93\n",
      "0.99 2.33\n",
      "1.0 5.26\n"
     ]
    }
   ],
   "source": [
    "list_range = np.linspace(0.9, 1, 11)\n",
    "for i in list_range:\n",
    "    print (round(i, 5), round(updated_scaled.Life_expectancy.quantile(i),2))"
   ]
  },
  {
   "cell_type": "code",
   "execution_count": 64,
   "metadata": {},
   "outputs": [],
   "source": [
    "to_use_scaled = updated_scaled[updated_scaled.Life_expectancy < 1.5]\n",
    "to_use_x_train_scaled = to_use_scaled.drop(['Life_expectancy'], axis = 1)\n",
    "to_use_y_train_scaled = to_use_scaled.Life_expectancy"
   ]
  },
  {
   "cell_type": "code",
   "execution_count": 65,
   "metadata": {},
   "outputs": [],
   "source": [
    "stepwise_OLS_scaled_outliers = OLS(to_use_y_train_scaled, to_use_x_train_scaled[stepwise_columns]).fit()"
   ]
  },
  {
   "cell_type": "code",
   "execution_count": 66,
   "metadata": {},
   "outputs": [],
   "source": [
    "residuals_outlier = stepwise_OLS_scaled_outliers.resid"
   ]
  },
  {
   "cell_type": "code",
   "execution_count": 67,
   "metadata": {},
   "outputs": [
    {
     "data": {
      "image/png": "[encoded data removed]",
      "text/plain": [
       "<Figure size 432x288 with 1 Axes>"
      ]
     },
     "metadata": {
      "needs_background": "light"
     },
     "output_type": "display_data"
    }
   ],
   "source": [
    "stats.probplot(residuals_outlier, dist=\"norm\", plot=pylab)\n",
    "pylab.show()"
   ]
  },
  {
   "cell_type": "code",
   "execution_count": 68,
   "metadata": {},
   "outputs": [
    {
     "data": {
      "text/html": [
       "<table class=\"simpletable\">\n",
       "<caption>OLS Regression Results</caption>\n",
       "<tr>\n",
       "  <th>Dep. Variable:</th>     <td>Life_expectancy</td> <th>  R-squared:         </th> <td>   0.928</td>\n",
       "</tr>\n",
       "<tr>\n",
       "  <th>Model:</th>                   <td>OLS</td>       <th>  Adj. R-squared:    </th> <td>   0.927</td>\n",
       "</tr>\n",
       "<tr>\n",
       "  <th>Method:</th>             <td>Least Squares</td>  <th>  F-statistic:       </th> <td>   2034.</td>\n",
       "</tr>\n",
       "<tr>\n",
       "  <th>Date:</th>             <td>Mon, 13 Jan 2020</td> <th>  Prob (F-statistic):</th>  <td>  0.00</td> \n",
       "</tr>\n",
       "<tr>\n",
       "  <th>Time:</th>                 <td>19:10:42</td>     <th>  Log-Likelihood:    </th> <td>  35.678</td>\n",
       "</tr>\n",
       "<tr>\n",
       "  <th>No. Observations:</th>      <td>  2233</td>      <th>  AIC:               </th> <td>  -43.36</td>\n",
       "</tr>\n",
       "<tr>\n",
       "  <th>Df Residuals:</th>          <td>  2219</td>      <th>  BIC:               </th> <td>   36.60</td>\n",
       "</tr>\n",
       "<tr>\n",
       "  <th>Df Model:</th>              <td>    14</td>      <th>                     </th>     <td> </td>   \n",
       "</tr>\n",
       "<tr>\n",
       "  <th>Covariance Type:</th>      <td>nonrobust</td>    <th>                     </th>     <td> </td>   \n",
       "</tr>\n",
       "</table>\n",
       "<table class=\"simpletable\">\n",
       "<tr>\n",
       "                       <td></td>                         <th>coef</th>     <th>std err</th>      <th>t</th>      <th>P>|t|</th>  <th>[0.025</th>    <th>0.975]</th>  \n",
       "</tr>\n",
       "<tr>\n",
       "  <th>Adult_smoking</th>                              <td>   -0.0452</td> <td>    0.010</td> <td>   -4.546</td> <td> 0.000</td> <td>   -0.065</td> <td>   -0.026</td>\n",
       "</tr>\n",
       "<tr>\n",
       "  <th>Premature_age-adjusted_mortality</th>           <td>   -0.8265</td> <td>    0.009</td> <td>  -87.228</td> <td> 0.000</td> <td>   -0.845</td> <td>   -0.808</td>\n",
       "</tr>\n",
       "<tr>\n",
       "  <th>Driving_alone_to_work</th>                      <td>   -0.0233</td> <td>    0.007</td> <td>   -3.337</td> <td> 0.001</td> <td>   -0.037</td> <td>   -0.010</td>\n",
       "</tr>\n",
       "<tr>\n",
       "  <th>Poor_or_fair_health</th>                        <td>    0.0823</td> <td>    0.013</td> <td>    6.194</td> <td> 0.000</td> <td>    0.056</td> <td>    0.108</td>\n",
       "</tr>\n",
       "<tr>\n",
       "  <th>Air_pollution_-_particulate_matter</th>         <td>   -0.0444</td> <td>    0.007</td> <td>   -6.779</td> <td> 0.000</td> <td>   -0.057</td> <td>   -0.032</td>\n",
       "</tr>\n",
       "<tr>\n",
       "  <th>Child_mortality</th>                            <td>   -0.0494</td> <td>    0.006</td> <td>   -8.055</td> <td> 0.000</td> <td>   -0.061</td> <td>   -0.037</td>\n",
       "</tr>\n",
       "<tr>\n",
       "  <th>Poor_mental_health_days</th>                    <td>   -0.0466</td> <td>    0.009</td> <td>   -5.187</td> <td> 0.000</td> <td>   -0.064</td> <td>   -0.029</td>\n",
       "</tr>\n",
       "<tr>\n",
       "  <th>Percentage_of_households_with_overcrowding</th> <td>   -0.0286</td> <td>    0.007</td> <td>   -3.960</td> <td> 0.000</td> <td>   -0.043</td> <td>   -0.014</td>\n",
       "</tr>\n",
       "<tr>\n",
       "  <th>Median_household_income</th>                    <td>    0.0311</td> <td>    0.010</td> <td>    3.152</td> <td> 0.002</td> <td>    0.012</td> <td>    0.050</td>\n",
       "</tr>\n",
       "<tr>\n",
       "  <th>Limited_access_to_healthy_foods</th>            <td>    0.0247</td> <td>    0.006</td> <td>    4.147</td> <td> 0.000</td> <td>    0.013</td> <td>    0.036</td>\n",
       "</tr>\n",
       "<tr>\n",
       "  <th>Income_inequality</th>                          <td>    0.0338</td> <td>    0.006</td> <td>    5.203</td> <td> 0.000</td> <td>    0.021</td> <td>    0.047</td>\n",
       "</tr>\n",
       "<tr>\n",
       "  <th>%_not_proficient_in_English</th>                <td>    0.0108</td> <td>    0.008</td> <td>    1.277</td> <td> 0.202</td> <td>   -0.006</td> <td>    0.027</td>\n",
       "</tr>\n",
       "<tr>\n",
       "  <th>%_Rural</th>                                    <td>    0.0301</td> <td>    0.007</td> <td>    4.428</td> <td> 0.000</td> <td>    0.017</td> <td>    0.043</td>\n",
       "</tr>\n",
       "<tr>\n",
       "  <th>Motor_vehicle_crash_deaths</th>                 <td>   -0.0328</td> <td>    0.007</td> <td>   -4.677</td> <td> 0.000</td> <td>   -0.047</td> <td>   -0.019</td>\n",
       "</tr>\n",
       "</table>\n",
       "<table class=\"simpletable\">\n",
       "<tr>\n",
       "  <th>Omnibus:</th>       <td>1447.748</td> <th>  Durbin-Watson:     </th> <td>   1.971</td> \n",
       "</tr>\n",
       "<tr>\n",
       "  <th>Prob(Omnibus):</th>  <td> 0.000</td>  <th>  Jarque-Bera (JB):  </th> <td>55399.654</td>\n",
       "</tr>\n",
       "<tr>\n",
       "  <th>Skew:</th>           <td> 2.498</td>  <th>  Prob(JB):          </th> <td>    0.00</td> \n",
       "</tr>\n",
       "<tr>\n",
       "  <th>Kurtosis:</th>       <td>26.884</td>  <th>  Cond. No.          </th> <td>    6.68</td> \n",
       "</tr>\n",
       "</table><br/><br/>Warnings:<br/>[1] Standard Errors assume that the covariance matrix of the errors is correctly specified."
      ],
      "text/plain": [
       "<class 'statsmodels.iolib.summary.Summary'>\n",
       "\"\"\"\n",
       "                            OLS Regression Results                            \n",
       "==============================================================================\n",
       "Dep. Variable:        Life_expectancy   R-squared:                       0.928\n",
       "Model:                            OLS   Adj. R-squared:                  0.927\n",
       "Method:                 Least Squares   F-statistic:                     2034.\n",
       "Date:                Mon, 13 Jan 2020   Prob (F-statistic):               0.00\n",
       "Time:                        19:10:42   Log-Likelihood:                 35.678\n",
       "No. Observations:                2233   AIC:                            -43.36\n",
       "Df Residuals:                    2219   BIC:                             36.60\n",
       "Df Model:                          14                                         \n",
       "Covariance Type:            nonrobust                                         \n",
       "==============================================================================================================\n",
       "                                                 coef    std err          t      P>|t|      [0.025      0.975]\n",
       "--------------------------------------------------------------------------------------------------------------\n",
       "Adult_smoking                                 -0.0452      0.010     -4.546      0.000      -0.065      -0.026\n",
       "Premature_age-adjusted_mortality              -0.8265      0.009    -87.228      0.000      -0.845      -0.808\n",
       "Driving_alone_to_work                         -0.0233      0.007     -3.337      0.001      -0.037      -0.010\n",
       "Poor_or_fair_health                            0.0823      0.013      6.194      0.000       0.056       0.108\n",
       "Air_pollution_-_particulate_matter            -0.0444      0.007     -6.779      0.000      -0.057      -0.032\n",
       "Child_mortality                               -0.0494      0.006     -8.055      0.000      -0.061      -0.037\n",
       "Poor_mental_health_days                       -0.0466      0.009     -5.187      0.000      -0.064      -0.029\n",
       "Percentage_of_households_with_overcrowding    -0.0286      0.007     -3.960      0.000      -0.043      -0.014\n",
       "Median_household_income                        0.0311      0.010      3.152      0.002       0.012       0.050\n",
       "Limited_access_to_healthy_foods                0.0247      0.006      4.147      0.000       0.013       0.036\n",
       "Income_inequality                              0.0338      0.006      5.203      0.000       0.021       0.047\n",
       "%_not_proficient_in_English                    0.0108      0.008      1.277      0.202      -0.006       0.027\n",
       "%_Rural                                        0.0301      0.007      4.428      0.000       0.017       0.043\n",
       "Motor_vehicle_crash_deaths                    -0.0328      0.007     -4.677      0.000      -0.047      -0.019\n",
       "==============================================================================\n",
       "Omnibus:                     1447.748   Durbin-Watson:                   1.971\n",
       "Prob(Omnibus):                  0.000   Jarque-Bera (JB):            55399.654\n",
       "Skew:                           2.498   Prob(JB):                         0.00\n",
       "Kurtosis:                      26.884   Cond. No.                         6.68\n",
       "==============================================================================\n",
       "\n",
       "Warnings:\n",
       "[1] Standard Errors assume that the covariance matrix of the errors is correctly specified.\n",
       "\"\"\""
      ]
     },
     "execution_count": 68,
     "metadata": {},
     "output_type": "execute_result"
    }
   ],
   "source": [
    "stepwise_OLS_scaled_outliers.summary()"
   ]
  },
  {
   "cell_type": "code",
   "execution_count": 69,
   "metadata": {},
   "outputs": [
    {
     "data": {
      "text/plain": [
       "0.8292536078728353"
      ]
     },
     "execution_count": 69,
     "metadata": {},
     "output_type": "execute_result"
    }
   ],
   "source": [
    "predictionss = stepwise_OLS_scaled_outliers.predict(X_test_scaled[stepwise_columns])\n",
    "r2_score(y_test_scaled, predictionss)"
   ]
  }
 ],
 "metadata": {
  "kernelspec": {
   "display_name": "Python 3",
   "language": "python",
   "name": "python3"
  },
  "language_info": {
   "codemirror_mode": {
    "name": "ipython",
    "version": 3
   },
   "file_extension": ".py",
   "mimetype": "text/x-python",
   "name": "python",
   "nbconvert_exporter": "python",
   "pygments_lexer": "ipython3",
   "version": "3.6.6"
  }
 },
 "nbformat": 4,
 "nbformat_minor": 2
}
